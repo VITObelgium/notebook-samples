{
 "cells": [
  {
   "cell_type": "markdown",
   "metadata": {},
   "source": [
    "### Expert Notebook: Spark processing\n",
    "In this notebook, we will demonstrate some basic elements of the Spark cluster for parallel processing."
   ]
  },
  {
   "cell_type": "code",
   "execution_count": 1,
   "metadata": {},
   "outputs": [],
   "source": [
    "from catalogclient import catalog                         # to interrogate the catalog\n",
    "import datetime as dt                                     # date and time functions  \n",
    "import re                                                 # to parse strings (regular expressions)\n",
    "import os                                                 # operating system functions\n",
    "from xml.etree import ElementTree as ET                   # XML parsing\n",
    "import rasterio                                           # raster files \n",
    "import matplotlib.pyplot as mplot                         # plotting functions\n",
    "from mpl_toolkits.axes_grid1 import make_axes_locatable   # more plotting functions\n",
    "import seaborn as sns                                     # additional plotting tools\n",
    "import glob                                               # alternative for os to search for files/directories\n",
    "import numpy as np                                        # standard Python package\n",
    "import matplotlib.pyplot as plt                           # standard Python plotting routine\n",
    "import gdal                                               # gdal package \n",
    "\n",
    "#call the catalogue client\n",
    "cat=catalog.Catalog()"
   ]
  },
  {
   "cell_type": "code",
   "execution_count": 2,
   "metadata": {},
   "outputs": [],
   "source": [
    "# Routine to calculate the histogram for a given (single band) GeoTiff image file.\n",
    "def histogram(image_file):\n",
    "    # Open the image file\n",
    "    img = gdal.Open(image_file)\n",
    "    \n",
    "    if img is None:\n",
    "        print ('-ERROR- Unable to open image file \"%s\"' % image_file)\n",
    "    \n",
    "    # Open raster band (first band)\n",
    "    raster = img.GetRasterBand(1)    \n",
    "    xSize  = img.RasterXSize\n",
    "    ySize  = img.RasterYSize\n",
    "    print(img.GetMetadata())\n",
    "    \n",
    "    # Read raster data\n",
    "    data = raster.ReadAsArray(0, 0, xSize, ySize)\n",
    "    \n",
    "    #convert DN --> real NDVI values\n",
    "    data[data == 255] = np.ma.masked\n",
    "    data = data * 0.004 - 0.08 #check if these are the right scale and offset factors...\n",
    "        \n",
    "    # Calculate histogram, let's ignore the negative NDVI values\n",
    "    hist, _ = np.histogram(data, bins=25, range=(0.00, 1.00))\n",
    "    hist    = (100. * hist) / np.sum(hist)\n",
    "    print(hist.shape)\n",
    "    \n",
    "    return hist"
   ]
  },
  {
   "cell_type": "markdown",
   "metadata": {},
   "source": [
    "First, we query the catalogue for Sentinel-2 10 m NDVI files and have the list printed."
   ]
  },
  {
   "cell_type": "code",
   "execution_count": 3,
   "metadata": {},
   "outputs": [],
   "source": [
    "productName = 'CGS_S2_NDVI_10M' \n",
    "startDate = dt.date(2018,7,1)\n",
    "endDate   = dt.date(2018,8,31)\n",
    "minLatitude  = 50.5 #in decimal degrees, positive for North\n",
    "maxLatitude  = 51.5\n",
    "minLongitude = 3 #in decimal degrees, positive for East\n",
    "maxLongitude = 4.6\n",
    "\n",
    "#get the product list\n",
    "listOfProducts = cat.get_products (productName, \n",
    "                            fileformat='GEOTIFF', \n",
    "                            startdate=startDate, \n",
    "                            enddate=endDate, \n",
    "                            min_lon=minLongitude, \n",
    "                            max_lon=maxLongitude, \n",
    "                            min_lat=minLatitude, \n",
    "                            max_lat=maxLatitude)\n",
    "\n",
    "p = listOfProducts[0]"
   ]
  },
  {
   "cell_type": "code",
   "execution_count": 4,
   "metadata": {},
   "outputs": [
    {
     "data": {
      "text/plain": [
       "['NDVI', 'SCENECLASSIFICATION', 'CLOUDMASK', 'SHADOWMASK']"
      ]
     },
     "execution_count": 4,
     "metadata": {},
     "output_type": "execute_result"
    }
   ],
   "source": [
    "p.bands()"
   ]
  },
  {
   "cell_type": "code",
   "execution_count": 5,
   "metadata": {},
   "outputs": [
    {
     "data": {
      "text/plain": [
       "'file:/data/MTDA/CGS_S2/CGS_S2_NDVI/2018/07/15/S2B_20180715T105029Z_31UFT_CGS_V102_000/S2B_20180715T105029Z_31UFT_NDVI_V102/10M/S2B_20180715T105029Z_31UFT_NDVI_10M_V102.tif'"
      ]
     },
     "execution_count": 5,
     "metadata": {},
     "output_type": "execute_result"
    }
   ],
   "source": [
    "p.file('NDVI')"
   ]
  },
  {
   "cell_type": "code",
   "execution_count": 6,
   "metadata": {},
   "outputs": [
    {
     "data": {
      "text/plain": [
       "['/data/MTDA/CGS_S2/CGS_S2_NDVI/2018/08/17/S2B_20180817T105619Z_31UES_CGS_V102_000/S2B_20180817T105619Z_31UES_NDVI_V102/10M/S2B_20180817T105619Z_31UES_NDVI_10M_V102.tif',\n",
       " '/data/MTDA/CGS_S2/CGS_S2_NDVI/2018/07/02/S2B_20180702T104019Z_31UES_CGS_V102_000/S2B_20180702T104019Z_31UES_NDVI_V102/10M/S2B_20180702T104019Z_31UES_NDVI_10M_V102.tif',\n",
       " '/data/MTDA/CGS_S2/CGS_S2_NDVI/2018/07/27/S2A_20180727T104021Z_31UES_CGS_V102_000/S2A_20180727T104021Z_31UES_NDVI_V102/10M/S2A_20180727T104021Z_31UES_NDVI_10M_V102.tif',\n",
       " '/data/MTDA/CGS_S2/CGS_S2_NDVI/2018/08/31/S2B_20180831T104019Z_31UES_CGS_V102_000/S2B_20180831T104019Z_31UES_NDVI_V102/10M/S2B_20180831T104019Z_31UES_NDVI_10M_V102.tif',\n",
       " '/data/MTDA/CGS_S2/CGS_S2_NDVI/2018/08/11/S2B_20180811T104019Z_31UES_CGS_V102_000/S2B_20180811T104019Z_31UES_NDVI_V102/10M/S2B_20180811T104019Z_31UES_NDVI_10M_V102.tif',\n",
       " '/data/MTDA/CGS_S2/CGS_S2_NDVI/2018/07/18/S2B_20180718T110039Z_31UES_CGS_V102_000/S2B_20180718T110039Z_31UES_NDVI_V102/10M/S2B_20180718T110039Z_31UES_NDVI_10M_V102.tif',\n",
       " '/data/MTDA/CGS_S2/CGS_S2_NDVI/2018/08/02/S2A_20180802T105621Z_31UES_CGS_V102_000/S2A_20180802T105621Z_31UES_NDVI_V102/10M/S2A_20180802T105621Z_31UES_NDVI_10M_V102.tif',\n",
       " '/data/MTDA/CGS_S2/CGS_S2_NDVI/2018/07/22/S2B_20180722T104019Z_31UES_CGS_V102_000/S2B_20180722T104019Z_31UES_NDVI_V102/10M/S2B_20180722T104019Z_31UES_NDVI_10M_V102.tif',\n",
       " '/data/MTDA/CGS_S2/CGS_S2_NDVI/2018/07/10/S2A_20180710T105031Z_31UES_CGS_V102_000/S2A_20180710T105031Z_31UES_NDVI_V102/10M/S2A_20180710T105031Z_31UES_NDVI_10M_V102.tif',\n",
       " '/data/MTDA/CGS_S2/CGS_S2_NDVI/2018/08/16/S2A_20180816T104021Z_31UES_CGS_V102_000/S2A_20180816T104021Z_31UES_NDVI_V102/10M/S2A_20180816T104021Z_31UES_NDVI_10M_V102.tif',\n",
       " '/data/MTDA/CGS_S2/CGS_S2_NDVI/2018/08/12/S2A_20180812T105621Z_31UES_CGS_V102_000/S2A_20180812T105621Z_31UES_NDVI_V102/10M/S2A_20180812T105621Z_31UES_NDVI_10M_V102.tif',\n",
       " '/data/MTDA/CGS_S2/CGS_S2_NDVI/2018/08/21/S2B_20180821T104019Z_31UES_CGS_V102_000/S2B_20180821T104019Z_31UES_NDVI_V102/10M/S2B_20180821T104019Z_31UES_NDVI_10M_V102.tif',\n",
       " '/data/MTDA/CGS_S2/CGS_S2_NDVI/2018/07/20/S2A_20180720T105031Z_31UES_CGS_V102_000/S2A_20180720T105031Z_31UES_NDVI_V102/10M/S2A_20180720T105031Z_31UES_NDVI_10M_V102.tif',\n",
       " '/data/MTDA/CGS_S2/CGS_S2_NDVI/2018/07/07/S2A_20180707T104021Z_31UES_CGS_V102_000/S2A_20180707T104021Z_31UES_NDVI_V102/10M/S2A_20180707T104021Z_31UES_NDVI_10M_V102.tif',\n",
       " '/data/MTDA/CGS_S2/CGS_S2_NDVI/2018/08/07/S2B_20180807T105619Z_31UES_CGS_V102_000/S2B_20180807T105619Z_31UES_NDVI_V102/10M/S2B_20180807T105619Z_31UES_NDVI_10M_V102.tif',\n",
       " '/data/MTDA/CGS_S2/CGS_S2_NDVI/2018/07/23/S2A_20180723T105621Z_31UES_CGS_V102_000/S2A_20180723T105621Z_31UES_NDVI_V102/10M/S2A_20180723T105621Z_31UES_NDVI_10M_V102.tif',\n",
       " '/data/MTDA/CGS_S2/CGS_S2_NDVI/2018/07/17/S2A_20180717T104021Z_31UES_CGS_V102_000/S2A_20180717T104021Z_31UES_NDVI_V102/10M/S2A_20180717T104021Z_31UES_NDVI_10M_V102.tif',\n",
       " '/data/MTDA/CGS_S2/CGS_S2_NDVI/2018/07/28/S2B_20180728T105619Z_31UES_CGS_V102_000/S2B_20180728T105619Z_31UES_NDVI_V102/10M/S2B_20180728T105619Z_31UES_NDVI_10M_V102.tif',\n",
       " '/data/MTDA/CGS_S2/CGS_S2_NDVI/2018/08/29/S2A_20180829T105031Z_31UES_CGS_V102_000/S2A_20180829T105031Z_31UES_NDVI_V102/10M/S2A_20180829T105031Z_31UES_NDVI_10M_V102.tif',\n",
       " '/data/MTDA/CGS_S2/CGS_S2_NDVI/2018/07/03/S2A_20180703T105621Z_31UES_CGS_V102_000/S2A_20180703T105621Z_31UES_NDVI_V102/10M/S2A_20180703T105621Z_31UES_NDVI_10M_V102.tif',\n",
       " '/data/MTDA/CGS_S2/CGS_S2_NDVI/2018/08/04/S2B_20180804T105019Z_31UES_CGS_V102_000/S2B_20180804T105019Z_31UES_NDVI_V102/10M/S2B_20180804T105019Z_31UES_NDVI_10M_V102.tif',\n",
       " '/data/MTDA/CGS_S2/CGS_S2_NDVI/2018/07/15/S2B_20180715T105029Z_31UES_CGS_V102_000/S2B_20180715T105029Z_31UES_NDVI_V102/10M/S2B_20180715T105029Z_31UES_NDVI_10M_V102.tif',\n",
       " '/data/MTDA/CGS_S2/CGS_S2_NDVI/2018/07/08/S2B_20180708T105619Z_31UES_CGS_V102_000/S2B_20180708T105619Z_31UES_NDVI_V102/10M/S2B_20180708T105619Z_31UES_NDVI_10M_V102.tif',\n",
       " '/data/MTDA/CGS_S2/CGS_S2_NDVI/2018/07/13/S2A_20180713T105621Z_31UES_CGS_V102_000/S2A_20180713T105621Z_31UES_NDVI_V102/10M/S2A_20180713T105621Z_31UES_NDVI_10M_V102.tif',\n",
       " '/data/MTDA/CGS_S2/CGS_S2_NDVI/2018/08/22/S2A_20180822T105621Z_31UES_CGS_V102_000/S2A_20180822T105621Z_31UES_NDVI_V102/10M/S2A_20180822T105621Z_31UES_NDVI_10M_V102.tif',\n",
       " '/data/MTDA/CGS_S2/CGS_S2_NDVI/2018/07/12/S2B_20180712T104019Z_31UES_CGS_V102_000/S2B_20180712T104019Z_31UES_NDVI_V102/10M/S2B_20180712T104019Z_31UES_NDVI_10M_V102.tif',\n",
       " '/data/MTDA/CGS_S2/CGS_S2_NDVI/2018/08/06/S2A_20180806T104021Z_31UES_CGS_V102_000/S2A_20180806T104021Z_31UES_NDVI_V102/10M/S2A_20180806T104021Z_31UES_NDVI_10M_V102.tif',\n",
       " '/data/MTDA/CGS_S2/CGS_S2_NDVI/2018/08/09/S2A_20180809T105031Z_31UES_CGS_V102_000/S2A_20180809T105031Z_31UES_NDVI_V102/10M/S2A_20180809T105031Z_31UES_NDVI_10M_V102.tif',\n",
       " '/data/MTDA/CGS_S2/CGS_S2_NDVI/2018/08/27/S2B_20180827T110029Z_31UES_CGS_V102_000/S2B_20180827T110029Z_31UES_NDVI_V102/10M/S2B_20180827T110029Z_31UES_NDVI_10M_V102.tif',\n",
       " '/data/MTDA/CGS_S2/CGS_S2_NDVI/2018/08/19/S2A_20180819T105031Z_31UES_CGS_V102_000/S2A_20180819T105031Z_31UES_NDVI_V102/10M/S2A_20180819T105031Z_31UES_NDVI_10M_V102.tif',\n",
       " '/data/MTDA/CGS_S2/CGS_S2_NDVI/2018/07/05/S2B_20180705T105029Z_31UES_CGS_V102_000/S2B_20180705T105029Z_31UES_NDVI_V102/10M/S2B_20180705T105029Z_31UES_NDVI_10M_V102.tif',\n",
       " '/data/MTDA/CGS_S2/CGS_S2_NDVI/2018/08/26/S2A_20180826T104021Z_31UES_CGS_V102_000/S2A_20180826T104021Z_31UES_NDVI_V102/10M/S2A_20180826T104021Z_31UES_NDVI_10M_V102.tif',\n",
       " '/data/MTDA/CGS_S2/CGS_S2_NDVI/2018/07/30/S2A_20180730T105031Z_31UES_CGS_V102_000/S2A_20180730T105031Z_31UES_NDVI_V102/10M/S2A_20180730T105031Z_31UES_NDVI_10M_V102.tif',\n",
       " '/data/MTDA/CGS_S2/CGS_S2_NDVI/2018/07/25/S2B_20180725T105029Z_31UES_CGS_V102_000/S2B_20180725T105029Z_31UES_NDVI_V102/10M/S2B_20180725T105029Z_31UES_NDVI_10M_V102.tif',\n",
       " '/data/MTDA/CGS_S2/CGS_S2_NDVI/2018/08/01/S2B_20180801T104019Z_31UES_CGS_V102_000/S2B_20180801T104019Z_31UES_NDVI_V102/10M/S2B_20180801T104019Z_31UES_NDVI_10M_V102.tif',\n",
       " '/data/MTDA/CGS_S2/CGS_S2_NDVI/2018/08/14/S2B_20180814T105019Z_31UES_CGS_V102_000/S2B_20180814T105019Z_31UES_NDVI_V102/10M/S2B_20180814T105019Z_31UES_NDVI_10M_V102.tif',\n",
       " '/data/MTDA/CGS_S2/CGS_S2_NDVI/2018/08/24/S2B_20180824T105019Z_31UES_CGS_V102_000/S2B_20180824T105019Z_31UES_NDVI_V102/10M/S2B_20180824T105019Z_31UES_NDVI_10M_V102.tif']"
      ]
     },
     "execution_count": 6,
     "metadata": {},
     "output_type": "execute_result"
    }
   ],
   "source": [
    "NDVIfiles = [p.file('NDVI')[5:] for p in listOfProducts if '31UES' in p.file('NDVI')]\n",
    "NDVIfiles"
   ]
  },
  {
   "cell_type": "code",
   "execution_count": 7,
   "metadata": {},
   "outputs": [
    {
     "data": {
      "text/plain": [
       "37"
      ]
     },
     "execution_count": 7,
     "metadata": {},
     "output_type": "execute_result"
    }
   ],
   "source": [
    "len(NDVIfiles)"
   ]
  },
  {
   "cell_type": "markdown",
   "metadata": {},
   "source": [
    "Store the obtained files in a new list NDVIfiles."
   ]
  },
  {
   "cell_type": "code",
   "execution_count": 8,
   "metadata": {
    "scrolled": false
   },
   "outputs": [
    {
     "name": "stdout",
     "output_type": "stream",
     "text": [
      "{'AREA_OR_POINT': 'Area'}\n",
      "(25,)\n"
     ]
    },
    {
     "data": {
      "text/plain": [
       "Text(0,0.5,'Relative frequency [%]')"
      ]
     },
     "execution_count": 8,
     "metadata": {},
     "output_type": "execute_result"
    },
    {
     "data": {
      "image/png": "[encoded data removed]",
      "text/plain": [
       "<Figure size 432x288 with 1 Axes>"
      ]
     },
     "metadata": {
      "needs_background": "light"
     },
     "output_type": "display_data"
    }
   ],
   "source": [
    "hist = histogram(NDVIfiles[0])\n",
    "mplot.title('NDVI frequency distribution [%]')\n",
    "\n",
    "#histogram function was defined to collect the NDVI data in 25 bins within the range [0.00, 1.00]\n",
    "mplot.plot(np.arange(0, np.size(hist)) * 0.04 + 0.02, hist)\n",
    "mplot.xlabel('NDVI [-]')\n",
    "mplot.ylabel('Relative frequency [%]')"
   ]
  },
  {
   "cell_type": "markdown",
   "metadata": {},
   "source": [
    "Here we calculate a cumulative histogram for all the NDVI files in the list."
   ]
  },
  {
   "cell_type": "code",
   "execution_count": 9,
   "metadata": {
    "scrolled": false
   },
   "outputs": [
    {
     "name": "stdout",
     "output_type": "stream",
     "text": [
      "{'AREA_OR_POINT': 'Area'}\n",
      "(25,)\n",
      "{'AREA_OR_POINT': 'Area'}\n",
      "(25,)\n",
      "{'AREA_OR_POINT': 'Area'}\n",
      "(25,)\n",
      "{'AREA_OR_POINT': 'Area'}\n",
      "(25,)\n",
      "{'AREA_OR_POINT': 'Area'}\n",
      "(25,)\n",
      "{'AREA_OR_POINT': 'Area'}\n",
      "(25,)\n",
      "{'AREA_OR_POINT': 'Area'}\n",
      "(25,)\n",
      "{'AREA_OR_POINT': 'Area'}\n",
      "(25,)\n",
      "{'AREA_OR_POINT': 'Area'}\n",
      "(25,)\n",
      "{'AREA_OR_POINT': 'Area'}\n",
      "(25,)\n",
      "{'AREA_OR_POINT': 'Area'}\n",
      "(25,)\n",
      "{'AREA_OR_POINT': 'Area'}\n",
      "(25,)\n",
      "{'AREA_OR_POINT': 'Area'}\n",
      "(25,)\n",
      "{'AREA_OR_POINT': 'Area'}\n",
      "(25,)\n",
      "{'AREA_OR_POINT': 'Area'}\n",
      "(25,)\n",
      "{'AREA_OR_POINT': 'Area'}\n",
      "(25,)\n",
      "{'AREA_OR_POINT': 'Area'}\n",
      "(25,)\n",
      "{'AREA_OR_POINT': 'Area'}\n",
      "(25,)\n",
      "{'AREA_OR_POINT': 'Area'}\n",
      "(25,)\n",
      "{'AREA_OR_POINT': 'Area'}\n",
      "(25,)\n",
      "{'AREA_OR_POINT': 'Area'}\n",
      "(25,)\n",
      "{'AREA_OR_POINT': 'Area'}\n",
      "(25,)\n",
      "{'AREA_OR_POINT': 'Area'}\n",
      "(25,)\n",
      "{'AREA_OR_POINT': 'Area'}\n",
      "(25,)\n",
      "{'AREA_OR_POINT': 'Area'}\n",
      "(25,)\n",
      "{'AREA_OR_POINT': 'Area'}\n",
      "(25,)\n",
      "{'AREA_OR_POINT': 'Area'}\n",
      "(25,)\n",
      "{'AREA_OR_POINT': 'Area'}\n",
      "(25,)\n",
      "{'AREA_OR_POINT': 'Area'}\n",
      "(25,)\n",
      "{'AREA_OR_POINT': 'Area'}\n",
      "(25,)\n",
      "{'AREA_OR_POINT': 'Area'}\n",
      "(25,)\n",
      "{'AREA_OR_POINT': 'Area'}\n",
      "(25,)\n",
      "{'AREA_OR_POINT': 'Area'}\n",
      "(25,)\n",
      "{'AREA_OR_POINT': 'Area'}\n",
      "(25,)\n",
      "{'AREA_OR_POINT': 'Area'}\n",
      "(25,)\n",
      "{'AREA_OR_POINT': 'Area'}\n",
      "(25,)\n",
      "{'AREA_OR_POINT': 'Area'}\n",
      "(25,)\n",
      "CPU times: user 1min 5s, sys: 24.1 s, total: 1min 30s\n",
      "Wall time: 1min 29s\n"
     ]
    },
    {
     "data": {
      "image/png": "[encoded data removed]",
      "text/plain": [
       "<Figure size 432x288 with 1 Axes>"
      ]
     },
     "metadata": {
      "needs_background": "light"
     },
     "output_type": "display_data"
    }
   ],
   "source": [
    "%%time\n",
    "for i in range(0, np.size(hist)):\n",
    "    hist[i]=0\n",
    "for f in NDVIfiles:\n",
    "    hist = hist + histogram(f)\n",
    "\n",
    "mplot.title('NDVI frequency distribution [%]')\n",
    "mplot.plot(np.arange(0, np.size(hist)) * 0.04 + 0.02, hist)\n",
    "mplot.xlabel('NDVI [-]')\n",
    "mplot.ylabel('Relative frequency [%]')"
   ]
  },
  {
   "cell_type": "markdown",
   "metadata": {},
   "source": [
    "So, this took quite some time to complete. Let's see if we can get the job done sooner if we use the SPARK cluster and do parallel processing. Of course, this is not really a representative example. The time gained will of course increase if you really have LOTS of files to process. \n",
    "\n",
    "To work on the processing cluster, we need to specify the resources we want:\n",
    "\n",
    "* <b>spark.yarn.executor.memoryOverhead</b>: memory available for Python\n",
    "* <b>spark.executor.cores</b>: Number of cores per executor. Usually our tasks are single threaded, so 1 is a good default.\n",
    "* <b>spark.executor.memory</b>: memory to assign per executor. Memory available for Spark and Java, this can be small when most of your processing is in Python.\n",
    "\n",
    "We set up the SparkConf with these parameters, and create a SparkContext sc, which will be our access point to the cluster.\n"
   ]
  },
  {
   "cell_type": "code",
   "execution_count": 10,
   "metadata": {
    "scrolled": false
   },
   "outputs": [
    {
     "name": "stdout",
     "output_type": "stream",
     "text": [
      "Configuring\n",
      "Memory overhead\n",
      "Memory 1g\n",
      "Configuring - this may take some time\n",
      "CPU times: user 12.2 ms, sys: 22.5 ms, total: 34.7 ms\n",
      "Wall time: 13.9 s\n"
     ]
    }
   ],
   "source": [
    "from operator import add\n",
    "import pyspark\n",
    "import os\n",
    "os.environ['PYSPARK_PYTHON']='/usr/bin/python3.5'\n",
    "\n",
    "# Setup the Spark cluster\n",
    "print( 'Configuring' ) \n",
    "conf = pyspark.SparkConf()\n",
    "conf.set('spark.yarn.executor.memoryOverhead', '1g')\n",
    "print( 'Memory overhead' )\n",
    "conf.set('spark.executor.memory', '1g')\n",
    "print( 'Memory 1g' )\n",
    "print( 'Configuring - this may take some time' )\n",
    "%time sc = pyspark.SparkContext.getOrCreate(conf=conf)"
   ]
  },
  {
   "cell_type": "markdown",
   "metadata": {},
   "source": [
    "<div class=\"alert alert-block alert-warning\">\n",
    "Please pay attention to the second argument in this method call:\n",
    " sc.parallelize(NDVIfiles,len(NDVIfiles))\n",
    "It specifies the number of 'partitions' that Spark has to use. Partitions can be processed in parallel, so if the number is too low, your job will take a long time to run.\n",
    "In general, if the work per file is more than one second, it is safe to use as many partitions as there are files.\n",
    "</div>"
   ]
  },
  {
   "cell_type": "code",
   "execution_count": 11,
   "metadata": {},
   "outputs": [
    {
     "name": "stdout",
     "output_type": "stream",
     "text": [
      "7.23 s ± 4.44 s per loop (mean ± std. dev. of 7 runs, 1 loop each)\n",
      "CPU times: user 71.1 ms, sys: 29.4 ms, total: 101 ms\n",
      "Wall time: 50.6 s\n"
     ]
    }
   ],
   "source": [
    "%%time\n",
    "\n",
    "def runInSpark():\n",
    "    filesRDD = sc.parallelize(NDVIfiles,len(NDVIfiles))\n",
    "\n",
    "    # Apply the 'histogram' function to each filename using 'map'\n",
    "    hists = filesRDD.map(histogram)\n",
    "\n",
    "    # Combine distributed histograms into a single result\n",
    "    total = list(hists.reduce(lambda h, i: map(add, h, i)))\n",
    "    return total\n",
    "%timeit -n1 runInSpark()"
   ]
  },
  {
   "cell_type": "code",
   "execution_count": 12,
   "metadata": {},
   "outputs": [],
   "source": [
    "total = runInSpark()"
   ]
  },
  {
   "cell_type": "code",
   "execution_count": 13,
   "metadata": {},
   "outputs": [
    {
     "data": {
      "text/plain": [
       "[<matplotlib.lines.Line2D at 0x7f88aeab0470>]"
      ]
     },
     "execution_count": 13,
     "metadata": {},
     "output_type": "execute_result"
    },
    {
     "data": {
      "image/png": "[encoded data removed]",
      "text/plain": [
       "<Figure size 432x288 with 1 Axes>"
      ]
     },
     "metadata": {
      "needs_background": "light"
     },
     "output_type": "display_data"
    }
   ],
   "source": [
    "plt.plot(total[1:254])"
   ]
  },
  {
   "cell_type": "code",
   "execution_count": 14,
   "metadata": {},
   "outputs": [
    {
     "name": "stdout",
     "output_type": "stream",
     "text": [
      "0 172.01760074795777 172.01760074795777 0.0\n",
      "1 41.183014421121825 41.183014421121825 0.0\n",
      "2 43.05906246732983 43.05906246732983 0.0\n",
      "3 75.08300094509102 75.08300094509102 0.0\n",
      "4 106.32036059352967 106.32036059352967 0.0\n",
      "5 175.52181711346125 175.52181711346125 0.0\n",
      "6 212.95902429561872 212.95902429561872 0.0\n",
      "7 175.43564205620322 175.43564205620322 0.0\n",
      "8 214.63749885795227 214.63749885795227 0.0\n",
      "9 284.30548445322114 284.30548445322114 0.0\n",
      "10 251.963878475615 251.963878475615 0.0\n",
      "11 256.166092822252 256.166092822252 0.0\n",
      "12 232.70584899177925 232.70584899177925 0.0\n",
      "13 213.20669080959593 213.20669080959593 0.0\n",
      "14 194.6855931331708 194.6855931331708 0.0\n",
      "15 176.31561695687878 176.31561695687878 0.0\n",
      "16 161.32717478727554 161.32717478727554 0.0\n",
      "17 149.77943053754439 149.77943053754439 0.0\n",
      "18 144.24449807922724 144.24449807922724 0.0\n",
      "19 141.9286591934282 141.9286591934282 0.0\n",
      "20 133.96775643905332 133.96775643905332 0.0\n",
      "21 101.83008765003083 101.83008765003083 0.0\n",
      "22 38.67005816477707 38.67005816477707 0.0\n",
      "23 2.6861080078849624 2.6861080078849624 0.0\n",
      "24 0.0 0.0 0.0\n",
      "difference:\n",
      "[0. 0. 0. 0. 0. 0. 0. 0. 0. 0. 0. 0. 0. 0. 0. 0. 0. 0. 0. 0. 0. 0. 0. 0.\n",
      " 0.]\n",
      "Yes, they are the same!\n"
     ]
    }
   ],
   "source": [
    "# are the results the same?\n",
    "difference = hist - total\n",
    "\n",
    "for i in range(len(hist)):\n",
    "    print( i, hist[i], total[i], difference[i] )\n",
    "print( \"difference:\" )\n",
    "print( difference )\n",
    "c=0\n",
    "for p in difference:\n",
    "    c=c+p\n",
    "if c==0:\n",
    "    print(\"Yes, they are the same!\")\n",
    "else:\n",
    "    print(\"They're not the same? How come?\")"
   ]
  },
  {
   "cell_type": "code",
   "execution_count": 15,
   "metadata": {},
   "outputs": [],
   "source": [
    "sc.stop()"
   ]
  },
  {
   "cell_type": "code",
   "execution_count": null,
   "metadata": {},
   "outputs": [],
   "source": []
  }
 ],
 "metadata": {
  "kernelspec": {
   "display_name": "Python 3",
   "language": "python",
   "name": "python3"
  },
  "language_info": {
   "codemirror_mode": {
    "name": "ipython",
    "version": 3
   },
   "file_extension": ".py",
   "mimetype": "text/x-python",
   "name": "python",
   "nbconvert_exporter": "python",
   "pygments_lexer": "ipython3",
   "version": "3.5.1"
  }
 },
 "nbformat": 4,
 "nbformat_minor": 2
}

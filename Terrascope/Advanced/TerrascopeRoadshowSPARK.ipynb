{
 "cells": [
  {
   "cell_type": "markdown",
   "metadata": {},
   "source": [
    "### Expert Notebook: Spark processing\n",
    "In this notebook, we will demonstrate some basic elements of the Spark cluster for parallel processing."
   ]
  },
  {
   "cell_type": "code",
   "execution_count": 1,
   "metadata": {},
   "outputs": [],
   "source": [
    "import datetime as dt                                     # date and time functions  \n",
    "import openeo                                             # working with OpenEO later in this notebook\n",
    "import re                                                 # to parse strings (regular expressions)\n",
    "import os                                                 # operating system functions\n",
    "from xml.etree import ElementTree as ET                   # XML parsing\n",
    "import rasterio                                           # raster files \n",
    "import matplotlib.pyplot as mplot                         # plotting functions\n",
    "from mpl_toolkits.axes_grid1 import make_axes_locatable   # more plotting functions\n",
    "import seaborn as sns                                     # additional plotting tools\n",
    "import glob                                               # alternative for os to search for files/directories\n",
    "import numpy as np                                        # standard Python package\n",
    "import matplotlib.pyplot as plt                           # standard Python plotting routine\n",
    "import gdal                                               # gdal package\n",
    "import requests\n",
    "from urllib.parse import urljoin\n",
    "from operator import add\n",
    "import pyspark"
   ]
  },
  {
   "cell_type": "code",
   "execution_count": 2,
   "metadata": {},
   "outputs": [],
   "source": [
    "# Routine to calculate the histogram for a given (single band) GeoTiff image file.\n",
    "def histogram(image_file):\n",
    "    # Open the image file\n",
    "    img = gdal.Open(image_file)\n",
    "    \n",
    "    if img is None:\n",
    "        print ('-ERROR- Unable to open image file \"%s\"' % image_file)\n",
    "    \n",
    "    # Open raster band (first band)\n",
    "    raster = img.GetRasterBand(1)    \n",
    "    xSize  = img.RasterXSize\n",
    "    ySize  = img.RasterYSize\n",
    "    #print(img.GetMetadata())\n",
    "    \n",
    "    # Read raster data\n",
    "    data = raster.ReadAsArray(0, 0, xSize, ySize)\n",
    "    \n",
    "    #convert DN --> real NDVI values\n",
    "    data[data == 255] = np.ma.masked\n",
    "    data = (data * 0.004) - 0.08 \n",
    "        \n",
    "    # Calculate histogram, let's ignore the negative NDVI values\n",
    "    abs_hist, _ = np.histogram(data, bins=25, range=(0.00, 1.00))\n",
    "    rel_hist    = (100. * abs_hist) / np.sum(abs_hist)\n",
    "    \n",
    "    return abs_hist, rel_hist"
   ]
  },
  {
   "cell_type": "markdown",
   "metadata": {},
   "source": [
    "First, we query the catalogue for Sentinel-2 10 m NDVI files and have the list printed. For now, this is done using the Python requests library. In the near futute, a Python catalogue client will be made available."
   ]
  },
  {
   "cell_type": "code",
   "execution_count": 3,
   "metadata": {},
   "outputs": [
    {
     "name": "stdout",
     "output_type": "stream",
     "text": [
      "Found 54 products:\n",
      "['S2A_20180703T105621_31UES_NDVI_V200', 'S2A_20180703T105621_31UET_NDVI_V200', 'S2A_20180707T104021_31UES_NDVI_V200', 'S2A_20180707T104021_31UFS_NDVI_V200', 'S2A_20180707T104021_31UFT_NDVI_V200', 'S2A_20180710T105031_31UES_NDVI_V200', 'S2A_20180710T105031_31UET_NDVI_V200', 'S2A_20180710T105031_31UFS_NDVI_V200', 'S2A_20180710T105031_31UFT_NDVI_V200', 'S2A_20180713T105621_31UES_NDVI_V200', 'S2A_20180713T105621_31UET_NDVI_V200', 'S2A_20180717T104021_31UES_NDVI_V200', 'S2A_20180717T104021_31UFS_NDVI_V200', 'S2A_20180717T104021_31UFT_NDVI_V200', 'S2A_20180720T105031_31UES_NDVI_V200', 'S2A_20180720T105031_31UET_NDVI_V200', 'S2A_20180720T105031_31UFS_NDVI_V200', 'S2A_20180720T105031_31UFT_NDVI_V200', 'S2A_20180723T105621_31UES_NDVI_V200', 'S2A_20180723T105621_31UET_NDVI_V200', 'S2A_20180727T104021_31UES_NDVI_V200', 'S2A_20180727T104021_31UFS_NDVI_V200', 'S2A_20180727T104021_31UFT_NDVI_V200', 'S2A_20180730T105031_31UES_NDVI_V200', 'S2A_20180730T105031_31UET_NDVI_V200', 'S2A_20180730T105031_31UFS_NDVI_V200', 'S2A_20180730T105031_31UFT_NDVI_V200', 'S2B_20180702T104019_31UES_NDVI_V200', 'S2B_20180702T104019_31UFS_NDVI_V200', 'S2B_20180702T104019_31UFT_NDVI_V200', 'S2B_20180705T105029_31UES_NDVI_V200', 'S2B_20180705T105029_31UET_NDVI_V200', 'S2B_20180705T105029_31UFS_NDVI_V200', 'S2B_20180705T105029_31UFT_NDVI_V200', 'S2B_20180708T105619_31UES_NDVI_V200', 'S2B_20180708T105619_31UET_NDVI_V200', 'S2B_20180712T104019_31UES_NDVI_V200', 'S2B_20180712T104019_31UFS_NDVI_V200', 'S2B_20180712T104019_31UFT_NDVI_V200', 'S2B_20180715T105029_31UES_NDVI_V200', 'S2B_20180715T105029_31UET_NDVI_V200', 'S2B_20180715T105029_31UFS_NDVI_V200', 'S2B_20180715T105029_31UFT_NDVI_V200', 'S2B_20180718T110039_31UES_NDVI_V200', 'S2B_20180718T110039_31UET_NDVI_V200', 'S2B_20180722T104019_31UES_NDVI_V200', 'S2B_20180722T104019_31UFS_NDVI_V200', 'S2B_20180722T104019_31UFT_NDVI_V200', 'S2B_20180725T105029_31UES_NDVI_V200', 'S2B_20180725T105029_31UET_NDVI_V200', 'S2B_20180725T105029_31UFS_NDVI_V200', 'S2B_20180725T105029_31UFT_NDVI_V200', 'S2B_20180728T105619_31UES_NDVI_V200', 'S2B_20180728T105619_31UET_NDVI_V200']\n"
     ]
    }
   ],
   "source": [
    "productName = 'urn:eop:VITO:TERRASCOPE_S2_NDVI_V2'\n",
    "startDate   = dt.date(2018,7,1)\n",
    "endDate     = dt.date(2018,8,1)\n",
    "tileId      = '31UES'\n",
    "bbox        = [4.0, 51.0, 5.0, 52.0]\n",
    "\n",
    "# get the product list\n",
    "catalog_base_url = 'https://services.terrascope.be/catalogue/'\n",
    "headers = {'Accept': 'application/json'}\n",
    "payload = {\n",
    "    'collection': productName,\n",
    "    'start': startDate.strftime('%Y-%m-%d'),\n",
    "    'end': endDate.strftime('%Y-%m-%d'),\n",
    "    'bbox': '{},{},{},{}'.format(bbox[0], bbox[1], bbox[2], bbox[3]),\n",
    "    'accessedFrom': 'MEP'\n",
    "}\n",
    "response = requests.get(urljoin(catalog_base_url, 'products'),\n",
    "                        headers = headers,\n",
    "                        params = payload)\n",
    "\n",
    "ndviProducts = []\n",
    "if response.status_code == requests.codes.ok:\n",
    "    result = response.json()\n",
    "    for feature in result['features']:\n",
    "        ndviProducts.append(feature['properties']['links']['data'][0]['href'][7:])\n",
    "    print('Found {} products:'.format(len(ndviProducts)))\n",
    "    print([product.split('/')[8] for product in ndviProducts]) #only print the filename, not the entire path, for brevity's sakeness...\n",
    "else:\n",
    "    print(response.status_code)\n",
    "    print(response.json())"
   ]
  },
  {
   "cell_type": "markdown",
   "metadata": {},
   "source": [
    "Let's make a sample histogram for the first product file."
   ]
  },
  {
   "cell_type": "code",
   "execution_count": 4,
   "metadata": {},
   "outputs": [
    {
     "data": {
      "text/plain": [
       "Text(0, 0.5, 'Relative frequency [%]')"
      ]
     },
     "execution_count": 4,
     "metadata": {},
     "output_type": "execute_result"
    },
    {
     "data": {
      "image/png": "[encoded data removed]",
      "text/plain": [
       "<Figure size 432x288 with 1 Axes>"
      ]
     },
     "metadata": {
      "needs_background": "light"
     },
     "output_type": "display_data"
    }
   ],
   "source": [
    "import sys\n",
    "abs_hist, rel_hist = histogram(ndviProducts[0])\n",
    "mplot.title('NDVI frequency distribution [%]')\n",
    "\n",
    "#histogram function was defined to collect the NDVI data in 25 bins within the range [0.00, 1.00]\n",
    "mplot.plot(np.arange(0, np.size(rel_hist)) * 0.04 + 0.02, rel_hist)\n",
    "mplot.xlabel('NDVI [-]')\n",
    "mplot.ylabel('Relative frequency [%]')"
   ]
  },
  {
   "cell_type": "markdown",
   "metadata": {},
   "source": [
    "Below we calculate the average histogram for all the NDVI files in the list. For this we need to sum the absolute histogram values of the respective bins and calculate the relative histogram from the aggregated absolute frequencies."
   ]
  },
  {
   "cell_type": "code",
   "execution_count": 5,
   "metadata": {},
   "outputs": [
    {
     "name": "stdout",
     "output_type": "stream",
     "text": [
      "CPU times: user 2min 6s, sys: 44.7 s, total: 2min 51s\n",
      "Wall time: 2min 51s\n"
     ]
    },
    {
     "data": {
      "text/plain": [
       "Text(0, 0.5, 'Cumulative frequency [%]')"
      ]
     },
     "execution_count": 5,
     "metadata": {},
     "output_type": "execute_result"
    },
    {
     "data": {
      "image/png": "[encoded data removed]",
      "text/plain": [
       "<Figure size 864x432 with 2 Axes>"
      ]
     },
     "metadata": {
      "needs_background": "light"
     },
     "output_type": "display_data"
    }
   ],
   "source": [
    "%%time\n",
    "\n",
    "cum_hist = np.arange(np.size(abs_hist)) * 0.\n",
    "\n",
    "for f in ndviProducts:\n",
    "    abs_hist, rel_hist = histogram(f)\n",
    "    cum_hist += abs_hist\n",
    "\n",
    "#calculate the relative histogram from the accumulated bins\n",
    "av_hist     = 100. * (cum_hist / np.sum(cum_hist))\n",
    "cum_av_hist = np.cumsum(av_hist)\n",
    "\n",
    "mplot.figure(figsize=(12,6))\n",
    "mplot.subplot(121)\n",
    "mplot.title('NDVI average relative frequency [%]')\n",
    "mplot.plot(np.arange(0, np.size(cum_hist)) * 0.04 + 0.02, av_hist)\n",
    "mplot.xlabel('NDVI [-]')\n",
    "mplot.ylabel('Frequency [%]')\n",
    "\n",
    "mplot.subplot(122)\n",
    "mplot.title('NDVI average cumulative frequency [%]')\n",
    "mplot.plot(np.arange(0, np.size(cum_hist)) * 0.04 + 0.02, cum_av_hist)\n",
    "mplot.xlabel('NDVI [-]')\n",
    "mplot.ylabel('Cumulative frequency [%]')\n"
   ]
  },
  {
   "cell_type": "markdown",
   "metadata": {},
   "source": [
    "So, this took quite some time to complete. Let's see if we can get the job done sooner when we use the SPARK cluster and do parallel processing. Of course, this is not really a representative example and keep in mind that you will gain processing time increasingly with an increasing amount of files to be processed. \n",
    "\n",
    "To work on the processing cluster, we need to specify the resources we want:\n",
    "\n",
    "* <b>spark.yarn.executor.memoryOverhead</b>: memory available for Python\n",
    "* <b>spark.executor.cores</b>: Number of cores per executor. Usually our tasks are single threaded, so 1 is a good default.\n",
    "* <b>spark.executor.memory</b>: memory to assign per executor. Memory available for Spark and Java, this can be small when most of your processing is in Python.\n",
    "\n",
    "We set up the SparkConf with these parameters and create a SparkContext ```sc```, which will be our access point to the cluster.\n",
    "The virtual memory used is set at 2 GB to optimally exploit the parallel processing capacity."
   ]
  },
  {
   "cell_type": "code",
   "execution_count": 6,
   "metadata": {},
   "outputs": [
    {
     "name": "stdout",
     "output_type": "stream",
     "text": [
      "Configuring\n",
      "Memory overhead\n",
      "Memory 2 GB\n",
      "Configuring - this may take some time\n",
      "CPU times: user 36.2 ms, sys: 31.5 ms, total: 67.7 ms\n",
      "Wall time: 12 s\n"
     ]
    }
   ],
   "source": [
    "os.environ['PYSPARK_PYTHON']='/usr/bin/python3.6'\n",
    "\n",
    "# Setup the Spark cluster\n",
    "print( 'Configuring' ) \n",
    "conf = pyspark.SparkConf()\n",
    "conf.set('spark.yarn.executor.memoryOverhead', '2g')\n",
    "print( 'Memory overhead' )\n",
    "conf.set('spark.executor.memory', '2g')\n",
    "print( 'Memory 2 GB' )\n",
    "print( 'Configuring - this may take some time' )\n",
    "%time sc = pyspark.SparkContext.getOrCreate(conf=conf)"
   ]
  },
  {
   "cell_type": "markdown",
   "metadata": {},
   "source": [
    "<div class=\"alert alert-block alert-warning\">\n",
    "Please pay attention to the second argument in this method call:\n",
    " sc.parallelize(ndviProducts,len(ndviProducts))\n",
    "It specifies the number of 'partitions' that Spark has to use. Partitions can be processed in parallel, so if the number is too low, your job will take a long time to run.\n",
    "In general, if the work per file is more than one second, it is safe to use as many partitions as there are files.\n",
    "</div>"
   ]
  },
  {
   "cell_type": "code",
   "execution_count": 7,
   "metadata": {},
   "outputs": [
    {
     "name": "stdout",
     "output_type": "stream",
     "text": [
      "14.6 s ± 2.92 s per loop (mean ± std. dev. of 7 runs, 1 loop each)\n",
      "CPU times: user 137 ms, sys: 39 ms, total: 176 ms\n",
      "Wall time: 1min 42s\n"
     ]
    }
   ],
   "source": [
    "%%time\n",
    "\n",
    "def runInSpark():\n",
    "    filesRDD = sc.parallelize(ndviProducts,len(ndviProducts))\n",
    "\n",
    "    # Apply the 'histogram' function to each filename using 'map'\n",
    "    hists = filesRDD.map(histogram)\n",
    "\n",
    "    #Combine distributed histograms into a single result\n",
    "    total = list(hists.reduce(lambda h, i: map(add, h, i)))\n",
    "    return total\n",
    "%timeit -n1 runInSpark()"
   ]
  },
  {
   "cell_type": "code",
   "execution_count": 8,
   "metadata": {},
   "outputs": [],
   "source": [
    "total = runInSpark()"
   ]
  },
  {
   "cell_type": "code",
   "execution_count": 9,
   "metadata": {},
   "outputs": [
    {
     "data": {
      "text/plain": [
       "[<matplotlib.lines.Line2D at 0x7ff011818080>]"
      ]
     },
     "execution_count": 9,
     "metadata": {},
     "output_type": "execute_result"
    },
    {
     "data": {
      "image/png": "[encoded data removed]",
      "text/plain": [
       "<Figure size 432x288 with 1 Axes>"
      ]
     },
     "metadata": {
      "needs_background": "light"
     },
     "output_type": "display_data"
    }
   ],
   "source": [
    "plt.plot(total[0])"
   ]
  },
  {
   "cell_type": "code",
   "execution_count": 11,
   "metadata": {},
   "outputs": [
    {
     "name": "stdout",
     "output_type": "stream",
     "text": [
      "2.6507 2.6507 -0.0\n",
      "1.3334 1.3334 0.0\n",
      "1.5916 1.5916 0.0\n",
      "2.1607 2.1607 -0.0\n",
      "2.6373 2.6373 0.0\n",
      "3.7471 3.7471 0.0\n",
      "4.0511 4.0511 0.0\n",
      "3.3766 3.3766 0.0\n",
      "4.0379 4.0379 0.0\n",
      "4.773 4.773 0.0\n",
      "4.0551 4.0551 0.0\n",
      "4.6476 4.6476 0.0\n",
      "4.7755 4.7755 0.0\n",
      "4.8891 4.8891 0.0\n",
      "5.0081 5.0081 0.0\n",
      "5.1325 5.1325 0.0\n",
      "5.3451 5.3451 0.0\n",
      "5.6853 5.6853 0.0\n",
      "6.1411 6.1411 0.0\n",
      "6.685 6.685 0.0\n",
      "6.9889 6.9889 0.0\n",
      "6.1466 6.1466 0.0\n",
      "3.6623 3.6623 0.0\n",
      "0.4784 0.4784 0.0\n",
      "0.0 0.0 0.0\n",
      "Yes, they are the same!\n"
     ]
    }
   ],
   "source": [
    "# are the results the same?\n",
    "difference = av_hist - (100. * total[0] / np.sum(total[0]))\n",
    "\n",
    "for i in range(len(av_hist)):\n",
    "    print(np.round(av_hist[i], 4), np.round(100. * total[0][i]/np.sum(total[0]), 4), np.round(difference[i],4))\n",
    "\n",
    "if sum(np.abs(difference)) <= 0.0001:\n",
    "    print(\"Yes, they are the same!\")\n",
    "else:\n",
    "    print(\"They're not the same? How come?\")"
   ]
  },
  {
   "cell_type": "markdown",
   "metadata": {},
   "source": [
    "Stop the SparkContext."
   ]
  },
  {
   "cell_type": "code",
   "execution_count": 12,
   "metadata": {},
   "outputs": [],
   "source": [
    "sc.stop()"
   ]
  }
 ],
 "metadata": {
  "kernelspec": {
   "display_name": "python36",
   "language": "python",
   "name": "python36"
  },
  "language_info": {
   "codemirror_mode": {
    "name": "ipython",
    "version": 3
   },
   "file_extension": ".py",
   "mimetype": "text/x-python",
   "name": "python",
   "nbconvert_exporter": "python",
   "pygments_lexer": "ipython3",
   "version": "3.6.8"
  }
 },
 "nbformat": 4,
 "nbformat_minor": 4
}

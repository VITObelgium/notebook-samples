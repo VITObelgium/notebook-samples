{
 "cells": [
  {
   "cell_type": "markdown",
   "metadata": {},
   "source": [
    "### Expert Notebook: Spark processing\n",
    "In this notebook, we will demonstrate some basic elements of the Spark cluster for parallel processing."
   ]
  },
  {
   "cell_type": "code",
   "execution_count": 14,
   "metadata": {},
   "outputs": [],
   "source": [
    "import datetime as dt                                     # date and time functions  \n",
    "import re                                                 # to parse strings (regular expressions)\n",
    "import os                                                 # operating system functions\n",
    "from xml.etree import ElementTree as ET                   # XML parsing\n",
    "import rasterio                                           # raster files \n",
    "import matplotlib.pyplot as mplot                         # plotting functions\n",
    "from mpl_toolkits.axes_grid1 import make_axes_locatable   # more plotting functions\n",
    "import seaborn as sns                                     # additional plotting tools\n",
    "import glob                                               # alternative for os to search for files/directories\n",
    "import numpy as np                                        # standard Python package\n",
    "import matplotlib.pyplot as plt                           # standard Python plotting routine\n",
    "import gdal                                               # gdal package "
   ]
  },
  {
   "cell_type": "code",
   "execution_count": 15,
   "metadata": {},
   "outputs": [],
   "source": [
    "# Routine to calculate the histogram for a given (single band) GeoTiff image file.\n",
    "def histogram(image_file):\n",
    "    # Open the image file\n",
    "    img = gdal.Open(image_file)\n",
    "    \n",
    "    if img is None:\n",
    "        print ('-ERROR- Unable to open image file \"%s\"' % image_file)\n",
    "    \n",
    "    # Open raster band (first band)\n",
    "    raster = img.GetRasterBand(1)    \n",
    "    xSize  = img.RasterXSize\n",
    "    ySize  = img.RasterYSize\n",
    "    print(img.GetMetadata())\n",
    "    \n",
    "    # Read raster data\n",
    "    data = raster.ReadAsArray(0, 0, xSize, ySize)\n",
    "    \n",
    "    #convert DN --> real NDVI values\n",
    "    data[data == 255] = np.ma.masked\n",
    "    data = data * 0.004 - 0.08 #check if these are the right scale and offset factors...\n",
    "        \n",
    "    # Calculate histogram, let's ignore the negative NDVI values\n",
    "    hist, _ = np.histogram(data, bins=25, range=(0.00, 1.00))\n",
    "    hist    = (100. * hist) / np.sum(hist)\n",
    "    print(hist.shape)\n",
    "    \n",
    "    return hist"
   ]
  },
  {
   "cell_type": "markdown",
   "metadata": {},
   "source": [
    "First, we query the catalogue for Sentinel-2 10 m NDVI files and have the list printed. For now, this is done using the Python requests library. In the near futute, a Python catalogue client will be made available."
   ]
  },
  {
   "cell_type": "code",
   "execution_count": 25,
   "metadata": {},
   "outputs": [
    {
     "name": "stdout",
     "output_type": "stream",
     "text": [
      "Found 18 products:\n",
      "['/data/MTDA/TERRASCOPE_Sentinel2/NDVI_V2/2018/07/03/S2A_20180703T105621_31UES_NDVI_V200/S2A_20180703T105621_31UES_NDVI_10M_V200.tif', '/data/MTDA/TERRASCOPE_Sentinel2/NDVI_V2/2018/07/07/S2A_20180707T104021_31UES_NDVI_V200/S2A_20180707T104021_31UES_NDVI_10M_V200.tif', '/data/MTDA/TERRASCOPE_Sentinel2/NDVI_V2/2018/07/10/S2A_20180710T105031_31UES_NDVI_V200/S2A_20180710T105031_31UES_NDVI_10M_V200.tif', '/data/MTDA/TERRASCOPE_Sentinel2/NDVI_V2/2018/07/13/S2A_20180713T105621_31UES_NDVI_V200/S2A_20180713T105621_31UES_NDVI_10M_V200.tif', '/data/MTDA/TERRASCOPE_Sentinel2/NDVI_V2/2018/07/17/S2A_20180717T104021_31UES_NDVI_V200/S2A_20180717T104021_31UES_NDVI_10M_V200.tif', '/data/MTDA/TERRASCOPE_Sentinel2/NDVI_V2/2018/07/20/S2A_20180720T105031_31UES_NDVI_V200/S2A_20180720T105031_31UES_NDVI_10M_V200.tif', '/data/MTDA/TERRASCOPE_Sentinel2/NDVI_V2/2018/07/23/S2A_20180723T105621_31UES_NDVI_V200/S2A_20180723T105621_31UES_NDVI_10M_V200.tif', '/data/MTDA/TERRASCOPE_Sentinel2/NDVI_V2/2018/07/27/S2A_20180727T104021_31UES_NDVI_V200/S2A_20180727T104021_31UES_NDVI_10M_V200.tif', '/data/MTDA/TERRASCOPE_Sentinel2/NDVI_V2/2018/07/30/S2A_20180730T105031_31UES_NDVI_V200/S2A_20180730T105031_31UES_NDVI_10M_V200.tif', '/data/MTDA/TERRASCOPE_Sentinel2/NDVI_V2/2018/07/02/S2B_20180702T104019_31UES_NDVI_V200/S2B_20180702T104019_31UES_NDVI_10M_V200.tif', '/data/MTDA/TERRASCOPE_Sentinel2/NDVI_V2/2018/07/05/S2B_20180705T105029_31UES_NDVI_V200/S2B_20180705T105029_31UES_NDVI_10M_V200.tif', '/data/MTDA/TERRASCOPE_Sentinel2/NDVI_V2/2018/07/08/S2B_20180708T105619_31UES_NDVI_V200/S2B_20180708T105619_31UES_NDVI_10M_V200.tif', '/data/MTDA/TERRASCOPE_Sentinel2/NDVI_V2/2018/07/12/S2B_20180712T104019_31UES_NDVI_V200/S2B_20180712T104019_31UES_NDVI_10M_V200.tif', '/data/MTDA/TERRASCOPE_Sentinel2/NDVI_V2/2018/07/15/S2B_20180715T105029_31UES_NDVI_V200/S2B_20180715T105029_31UES_NDVI_10M_V200.tif', '/data/MTDA/TERRASCOPE_Sentinel2/NDVI_V2/2018/07/18/S2B_20180718T110039_31UES_NDVI_V200/S2B_20180718T110039_31UES_NDVI_10M_V200.tif', '/data/MTDA/TERRASCOPE_Sentinel2/NDVI_V2/2018/07/22/S2B_20180722T104019_31UES_NDVI_V200/S2B_20180722T104019_31UES_NDVI_10M_V200.tif', '/data/MTDA/TERRASCOPE_Sentinel2/NDVI_V2/2018/07/25/S2B_20180725T105029_31UES_NDVI_V200/S2B_20180725T105029_31UES_NDVI_10M_V200.tif', '/data/MTDA/TERRASCOPE_Sentinel2/NDVI_V2/2018/07/28/S2B_20180728T105619_31UES_NDVI_V200/S2B_20180728T105619_31UES_NDVI_10M_V200.tif']\n"
     ]
    }
   ],
   "source": [
    "productName = 'urn:eop:VITO:TERRASCOPE_S2_NDVI_V2'\n",
    "startDate = dt.date(2018,7,1)\n",
    "endDate   = dt.date(2018,8,1)\n",
    "tileId = '31UES'\n",
    "\n",
    "# get the product list\n",
    "\n",
    "import requests\n",
    "from urllib.parse import urljoin\n",
    "\n",
    "catalog_base_url = 'https://services.terrascope.be/catalogue/'\n",
    "headers = {'Accept': 'application/json'}\n",
    "payload = {\n",
    "    'collection': productName,\n",
    "    'tileId': tileId,\n",
    "    'start': startDate.strftime('%Y-%m-%d'),\n",
    "    'end': endDate.strftime('%Y-%m-%d'),\n",
    "    'accessedFrom': 'MEP'\n",
    "}\n",
    "response = requests.get(urljoin(catalog_base_url, 'products'),\n",
    "                        headers = headers,\n",
    "                        params = payload)\n",
    "\n",
    "ndviProducts = []\n",
    "if response.status_code == requests.codes.ok:\n",
    "    result = response.json()\n",
    "    for feature in result['features']:\n",
    "        ndviProducts.append(feature['properties']['links']['data'][0]['href'][7:])\n",
    "    print('Found {} products:'.format(len(ndviProducts)))\n",
    "    print(ndviProducts)\n",
    "else:\n",
    "    print(response.status_code)\n",
    "    print(response.json())"
   ]
  },
  {
   "cell_type": "code",
   "execution_count": 26,
   "metadata": {},
   "outputs": [
    {
     "name": "stdout",
     "output_type": "stream",
     "text": [
      "{'TIFFTAG_COPYRIGHT': 'VITO', 'TIFFTAG_SOFTWARE': 'Biopar Workflow:3.0.0', 'TIFFTAG_DATETIME': '2018:07:03 10:56:21', 'AREA_OR_POINT': 'Area'}\n",
      "(25,)\n"
     ]
    },
    {
     "data": {
      "text/plain": [
       "Text(0,0.5,'Relative frequency [%]')"
      ]
     },
     "execution_count": 26,
     "metadata": {},
     "output_type": "execute_result"
    },
    {
     "data": {
      "image/png": "[encoded data removed]",
      "text/plain": [
       "<Figure size 432x288 with 1 Axes>"
      ]
     },
     "metadata": {
      "needs_background": "light"
     },
     "output_type": "display_data"
    }
   ],
   "source": [
    "hist = histogram(ndviProducts[0])\n",
    "mplot.title('NDVI frequency distribution [%]')\n",
    "\n",
    "#histogram function was defined to collect the NDVI data in 25 bins within the range [0.00, 1.00]\n",
    "mplot.plot(np.arange(0, np.size(hist)) * 0.04 + 0.02, hist)\n",
    "mplot.xlabel('NDVI [-]')\n",
    "mplot.ylabel('Relative frequency [%]')"
   ]
  },
  {
   "cell_type": "markdown",
   "metadata": {},
   "source": [
    "Here we calculate a cumulative histogram for all the NDVI files in the list."
   ]
  },
  {
   "cell_type": "code",
   "execution_count": 27,
   "metadata": {},
   "outputs": [
    {
     "name": "stdout",
     "output_type": "stream",
     "text": [
      "{'TIFFTAG_COPYRIGHT': 'VITO', 'TIFFTAG_SOFTWARE': 'Biopar Workflow:3.0.0', 'TIFFTAG_DATETIME': '2018:07:03 10:56:21', 'AREA_OR_POINT': 'Area'}\n",
      "(25,)\n",
      "{'TIFFTAG_COPYRIGHT': 'VITO', 'TIFFTAG_SOFTWARE': 'Biopar Workflow:3.0.0', 'TIFFTAG_DATETIME': '2018:07:07 10:40:21', 'AREA_OR_POINT': 'Area'}\n",
      "(25,)\n",
      "{'TIFFTAG_COPYRIGHT': 'VITO', 'TIFFTAG_SOFTWARE': 'Biopar Workflow:3.0.0', 'TIFFTAG_DATETIME': '2018:07:10 10:50:31', 'AREA_OR_POINT': 'Area'}\n",
      "(25,)\n",
      "{'TIFFTAG_COPYRIGHT': 'VITO', 'TIFFTAG_SOFTWARE': 'Biopar Workflow:3.0.0', 'TIFFTAG_DATETIME': '2018:07:13 10:56:21', 'AREA_OR_POINT': 'Area'}\n",
      "(25,)\n",
      "{'TIFFTAG_COPYRIGHT': 'VITO', 'TIFFTAG_SOFTWARE': 'Biopar Workflow:3.0.0', 'TIFFTAG_DATETIME': '2018:07:17 10:40:21', 'AREA_OR_POINT': 'Area'}\n",
      "(25,)\n",
      "{'TIFFTAG_COPYRIGHT': 'VITO', 'TIFFTAG_SOFTWARE': 'Biopar Workflow:3.0.0', 'TIFFTAG_DATETIME': '2018:07:20 10:50:31', 'AREA_OR_POINT': 'Area'}\n",
      "(25,)\n",
      "{'TIFFTAG_COPYRIGHT': 'VITO', 'TIFFTAG_SOFTWARE': 'Biopar Workflow:3.0.0', 'TIFFTAG_DATETIME': '2018:07:23 10:56:21', 'AREA_OR_POINT': 'Area'}\n",
      "(25,)\n",
      "{'TIFFTAG_COPYRIGHT': 'VITO', 'TIFFTAG_SOFTWARE': 'Biopar Workflow:3.0.0', 'TIFFTAG_DATETIME': '2018:07:27 10:40:21', 'AREA_OR_POINT': 'Area'}\n",
      "(25,)\n",
      "{'TIFFTAG_COPYRIGHT': 'VITO', 'TIFFTAG_SOFTWARE': 'Biopar Workflow:3.0.0', 'TIFFTAG_DATETIME': '2018:07:30 10:50:31', 'AREA_OR_POINT': 'Area'}\n",
      "(25,)\n",
      "{'TIFFTAG_COPYRIGHT': 'VITO', 'TIFFTAG_SOFTWARE': 'Biopar Workflow:3.0.0', 'TIFFTAG_DATETIME': '2018:07:02 10:40:19', 'AREA_OR_POINT': 'Area'}\n",
      "(25,)\n",
      "{'TIFFTAG_COPYRIGHT': 'VITO', 'TIFFTAG_SOFTWARE': 'Biopar Workflow:3.0.0', 'TIFFTAG_DATETIME': '2018:07:05 10:50:29', 'AREA_OR_POINT': 'Area'}\n",
      "(25,)\n",
      "{'TIFFTAG_COPYRIGHT': 'VITO', 'TIFFTAG_SOFTWARE': 'Biopar Workflow:3.0.0', 'TIFFTAG_DATETIME': '2018:07:08 10:56:19', 'AREA_OR_POINT': 'Area'}\n",
      "(25,)\n",
      "{'TIFFTAG_COPYRIGHT': 'VITO', 'TIFFTAG_SOFTWARE': 'Biopar Workflow:3.0.0', 'TIFFTAG_DATETIME': '2018:07:12 10:40:19', 'AREA_OR_POINT': 'Area'}\n",
      "(25,)\n",
      "{'TIFFTAG_COPYRIGHT': 'VITO', 'TIFFTAG_SOFTWARE': 'Biopar Workflow:3.0.0', 'TIFFTAG_DATETIME': '2018:07:15 10:50:29', 'AREA_OR_POINT': 'Area'}\n",
      "(25,)\n",
      "{'TIFFTAG_COPYRIGHT': 'VITO', 'TIFFTAG_SOFTWARE': 'Biopar Workflow:3.0.0', 'TIFFTAG_DATETIME': '2018:07:18 11:00:39', 'AREA_OR_POINT': 'Area'}\n",
      "(25,)\n",
      "{'TIFFTAG_COPYRIGHT': 'VITO', 'TIFFTAG_SOFTWARE': 'Biopar Workflow:3.0.0', 'TIFFTAG_DATETIME': '2018:07:22 10:40:19', 'AREA_OR_POINT': 'Area'}\n",
      "(25,)\n",
      "{'TIFFTAG_COPYRIGHT': 'VITO', 'TIFFTAG_SOFTWARE': 'Biopar Workflow:3.0.0', 'TIFFTAG_DATETIME': '2018:07:25 10:50:29', 'AREA_OR_POINT': 'Area'}\n",
      "(25,)\n",
      "{'TIFFTAG_COPYRIGHT': 'VITO', 'TIFFTAG_SOFTWARE': 'Biopar Workflow:3.0.0', 'TIFFTAG_DATETIME': '2018:07:28 10:56:19', 'AREA_OR_POINT': 'Area'}\n",
      "(25,)\n",
      "CPU times: user 31.9 s, sys: 5.71 s, total: 37.6 s\n",
      "Wall time: 52.1 s\n"
     ]
    },
    {
     "data": {
      "text/plain": [
       "Text(0,0.5,'Relative frequency [%]')"
      ]
     },
     "execution_count": 27,
     "metadata": {},
     "output_type": "execute_result"
    },
    {
     "data": {
      "image/png": "[encoded data removed]",
      "text/plain": [
       "<Figure size 432x288 with 1 Axes>"
      ]
     },
     "metadata": {
      "needs_background": "light"
     },
     "output_type": "display_data"
    }
   ],
   "source": [
    "%%time\n",
    "for i in range(0, np.size(hist)):\n",
    "    hist[i]=0\n",
    "for f in ndviProducts:\n",
    "    hist = hist + histogram(f)\n",
    "\n",
    "mplot.title('NDVI frequency distribution [%]')\n",
    "mplot.plot(np.arange(0, np.size(hist)) * 0.04 + 0.02, hist)\n",
    "mplot.xlabel('NDVI [-]')\n",
    "mplot.ylabel('Relative frequency [%]')"
   ]
  },
  {
   "cell_type": "markdown",
   "metadata": {},
   "source": [
    "So, this took quite some time to complete. Let's see if we can get the job done sooner if we use the SPARK cluster and do parallel processing. Of course, this is not really a representative example. The time gained will of course increase if you really have LOTS of files to process. \n",
    "\n",
    "To work on the processing cluster, we need to specify the resources we want:\n",
    "\n",
    "* <b>spark.yarn.executor.memoryOverhead</b>: memory available for Python\n",
    "* <b>spark.executor.cores</b>: Number of cores per executor. Usually our tasks are single threaded, so 1 is a good default.\n",
    "* <b>spark.executor.memory</b>: memory to assign per executor. Memory available for Spark and Java, this can be small when most of your processing is in Python.\n",
    "\n",
    "We set up the SparkConf with these parameters, and create a SparkContext sc, which will be our access point to the cluster."
   ]
  },
  {
   "cell_type": "code",
   "execution_count": 28,
   "metadata": {},
   "outputs": [
    {
     "name": "stdout",
     "output_type": "stream",
     "text": [
      "Configuring\n",
      "Memory overhead\n",
      "Memory 512mb\n",
      "Configuring - this may take some time\n",
      "CPU times: user 15.7 ms, sys: 6.5 ms, total: 22.2 ms\n",
      "Wall time: 6.81 s\n"
     ]
    }
   ],
   "source": [
    "from operator import add\n",
    "import pyspark\n",
    "import os\n",
    "os.environ['PYSPARK_PYTHON']='/usr/bin/python3.5'\n",
    "\n",
    "# Setup the Spark cluster\n",
    "print( 'Configuring' ) \n",
    "conf = pyspark.SparkConf()\n",
    "conf.set('spark.yarn.executor.memoryOverhead', '1g')\n",
    "print( 'Memory overhead' )\n",
    "conf.set('spark.executor.memory', '512mb')\n",
    "print( 'Memory 512mb' )\n",
    "print( 'Configuring - this may take some time' )\n",
    "%time sc = pyspark.SparkContext.getOrCreate(conf=conf)"
   ]
  },
  {
   "cell_type": "markdown",
   "metadata": {},
   "source": [
    "<div class=\"alert alert-block alert-warning\">\n",
    "Please pay attention to the second argument in this method call:\n",
    " sc.parallelize(ndviProducts,len(ndviProducts))\n",
    "It specifies the number of 'partitions' that Spark has to use. Partitions can be processed in parallel, so if the number is too low, your job will take a long time to run.\n",
    "In general, if the work per file is more than one second, it is safe to use as many partitions as there are files.\n",
    "</div>"
   ]
  },
  {
   "cell_type": "code",
   "execution_count": 29,
   "metadata": {},
   "outputs": [
    {
     "name": "stdout",
     "output_type": "stream",
     "text": [
      "12.7 s ± 4.19 s per loop (mean ± std. dev. of 7 runs, 1 loop each)\n",
      "CPU times: user 66.9 ms, sys: 21.7 ms, total: 88.6 ms\n",
      "Wall time: 1min 29s\n"
     ]
    }
   ],
   "source": [
    "%%time\n",
    "\n",
    "def runInSpark():\n",
    "    filesRDD = sc.parallelize(ndviProducts,len(ndviProducts))\n",
    "\n",
    "    # Apply the 'histogram' function to each filename using 'map'\n",
    "    hists = filesRDD.map(histogram)\n",
    "\n",
    "    # Combine distributed histograms into a single result\n",
    "    total = list(hists.reduce(lambda h, i: map(add, h, i)))\n",
    "    return total\n",
    "%timeit -n1 runInSpark()"
   ]
  },
  {
   "cell_type": "code",
   "execution_count": 30,
   "metadata": {},
   "outputs": [],
   "source": [
    "total = runInSpark()"
   ]
  },
  {
   "cell_type": "code",
   "execution_count": 31,
   "metadata": {},
   "outputs": [
    {
     "data": {
      "text/plain": [
       "[<matplotlib.lines.Line2D at 0x7f15f2d57518>]"
      ]
     },
     "execution_count": 31,
     "metadata": {},
     "output_type": "execute_result"
    },
    {
     "data": {
      "image/png": "[encoded data removed]",
      "text/plain": [
       "<Figure size 432x288 with 1 Axes>"
      ]
     },
     "metadata": {
      "needs_background": "light"
     },
     "output_type": "display_data"
    }
   ],
   "source": [
    "plt.plot(total[1:254])"
   ]
  },
  {
   "cell_type": "code",
   "execution_count": 32,
   "metadata": {},
   "outputs": [
    {
     "name": "stdout",
     "output_type": "stream",
     "text": [
      "0 66.71536519070285 66.71536519070285 0.0\n",
      "1 20.685111355360213 20.685111355360213 0.0\n",
      "2 30.11225948565172 30.11225948565172 0.0\n",
      "3 46.7357703217386 46.7357703217386 0.0\n",
      "4 56.708688470001285 56.708688470001285 0.0\n",
      "5 83.21151038748549 83.21151038748549 0.0\n",
      "6 89.38486205057794 89.38486205057794 0.0\n",
      "7 74.60780230567583 74.60780230567583 0.0\n",
      "8 91.24161159781404 91.24161159781404 0.0\n",
      "9 107.7468347928466 107.7468347928466 0.0\n",
      "10 86.23368582828687 86.23368582828687 0.0\n",
      "11 93.56060278717253 93.56060278717253 0.0\n",
      "12 91.15447404792293 91.15447404792293 0.0\n",
      "13 89.19691270566632 89.19691270566632 0.0\n",
      "14 87.31478741914205 87.31478741914205 0.0\n",
      "15 85.75823458340143 85.75823458340143 0.0\n",
      "16 85.20864352631182 85.20864352631182 0.0\n",
      "17 83.58887121035855 83.58887121035855 0.0\n",
      "18 84.40372830917022 84.40372830917022 0.0\n",
      "19 88.9479503427254 88.9479503427254 0.0\n",
      "20 92.88818106911359 92.88818106911359 0.0\n",
      "21 78.40922138174285 78.40922138174285 0.0\n",
      "22 44.812777564120935 44.812777564120935 0.0\n",
      "23 41.37211326700988 41.37211326700988 0.0\n",
      "24 0.0 0.0 0.0\n",
      "difference:\n",
      "[0. 0. 0. 0. 0. 0. 0. 0. 0. 0. 0. 0. 0. 0. 0. 0. 0. 0. 0. 0. 0. 0. 0. 0.\n",
      " 0.]\n",
      "Yes, they are the same!\n"
     ]
    }
   ],
   "source": [
    "# are the results the same?\n",
    "difference = hist - total\n",
    "\n",
    "for i in range(len(hist)):\n",
    "    print( i, hist[i], total[i], difference[i] )\n",
    "print( \"difference:\" )\n",
    "print( difference )\n",
    "c=0\n",
    "for p in difference:\n",
    "    c=c+p\n",
    "if c==0:\n",
    "    print(\"Yes, they are the same!\")\n",
    "else:\n",
    "    print(\"They're not the same? How come?\")"
   ]
  },
  {
   "cell_type": "code",
   "execution_count": 33,
   "metadata": {},
   "outputs": [],
   "source": [
    "sc.stop()"
   ]
  },
  {
   "cell_type": "code",
   "execution_count": null,
   "metadata": {},
   "outputs": [],
   "source": []
  }
 ],
 "metadata": {
  "kernelspec": {
   "display_name": "python35",
   "language": "python",
   "name": "python35"
  },
  "language_info": {
   "codemirror_mode": {
    "name": "ipython",
    "version": 3
   },
   "file_extension": ".py",
   "mimetype": "text/x-python",
   "name": "python",
   "nbconvert_exporter": "python",
   "pygments_lexer": "ipython3",
   "version": "3.5.1"
  }
 },
 "nbformat": 4,
 "nbformat_minor": 4
}

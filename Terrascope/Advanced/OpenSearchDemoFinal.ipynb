{
 "cells": [
  {
   "cell_type": "markdown",
   "metadata": {
    "deletable": true,
    "editable": true
   },
   "source": [
    "### Using TerraCatalogue\n",
    "\n",
    "This is a notebook to illustrate the capabilities of the Terrascope catalogue, which contains the current Sentinel-1 and Sentinel-2 products.<br>\n",
    "If you are looking for PROBA-V products or the older version of Sentinel-2 products, then you need to use a different catalog client. <br>\n",
    "More information can be found [here](https://docs.terrascope.be/#/Developers/WebServices/TerraCatalogue/TerraCatalogue). <br>\n",
    "In all functions, there is a parameter <b>printURL</b> that, when set to <b>True</b>, will print out the URL that is used to query the TerraCatalogue. You can copy and paste this URL in a browser to see what is actually returned. If needed, then you can adapt some of the functions to suit your needs better.<br>\n",
    "If you prefer to have a UI, then please use [viewer.terrascope.be](https://viewer.terrascope.be/), and go to the <b>Download</b> tab"
   ]
  },
  {
   "cell_type": "code",
   "execution_count": 1,
   "metadata": {
    "deletable": true,
    "editable": true
   },
   "outputs": [],
   "source": [
    "import requests\n",
    "import datetime\n",
    "import json\n",
    "import re\n",
    "import os\n",
    "import sys\n",
    "import dateutil.parser as dp\n",
    "import numpy as np\n",
    "\n",
    "#URL of the catalogue\n",
    "esOpsURL='https://services.terrascope.be/catalogue/' #ops environment"
   ]
  },
  {
   "cell_type": "markdown",
   "metadata": {},
   "source": [
    "Below, various functions are defined to obtain collection information, collection parameters, and to find the number of products.\n",
    "These functions will be exemplified later."
   ]
  },
  {
   "cell_type": "code",
   "execution_count": 2,
   "metadata": {},
   "outputs": [],
   "source": [
    "def GetCollectionInfo(keyword, ElasticSearchURL=esOpsURL, printURL=False):\n",
    "    'get information from collections; keywords: title, uid, productType, abstract, platform'\n",
    "    \n",
    "    if printURL:\n",
    "        print(ElasticSearchURL+'description')\n",
    "        \n",
    "    Catalogdescription = requests.get(ElasticSearchURL+'description')\n",
    "    CatalogJson        = Catalogdescription.json()\n",
    "    \n",
    "    #loop over the catalog parameters\n",
    "    for j in CatalogJson['Url'][1]['Parameter']:\n",
    "        if j['name'] == keyword:\n",
    "            oplist = j['Option']\n",
    "            productlist = []\n",
    "            \n",
    "            for p in oplist:\n",
    "                productlist.append(p['label'])\n",
    "            productlist = sorted(productlist)\n",
    "    return(productlist)"
   ]
  },
  {
   "cell_type": "code",
   "execution_count": 3,
   "metadata": {},
   "outputs": [],
   "source": [
    "def getCollectionParameters(ElasticSearchURL=esOpsURL, printURL=False):\n",
    "    'get parameters from the collections'\n",
    "    \n",
    "    if printURL:\n",
    "        print(ElasticSearchURL+'collections')\n",
    "        \n",
    "    CatalogCollections = requests.get(ElasticSearchURL+'collections')\n",
    "    CollJson    = CatalogCollections.json()\n",
    "    collections = []\n",
    "    featJson    = CollJson['features']\n",
    "    \n",
    "    for f in featJson:\n",
    "        colldetails = {}\n",
    "        keylist     = list(f.keys())\n",
    "        \n",
    "        for k in keylist:\n",
    "            if k != 'properties':\n",
    "                colldetails[k] = f[k]\n",
    "            else:\n",
    "                prop     = f['properties']\n",
    "                pkeys    = list(prop.keys())\n",
    "                propdict = {}\n",
    "                \n",
    "                for p in pkeys:\n",
    "                    propdict[p] = prop[p]\n",
    "                colldetails['properties'] = propdict\n",
    "        collections.append(colldetails)\n",
    "    return(collections)"
   ]
  },
  {
   "cell_type": "code",
   "execution_count": 4,
   "metadata": {},
   "outputs": [],
   "source": [
    "def getTotalNumberOfProducts(urn, ElasticSearchURL=esOpsURL, printURL=False):\n",
    "    'return the number of products for a collection'\n",
    "    \n",
    "    if printURL:\n",
    "        print(ElasticSearchURL+'products?collection='+urn+'&startIndex=1')\n",
    "    \n",
    "    products     = requests.get(ElasticSearchURL+'products?collection='+urn+'&startIndex=1')\n",
    "    productsJson = products.json()\n",
    "    numProducts  = int(productsJson['totalResults'])\n",
    "    return numProducts"
   ]
  },
  {
   "cell_type": "code",
   "execution_count": 5,
   "metadata": {},
   "outputs": [],
   "source": [
    "def findNumberOfProducts(urn, ElasticSearchURL=esOpsURL, start=datetime.datetime(2015,1,1,0,0,0).isoformat(), end=datetime.datetime.now().isoformat(), \n",
    "                              latmin = -90.0, latmax = 90.0, lonmin = -180.0, lonmax = 180.0, ccmin = 0.0, ccmax = 100.0,\n",
    "                              prstart = datetime.datetime(2015,1,1,0,0,0).isoformat(), prend = datetime.datetime.now().isoformat(), tID = '', printURL=False):\n",
    "    'specific query to find the number of products that comply with the search criteria'\n",
    "    \n",
    "    bbox              = str(lonmin)+','+str(latmin)+','+str(lonmax)+','+str(latmax)\n",
    "    requestbasestring = ElasticSearchURL + 'products?collection='+ urn + \"&start=\" + str(start) + \"&end=\" + str(end) + '&bbox=' + bbox\n",
    "    requestbasestring = requestbasestring +  '&processingDate=[' + str(prstart) + ',' + str(prend) + \"]\"\n",
    "    \n",
    "    if 'S2' in urn: #cloud cover is not relevant for S1 products\n",
    "        requestbasestring = requestbasestring + '&cloudCover=['+str(ccmin)+','+str(ccmax)+']'\n",
    "        \n",
    "        if tID != '': #there are tile IDs only for S2 products\n",
    "            requestbasestring = requestbasestring + '&sortKeys=title,,0,0&tileId=' + tID\n",
    "        else:\n",
    "            requestbasestring = requestbasestring + '&sortKeys=title,,0,0'\n",
    "    \n",
    "    if printURL:\n",
    "        print(requestbasestring+'&startIndex=1')  # printing this is useful if you want to paste it in a browser\n",
    "    \n",
    "    products     = requests.get(requestbasestring+'&startIndex=1')\n",
    "    productsJson = products.json()\n",
    "    numProducts  = productsJson['totalResults']\n",
    "\n",
    "    return(numProducts)"
   ]
  },
  {
   "cell_type": "code",
   "execution_count": 6,
   "metadata": {},
   "outputs": [],
   "source": [
    "def findProducts(urn, ElasticSearchURL=esOpsURL, start=datetime.datetime(2015,1,1,0,0,0).isoformat(), end=datetime.datetime(2023,12,31,23,59,59).isoformat(), \n",
    "                 latmin = -90.0, latmax = 90.0, lonmin = -180.0, lonmax = 180.0, ccmin = 0.0, ccmax = 100.0,\n",
    "                 prstart = datetime.datetime(2015,1,1,0,0,0).isoformat(), prend = datetime.datetime(2021,12,31,23,59,59).isoformat(), \n",
    "                 tID = '', onTerrascope=True, printURL=False ):\n",
    "\n",
    "    productsList = []\n",
    "    bbox = str(lonmin)+','+str(latmin)+','+str(lonmax)+','+str(latmax)\n",
    "    requestbasestring = ElasticSearchURL + 'products?collection='+ urn + \"&start=\" + str(start) + \"&end=\" + str(end) + '&bbox=' + bbox\n",
    "    requestbasestring = requestbasestring +  '&modificationDate=[' + str(prstart) + ',' + str(prend) + \"[\"\n",
    "    \n",
    "    if 'S2' in urn: #cloud cover is not relevant for S1 products\n",
    "        requestbasestring = requestbasestring + '&cloudCover=['+str(ccmin)+','+str(ccmax)+']'\n",
    "        if tID != '': #there are tile IDs only for S2 products\n",
    "            requestbasestring = requestbasestring + '&sortKeys=title,,0,0&tileId=' + tID\n",
    "        else:\n",
    "            requestbasestring = requestbasestring + '&sortKeys=title,,0,0'\n",
    "    if onTerrascope:\n",
    "        requestbasestring = requestbasestring + '&accessedFrom=MEP'\n",
    "    if printURL:\n",
    "        print(requestbasestring+'&startIndex=1')  # printing this is useful if you want to paste it in a browser\n",
    "    \n",
    "    products     = requests.get(requestbasestring+'&startIndex=1')\n",
    "    productsJson = products.json()\n",
    "    numProducts  = productsJson['totalResults']\n",
    "    print(str(numProducts) + ' products found between ' + str(start)+' and '+ str(end) +' produced between ' + str(prstart) +' and ' + str(prend))\n",
    "    itemsPerPage = int(productsJson['itemsPerPage'])\n",
    "    \n",
    "    if numProducts > 10000:\n",
    "        print('too many results (max 10000 allowed), please narrow down your search')\n",
    "        return(['too many results'])\n",
    "    else:    \n",
    "        if numProducts > 0:\n",
    "            for ind in range(int(numProducts/itemsPerPage) + 1):\n",
    "                startindex   = ind * itemsPerPage + 1\n",
    "                products     = requests.get(requestbasestring+'&startIndex='+ str(startindex))\n",
    "                productsJson = products.json()\n",
    "                features     = productsJson['features']\n",
    "                \n",
    "                for f in features:\n",
    "                    productdetail = {}\n",
    "                    productdetail['productID'] = f['id']\n",
    "                    productdetail['bbox']      = f['bbox'] \n",
    "                    productdetail['productDate'] = f['properties']['date']\n",
    "                    productdetail['productPublishedDate'] = f['properties']['published']\n",
    "                    productdetail['productTitle']  = f['properties']['title']\n",
    "                    productdetail['relativeOrbit'] = f['properties']['acquisitionInformation'][1]['acquisitionParameters']['relativeOrbitNumber']\n",
    "                    productdetail['productType']   = f['properties']['productInformation']['productType']\n",
    "                    \n",
    "                    if 'S2' in f['id']:\n",
    "                        productdetail['cloudcover'] = f['properties']['productInformation']['cloudCover']\n",
    "                        productdetail['tileID']     = f['properties']['acquisitionInformation'][1]['acquisitionParameters']['tileId']\n",
    "                    else:\n",
    "                        productdetail['cloudcover'] = ''\n",
    "                        productdetail['tileID']     = ''\n",
    "                    \n",
    "                    filelist = []\n",
    "                    linkkeys = f['properties']['links'].keys()\n",
    "                    \n",
    "                    for l in linkkeys:\n",
    "                        for fil in f['properties']['links'][l]:\n",
    "                            filedetails = {}\n",
    "                            filedetails['filetype'] = l\n",
    "                            \n",
    "                            if onTerrascope:\n",
    "                                filedetails['filepath'] = fil['href'][7:]\n",
    "                            else:\n",
    "                                filedetails['filepath'] = fil['href']\n",
    "                            \n",
    "                            if l == 'previews':\n",
    "                                filedetails['category'] = fil['category']\n",
    "                                filedetails['title']    = fil['category']\n",
    "                            \n",
    "                            if (l == 'alternates') | (l == 'data'):\n",
    "                                filedetails['category'] = fil['title']\n",
    "                                filedetails['title']    = fil['title']\n",
    "                            \n",
    "                            if l == 'related':\n",
    "                                filedetails['category'] = fil['category']\n",
    "                                filedetails['title']    = fil['title']\n",
    "                            filedetails['length']       = fil['length']    \n",
    "                            filelist.append(filedetails)\n",
    "                            \n",
    "                    productdetail['files'] = filelist        \n",
    "                    productsList.append(productdetail)\n",
    "            return(productsList)\n",
    "        else:\n",
    "            return(['no products'])"
   ]
  },
  {
   "cell_type": "markdown",
   "metadata": {},
   "source": [
    "So let us perform some tests with the above defined functions and get collection information from the TerraCatalogue.\n",
    "We only want to see the productType, title, and uid."
   ]
  },
  {
   "cell_type": "code",
   "execution_count": 7,
   "metadata": {},
   "outputs": [
    {
     "name": "stdout",
     "output_type": "stream",
     "text": [
      "productType : 11\n",
      "  CCC\n",
      "  CWC\n",
      "  FAPAR\n",
      "  FCOVER\n",
      "  GRD\n",
      "  GRD_SIGMA0\n",
      "  LAI\n",
      "  NDVI\n",
      "  SLC\n",
      "  SLC_COHERENCE\n",
      "  TOC\n",
      "\n",
      "title : 11\n",
      "  SENTINEL-1 Level-1 Ground Range Detected (GRD) SIGMA0 products\n",
      "  SENTINEL-1 Level-1 Ground Range Detected (GRD) products\n",
      "  SENTINEL-1 Level-1 Single Look Complex (SLC) Coherence products.\n",
      "  SENTINEL-1 Level-1 Single Look Complex (SLC) products.\n",
      "  SENTINEL-2 Chlorophyll Canopy Content Index (CCC) (tiles) - V2\n",
      "  SENTINEL-2 Chlorophyll Water Content Index (CWC) (tiles) - V2\n",
      "  SENTINEL-2 Fraction Absorbed Photosynthetically Radiation (FAPAR) (tiles) - V2\n",
      "  SENTINEL-2 Fraction of Vegetation Cover (FCOVER) (tiles) - V2\n",
      "  SENTINEL-2 Leaf Area index (LAI) (tiles) - V2\n",
      "  SENTINEL-2 Normalized Difference Vegetation Index (NDVI) (tiles) - V2\n",
      "  SENTINEL-2 Top of Canopy (TOC) Products (tiles) - V2\n",
      "\n"
     ]
    }
   ],
   "source": [
    "#example use\n",
    "keys = ['productType','title','uid','abstract', 'platform']\n",
    "\n",
    "for k in keys[0:2]:\n",
    "    collectionlist = GetCollectionInfo(keyword=k, printURL=False)\n",
    "    print(k,':', len(collectionlist))\n",
    "    \n",
    "    for c in collectionlist:\n",
    "        print(\" \",c)\n",
    "    print()"
   ]
  },
  {
   "cell_type": "markdown",
   "metadata": {},
   "source": [
    "Get the collection parameters."
   ]
  },
  {
   "cell_type": "code",
   "execution_count": 8,
   "metadata": {},
   "outputs": [
    {
     "name": "stdout",
     "output_type": "stream",
     "text": [
      "https://services.terrascope.be/catalogue/collections\n",
      "urn:eop:VITO:CGS_S1_GRD_L1\n",
      "urn:eop:VITO:CGS_S1_GRD_SIGMA0_L1\n",
      "urn:eop:VITO:TERRASCOPE_S1_SLC_COHERENCE_V1\n",
      "urn:eop:VITO:TERRASCOPE_S2_TOC_V2\n",
      "urn:eop:VITO:TERRASCOPE_S2_CCC_V2\n",
      "urn:eop:VITO:TERRASCOPE_S2_CWC_V2\n",
      "urn:eop:VITO:TERRASCOPE_S2_FAPAR_V2\n",
      "urn:eop:VITO:TERRASCOPE_S2_FCOVER_V2\n",
      "urn:eop:VITO:TERRASCOPE_S2_LAI_V2\n",
      "urn:eop:VITO:TERRASCOPE_S2_NDVI_V2\n",
      "urn:eop:VITO:CGS_S1_SLC_L1\n"
     ]
    }
   ],
   "source": [
    "collectionInformation=getCollectionParameters(printURL=True)\n",
    "\n",
    "for c in collectionInformation:\n",
    "    print(c['id'])"
   ]
  },
  {
   "cell_type": "markdown",
   "metadata": {},
   "source": [
    "Then, get the total number of products in the given collection."
   ]
  },
  {
   "cell_type": "code",
   "execution_count": 9,
   "metadata": {},
   "outputs": [
    {
     "name": "stdout",
     "output_type": "stream",
     "text": [
      "urn:eop:VITO:CGS_S1_GRD_L1                      11916\n",
      "urn:eop:VITO:CGS_S1_GRD_SIGMA0_L1               11027\n",
      "urn:eop:VITO:TERRASCOPE_S1_SLC_COHERENCE_V1      6995\n",
      "urn:eop:VITO:TERRASCOPE_S2_TOC_V2              131837\n",
      "urn:eop:VITO:TERRASCOPE_S2_CCC_V2              132596\n",
      "urn:eop:VITO:TERRASCOPE_S2_CWC_V2              132596\n",
      "urn:eop:VITO:TERRASCOPE_S2_FAPAR_V2            265188\n",
      "urn:eop:VITO:TERRASCOPE_S2_FCOVER_V2           265190\n",
      "urn:eop:VITO:TERRASCOPE_S2_LAI_V2              265192\n",
      "urn:eop:VITO:TERRASCOPE_S2_NDVI_V2             132596\n",
      "urn:eop:VITO:CGS_S1_SLC_L1                       5235\n"
     ]
    }
   ],
   "source": [
    "for c in collectionInformation:\n",
    "    np = getTotalNumberOfProducts(urn = c['id'], printURL=False)\n",
    "    print(c['id'].ljust(45), '{0:7d}'.format(np))"
   ]
  },
  {
   "cell_type": "markdown",
   "metadata": {},
   "source": [
    "Some of the layers are related to Sentinel-1. We'll create a list of just the Sentinel-2 layers"
   ]
  },
  {
   "cell_type": "code",
   "execution_count": 10,
   "metadata": {},
   "outputs": [
    {
     "data": {
      "text/plain": [
       "['urn:eop:VITO:TERRASCOPE_S2_TOC_V2',\n",
       " 'urn:eop:VITO:TERRASCOPE_S2_CCC_V2',\n",
       " 'urn:eop:VITO:TERRASCOPE_S2_CWC_V2',\n",
       " 'urn:eop:VITO:TERRASCOPE_S2_FAPAR_V2',\n",
       " 'urn:eop:VITO:TERRASCOPE_S2_FCOVER_V2',\n",
       " 'urn:eop:VITO:TERRASCOPE_S2_LAI_V2',\n",
       " 'urn:eop:VITO:TERRASCOPE_S2_NDVI_V2']"
      ]
     },
     "execution_count": 10,
     "metadata": {},
     "output_type": "execute_result"
    }
   ],
   "source": [
    "S2collectionList = []\n",
    "for f in collectionInformation:\n",
    "    if 'S2' in f['id']:\n",
    "        S2collectionList.append(f['id'])\n",
    "S2collectionList"
   ]
  },
  {
   "cell_type": "markdown",
   "metadata": {},
   "source": [
    "## Some examples of retrieving the number of products.\n",
    "### findNumberOfProducts\n",
    "\n",
    "The function <b>findNumberOfProducts</b> has a lot of parameters. Most have a default value, so they don't need to be included in the parameter list. It's hard to remember the exact order of the parameters, so it is best to call the function with the parameter name included. In the examples that follow, this becomes clear. Obviously, some queries lead to no results at all. For instance, if you specify a bounding box <b>and</b> a tile ID which does not intersect that bounding box, you won't get anything. \n",
    "\n",
    "| Parameter name | Default value | Comment |\n",
    "| --- | --- | --- |\n",
    "| urn | no default value | urn of the collection |\n",
    "| ElasticSearchURL | 'https://services.terrascope.be/catalogue/' | is also set to <b>esOpsURL</b> |\n",
    "| start | 2015-01-01 | start acquisition datetime in ISO format |\n",
    "| end | now | end acquisition datetime in ISO format |\n",
    "| prstart | 2015-01-01 | start datetime of product publication in ISO format |\n",
    "| prend | now | end datetime of product publication in ISO format |\n",
    "| latmin | -90.0 | minimum latitude of bounding box in degrees |\n",
    "| latmax | +90.0 | maximum latitude of bounding box in degrees |\n",
    "| lonmin | -180.0 | minimum longitude of bounding box in degrees |\n",
    "| lonmax | +180.0 | maximum longitude of bounding box in degrees |\n",
    "| ccmin | 0.0 | Sentinel-2 minimum cloud cover in percent (not used for Sentinel-1 queries) |\n",
    "| ccmax | 100.0 | Sentinel-2 maximum cloud cover in percent (not used for Sentinel-1 queries) |\n",
    "| tID | blank | Sentinel-2 tile ID (not used for Sentinel-1 queries) |\n",
    "| printURL | False | will print out the query URL |\n",
    "\n",
    "Below we will specify queries for the Sentinel-2 LAI product, using various selection parameters.\n",
    "\n",
    "#### 1. using just the urn. \n",
    "This will return the total number of products in the archive\n"
   ]
  },
  {
   "cell_type": "code",
   "execution_count": 127,
   "metadata": {},
   "outputs": [
    {
     "name": "stdout",
     "output_type": "stream",
     "text": [
      "urn:eop:VITO:TERRASCOPE_S2_LAI_V2 261566 products\n"
     ]
    }
   ],
   "source": [
    "print('urn:eop:VITO:TERRASCOPE_S2_LAI_V2', findNumberOfProducts('urn:eop:VITO:TERRASCOPE_S2_LAI_V2', printURL=False), 'products')"
   ]
  },
  {
   "cell_type": "markdown",
   "metadata": {},
   "source": [
    "#### 2. using start and end time"
   ]
  },
  {
   "cell_type": "code",
   "execution_count": 128,
   "metadata": {},
   "outputs": [
    {
     "name": "stdout",
     "output_type": "stream",
     "text": [
      "urn:eop:VITO:TERRASCOPE_S2_LAI_V2 1448 products\n"
     ]
    }
   ],
   "source": [
    "print('urn:eop:VITO:TERRASCOPE_S2_LAI_V2', findNumberOfProducts('urn:eop:VITO:TERRASCOPE_S2_LAI_V2',\n",
    "                                                                 start=datetime.date(2019,6,1).isoformat(), \n",
    "                                                                 end=datetime.date(2019,6,13).isoformat(), \n",
    "                                                                 printURL=False), 'products')"
   ]
  },
  {
   "cell_type": "markdown",
   "metadata": {},
   "source": [
    "#### 3. using cloud cover"
   ]
  },
  {
   "cell_type": "code",
   "execution_count": 35,
   "metadata": {},
   "outputs": [
    {
     "name": "stdout",
     "output_type": "stream",
     "text": [
      "urn:eop:VITO:TERRASCOPE_S2_FAPAR_V2 58 products\n"
     ]
    }
   ],
   "source": [
    "print('urn:eop:VITO:TERRASCOPE_S2_FAPAR_V2', findNumberOfProducts('urn:eop:VITO:TERRASCOPE_S2_FAPAR_V2',\n",
    "                                                                 start=datetime.date(2018,10,6).isoformat(), \n",
    "                                                                 end=datetime.date(2018,10,10).isoformat(), \n",
    "                                                                 ccmin = 0.0,\n",
    "                                                                 ccmax = 15.0,\n",
    "                                                                 printURL=False), 'products')\n"
   ]
  },
  {
   "cell_type": "markdown",
   "metadata": {},
   "source": [
    "#### 4. using a bounding box"
   ]
  },
  {
   "cell_type": "code",
   "execution_count": 36,
   "metadata": {},
   "outputs": [
    {
     "name": "stdout",
     "output_type": "stream",
     "text": [
      "urn:eop:VITO:TERRASCOPE_S2_CCC_V2 2826 products\n"
     ]
    }
   ],
   "source": [
    "print('urn:eop:VITO:TERRASCOPE_S2_CCC_V2', findNumberOfProducts('urn:eop:VITO:TERRASCOPE_S2_CCC_V2',\n",
    "                                                                 latmin = 50.0,\n",
    "                                                                 latmax = 51.0,\n",
    "                                                                 lonmin = 4.0,\n",
    "                                                                 lonmax = 5.0,\n",
    "                                                                 printURL=False), 'products')\n"
   ]
  },
  {
   "cell_type": "markdown",
   "metadata": {},
   "source": [
    "#### 5. using production date\n"
   ]
  },
  {
   "cell_type": "code",
   "execution_count": 37,
   "metadata": {},
   "outputs": [
    {
     "name": "stdout",
     "output_type": "stream",
     "text": [
      "urn:eop:VITO:TERRASCOPE_S2_TOC_V2 8 products\n"
     ]
    }
   ],
   "source": [
    "print('urn:eop:VITO:TERRASCOPE_S2_TOC_V2', findNumberOfProducts('urn:eop:VITO:TERRASCOPE_S2_TOC_V2',\n",
    "                                                          prstart=datetime.datetime(2020,4,7,15,0,0).isoformat(), \n",
    "                                                          prend=datetime.datetime(2020,4,7,16,0,0).isoformat(), \n",
    "                                                          printURL=False), 'products')\n"
   ]
  },
  {
   "cell_type": "markdown",
   "metadata": {},
   "source": [
    "#### 6. using a tile ID"
   ]
  },
  {
   "cell_type": "code",
   "execution_count": 39,
   "metadata": {},
   "outputs": [
    {
     "name": "stdout",
     "output_type": "stream",
     "text": [
      "urn:eop:VITO:TERRASCOPE_S2_TOC_V2 846 products\n"
     ]
    }
   ],
   "source": [
    "print('urn:eop:VITO:TERRASCOPE_S2_TOC_V2', findNumberOfProducts('urn:eop:VITO:TERRASCOPE_S2_TOC_V2',\n",
    "                                                                 tID='31UES', \n",
    "                                                                 printURL=False), 'products')"
   ]
  },
  {
   "cell_type": "markdown",
   "metadata": {},
   "source": [
    "Of course, any combination of the separate demonstrated parameters is possible.<br> \n",
    "\n",
    "### findProducts\n",
    "Now, let's see what you get if you want to retrieve the products themselves with <b>findProducts</b>. This function has the same parameters as the previous one:\n",
    "\n",
    "| Parameter name | Default value | Comment |\n",
    "| --- | --- | --- |\n",
    "| urn | no default value | urn of the collection |\n",
    "| ElasticSearchURL | 'https://services.terrascope.be/catalogue/' | is also set to <b>esOpsURL</b> |\n",
    "| start | 2015-01-01 | start acquisition datetime in ISO format |\n",
    "| end | now | end acquisition datetime in ISO format |\n",
    "| prstart | 2015-01-01 | start datetime of product publication in ISO format |\n",
    "| prend | now | end datetime of product publication in ISO format |\n",
    "| latmin | -90.0 | minimum latitude of bounding box in degrees |\n",
    "| latmax | +90.0 | maximum latitude of bounding box in degrees |\n",
    "| lonmin | -180.0 | minimum longitude of bounding box in degrees |\n",
    "| lonmax | +180.0 | maximum longitude of bounding box in degrees |\n",
    "| ccmin | 0.0 | Sentinel-2 minimum cloud cover in percent (not used for Sentinel-1 queries) |\n",
    "| ccmax | 100.0 | Sentinel-2 maximum cloud cover in percent (not used for Sentinel-1 queries) |\n",
    "| tID | blank | Sentinel-2 tile ID (not used for Sentinel-1 queries) |\n",
    "| onTerrascope | True | if True, then the fundtion returns the path to the data |\n",
    "|   |   | if False, then a download hyprlink is returned |\n",
    "| printURL | False | will print out the query URL |\n",
    "\n",
    "So, you can already imagine how to use them. We will now concentrate on the function's result. Where <b>findNumberOfProducts</b> only returns the number of products, this function returns a list of products, with a lot of additional product information. So let's call it, and have a look at the result for the Sentinel-2 TOC reflectance product.\n"
   ]
  },
  {
   "cell_type": "code",
   "execution_count": 139,
   "metadata": {},
   "outputs": [
    {
     "name": "stdout",
     "output_type": "stream",
     "text": [
      "57 products found between 2019-06-01 and 2019-06-02 produced between 2015-01-01T00:00:00 and 2021-12-31T23:59:59\n"
     ]
    }
   ],
   "source": [
    "#example use\n",
    "producttype   = 'urn:eop:VITO:TERRASCOPE_S2_TOC_V2'\n",
    "startdate     = datetime.date(2019,6,1)\n",
    "enddate       = datetime.date(2019,6,2)\n",
    "latitudemin   = -90\n",
    "latitudemax   = 90\n",
    "longitudemin  = -180\n",
    "longitudemax  = 180\n",
    "cloudcovermin = 0.0\n",
    "cloudcovermax = 100.0\n",
    "Products      = findProducts(urn=producttype, \n",
    "                           start = startdate, \n",
    "                           end   = enddate)"
   ]
  },
  {
   "cell_type": "markdown",
   "metadata": {},
   "source": [
    "So, the result is a <b>list</b> of products. <br>\n",
    "Each of these products is a <b>dictionary</b>, because it contains a diverse set of information and is stored in no particular order. Using a dictionary, you just have to remember the keywords to get to the data. So what are the keywords?"
   ]
  },
  {
   "cell_type": "code",
   "execution_count": 133,
   "metadata": {},
   "outputs": [
    {
     "name": "stdout",
     "output_type": "stream",
     "text": [
      "['productID']\n",
      "  urn:eop:VITO:TERRASCOPE_S2_TOC_V2:S2B_20190601T140059_22NCK_TOC_V200\n",
      "['bbox']\n",
      "  [-52.8026278, 3.5302227, -51.8121082, 4.52168]\n",
      "['productDate']\n",
      "  2019-06-01T14:00:59Z\n",
      "['productPublishedDate']\n",
      "  2020-04-28T16:51:28Z\n",
      "['productTitle']\n",
      "  S2B_20190601T140059_22NCK_TOC_V200\n",
      "['relativeOrbit']\n",
      "  67\n",
      "['productType']\n",
      "  TOC\n",
      "['cloudcover']\n",
      "  22.793\n",
      "['tileID']\n",
      "  22NCK\n",
      "['files']\n",
      "  [{'filetype': 'previews', 'filepath': '/data/MTDA/TERRASCOPE_Sentinel2/TOC_V2/2019/06/01/S2B_20190601T140059_22NCK_TOC_V200/S2B_20190601T140059_22NCK_TOC_QUICKLOOK_V200.tif', 'category': 'QUICKLOOK', 'title': 'QUICKLOOK', 'length': 1005760}, {'filetype': 'alternates', 'filepath': '/data/MTDA/TERRASCOPE_Sentinel2/TOC_V2/2019/06/01/S2B_20190601T140059_22NCK_TOC_V200/S2B_20190601T140059_22NCK_TOC_V200.xml', 'category': 'Inspire metadata', 'title': 'Inspire metadata', 'length': 39921}, {'filetype': 'related', 'filepath': '/data/MTDA/TERRASCOPE_Sentinel2/TOC_V2/2019/06/01/S2B_20190601T140059_22NCK_TOC_V200/S2B_20190601T140059_22NCK_VZA_60M_V200.tif', 'category': 'QUALITY', 'title': 'VZA_60M', 'length': 291537}, {'filetype': 'related', 'filepath': '/data/MTDA/TERRASCOPE_Sentinel2/TOC_V2/2019/06/01/S2B_20190601T140059_22NCK_TOC_V200/S2B_20190601T140059_22NCK_SCENECLASSIFICATION_20M_V200.tif', 'category': 'QUALITY', 'title': 'SCENECLASSIFICATION_20M', 'length': 4486376}, {'filetype': 'related', 'filepath': '/data/MTDA/TERRASCOPE_Sentinel2/TOC_V2/2019/06/01/S2B_20190601T140059_22NCK_TOC_V200/S2B_20190601T140059_22NCK_WVP_60M_V200.tif', 'category': 'QUALITY', 'title': 'WVP_60M', 'length': 5251392}, {'filetype': 'related', 'filepath': '/data/MTDA/TERRASCOPE_Sentinel2/TOC_V2/2019/06/01/S2B_20190601T140059_22NCK_TOC_V200/S2B_20190601T140059_22NCK_SZA_60M_V200.tif', 'category': 'QUALITY', 'title': 'SZA_60M', 'length': 134422}, {'filetype': 'related', 'filepath': '/data/MTDA/TERRASCOPE_Sentinel2/TOC_V2/2019/06/01/S2B_20190601T140059_22NCK_TOC_V200/S2B_20190601T140059_22NCK_AOT_60M_V200.tif', 'category': 'QUALITY', 'title': 'AOT_60M', 'length': 297720}, {'filetype': 'related', 'filepath': '/data/MTDA/TERRASCOPE_Sentinel2/TOC_V2/2019/06/01/S2B_20190601T140059_22NCK_TOC_V200/S2B_20190601T140059_22NCK_RAA_60M_V200.tif', 'category': 'QUALITY', 'title': 'RAA_60M', 'length': 2564018}, {'filetype': 'data', 'filepath': '/data/MTDA/TERRASCOPE_Sentinel2/TOC_V2/2019/06/01/S2B_20190601T140059_22NCK_TOC_V200/S2B_20190601T140059_22NCK_TOC-B03_10M_V200.tif', 'category': 'TOC-B03_10M', 'title': 'TOC-B03_10M', 'length': 188267067}, {'filetype': 'data', 'filepath': '/data/MTDA/TERRASCOPE_Sentinel2/TOC_V2/2019/06/01/S2B_20190601T140059_22NCK_TOC_V200/S2B_20190601T140059_22NCK_TOC-B01_60M_V200.tif', 'category': 'TOC-B01_60M', 'title': 'TOC-B01_60M', 'length': 5459000}, {'filetype': 'data', 'filepath': '/data/MTDA/TERRASCOPE_Sentinel2/TOC_V2/2019/06/01/S2B_20190601T140059_22NCK_TOC_V200/S2B_20190601T140059_22NCK_TOC-B11_20M_V200.tif', 'category': 'TOC-B11_20M', 'title': 'TOC-B11_20M', 'length': 50960722}, {'filetype': 'data', 'filepath': '/data/MTDA/TERRASCOPE_Sentinel2/TOC_V2/2019/06/01/S2B_20190601T140059_22NCK_TOC_V200/S2B_20190601T140059_22NCK_TOC-B12_20M_V200.tif', 'category': 'TOC-B12_20M', 'title': 'TOC-B12_20M', 'length': 49207828}, {'filetype': 'data', 'filepath': '/data/MTDA/TERRASCOPE_Sentinel2/TOC_V2/2019/06/01/S2B_20190601T140059_22NCK_TOC_V200/S2B_20190601T140059_22NCK_TOC-B08_10M_V200.tif', 'category': 'TOC-B08_10M', 'title': 'TOC-B08_10M', 'length': 192986893}, {'filetype': 'data', 'filepath': '/data/MTDA/TERRASCOPE_Sentinel2/TOC_V2/2019/06/01/S2B_20190601T140059_22NCK_TOC_V200/S2B_20190601T140059_22NCK_TOC-B05_20M_V200.tif', 'category': 'TOC-B05_20M', 'title': 'TOC-B05_20M', 'length': 50493930}, {'filetype': 'data', 'filepath': '/data/MTDA/TERRASCOPE_Sentinel2/TOC_V2/2019/06/01/S2B_20190601T140059_22NCK_TOC_V200/S2B_20190601T140059_22NCK_TOC-B8A_20M_V200.tif', 'category': 'TOC-B8A_20M', 'title': 'TOC-B8A_20M', 'length': 52792741}, {'filetype': 'data', 'filepath': '/data/MTDA/TERRASCOPE_Sentinel2/TOC_V2/2019/06/01/S2B_20190601T140059_22NCK_TOC_V200/S2B_20190601T140059_22NCK_TOC-B02_10M_V200.tif', 'category': 'TOC-B02_10M', 'title': 'TOC-B02_10M', 'length': 182083684}, {'filetype': 'data', 'filepath': '/data/MTDA/TERRASCOPE_Sentinel2/TOC_V2/2019/06/01/S2B_20190601T140059_22NCK_TOC_V200/S2B_20190601T140059_22NCK_TOC-B04_10M_V200.tif', 'category': 'TOC-B04_10M', 'title': 'TOC-B04_10M', 'length': 181902976}, {'filetype': 'data', 'filepath': '/data/MTDA/TERRASCOPE_Sentinel2/TOC_V2/2019/06/01/S2B_20190601T140059_22NCK_TOC_V200/S2B_20190601T140059_22NCK_TOC-B06_20M_V200.tif', 'category': 'TOC-B06_20M', 'title': 'TOC-B06_20M', 'length': 52410323}, {'filetype': 'data', 'filepath': '/data/MTDA/TERRASCOPE_Sentinel2/TOC_V2/2019/06/01/S2B_20190601T140059_22NCK_TOC_V200/S2B_20190601T140059_22NCK_TOC-B07_20M_V200.tif', 'category': 'TOC-B07_20M', 'title': 'TOC-B07_20M', 'length': 52785102}]\n"
     ]
    }
   ],
   "source": [
    "for k in Products[0].keys(): #the keys are the same for every product, of course, so we take the first product as an example\n",
    "    print([k])\n",
    "    print(' ', Products[0][k]) #so we print the key first, then its value"
   ]
  },
  {
   "cell_type": "markdown",
   "metadata": {},
   "source": [
    "Of course, when you change the code of <b>findProducts</b>, these keys may be different. But as it is, these are the keywords, with some explanation\n",
    "\n",
    "| keyword | comment |\n",
    "| --- | --- |\n",
    "| productID | a unique product identifier, composed of the collection's urn and the productTitle |\n",
    "| bbox | bounding box coordinates, in this order: longitude min, latitude min, longitude max, latitude max |\n",
    "| productDate | acquisition starting datetime of the product |\n",
    "| productPublishedDate | datetime of publication of the product in the catalog |\n",
    "| relativeOrbit | acquisitions with the same relative orbit overlap completely |\n",
    "| productType | the product's description |\n",
    "| cloudcover | percentage of clouds in the product (Sentinel-2 only)|\n",
    "| tileID | product identifier in the UTM tiling grid (Sentinel-2 only) |\n",
    "| files | a list of files associated to this product |\n",
    "\n",
    "The <b>files</b> list contains several entries, with each providing information on a single file on disk. The separate file entries are described in a dictionary with these keywords:\n",
    "\n",
    "| keyword | comment |\n",
    "| --- | --- |\n",
    "| filetype | <b>preview</b>, a quicklook image |\n",
    "|   | <b>data</b>, the actual data |\n",
    "|   | <b>related</b>, data derivered from the actual data |\n",
    "|   | <b>alternates</b>, metadata |    \n",
    "| filepath | actual string that points to the file on the Terrascope file system |\n",
    "| category | file type qualifier |\n",
    "| title | file content description |\n",
    "| length | file size in bytes |"
   ]
  },
  {
   "cell_type": "code",
   "execution_count": 79,
   "metadata": {},
   "outputs": [
    {
     "name": "stdout",
     "output_type": "stream",
     "text": [
      "Product date           tileID  filetype    category          title                     size (MB)\n",
      "--------------------   ------  ----------  ----------------   -----------------------   ---------\n",
      "2019-06-01T14:00:59Z   22NCK   previews    QUICKLOOK          QUICKLOOK                   1005.76\n",
      "2019-06-01T14:00:59Z   22NCK   alternates  Inspire metadata   Inspire metadata             39.921\n",
      "2019-06-01T14:00:59Z   22NCK   related     QUALITY            VZA_60M                     291.537\n",
      "2019-06-01T14:00:59Z   22NCK   related     QUALITY            SCENECLASSIFICATION_20M    4486.376\n",
      "2019-06-01T14:00:59Z   22NCK   related     QUALITY            WVP_60M                    5251.392\n",
      "2019-06-01T14:00:59Z   22NCK   related     QUALITY            SZA_60M                     134.422\n",
      "2019-06-01T14:00:59Z   22NCK   related     QUALITY            AOT_60M                      297.72\n",
      "2019-06-01T14:00:59Z   22NCK   related     QUALITY            RAA_60M                    2564.018\n",
      "2019-06-01T14:00:59Z   22NCK   data        TOC-B03_10M        TOC-B03_10M               188267.067\n",
      "2019-06-01T14:00:59Z   22NCK   data        TOC-B01_60M        TOC-B01_60M                  5459.0\n",
      "2019-06-01T14:00:59Z   22NCK   data        TOC-B11_20M        TOC-B11_20M               50960.722\n",
      "2019-06-01T14:00:59Z   22NCK   data        TOC-B12_20M        TOC-B12_20M               49207.828\n",
      "2019-06-01T14:00:59Z   22NCK   data        TOC-B08_10M        TOC-B08_10M               192986.893\n",
      "2019-06-01T14:00:59Z   22NCK   data        TOC-B05_20M        TOC-B05_20M                50493.93\n",
      "2019-06-01T14:00:59Z   22NCK   data        TOC-B8A_20M        TOC-B8A_20M               52792.741\n",
      "2019-06-01T14:00:59Z   22NCK   data        TOC-B02_10M        TOC-B02_10M               182083.684\n",
      "2019-06-01T14:00:59Z   22NCK   data        TOC-B04_10M        TOC-B04_10M               181902.976\n",
      "2019-06-01T14:00:59Z   22NCK   data        TOC-B06_20M        TOC-B06_20M               52410.323\n",
      "2019-06-01T14:00:59Z   22NCK   data        TOC-B07_20M        TOC-B07_20M               52785.102\n",
      "\n",
      "2019-06-01T14:00:59Z   22NBL   previews    QUICKLOOK          QUICKLOOK                   652.496\n",
      "2019-06-01T14:00:59Z   22NBL   alternates  Inspire metadata   Inspire metadata             39.921\n",
      "2019-06-01T14:00:59Z   22NBL   related     QUALITY            AOT_60M                     256.918\n",
      "2019-06-01T14:00:59Z   22NBL   related     QUALITY            WVP_60M                    3266.048\n",
      "2019-06-01T14:00:59Z   22NBL   related     QUALITY            RAA_60M                     723.017\n",
      "2019-06-01T14:00:59Z   22NBL   related     QUALITY            SCENECLASSIFICATION_20M    3051.888\n",
      "2019-06-01T14:00:59Z   22NBL   related     QUALITY            VZA_60M                     188.279\n",
      "2019-06-01T14:00:59Z   22NBL   related     QUALITY            SZA_60M                     136.132\n",
      "2019-06-01T14:00:59Z   22NBL   data        TOC-B8A_20M        TOC-B8A_20M               34326.716\n",
      "2019-06-01T14:00:59Z   22NBL   data        TOC-B04_10M        TOC-B04_10M               117240.271\n",
      "2019-06-01T14:00:59Z   22NBL   data        TOC-B08_10M        TOC-B08_10M               123541.35\n",
      "2019-06-01T14:00:59Z   22NBL   data        TOC-B07_20M        TOC-B07_20M               34312.959\n",
      "2019-06-01T14:00:59Z   22NBL   data        TOC-B02_10M        TOC-B02_10M               117428.151\n",
      "2019-06-01T14:00:59Z   22NBL   data        TOC-B11_20M        TOC-B11_20M               33084.353\n",
      "2019-06-01T14:00:59Z   22NBL   data        TOC-B05_20M        TOC-B05_20M               33013.982\n",
      "2019-06-01T14:00:59Z   22NBL   data        TOC-B01_60M        TOC-B01_60M                3630.047\n",
      "2019-06-01T14:00:59Z   22NBL   data        TOC-B12_20M        TOC-B12_20M                31921.08\n",
      "2019-06-01T14:00:59Z   22NBL   data        TOC-B03_10M        TOC-B03_10M               120999.971\n",
      "2019-06-01T14:00:59Z   22NBL   data        TOC-B06_20M        TOC-B06_20M               34089.903\n",
      "\n",
      "2019-06-01T10:20:29Z   33UVV   previews    QUICKLOOK          QUICKLOOK                   944.751\n",
      "2019-06-01T10:20:29Z   33UVV   alternates  Inspire metadata   Inspire metadata             39.921\n",
      "2019-06-01T10:20:29Z   33UVV   related     QUALITY            VZA_60M                     194.344\n",
      "2019-06-01T10:20:29Z   33UVV   related     QUALITY            RAA_60M                    1329.864\n",
      "2019-06-01T10:20:29Z   33UVV   related     QUALITY            WVP_60M                    3667.604\n",
      "2019-06-01T10:20:29Z   33UVV   related     QUALITY            SZA_60M                     106.588\n",
      "2019-06-01T10:20:29Z   33UVV   related     QUALITY            SCENECLASSIFICATION_20M    3485.451\n",
      "2019-06-01T10:20:29Z   33UVV   related     QUALITY            AOT_60M                     305.948\n",
      "2019-06-01T10:20:29Z   33UVV   data        TOC-B02_10M        TOC-B02_10M               157646.733\n",
      "2019-06-01T10:20:29Z   33UVV   data        TOC-B08_10M        TOC-B08_10M               163862.306\n",
      "2019-06-01T10:20:29Z   33UVV   data        TOC-B01_60M        TOC-B01_60M                4744.528\n",
      "2019-06-01T10:20:29Z   33UVV   data        TOC-B11_20M        TOC-B11_20M                43780.81\n",
      "2019-06-01T10:20:29Z   33UVV   data        TOC-B03_10M        TOC-B03_10M               160115.277\n",
      "2019-06-01T10:20:29Z   33UVV   data        TOC-B07_20M        TOC-B07_20M               45582.828\n",
      "2019-06-01T10:20:29Z   33UVV   data        TOC-B8A_20M        TOC-B8A_20M               45664.062\n",
      "2019-06-01T10:20:29Z   33UVV   data        TOC-B12_20M        TOC-B12_20M               42864.214\n",
      "2019-06-01T10:20:29Z   33UVV   data        TOC-B04_10M        TOC-B04_10M               159525.376\n",
      "2019-06-01T10:20:29Z   33UVV   data        TOC-B06_20M        TOC-B06_20M               45050.434\n",
      "2019-06-01T10:20:29Z   33UVV   data        TOC-B05_20M        TOC-B05_20M               43514.836\n",
      "\n",
      "2019-06-01T10:20:29Z   33UVA   previews    QUICKLOOK          QUICKLOOK                   537.705\n",
      "2019-06-01T10:20:29Z   33UVA   alternates  Inspire metadata   Inspire metadata             39.921\n",
      "2019-06-01T10:20:29Z   33UVA   related     QUALITY            SCENECLASSIFICATION_20M    1675.321\n",
      "2019-06-01T10:20:29Z   33UVA   related     QUALITY            RAA_60M                    1950.214\n",
      "2019-06-01T10:20:29Z   33UVA   related     QUALITY            SZA_60M                     104.885\n",
      "2019-06-01T10:20:29Z   33UVA   related     QUALITY            AOT_60M                      25.092\n",
      "2019-06-01T10:20:29Z   33UVA   related     QUALITY            VZA_60M                     190.248\n",
      "2019-06-01T10:20:29Z   33UVA   related     QUALITY            WVP_60M                     157.048\n",
      "2019-06-01T10:20:29Z   33UVA   data        TOC-B07_20M        TOC-B07_20M               26053.907\n",
      "2019-06-01T10:20:29Z   33UVA   data        TOC-B05_20M        TOC-B05_20M                 26218.4\n",
      "2019-06-01T10:20:29Z   33UVA   data        TOC-B06_20M        TOC-B06_20M               26151.577\n",
      "2019-06-01T10:20:29Z   33UVA   data        TOC-B12_20M        TOC-B12_20M               24269.674\n",
      "2019-06-01T10:20:29Z   33UVA   data        TOC-B04_10M        TOC-B04_10M               94579.388\n",
      "2019-06-01T10:20:29Z   33UVA   data        TOC-B08_10M        TOC-B08_10M               93890.099\n",
      "2019-06-01T10:20:29Z   33UVA   data        TOC-B11_20M        TOC-B11_20M               24490.678\n",
      "2019-06-01T10:20:29Z   33UVA   data        TOC-B03_10M        TOC-B03_10M               95923.657\n",
      "2019-06-01T10:20:29Z   33UVA   data        TOC-B01_60M        TOC-B01_60M                3166.079\n",
      "2019-06-01T10:20:29Z   33UVA   data        TOC-B02_10M        TOC-B02_10M               97687.017\n",
      "2019-06-01T10:20:29Z   33UVA   data        TOC-B8A_20M        TOC-B8A_20M               26060.882\n",
      "\n",
      "2019-06-01T10:20:29Z   33UUA   previews    QUICKLOOK          QUICKLOOK                   540.618\n",
      "2019-06-01T10:20:29Z   33UUA   alternates  Inspire metadata   Inspire metadata             39.921\n",
      "2019-06-01T10:20:29Z   33UUA   related     QUALITY            WVP_60M                     851.816\n",
      "2019-06-01T10:20:29Z   33UUA   related     QUALITY            VZA_60M                     239.449\n",
      "2019-06-01T10:20:29Z   33UUA   related     QUALITY            SZA_60M                     121.708\n",
      "2019-06-01T10:20:29Z   33UUA   related     QUALITY            SCENECLASSIFICATION_20M    2015.142\n",
      "2019-06-01T10:20:29Z   33UUA   related     QUALITY            RAA_60M                    2495.646\n",
      "2019-06-01T10:20:29Z   33UUA   related     QUALITY            AOT_60M                       24.77\n",
      "2019-06-01T10:20:29Z   33UUA   data        TOC-B11_20M        TOC-B11_20M                26807.36\n",
      "2019-06-01T10:20:29Z   33UUA   data        TOC-B12_20M        TOC-B12_20M               26529.267\n",
      "2019-06-01T10:20:29Z   33UUA   data        TOC-B07_20M        TOC-B07_20M               28346.843\n",
      "2019-06-01T10:20:29Z   33UUA   data        TOC-B04_10M        TOC-B04_10M               103901.278\n",
      "2019-06-01T10:20:29Z   33UUA   data        TOC-B08_10M        TOC-B08_10M               103100.565\n",
      "2019-06-01T10:20:29Z   33UUA   data        TOC-B05_20M        TOC-B05_20M               28165.818\n",
      "2019-06-01T10:20:29Z   33UUA   data        TOC-B8A_20M        TOC-B8A_20M               28338.921\n",
      "2019-06-01T10:20:29Z   33UUA   data        TOC-B03_10M        TOC-B03_10M               105989.477\n",
      "2019-06-01T10:20:29Z   33UUA   data        TOC-B02_10M        TOC-B02_10M               107292.07\n",
      "2019-06-01T10:20:29Z   33UUA   data        TOC-B01_60M        TOC-B01_60M                3298.407\n",
      "2019-06-01T10:20:29Z   33UUA   data        TOC-B06_20M        TOC-B06_20M               28337.318\n",
      "\n",
      "2019-06-01T10:20:29Z   32UMV   previews    QUICKLOOK          QUICKLOOK                   443.664\n",
      "2019-06-01T10:20:29Z   32UMV   alternates  Inspire metadata   Inspire metadata             39.917\n",
      "2019-06-01T10:20:29Z   32UMV   related     QUALITY            WVP_60M                    1547.412\n",
      "2019-06-01T10:20:29Z   32UMV   related     QUALITY            SZA_60M                     100.833\n",
      "2019-06-01T10:20:29Z   32UMV   related     QUALITY            RAA_60M                     410.135\n",
      "2019-06-01T10:20:29Z   32UMV   related     QUALITY            AOT_60M                     296.496\n",
      "2019-06-01T10:20:29Z   32UMV   related     QUALITY            SCENECLASSIFICATION_20M    1145.486\n",
      "2019-06-01T10:20:29Z   32UMV   related     QUALITY            VZA_60M                     116.311\n",
      "2019-06-01T10:20:29Z   32UMV   data        TOC-B07_20M        TOC-B07_20M               19447.516\n",
      "2019-06-01T10:20:29Z   32UMV   data        TOC-B04_10M        TOC-B04_10M               67242.529\n",
      "2019-06-01T10:20:29Z   32UMV   data        TOC-B03_10M        TOC-B03_10M               67603.158\n",
      "2019-06-01T10:20:29Z   32UMV   data        TOC-B01_60M        TOC-B01_60M                1930.207\n",
      "2019-06-01T10:20:29Z   32UMV   data        TOC-B02_10M        TOC-B02_10M               65613.739\n",
      "2019-06-01T10:20:29Z   32UMV   data        TOC-B11_20M        TOC-B11_20M                18733.21\n",
      "2019-06-01T10:20:29Z   32UMV   data        TOC-B05_20M        TOC-B05_20M               18218.738\n",
      "2019-06-01T10:20:29Z   32UMV   data        TOC-B08_10M        TOC-B08_10M               70134.072\n",
      "2019-06-01T10:20:29Z   32UMV   data        TOC-B8A_20M        TOC-B8A_20M               19487.615\n",
      "2019-06-01T10:20:29Z   32UMV   data        TOC-B12_20M        TOC-B12_20M               18343.686\n",
      "2019-06-01T10:20:29Z   32UMV   data        TOC-B06_20M        TOC-B06_20M               19000.409\n",
      "\n",
      "2019-06-01T10:20:29Z   32UMA   previews    QUICKLOOK          QUICKLOOK                   169.617\n",
      "2019-06-01T10:20:29Z   32UMA   alternates  Inspire metadata   Inspire metadata             39.917\n",
      "2019-06-01T10:20:29Z   32UMA   related     QUALITY            AOT_60M                     101.342\n",
      "2019-06-01T10:20:29Z   32UMA   related     QUALITY            WVP_60M                     762.582\n",
      "2019-06-01T10:20:29Z   32UMA   related     QUALITY            VZA_60M                       61.33\n",
      "2019-06-01T10:20:29Z   32UMA   related     QUALITY            SCENECLASSIFICATION_20M     677.365\n",
      "2019-06-01T10:20:29Z   32UMA   related     QUALITY            SZA_60M                     107.222\n",
      "2019-06-01T10:20:29Z   32UMA   related     QUALITY            RAA_60M                      252.73\n",
      "2019-06-01T10:20:29Z   32UMA   data        TOC-B08_10M        TOC-B08_10M               25304.828\n",
      "2019-06-01T10:20:29Z   32UMA   data        TOC-B01_60M        TOC-B01_60M                 727.291\n",
      "2019-06-01T10:20:29Z   32UMA   data        TOC-B05_20M        TOC-B05_20M                6623.891\n",
      "2019-06-01T10:20:29Z   32UMA   data        TOC-B03_10M        TOC-B03_10M               24407.463\n",
      "2019-06-01T10:20:29Z   32UMA   data        TOC-B11_20M        TOC-B11_20M                6797.511\n",
      "2019-06-01T10:20:29Z   32UMA   data        TOC-B06_20M        TOC-B06_20M                6901.666\n",
      "2019-06-01T10:20:29Z   32UMA   data        TOC-B02_10M        TOC-B02_10M               23789.585\n",
      "2019-06-01T10:20:29Z   32UMA   data        TOC-B12_20M        TOC-B12_20M                6648.728\n",
      "2019-06-01T10:20:29Z   32UMA   data        TOC-B07_20M        TOC-B07_20M                7014.839\n",
      "2019-06-01T10:20:29Z   32UMA   data        TOC-B8A_20M        TOC-B8A_20M                7031.466\n",
      "2019-06-01T10:20:29Z   32UMA   data        TOC-B04_10M        TOC-B04_10M               24304.966\n",
      "\n",
      "2019-06-01T10:20:29Z   32TPQ   previews    QUICKLOOK          QUICKLOOK                   497.109\n",
      "2019-06-01T10:20:29Z   32TPQ   alternates  Inspire metadata   Inspire metadata             39.919\n",
      "2019-06-01T10:20:29Z   32TPQ   related     QUALITY            AOT_60M                     220.212\n",
      "2019-06-01T10:20:29Z   32TPQ   related     QUALITY            SZA_60M                     102.196\n",
      "2019-06-01T10:20:29Z   32TPQ   related     QUALITY            VZA_60M                     124.003\n",
      "2019-06-01T10:20:29Z   32TPQ   related     QUALITY            WVP_60M                    2589.014\n",
      "2019-06-01T10:20:29Z   32TPQ   related     QUALITY            RAA_60M                     521.728\n",
      "2019-06-01T10:20:29Z   32TPQ   related     QUALITY            SCENECLASSIFICATION_20M     1425.52\n",
      "2019-06-01T10:20:29Z   32TPQ   data        TOC-B06_20M        TOC-B06_20M               21528.618\n",
      "2019-06-01T10:20:29Z   32TPQ   data        TOC-B01_60M        TOC-B01_60M                2154.074\n",
      "2019-06-01T10:20:29Z   32TPQ   data        TOC-B08_10M        TOC-B08_10M               80320.669\n",
      "2019-06-01T10:20:29Z   32TPQ   data        TOC-B8A_20M        TOC-B8A_20M               22152.337\n",
      "2019-06-01T10:20:29Z   32TPQ   data        TOC-B11_20M        TOC-B11_20M               21274.173\n",
      "2019-06-01T10:20:29Z   32TPQ   data        TOC-B07_20M        TOC-B07_20M               22032.115\n",
      "2019-06-01T10:20:29Z   32TPQ   data        TOC-B04_10M        TOC-B04_10M               78657.825\n",
      "2019-06-01T10:20:29Z   32TPQ   data        TOC-B12_20M        TOC-B12_20M               21070.499\n",
      "2019-06-01T10:20:29Z   32TPQ   data        TOC-B03_10M        TOC-B03_10M               77775.309\n",
      "2019-06-01T10:20:29Z   32TPQ   data        TOC-B05_20M        TOC-B05_20M               20736.284\n",
      "2019-06-01T10:20:29Z   32TPQ   data        TOC-B02_10M        TOC-B02_10M               75678.078\n",
      "\n",
      "2019-06-01T10:20:29Z   32TPP   previews    QUICKLOOK          QUICKLOOK                   208.752\n",
      "2019-06-01T10:20:29Z   32TPP   alternates  Inspire metadata   Inspire metadata             39.919\n",
      "2019-06-01T10:20:29Z   32TPP   related     QUALITY            AOT_60M                     126.194\n",
      "2019-06-01T10:20:29Z   32TPP   related     QUALITY            WVP_60M                     818.024\n",
      "2019-06-01T10:20:29Z   32TPP   related     QUALITY            RAA_60M                     282.787\n",
      "2019-06-01T10:20:29Z   32TPP   related     QUALITY            SZA_60M                     109.003\n",
      "2019-06-01T10:20:29Z   32TPP   related     QUALITY            SCENECLASSIFICATION_20M     657.062\n",
      "2019-06-01T10:20:29Z   32TPP   related     QUALITY            VZA_60M                      67.843\n",
      "2019-06-01T10:20:29Z   32TPP   data        TOC-B01_60M        TOC-B01_60M                 905.458\n",
      "2019-06-01T10:20:29Z   32TPP   data        TOC-B04_10M        TOC-B04_10M               30609.824\n",
      "2019-06-01T10:20:29Z   32TPP   data        TOC-B11_20M        TOC-B11_20M                8392.476\n",
      "2019-06-01T10:20:29Z   32TPP   data        TOC-B08_10M        TOC-B08_10M                 31916.5\n",
      "2019-06-01T10:20:29Z   32TPP   data        TOC-B06_20M        TOC-B06_20M                8610.582\n",
      "2019-06-01T10:20:29Z   32TPP   data        TOC-B12_20M        TOC-B12_20M                8199.751\n",
      "2019-06-01T10:20:29Z   32TPP   data        TOC-B05_20M        TOC-B05_20M                8240.271\n",
      "2019-06-01T10:20:29Z   32TPP   data        TOC-B07_20M        TOC-B07_20M                8703.044\n",
      "2019-06-01T10:20:29Z   32TPP   data        TOC-B02_10M        TOC-B02_10M               30005.726\n",
      "2019-06-01T10:20:29Z   32TPP   data        TOC-B03_10M        TOC-B03_10M               30805.915\n",
      "2019-06-01T10:20:29Z   32TPP   data        TOC-B8A_20M        TOC-B8A_20M                8721.912\n",
      "\n",
      "2019-06-01T10:20:29Z   32TPN   previews    QUICKLOOK          QUICKLOOK                    16.296\n",
      "2019-06-01T10:20:29Z   32TPN   alternates  Inspire metadata   Inspire metadata             39.919\n",
      "2019-06-01T10:20:29Z   32TPN   related     QUALITY            VZA_60M                      19.151\n",
      "2019-06-01T10:20:29Z   32TPN   related     QUALITY            AOT_60M                      22.978\n",
      "2019-06-01T10:20:29Z   32TPN   related     QUALITY            WVP_60M                      22.306\n",
      "2019-06-01T10:20:29Z   32TPN   related     QUALITY            RAA_60M                     177.853\n",
      "2019-06-01T10:20:29Z   32TPN   related     QUALITY            SZA_60M                     118.267\n",
      "2019-06-01T10:20:29Z   32TPN   related     QUALITY            SCENECLASSIFICATION_20M      93.182\n",
      "2019-06-01T10:20:29Z   32TPN   data        TOC-B03_10M        TOC-B03_10M                1321.721\n",
      "2019-06-01T10:20:29Z   32TPN   data        TOC-B12_20M        TOC-B12_20M                  321.43\n",
      "2019-06-01T10:20:29Z   32TPN   data        TOC-B06_20M        TOC-B06_20M                 347.841\n",
      "2019-06-01T10:20:29Z   32TPN   data        TOC-B01_60M        TOC-B01_60M                  48.985\n",
      "2019-06-01T10:20:29Z   32TPN   data        TOC-B04_10M        TOC-B04_10M                1305.606\n",
      "2019-06-01T10:20:29Z   32TPN   data        TOC-B8A_20M        TOC-B8A_20M                 345.061\n",
      "2019-06-01T10:20:29Z   32TPN   data        TOC-B08_10M        TOC-B08_10M                1287.738\n",
      "2019-06-01T10:20:29Z   32TPN   data        TOC-B02_10M        TOC-B02_10M                1328.513\n",
      "2019-06-01T10:20:29Z   32TPN   data        TOC-B11_20M        TOC-B11_20M                 323.961\n",
      "2019-06-01T10:20:29Z   32TPN   data        TOC-B07_20M        TOC-B07_20M                 346.588\n",
      "2019-06-01T10:20:29Z   32TPN   data        TOC-B05_20M        TOC-B05_20M                 349.428\n",
      "\n"
     ]
    }
   ],
   "source": [
    "print('Product date'.ljust(22), 'tileID', ' filetype'.ljust(11), ' category'.ljust(18), 'title'.ljust(25), 'size (MB)'.ljust(9))\n",
    "print('--------------------   ------  ----------  ----------------   -----------------------   ---------')\n",
    "for p in Products[:10]:    \n",
    "    for f in p['files']:\n",
    "        size_mb = str(int(f['length']) / 1000.)\n",
    "        print(p['productDate'].ljust(22), p['tileID'].ljust(6), '',f['filetype'].ljust(11), f['category'].ljust(18), f['title'].ljust(25), size_mb.rjust(9))\n",
    "    print()"
   ]
  },
  {
   "cell_type": "markdown",
   "metadata": {},
   "source": [
    "What if you want to make a list of all NDVI products produced over a certain period for a list of UTM tiles?<br>\n",
    "Well, let's see.\n",
    "    "
   ]
  },
  {
   "cell_type": "code",
   "execution_count": 80,
   "metadata": {},
   "outputs": [],
   "source": [
    "TileList=['31UES', '31UFS', '31UGS']  #change this list as you please"
   ]
  },
  {
   "cell_type": "code",
   "execution_count": 140,
   "metadata": {},
   "outputs": [
    {
     "name": "stdout",
     "output_type": "stream",
     "text": [
      "tile: 31UES\n",
      "2 products found between 2015-01-01T00:00:00 and 2023-12-31T23:59:59 produced between 2020-07-25T00:00:00 and 2020-08-05T00:00:00\n",
      "tile: 31UFS\n",
      "1 products found between 2015-01-01T00:00:00 and 2023-12-31T23:59:59 produced between 2020-07-25T00:00:00 and 2020-08-05T00:00:00\n",
      "tile: 31UGS\n",
      "2 products found between 2015-01-01T00:00:00 and 2023-12-31T23:59:59 produced between 2020-07-25T00:00:00 and 2020-08-05T00:00:00\n"
     ]
    }
   ],
   "source": [
    "productionStart = datetime.datetime(2020,7,25,0,0,0)\n",
    "productionEnd   = datetime.datetime(2020,8,5,0,0,0)\n",
    "cloudcovermin   = 0.0 #this is not necessary: the default value for the function is 0.0; but it is a bit clearer this way\n",
    "cloudcovermax   = 15.0\n",
    "producttype     = 'urn:eop:VITO:TERRASCOPE_S2_NDVI_V2'\n",
    "\n",
    "productList = []\n",
    "\n",
    "for t in TileList:\n",
    "    print('tile: ' + t)\n",
    "    productList = productList + findProducts(urn=producttype, \n",
    "                                           ccmin=cloudcovermin, \n",
    "                                           ccmax=cloudcovermax,\n",
    "                                           tID=t,\n",
    "                                           prstart=productionStart.isoformat(),\n",
    "                                           prend = productionEnd.isoformat())"
   ]
  },
  {
   "cell_type": "markdown",
   "metadata": {},
   "source": [
    "In total, 5 products were found and below the product and publication dates are listed."
   ]
  },
  {
   "cell_type": "code",
   "execution_count": 141,
   "metadata": {},
   "outputs": [
    {
     "name": "stdout",
     "output_type": "stream",
     "text": [
      "31UES  2020-07-31T10:36:29Z   2020-07-31T23:47:50Z\n",
      "31UES  2020-07-27T10:56:19Z   2020-07-28T00:24:11Z\n",
      "31UFS  2020-07-31T10:36:29Z   2020-08-01T00:18:49Z\n",
      "31UGS  2020-07-31T10:36:29Z   2020-08-01T00:15:48Z\n",
      "31UGS  2020-07-29T10:50:31Z   2020-07-30T08:22:39Z\n"
     ]
    }
   ],
   "source": [
    "for p in productList:\n",
    "    print(p['tileID'].ljust(6), p['productDate'].ljust(22), p['productPublishedDate'].ljust(20))"
   ]
  },
  {
   "cell_type": "markdown",
   "metadata": {},
   "source": [
    "Let's make a list of the filepath to the NDVI files "
   ]
  },
  {
   "cell_type": "code",
   "execution_count": 91,
   "metadata": {},
   "outputs": [
    {
     "name": "stdout",
     "output_type": "stream",
     "text": [
      "/data/MTDA/TERRASCOPE_Sentinel2/NDVI_V2/2020/07/31/S2B_20200731T103629_31UES_NDVI_V200/S2B_20200731T103629_31UES_NDVI_10M_V200.tif\n",
      "/data/MTDA/TERRASCOPE_Sentinel2/NDVI_V2/2020/07/27/S2B_20200727T105619_31UES_NDVI_V200/S2B_20200727T105619_31UES_NDVI_10M_V200.tif\n",
      "/data/MTDA/TERRASCOPE_Sentinel2/NDVI_V2/2020/07/31/S2B_20200731T103629_31UFS_NDVI_V200/S2B_20200731T103629_31UFS_NDVI_10M_V200.tif\n",
      "/data/MTDA/TERRASCOPE_Sentinel2/NDVI_V2/2020/07/31/S2B_20200731T103629_31UGS_NDVI_V200/S2B_20200731T103629_31UGS_NDVI_10M_V200.tif\n",
      "/data/MTDA/TERRASCOPE_Sentinel2/NDVI_V2/2020/07/29/S2A_20200729T105031_31UGS_NDVI_V200/S2A_20200729T105031_31UGS_NDVI_10M_V200.tif\n"
     ]
    }
   ],
   "source": [
    "fileList=[]\n",
    "for p in productList:\n",
    "    for f in p['files']:\n",
    "        if f['filetype'] == 'data':\n",
    "            fileList.append(f['filepath'])\n",
    "\n",
    "print(*fileList, sep='\\n')    "
   ]
  },
  {
   "cell_type": "markdown",
   "metadata": {},
   "source": [
    "These are useable if you work on the Terrascope cluster. But what if you are trying to download the files?<br>\n",
    "For starters, you need to specify <b>onTerrascope=False</b> in your query"
   ]
  },
  {
   "cell_type": "code",
   "execution_count": 95,
   "metadata": {},
   "outputs": [
    {
     "name": "stdout",
     "output_type": "stream",
     "text": [
      "tile: 31UES\n",
      "2 products found between 2015-01-01T00:00:00 and 2023-12-31T23:59:59 produced between 2020-07-25T00:00:00 and 2020-08-05T00:00:00\n",
      "tile: 31UFS\n",
      "1 products found between 2015-01-01T00:00:00 and 2023-12-31T23:59:59 produced between 2020-07-25T00:00:00 and 2020-08-05T00:00:00\n",
      "tile: 31UGS\n",
      "2 products found between 2015-01-01T00:00:00 and 2023-12-31T23:59:59 produced between 2020-07-25T00:00:00 and 2020-08-05T00:00:00\n"
     ]
    }
   ],
   "source": [
    "productList=[]\n",
    "for t in TileList:\n",
    "    print('tile: ' + t)\n",
    "    \n",
    "    productList=productList + findProducts(urn=producttype, \n",
    "                                           ccmin=cloudcovermin, \n",
    "                                           ccmax=cloudcovermax,\n",
    "                                           tID=t,\n",
    "                                           prstart=productionStart.isoformat(),\n",
    "                                           prend = productionEnd.isoformat(),\n",
    "                                           onTerrascope=False)"
   ]
  },
  {
   "cell_type": "code",
   "execution_count": 96,
   "metadata": {},
   "outputs": [
    {
     "name": "stdout",
     "output_type": "stream",
     "text": [
      "https://services.terrascope.be/download/Sentinel2/NDVI_V2/2020/07/31/S2B_20200731T103629_31UES_NDVI_V200/S2B_20200731T103629_31UES_NDVI_10M_V200.tif\n",
      "https://services.terrascope.be/download/Sentinel2/NDVI_V2/2020/07/27/S2B_20200727T105619_31UES_NDVI_V200/S2B_20200727T105619_31UES_NDVI_10M_V200.tif\n",
      "https://services.terrascope.be/download/Sentinel2/NDVI_V2/2020/07/31/S2B_20200731T103629_31UFS_NDVI_V200/S2B_20200731T103629_31UFS_NDVI_10M_V200.tif\n",
      "https://services.terrascope.be/download/Sentinel2/NDVI_V2/2020/07/31/S2B_20200731T103629_31UGS_NDVI_V200/S2B_20200731T103629_31UGS_NDVI_10M_V200.tif\n",
      "https://services.terrascope.be/download/Sentinel2/NDVI_V2/2020/07/29/S2A_20200729T105031_31UGS_NDVI_V200/S2A_20200729T105031_31UGS_NDVI_10M_V200.tif\n"
     ]
    }
   ],
   "source": [
    "fileList=[]\n",
    "\n",
    "for p in productList:\n",
    "    for f in p['files']:\n",
    "        if f['filetype'] == 'data':\n",
    "            fileList.append(f['filepath'])\n",
    "\n",
    "print(*fileList, sep='\\n')    "
   ]
  },
  {
   "cell_type": "markdown",
   "metadata": {},
   "source": [
    "If you work with Anaconda, you can download this notebook and run it locally."
   ]
  }
 ],
 "metadata": {
  "kernelspec": {
   "display_name": "Python 3",
   "language": "python",
   "name": "python3"
  },
  "language_info": {
   "codemirror_mode": {
    "name": "ipython",
    "version": 3
   },
   "file_extension": ".py",
   "mimetype": "text/x-python",
   "name": "python",
   "nbconvert_exporter": "python",
   "pygments_lexer": "ipython3",
   "version": "3.6.8"
  }
 },
 "nbformat": 4,
 "nbformat_minor": 4
}

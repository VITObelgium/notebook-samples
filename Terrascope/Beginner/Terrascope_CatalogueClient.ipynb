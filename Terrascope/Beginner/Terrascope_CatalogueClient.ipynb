{
 "cells": [
  {
   "cell_type": "markdown",
   "id": "a0d9afdb",
   "metadata": {},
   "source": [
    "# Terrascope catalogue client\n",
    "This notebook shows the usage of the Python client for the Terrascope catalogue. API documentation is available [here](https://vitobelgium.github.io/terracatalogueclient/)."
   ]
  },
  {
   "cell_type": "code",
   "execution_count": 1,
   "id": "e69e712a",
   "metadata": {},
   "outputs": [],
   "source": [
    "import datetime as dt\n",
    "import getpass\n",
    "from terracatalogueclient import Catalogue\n",
    "# initialize the catalogueclient\n",
    "catalogue = Catalogue()"
   ]
  },
  {
   "cell_type": "code",
   "execution_count": 2,
   "id": "8983e141",
   "metadata": {},
   "outputs": [
    {
     "name": "stdout",
     "output_type": "stream",
     "text": [
      "urn:eop:VITO:CGS_S1_GRD_L1: SENTINEL-1 Level-1 Ground Range Detected (GRD) products\n",
      "urn:eop:VITO:CGS_S1_GRD_SIGMA0_L1: SENTINEL-1 Level-1 Ground Range Detected (GRD) SIGMA0 products\n",
      "urn:eop:VITO:CGS_S1_SLC_L1: SENTINEL-1 Level-1 Single Look Complex (SLC) products.\n",
      "urn:eop:VITO:CGS_S2_L1C: SENTINEL-2 Level-1C MSI product contains Top-of-atmosphere reflectances in cartographic geometry\n",
      "urn:eop:VITO:COP_DEM_GLO_30M_COG: Copernicus Global 30 meter Digital Elevation Model dataset in COG format  \n",
      "urn:eop:VITO:COP_DEM_GLO_90M_COG: Copernicus Global 90 meter Digital Elevation Model dataset in COG format\n",
      "urn:eop:VITO:TERRASCOPE_S1_SLC_COHERENCE_V1: SENTINEL-1 Level-1 Single Look Complex (SLC) Coherence products.\n",
      "urn:eop:VITO:TERRASCOPE_S2_CCC_V2: SENTINEL-2 Chlorophyll Canopy Content Index (CCC) (tiles) - V2\n",
      "urn:eop:VITO:TERRASCOPE_S2_CWC_V2: SENTINEL-2 Chlorophyll Water Content Index (CWC) (tiles) - V2\n",
      "urn:eop:VITO:TERRASCOPE_S2_FAPAR_V2: SENTINEL-2 Fraction Absorbed Photosynthetically Radiation (FAPAR) (tiles) - V2\n",
      "urn:eop:VITO:TERRASCOPE_S2_FCOVER_V2: SENTINEL-2 Fraction of Vegetation Cover (FCOVER) (tiles) - V2\n",
      "urn:eop:VITO:TERRASCOPE_S2_LAI_V2: SENTINEL-2 Leaf Area index (LAI) (tiles) - V2\n",
      "urn:eop:VITO:TERRASCOPE_S2_NDVI_V2: SENTINEL-2 Normalized Difference Vegetation Index (NDVI) (tiles) - V2\n",
      "urn:eop:VITO:TERRASCOPE_S2_TOC_V2: SENTINEL-2 Top of Canopy (TOC) Products (tiles) - V2\n",
      "urn:eop:VITO:TERRASCOPE_S5P_L3_CO_TD_V1: SENTINEL-5P Level-3 CO Daily Product - V1\n",
      "urn:eop:VITO:TERRASCOPE_S5P_L3_CO_TM_V1: SENTINEL-5P Level-3 CO Monthly Product - V1\n",
      "urn:eop:VITO:TERRASCOPE_S5P_L3_CO_TY_V1: SENTINEL-5P Level-3 CO Yearly Product - V1\n",
      "urn:eop:VITO:TERRASCOPE_S5P_L3_NO2_TD_V1: SENTINEL-5P Level-3 NO2 Daily Product\n",
      "urn:eop:VITO:TERRASCOPE_S5P_L3_NO2_TM_V1: SENTINEL-5P Level-3 NO2 Monthly Product\n",
      "urn:eop:VITO:TERRASCOPE_S5P_L3_NO2_TY_V1: SENTINEL-5P Level-3 NO2 Yearly Product\n",
      "urn:ogc:def:EOP:VITO:PROBAV_S1-TOC_333M_V001: PROBA-V S1 TOC 300 m: Data corrected for atmospheric effects with the SMAC (Simplified Method for Atmosheric Corrections) algorithm\n",
      "urn:ogc:def:EOP:VITO:PROBAV_S10-TOC_333M_V001: PROBA-V S10 TOC 300 m: Data corrected for atmospheric effects with the SMAC (Simplified Method for Atmosheric Corrections) algorithm\n",
      "urn:ogc:def:EOP:VITO:PROBAV_S5-TOC_100M_V001: PROBA-V S5 TOC 100 m: Data corrected for atmospheric effects with the SMAC (Simplified Method for Atmosheric Corrections) algorithm\n"
     ]
    }
   ],
   "source": [
    "# get all collections\n",
    "collections = catalogue.get_collections()\n",
    "for collection in collections:\n",
    "    print(\"{}: {}\".format(collection.id, collection.properties['title']))"
   ]
  },
  {
   "cell_type": "code",
   "execution_count": 3,
   "id": "93e7089d",
   "metadata": {},
   "outputs": [],
   "source": [
    "# let's also print the data access URLs\n",
    "for collection in collections:\n",
    "    print(\"{}: {}\".format(collection.id, collection.properties['title']))\n",
    "\n",
    "# no results? Mind that you can only iterate once over the collection as it's a Python generator!\n",
    "# if you want to be able to iterate over the results more than once, you can convert it to a list\n",
    "# mind that this will load all results in memory, which could be huge depending on the number of results returned!\n",
    "\n",
    "persistent_collections = list(catalogue.get_collections())"
   ]
  },
  {
   "cell_type": "code",
   "execution_count": 4,
   "id": "8745bc1f",
   "metadata": {},
   "outputs": [
    {
     "name": "stdout",
     "output_type": "stream",
     "text": [
      "urn:eop:VITO:CGS_S2_L1C, format jp2, resolution [10, 20, 60] m\n",
      "urn:eop:VITO:TERRASCOPE_S2_CCC_V2, format geotiff, resolution [20] m\n",
      "urn:eop:VITO:TERRASCOPE_S2_CWC_V2, format geotiff, resolution [20] m\n",
      "urn:eop:VITO:TERRASCOPE_S2_FAPAR_V2, format geotiff, resolution [10, 20] m\n",
      "urn:eop:VITO:TERRASCOPE_S2_FCOVER_V2, format geotiff, resolution [10, 20] m\n",
      "urn:eop:VITO:TERRASCOPE_S2_LAI_V2, format geotiff, resolution [10, 20] m\n",
      "urn:eop:VITO:TERRASCOPE_S2_NDVI_V2, format geotiff, resolution [10] m\n",
      "urn:eop:VITO:TERRASCOPE_S2_TOC_V2, format geotiff, resolution [10, 20, 60] m\n"
     ]
    }
   ],
   "source": [
    "# let's filter on collections derived from Sentinel-2 data and show resolution\n",
    "collections = catalogue.get_collections(platform=\"SENTINEL-2\")\n",
    "for collection in collections:\n",
    "    print(\"{}, format {}, resolution {} m\".format(collection.id,\n",
    "                                                  collection.properties[\"productInformation\"][\"format\"],\n",
    "                                                  collection.properties[\"productInformation\"][\"resolution\"]))"
   ]
  },
  {
   "cell_type": "code",
   "execution_count": 5,
   "id": "0614c159",
   "metadata": {},
   "outputs": [
    {
     "name": "stdout",
     "output_type": "stream",
     "text": [
      "urn:eop:VITO:CGS_S1_GRD_L1: 5446\n",
      "urn:eop:VITO:CGS_S1_GRD_SIGMA0_L1: 5408\n",
      "urn:eop:VITO:CGS_S1_SLC_L1: 1607\n",
      "urn:eop:VITO:CGS_S2_L1C: 85035\n",
      "urn:eop:VITO:COP_DEM_GLO_30M_COG: 17\n",
      "urn:eop:VITO:COP_DEM_GLO_90M_COG: 17\n",
      "urn:eop:VITO:TERRASCOPE_S1_SLC_COHERENCE_V1: 1835\n",
      "urn:eop:VITO:TERRASCOPE_S2_CCC_V2: 49162\n",
      "urn:eop:VITO:TERRASCOPE_S2_CWC_V2: 49162\n",
      "urn:eop:VITO:TERRASCOPE_S2_FAPAR_V2: 98320\n",
      "urn:eop:VITO:TERRASCOPE_S2_FCOVER_V2: 98322\n",
      "urn:eop:VITO:TERRASCOPE_S2_LAI_V2: 98324\n",
      "urn:eop:VITO:TERRASCOPE_S2_NDVI_V2: 49162\n",
      "urn:eop:VITO:TERRASCOPE_S2_TOC_V2: 49162\n",
      "urn:eop:VITO:TERRASCOPE_S5P_L3_CO_TD_V1: 366\n",
      "urn:eop:VITO:TERRASCOPE_S5P_L3_CO_TM_V1: 13\n",
      "urn:eop:VITO:TERRASCOPE_S5P_L3_CO_TY_V1: 2\n",
      "urn:eop:VITO:TERRASCOPE_S5P_L3_NO2_TD_V1: 366\n",
      "urn:eop:VITO:TERRASCOPE_S5P_L3_NO2_TM_V1: 13\n",
      "urn:eop:VITO:TERRASCOPE_S5P_L3_NO2_TY_V1: 2\n",
      "urn:ogc:def:EOP:VITO:PROBAV_S1-TOC_333M_V001: 121254\n",
      "urn:ogc:def:EOP:VITO:PROBAV_S10-TOC_333M_V001: 13181\n",
      "urn:ogc:def:EOP:VITO:PROBAV_S5-TOC_100M_V001: 23664\n"
     ]
    }
   ],
   "source": [
    "# next, we want to know the number of products per collection for 2019\n",
    "collections = catalogue.get_collections()\n",
    "for collection in collections:\n",
    "    print(\"{}: {}\".format(collection.id,\n",
    "                          catalogue.get_product_count(collection.id, \n",
    "                                                      start=dt.date(2019, 1, 1), \n",
    "                                                      end=dt.date(2020, 1, 1))))"
   ]
  },
  {
   "cell_type": "code",
   "execution_count": 6,
   "id": "acf3b350",
   "metadata": {},
   "outputs": [
    {
     "name": "stdout",
     "output_type": "stream",
     "text": [
      "S2A_20200507T104031_31UGS_NDVI_10M_V200\n",
      "S2A_20200510T105031_31UGS_NDVI_10M_V200\n",
      "S2A_20200514T103031_31UGS_NDVI_10M_V200\n",
      "S2A_20200517T104031_31UGS_NDVI_10M_V200\n",
      "S2A_20200520T105031_31UGS_NDVI_10M_V200\n",
      "S2A_20200524T103031_31UGS_NDVI_10M_V200\n",
      "S2A_20200527T104031_31UGS_NDVI_10M_V200\n",
      "S2A_20200530T105031_31UGS_NDVI_10M_V200\n",
      "S2B_20200502T103619_31UGS_NDVI_10M_V200\n",
      "S2B_20200505T104619_31UGS_NDVI_10M_V200\n",
      "S2B_20200509T102559_31UGS_NDVI_10M_V200\n",
      "S2B_20200512T103619_31UGS_NDVI_10M_V200\n",
      "S2B_20200515T104619_31UGS_NDVI_10M_V200\n",
      "S2B_20200519T102559_31UGS_NDVI_10M_V200\n",
      "S2B_20200525T104619_31UGS_NDVI_10M_V200\n",
      "S2B_20200529T102559_31UGS_NDVI_10M_V200\n"
     ]
    }
   ],
   "source": [
    "# let's try to access Sentinel 2 NDVI products for May 2019 with tile id 31UGS\n",
    "products = catalogue.get_products(\"urn:eop:VITO:TERRASCOPE_S2_NDVI_V2\", start=dt.date(2020, 5, 1), end=dt.date(2020, 6, 1), tileId=\"31UGS\")\n",
    "for product in products:\n",
    "    print(product.title)"
   ]
  },
  {
   "cell_type": "code",
   "execution_count": 7,
   "id": "506aabb2",
   "metadata": {},
   "outputs": [
    {
     "name": "stdout",
     "output_type": "stream",
     "text": [
      "S2A_20200507T104031_31UGS_NDVI_10M_V200: https://services.terrascope.be/download/Sentinel2/NDVI_V2/2020/05/07/S2A_20200507T104031_31UGS_NDVI_V200/S2A_20200507T104031_31UGS_NDVI_10M_V200.tif\n",
      "S2A_20200510T105031_31UGS_NDVI_10M_V200: https://services.terrascope.be/download/Sentinel2/NDVI_V2/2020/05/10/S2A_20200510T105031_31UGS_NDVI_V200/S2A_20200510T105031_31UGS_NDVI_10M_V200.tif\n",
      "S2A_20200514T103031_31UGS_NDVI_10M_V200: https://services.terrascope.be/download/Sentinel2/NDVI_V2/2020/05/14/S2A_20200514T103031_31UGS_NDVI_V200/S2A_20200514T103031_31UGS_NDVI_10M_V200.tif\n",
      "S2A_20200517T104031_31UGS_NDVI_10M_V200: https://services.terrascope.be/download/Sentinel2/NDVI_V2/2020/05/17/S2A_20200517T104031_31UGS_NDVI_V200/S2A_20200517T104031_31UGS_NDVI_10M_V200.tif\n",
      "S2A_20200520T105031_31UGS_NDVI_10M_V200: https://services.terrascope.be/download/Sentinel2/NDVI_V2/2020/05/20/S2A_20200520T105031_31UGS_NDVI_V200/S2A_20200520T105031_31UGS_NDVI_10M_V200.tif\n",
      "S2A_20200524T103031_31UGS_NDVI_10M_V200: https://services.terrascope.be/download/Sentinel2/NDVI_V2/2020/05/24/S2A_20200524T103031_31UGS_NDVI_V200/S2A_20200524T103031_31UGS_NDVI_10M_V200.tif\n",
      "S2A_20200527T104031_31UGS_NDVI_10M_V200: https://services.terrascope.be/download/Sentinel2/NDVI_V2/2020/05/27/S2A_20200527T104031_31UGS_NDVI_V200/S2A_20200527T104031_31UGS_NDVI_10M_V200.tif\n",
      "S2A_20200530T105031_31UGS_NDVI_10M_V200: https://services.terrascope.be/download/Sentinel2/NDVI_V2/2020/05/30/S2A_20200530T105031_31UGS_NDVI_V200/S2A_20200530T105031_31UGS_NDVI_10M_V200.tif\n",
      "S2B_20200502T103619_31UGS_NDVI_10M_V200: https://services.terrascope.be/download/Sentinel2/NDVI_V2/2020/05/02/S2B_20200502T103619_31UGS_NDVI_V200/S2B_20200502T103619_31UGS_NDVI_10M_V200.tif\n",
      "S2B_20200505T104619_31UGS_NDVI_10M_V200: https://services.terrascope.be/download/Sentinel2/NDVI_V2/2020/05/05/S2B_20200505T104619_31UGS_NDVI_V200/S2B_20200505T104619_31UGS_NDVI_10M_V200.tif\n",
      "S2B_20200509T102559_31UGS_NDVI_10M_V200: https://services.terrascope.be/download/Sentinel2/NDVI_V2/2020/05/09/S2B_20200509T102559_31UGS_NDVI_V200/S2B_20200509T102559_31UGS_NDVI_10M_V200.tif\n",
      "S2B_20200512T103619_31UGS_NDVI_10M_V200: https://services.terrascope.be/download/Sentinel2/NDVI_V2/2020/05/12/S2B_20200512T103619_31UGS_NDVI_V200/S2B_20200512T103619_31UGS_NDVI_10M_V200.tif\n",
      "S2B_20200515T104619_31UGS_NDVI_10M_V200: https://services.terrascope.be/download/Sentinel2/NDVI_V2/2020/05/15/S2B_20200515T104619_31UGS_NDVI_V200/S2B_20200515T104619_31UGS_NDVI_10M_V200.tif\n",
      "S2B_20200519T102559_31UGS_NDVI_10M_V200: https://services.terrascope.be/download/Sentinel2/NDVI_V2/2020/05/19/S2B_20200519T102559_31UGS_NDVI_V200/S2B_20200519T102559_31UGS_NDVI_10M_V200.tif\n",
      "S2B_20200525T104619_31UGS_NDVI_10M_V200: https://services.terrascope.be/download/Sentinel2/NDVI_V2/2020/05/25/S2B_20200525T104619_31UGS_NDVI_V200/S2B_20200525T104619_31UGS_NDVI_10M_V200.tif\n",
      "S2B_20200529T102559_31UGS_NDVI_10M_V200: https://services.terrascope.be/download/Sentinel2/NDVI_V2/2020/05/29/S2B_20200529T102559_31UGS_NDVI_V200/S2B_20200529T102559_31UGS_NDVI_10M_V200.tif\n"
     ]
    }
   ],
   "source": [
    "products = catalogue.get_products(\"urn:eop:VITO:TERRASCOPE_S2_NDVI_V2\", start=dt.date(2020, 5, 1), end=dt.date(2020, 6, 1), tileId=\"31UGS\")\n",
    "for product in products:\n",
    "    print(\"{}: {}\".format(product.title, product.data[0].href))\n"
   ]
  },
  {
   "cell_type": "code",
   "execution_count": 8,
   "id": "1f1d9b4b",
   "metadata": {},
   "outputs": [
    {
     "name": "stdout",
     "output_type": "stream",
     "text": [
      "S2A_20200507T104031_31UGS_NDVI_10M_V200: file:///data/MTDA/TERRASCOPE_Sentinel2/NDVI_V2/2020/05/07/S2A_20200507T104031_31UGS_NDVI_V200/S2A_20200507T104031_31UGS_NDVI_10M_V200.tif\n",
      "S2A_20200510T105031_31UGS_NDVI_10M_V200: file:///data/MTDA/TERRASCOPE_Sentinel2/NDVI_V2/2020/05/10/S2A_20200510T105031_31UGS_NDVI_V200/S2A_20200510T105031_31UGS_NDVI_10M_V200.tif\n",
      "S2A_20200514T103031_31UGS_NDVI_10M_V200: file:///data/MTDA/TERRASCOPE_Sentinel2/NDVI_V2/2020/05/14/S2A_20200514T103031_31UGS_NDVI_V200/S2A_20200514T103031_31UGS_NDVI_10M_V200.tif\n",
      "S2A_20200517T104031_31UGS_NDVI_10M_V200: file:///data/MTDA/TERRASCOPE_Sentinel2/NDVI_V2/2020/05/17/S2A_20200517T104031_31UGS_NDVI_V200/S2A_20200517T104031_31UGS_NDVI_10M_V200.tif\n",
      "S2A_20200520T105031_31UGS_NDVI_10M_V200: file:///data/MTDA/TERRASCOPE_Sentinel2/NDVI_V2/2020/05/20/S2A_20200520T105031_31UGS_NDVI_V200/S2A_20200520T105031_31UGS_NDVI_10M_V200.tif\n",
      "S2A_20200524T103031_31UGS_NDVI_10M_V200: file:///data/MTDA/TERRASCOPE_Sentinel2/NDVI_V2/2020/05/24/S2A_20200524T103031_31UGS_NDVI_V200/S2A_20200524T103031_31UGS_NDVI_10M_V200.tif\n",
      "S2A_20200527T104031_31UGS_NDVI_10M_V200: file:///data/MTDA/TERRASCOPE_Sentinel2/NDVI_V2/2020/05/27/S2A_20200527T104031_31UGS_NDVI_V200/S2A_20200527T104031_31UGS_NDVI_10M_V200.tif\n",
      "S2A_20200530T105031_31UGS_NDVI_10M_V200: file:///data/MTDA/TERRASCOPE_Sentinel2/NDVI_V2/2020/05/30/S2A_20200530T105031_31UGS_NDVI_V200/S2A_20200530T105031_31UGS_NDVI_10M_V200.tif\n",
      "S2B_20200502T103619_31UGS_NDVI_10M_V200: file:///data/MTDA/TERRASCOPE_Sentinel2/NDVI_V2/2020/05/02/S2B_20200502T103619_31UGS_NDVI_V200/S2B_20200502T103619_31UGS_NDVI_10M_V200.tif\n",
      "S2B_20200505T104619_31UGS_NDVI_10M_V200: file:///data/MTDA/TERRASCOPE_Sentinel2/NDVI_V2/2020/05/05/S2B_20200505T104619_31UGS_NDVI_V200/S2B_20200505T104619_31UGS_NDVI_10M_V200.tif\n",
      "S2B_20200509T102559_31UGS_NDVI_10M_V200: file:///data/MTDA/TERRASCOPE_Sentinel2/NDVI_V2/2020/05/09/S2B_20200509T102559_31UGS_NDVI_V200/S2B_20200509T102559_31UGS_NDVI_10M_V200.tif\n",
      "S2B_20200512T103619_31UGS_NDVI_10M_V200: file:///data/MTDA/TERRASCOPE_Sentinel2/NDVI_V2/2020/05/12/S2B_20200512T103619_31UGS_NDVI_V200/S2B_20200512T103619_31UGS_NDVI_10M_V200.tif\n",
      "S2B_20200515T104619_31UGS_NDVI_10M_V200: file:///data/MTDA/TERRASCOPE_Sentinel2/NDVI_V2/2020/05/15/S2B_20200515T104619_31UGS_NDVI_V200/S2B_20200515T104619_31UGS_NDVI_10M_V200.tif\n",
      "S2B_20200519T102559_31UGS_NDVI_10M_V200: file:///data/MTDA/TERRASCOPE_Sentinel2/NDVI_V2/2020/05/19/S2B_20200519T102559_31UGS_NDVI_V200/S2B_20200519T102559_31UGS_NDVI_10M_V200.tif\n",
      "S2B_20200525T104619_31UGS_NDVI_10M_V200: file:///data/MTDA/TERRASCOPE_Sentinel2/NDVI_V2/2020/05/25/S2B_20200525T104619_31UGS_NDVI_V200/S2B_20200525T104619_31UGS_NDVI_10M_V200.tif\n",
      "S2B_20200529T102559_31UGS_NDVI_10M_V200: file:///data/MTDA/TERRASCOPE_Sentinel2/NDVI_V2/2020/05/29/S2B_20200529T102559_31UGS_NDVI_V200/S2B_20200529T102559_31UGS_NDVI_10M_V200.tif\n"
     ]
    }
   ],
   "source": [
    "# if you're on the Terrascope platform, you probably prefer the direct attachted storage locations iso the https download URLs\n",
    "products = catalogue.get_products(\"urn:eop:VITO:TERRASCOPE_S2_NDVI_V2\",\n",
    "                                  start=dt.date(2020, 5, 1), end=dt.date(2020, 6, 1),\n",
    "                                  tileId=\"31UGS\",\n",
    "                                  accessedFrom=\"MEP\")\n",
    "for product in products:\n",
    "    print(\"{}: {}\".format(product.title, product.data[0].href))"
   ]
  },
  {
   "cell_type": "code",
   "execution_count": 9,
   "id": "92ae1483",
   "metadata": {},
   "outputs": [
    {
     "name": "stdout",
     "output_type": "stream",
     "text": [
      "S2A_20200507T104031_31UGS_NDVI_10M_V200: 0.353 % clouds\n",
      "S2A_20200514T103031_31UGS_NDVI_10M_V200: 7.811 % clouds\n",
      "S2A_20200527T104031_31UGS_NDVI_10M_V200: 5.068 % clouds\n",
      "S2A_20200530T105031_31UGS_NDVI_10M_V200: 1.411 % clouds\n",
      "S2B_20200505T104619_31UGS_NDVI_10M_V200: 0.039 % clouds\n",
      "S2B_20200515T104619_31UGS_NDVI_10M_V200: 0.086 % clouds\n",
      "S2B_20200519T102559_31UGS_NDVI_10M_V200: 6.967 % clouds\n",
      "S2B_20200529T102559_31UGS_NDVI_10M_V200: 3.094 % clouds\n"
     ]
    }
   ],
   "source": [
    "# suppose you only want products with cloud cover <= 10%\n",
    "products = catalogue.get_products(\"urn:eop:VITO:TERRASCOPE_S2_NDVI_V2\",\n",
    "                                  start=dt.date(2020, 5, 1), end=dt.date(2020, 6, 1),\n",
    "                                  tileId=\"31UGS\",\n",
    "                                  cloudCover=10)\n",
    "for product in products:\n",
    "    print(\"{}: {} % clouds\".format(product.title, product.properties[\"productInformation\"][\"cloudCover\"]))"
   ]
  },
  {
   "cell_type": "code",
   "execution_count": 10,
   "id": "b660d5c0",
   "metadata": {},
   "outputs": [
    {
     "name": "stdout",
     "output_type": "stream",
     "text": [
      "S2A_20200510T105031_31UGS_NDVI_10M_V200: 15.641 % clouds\n",
      "S2A_20200517T104031_31UGS_NDVI_10M_V200: 13.961 % clouds\n",
      "S2A_20200520T105031_31UGS_NDVI_10M_V200: 13.019 % clouds\n",
      "S2B_20200525T104619_31UGS_NDVI_10M_V200: 16.027 % clouds\n"
     ]
    }
   ],
   "source": [
    "# you can also specify a range for the cloud cover\n",
    "products = catalogue.get_products(\"urn:eop:VITO:TERRASCOPE_S2_NDVI_V2\",\n",
    "                                  start=dt.date(2020, 5, 1), end=dt.date(2020, 6, 1),\n",
    "                                  tileId=\"31UGS\",\n",
    "                                  cloudCover=\"[10,20[\")\n",
    "for product in products:\n",
    "    print(\"{}: {} % clouds\".format(product.title, product.properties[\"productInformation\"][\"cloudCover\"]))"
   ]
  },
  {
   "cell_type": "code",
   "execution_count": 11,
   "id": "cc296045",
   "metadata": {},
   "outputs": [
    {
     "name": "stdout",
     "output_type": "stream",
     "text": [
      "S2A_20200520T105031_31UFS_NDVI_10M_V200: 15.746 % clouds\n",
      "S2A_20200527T104031_31UFS_NDVI_10M_V200: 19.082 % clouds\n",
      "S2B_20200505T104619_31UFT_NDVI_10M_V200: 12.07 % clouds\n"
     ]
    }
   ],
   "source": [
    "# instead of a tile id, you can also use a bbox to query the catalogue\n",
    "products = catalogue.get_products(\"urn:eop:VITO:TERRASCOPE_S2_NDVI_V2\",\n",
    "                                  start=dt.date(2020, 5, 1), end=dt.date(2020, 6, 1),\n",
    "                                  bbox=\"4.96,51.28,5.06,51.36\",\n",
    "                                  cloudCover=\"[10,20[\")\n",
    "for product in products:\n",
    "    print(\"{}: {} % clouds\".format(product.title, product.properties[\"productInformation\"][\"cloudCover\"]))"
   ]
  },
  {
   "cell_type": "code",
   "execution_count": 12,
   "id": "c24a7a38",
   "metadata": {},
   "outputs": [
    {
     "name": "stdout",
     "output_type": "stream",
     "text": [
      "S2A_20200520T105031_31UFS_NDVI_10M_V200: 15.746 % clouds\n",
      "S2A_20200527T104031_31UFS_NDVI_10M_V200: 19.082 % clouds\n",
      "S2B_20200505T104619_31UFT_NDVI_10M_V200: 12.07 % clouds\n"
     ]
    }
   ],
   "source": [
    "# specifying a bbox can be done in different formats\n",
    "products = catalogue.get_products(\"urn:eop:VITO:TERRASCOPE_S2_NDVI_V2\",\n",
    "                                  start=dt.date(2020, 5, 1), end=dt.date(2020, 6, 1),\n",
    "                                  bbox=[4.96,51.28,5.06,51.36],\n",
    "                                  cloudCover=\"[10,20[\")\n",
    "for product in products:\n",
    "    print(\"{}: {} % clouds\".format(product.title, product.properties[\"productInformation\"][\"cloudCover\"]))"
   ]
  },
  {
   "cell_type": "code",
   "execution_count": 13,
   "id": "09dc1402",
   "metadata": {},
   "outputs": [
    {
     "name": "stdout",
     "output_type": "stream",
     "text": [
      "S2A_20200520T105031_31UFS_NDVI_10M_V200: 15.746 % clouds\n",
      "S2A_20200527T104031_31UFS_NDVI_10M_V200: 19.082 % clouds\n"
     ]
    }
   ],
   "source": [
    "# same is true for the geometry parameter, you can use a class derived from BaseGeometry\n",
    "from shapely.geometry import Polygon\n",
    "polygon = Polygon([(4.968738555908202,51.32052823738613),\n",
    "                   (4.975605010986327,51.31966997328442),\n",
    "                   (4.980411529541015,51.3179533969039),\n",
    "                   (4.979209899902343,51.31548570581677),\n",
    "                   (4.978694915771484,51.313876270549315),\n",
    "                   (4.979209899902343,51.31215947736587),\n",
    "                   (4.970283508300781,51.31548570581677),\n",
    "                   (4.968738555908202,51.32052823738613)])\n",
    "products = catalogue.get_products(\"urn:eop:VITO:TERRASCOPE_S2_NDVI_V2\",\n",
    "                                  start=dt.date(2020, 5, 1), end=dt.date(2020, 6, 1),\n",
    "                                  geometry=polygon,\n",
    "                                  cloudCover=\"[10,20[\")\n",
    "for product in products:\n",
    "    print(\"{}: {} % clouds\".format(product.title, product.properties[\"productInformation\"][\"cloudCover\"]))"
   ]
  },
  {
   "cell_type": "code",
   "execution_count": 14,
   "id": "88c57662",
   "metadata": {},
   "outputs": [
    {
     "name": "stdout",
     "output_type": "stream",
     "text": [
      "S2A_20200520T105031_31UFS_NDVI_10M_V200: 15.746 % clouds\n",
      "S2A_20200527T104031_31UFS_NDVI_10M_V200: 19.082 % clouds\n"
     ]
    }
   ],
   "source": [
    "# or you can specify it as WKT string:\n",
    "from shapely.geometry import Polygon\n",
    "polygon = \"POLYGON ((4.968738555908202 51.32052823738613, 4.975605010986327 51.31966997328442, 4.980411529541015 51.3179533969039, 4.979209899902343 51.31548570581677, 4.978694915771484 51.31387627054931, 4.979209899902343 51.31215947736587, 4.970283508300781 51.31548570581677, 4.968738555908202 51.32052823738613))\"\n",
    "products = catalogue.get_products(\"urn:eop:VITO:TERRASCOPE_S2_NDVI_V2\",\n",
    "                                  start=dt.date(2020, 5, 1), end=dt.date(2020, 6, 1),\n",
    "                                  geometry=polygon,\n",
    "                                  cloudCover=\"[10,20[\")\n",
    "for product in products:\n",
    "    print(\"{}: {} % clouds\".format(product.title, product.properties[\"productInformation\"][\"cloudCover\"]))"
   ]
  },
  {
   "cell_type": "code",
   "execution_count": 15,
   "id": "6af19802",
   "metadata": {},
   "outputs": [
    {
     "name": "stdout",
     "output_type": "stream",
     "text": [
      "S2A_20200507T104031_31UFR_NDVI_10M_V200: 0.034 % clouds\n",
      "S2A_20200507T104031_31UFS_NDVI_10M_V200: 0.117 % clouds\n",
      "S2A_20200510T105031_31UFR_NDVI_10M_V200: 77.275 % clouds\n",
      "S2A_20200517T104031_31UFR_NDVI_10M_V200: 1.61 % clouds\n",
      "S2A_20200517T104031_31UFS_NDVI_10M_V200: 26.643 % clouds\n",
      "S2A_20200520T105031_31UFR_NDVI_10M_V200: 0.123 % clouds\n",
      "S2A_20200520T105031_31UFS_NDVI_10M_V200: 15.746 % clouds\n",
      "S2A_20200527T104031_31UFR_NDVI_10M_V200: 0.355 % clouds\n",
      "S2A_20200527T104031_31UFS_NDVI_10M_V200: 19.082 % clouds\n",
      "S2A_20200530T105031_31UFR_NDVI_10M_V200: 0.666 % clouds\n",
      "S2A_20200530T105031_31UFS_NDVI_10M_V200: 2.79 % clouds\n",
      "S2B_20200502T103619_31UFR_NDVI_10M_V200: 76.472 % clouds\n",
      "S2B_20200502T103619_31UFS_NDVI_10M_V200: 66.475 % clouds\n",
      "S2B_20200505T104619_31UFR_NDVI_10M_V200: 37.475 % clouds\n",
      "S2B_20200505T104619_31UFS_NDVI_10M_V200: 0.311 % clouds\n",
      "S2B_20200512T103619_31UFR_NDVI_10M_V200: 12.564 % clouds\n",
      "S2B_20200512T103619_31UFS_NDVI_10M_V200: 71.303 % clouds\n",
      "S2B_20200515T104619_31UFR_NDVI_10M_V200: 0.045 % clouds\n",
      "S2B_20200515T104619_31UFS_NDVI_10M_V200: 0.234 % clouds\n",
      "S2B_20200525T104619_31UFR_NDVI_10M_V200: 48.322 % clouds\n",
      "S2B_20200525T104619_31UFS_NDVI_10M_V200: 61.746 % clouds\n"
     ]
    }
   ],
   "source": [
    "# from the API docs, you can see supported arguments; we also support kwargs for less frequently used parameters (lat, lon and radius)\n",
    "products = catalogue.get_products(collection='urn:eop:VITO:TERRASCOPE_S2_NDVI_V2', \n",
    "                                  start=dt.date(2020, 5, 1), end=dt.date(2020, 6, 1),\n",
    "                                  lat=50.5, lon=5, radius=100)\n",
    "for product in products:\n",
    "    print(\"{}: {} % clouds\".format(product.title, product.properties[\"productInformation\"][\"cloudCover\"]))"
   ]
  },
  {
   "cell_type": "code",
   "execution_count": 16,
   "id": "d902d123",
   "metadata": {},
   "outputs": [
    {
     "data": {
      "application/vnd.jupyter.widget-view+json": {
       "model_id": "0d5967d4ecd143f3a93b0d6fab2fe7ed",
       "version_major": 2,
       "version_minor": 0
      },
      "text/plain": [
       "HBox(children=(VBox(children=(Password(description='Password:', placeholder='Enter password'),)), VBox(childre…"
      ]
     },
     "metadata": {},
     "output_type": "display_data"
    }
   ],
   "source": [
    "import ipywidgets as widgets\n",
    "\n",
    "valid_output = widgets.Valid(value=False)\n",
    "\n",
    "def on_submit_func(button):\n",
    "    button.disabled=True\n",
    "    valid_output.value=True\n",
    "\n",
    "pwd_input = widgets.Password(value='password',\n",
    "                             placeholder='Enter password',\n",
    "                             description='Password:',\n",
    "                             disabled=False)\n",
    "\n",
    "pwd_input.on_submit(on_submit_func)\n",
    "\n",
    "left_box = widgets.VBox([pwd_input])\n",
    "right_box = widgets.VBox([valid_output])\n",
    "widgets.HBox([left_box, right_box])"
   ]
  },
  {
   "cell_type": "code",
   "execution_count": 17,
   "id": "88e9b9a6",
   "metadata": {},
   "outputs": [],
   "source": [
    "# let's download one of the files to show you how files can be downloaded when not working on the Terrascope platform\n",
    "products = catalogue.get_products(\"urn:eop:VITO:TERRASCOPE_S2_NDVI_V2\",\n",
    "                                  start=dt.date(2020, 5, 1), end=dt.date(2020, 6, 1),\n",
    "                                  title=\"S2A_20200520T105031_31UGS_NDVI_10M_V200\")\n",
    "catalogue.authenticate_non_interactive(username=getpass.getuser(), password=pwd_input.value)\n",
    "for product in products:\n",
    "    catalogue.download_file(product.data[0], '/tmp')"
   ]
  },
  {
   "cell_type": "code",
   "execution_count": 18,
   "id": "9c00f897",
   "metadata": {},
   "outputs": [
    {
     "data": {
      "image/png": "[encoded data removed]",
      "text/plain": [
       "<Figure size 432x288 with 1 Axes>"
      ]
     },
     "metadata": {
      "needs_background": "light"
     },
     "output_type": "display_data"
    },
    {
     "data": {
      "text/plain": [
       "<matplotlib.axes._subplots.AxesSubplot at 0x7f8decdce1d0>"
      ]
     },
     "execution_count": 18,
     "metadata": {},
     "output_type": "execute_result"
    }
   ],
   "source": [
    "# verify that the file was downloaded\n",
    "\n",
    "import rasterio\n",
    "from rasterio.plot import show\n",
    "fp = r'/tmp/S2A_20200520T105031_31UGS_NDVI_10M_V200.tif'\n",
    "img = rasterio.open(fp)\n",
    "show(img)\n"
   ]
  },
  {
   "cell_type": "code",
   "execution_count": null,
   "id": "1cedb516",
   "metadata": {},
   "outputs": [],
   "source": []
  },
  {
   "cell_type": "code",
   "execution_count": null,
   "id": "58e3eaae",
   "metadata": {},
   "outputs": [],
   "source": []
  }
 ],
 "metadata": {
  "kernelspec": {
   "display_name": "Python 3",
   "language": "python",
   "name": "python3"
  },
  "language_info": {
   "codemirror_mode": {
    "name": "ipython",
    "version": 3
   },
   "file_extension": ".py",
   "mimetype": "text/x-python",
   "name": "python",
   "nbconvert_exporter": "python",
   "pygments_lexer": "ipython3",
   "version": "3.6.8"
  }
 },
 "nbformat": 4,
 "nbformat_minor": 5
}

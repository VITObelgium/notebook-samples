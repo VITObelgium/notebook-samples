{
 "cells": [
  {
   "cell_type": "markdown",
   "metadata": {},
   "source": [
    "This notebook shows the MEP quickstart sample, which also exists as a non-notebook version at:\n",
    "https://bitbucket.org/vitotap/python-spark-quickstart\n",
    "\n",
    "It shows how to use Spark (http://spark.apache.org/) for distributed processing on the PROBA-V Mission Exploitation Platform. (https://proba-v-mep.esa.int/) The sample intentionally implements a very simple computation: for each PROBA-V tile in a given bounding box and time range, a histogram is computed. The results are then summed and printed. Computation of the histograms runs in parallel."
   ]
  },
  {
   "cell_type": "code",
   "execution_count": 1,
   "metadata": {
    "collapsed": false,
    "deletable": true,
    "editable": true
   },
   "outputs": [
    {
     "name": "stdout",
     "output_type": "stream",
     "text": [
      "/data/MTDA/TIFFDERIVED/PROBAV_L3_S1_TOC_333M/2016/20160101/PROBAV_S1_TOC_20160101_333M_V101/PROBAV_S1_TOC_X18Y02_20160101_333M_V101_NDVI.tif: TIFF image data, little-endian\r\n"
     ]
    }
   ],
   "source": [
    "# List of files for which a histogram needs to be calculated. Each file should be a single-band file\n",
    "# supported by GDAL.\n",
    "base = \"/data/MTDA/TIFFDERIVED/PROBAV_L3_S1_TOC_333M/2016/20160101/PROBAV_S1_TOC_20160101_333M_V101/\"\n",
    "files = [\n",
    "    base + \"PROBAV_S1_TOC_X18Y02_20160101_333M_V101_NDVI.tif\"\n",
    "]\n",
    "#check if file exists\n",
    "!file /data/MTDA/TIFFDERIVED/PROBAV_L3_S1_TOC_333M/2016/20160101/PROBAV_S1_TOC_20160101_333M_V101/PROBAV_S1_TOC_X18Y02_20160101_333M_V101_NDVI.tif\n"
   ]
  },
  {
   "cell_type": "raw",
   "metadata": {
    "deletable": true,
    "editable": true
   },
   "source": []
  },
  {
   "cell_type": "code",
   "execution_count": 2,
   "metadata": {
    "collapsed": false,
    "deletable": true,
    "editable": true
   },
   "outputs": [],
   "source": [
    "# Calculates the histogram for a given (single band) image file.\n",
    "def histogram(image_file):\n",
    "    \n",
    "    import numpy as np\n",
    "    import gdal\n",
    "    \n",
    "    \n",
    "    # Open image file\n",
    "    img = gdal.Open(image_file)\n",
    "    \n",
    "    if img is None:\n",
    "        print '-ERROR- Unable to open image file \"%s\"' % image_file\n",
    "    \n",
    "    # Open raster band (first band)\n",
    "    raster = img.GetRasterBand(1)    \n",
    "    xSize = img.RasterXSize\n",
    "    ySize = img.RasterYSize\n",
    "    \n",
    "    # Read raster data\n",
    "    data = raster.ReadAsArray(0, 0, xSize, ySize)\n",
    "        \n",
    "    # Calculate histogram\n",
    "    hist, _ = np.histogram(data, bins=256)\n",
    "    return hist\n"
   ]
  },
  {
   "cell_type": "code",
   "execution_count": 3,
   "metadata": {
    "collapsed": false,
    "deletable": true,
    "editable": true
   },
   "outputs": [],
   "source": [
    "# ================================================================\n",
    "# === Calculate the histogram for a given number of files. The ===\n",
    "# === processing is performed by spreading them over a cluster ===\n",
    "# === of Spark nodes.                                          ===\n",
    "# ================================================================\n",
    "\n",
    "from datetime import datetime\n",
    "from operator import add\n",
    "import pyspark\n",
    "\n",
    "# Setup the Spark cluster\n",
    "conf = pyspark.SparkConf()\n",
    "conf.set('spark.yarn.executor.memoryOverhead', 1024)\n",
    "conf.set('spark.executor.memory', '8g')\n",
    "conf.set('spark.executor.cores', '2')\n",
    "conf.set('spark.executor.instances', 10)\n",
    "sc = pyspark.SparkContext(conf=conf)"
   ]
  },
  {
   "cell_type": "code",
   "execution_count": 4,
   "metadata": {
    "collapsed": false,
    "deletable": true,
    "editable": true
   },
   "outputs": [
    {
     "name": "stdout",
     "output_type": "stream",
     "text": [
      "Sum of 1 histograms: [408984  30269  32025  34376  36155  37423  38609  41546  42960  45630\n",
      "  47651  50622  51609  53812  56539  61465  67533  78156  91818 115013\n",
      " 150011 195501 272860 443835 477491 374683 354246 355732 299753 255058\n",
      " 216026 194968 180004 166236 159434 156889 153027 145268 135398 126976\n",
      " 120927 114560 108331 102574  98048  93372  89243  85580  81764  77958\n",
      "  74907  71233  68395  65158  62921  59645  57352  55044  52580  50710\n",
      "  48622  47208  45937  45037  43640  42467  41242  40517  39134  39044\n",
      "  37808  37000  36221  35918  34833  34014  33538  33134  32151  32184\n",
      "  31528  31282  30121  30743  30038  29353  29312  28890  28222  28180\n",
      "  28314  28091  27415  27719  27565  27138  27257  27042  27097  26892\n",
      "  26847  27260  27145  27034  26889  27431  27224  27326  27140  27566\n",
      "  27578  27578  27806  27824  27676  28040  28206  28308  27982  28565\n",
      "  28070  28042  28323  28304  28359  28178  28179  27956  27896  28012\n",
      "  28079  27695  27727  27328  27326  26929  26992  26813  26571  26395\n",
      "  26201  25907  25663  25678  24771  24727  24520  24378  23904  23750\n",
      "  23303  23023  22332  22380  21990  21782  21235  20500  20587  20108\n",
      "  19776  19266  18935  18615  18244  17970  17448  17155  16736  16447\n",
      "  15811  15572  15021  14951  14530  14209  13774  13262  12948  12337\n",
      "  12118  11599  11247  10707  10469   9816   9383   8972   8797   8350\n",
      "   7960   7580   7179   6952   6607   6033   5701   5365   4989   4570\n",
      "   4261   4089   3790   3469   3113   2831   2650   2276   2317   2013\n",
      "   1798   1558   1479   1395   1143   1069    903    843    755    720\n",
      "    598    587    485    419    359    370    333    281    301    236\n",
      "    219    208    192    174    151    158    151    152    168    112\n",
      "    118    111    126    105     92     81     95     81     72     70\n",
      "   3438      0      0      0      0    605]\n"
     ]
    }
   ],
   "source": [
    "# Distribute the local file list over the cluster.\n",
    "filesRDD = sc.parallelize(files)\n",
    "\n",
    "# Apply the 'histogram' function to each filename using 'map', keep the result in memory using 'cache'.\n",
    "hists = filesRDD.map(histogram).cache()\n",
    "\n",
    "count = hists.count()\n",
    "\n",
    "# Combine distributed histograms into a single result\n",
    "total = hists.reduce(lambda h, i: map(add, h, i))\n",
    "\n",
    "print \"Sum of %i histograms: %s\" % (count, total)"
   ]
  }
 ],
 "metadata": {
  "kernelspec": {
   "display_name": "Python 2",
   "language": "python",
   "name": "python2"
  },
  "language_info": {
   "codemirror_mode": {
    "name": "ipython",
    "version": 2
   },
   "file_extension": ".py",
   "mimetype": "text/x-python",
   "name": "python",
   "nbconvert_exporter": "python",
   "pygments_lexer": "ipython2",
   "version": "2.7.5"
  }
 },
 "nbformat": 4,
 "nbformat_minor": 2
}

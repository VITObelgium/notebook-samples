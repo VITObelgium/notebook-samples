{
 "cells": [
  {
   "cell_type": "markdown",
   "metadata": {
    "deletable": true,
    "editable": true
   },
   "source": [
    "# Snow Detection Using Spark\n",
    "\n",
    "## Introduction\n",
    "\n",
    "In this Jupyter notebook, we will build an SVM classifier for Snow/Ice detection using Spark for the Proba-V 100m Top Of Atmosphere (TOA) Radiometry data.\n",
    "\n",
    "## Data\n",
    "\n",
    "### Radiometry Data\n",
    "\n",
    "The Radiometry file is contained in a GeoTIFF file format. The file contains 4 raster bands:\n",
    "1. RED\n",
    "1. NIR\n",
    "1. BLUE\n",
    "1. SWIR\n",
    "\n",
    "Each raster band is a pixel grid $Y*X$ where each value of the grid represents the TOA Reflectance value for that band for that pixel.\n",
    "\n",
    "### Status Map\n",
    "There is also a status map file containing a single band. For each pixel in that band, the value represents the class of that pixel.\n",
    "\n",
    "In our case, the flag we are interested in is coded in binary as $100$, representing that the corresponding pixel in the Radiometry file is Snow or Ice, as documented in the Proba-V User Manual."
   ]
  },
  {
   "cell_type": "markdown",
   "metadata": {
    "deletable": true,
    "editable": true
   },
   "source": [
    "## Reading the files\n",
    "\n",
    "\n",
    "### Imports\n",
    "\n",
    "We will be using the following libraries / frameworks:\n",
    "1. *numpy*: for numerical processing\n",
    "1. *gdal*: for reading GeoTIFF files\n",
    "1. *seaborn*: for plotting\n",
    "1. *pandas*: for handling small DataFrames\n",
    "1. *spark*"
   ]
  },
  {
   "cell_type": "code",
   "execution_count": 1,
   "metadata": {
    "collapsed": false,
    "deletable": true,
    "editable": true
   },
   "outputs": [],
   "source": [
    "import numpy as np\n",
    "import requests\n",
    "import gdal\n",
    "\n",
    "import matplotlib\n",
    "import matplotlib.pyplot as plt\n",
    "import pandas as pd\n",
    "import seaborn as sns\n",
    "%matplotlib inline\n",
    "\n",
    "import pyspark"
   ]
  },
  {
   "cell_type": "markdown",
   "metadata": {
    "deletable": true,
    "editable": true
   },
   "source": [
    "### Setting up the Spark Context\n",
    "\n",
    "In order to be able to access our Spark cluster, we first need to set up our Spark Context.\n",
    "The below snippet shows how to do this and also shows how to modify the default configuration."
   ]
  },
  {
   "cell_type": "code",
   "execution_count": 2,
   "metadata": {
    "collapsed": false,
    "deletable": true,
    "editable": true
   },
   "outputs": [],
   "source": [
    "from pyspark.conf import SparkConf\n",
    "conf = SparkConf()\n",
    "conf.set('spark.yarn.executor.memoryOverhead', 1024)\n",
    "conf.set('spark.executor.memory', '8g')\n",
    "conf.set('spark.executor.cores', '2')\n",
    "conf.set('spark.executor.instances',10)\n",
    "sc = pyspark.SparkContext(conf=conf)\n",
    "sqlContext = pyspark.SQLContext(sc)"
   ]
  },
  {
   "cell_type": "markdown",
   "metadata": {
    "deletable": true,
    "editable": true
   },
   "source": [
    "The files are stored in a shared folder as defined below. \n",
    "The complete list of files can be requested using an API, but in our case we will be focusing on an area of the Alps, where there is plenty of Snow/Ice areas.\n",
    "\n",
    "The Radiometry files end with *_RADIOMETRY.tif* whereas the status map ends with *_SM.tif*."
   ]
  },
  {
   "cell_type": "code",
   "execution_count": 6,
   "metadata": {
    "collapsed": true,
    "deletable": true,
    "editable": true
   },
   "outputs": [],
   "source": [
    "files = [\n",
    "    \"/data/MTDA/TIFFDERIVED/PROBAV_L3_S5_TOA_100M/2015/20151121/PROBAV_S5_TOA_20151121_100M_V101/PROBAV_S5_TOA_X18Y02_20151121_100M_V101.tif\"\n",
    "]\n",
    "\n",
    "bands = [\n",
    "    \"RED\",\n",
    "    \"NIR\",\n",
    "    \"BLUE\",\n",
    "    \"SWIR\"\n",
    "]\n",
    "\n",
    "def radiometry_file(filename):\n",
    "    return filename[:-4] + \"_RADIOMETRY.tif\"\n",
    "\n",
    "def status_file(filename):\n",
    "    return filename[:-4] + \"_SM.tif\""
   ]
  },
  {
   "cell_type": "markdown",
   "metadata": {
    "deletable": true,
    "editable": true
   },
   "source": [
    "### Processing the files"
   ]
  },
  {
   "cell_type": "markdown",
   "metadata": {
    "deletable": true,
    "editable": true
   },
   "source": [
    "In order to read the files in a parallel manner, we need to instruct Spark to parallelize our list of files."
   ]
  },
  {
   "cell_type": "code",
   "execution_count": 7,
   "metadata": {
    "collapsed": false,
    "deletable": true,
    "editable": true
   },
   "outputs": [
    {
     "data": {
      "text/plain": [
       "ParallelCollectionRDD[7] at parallelize at PythonRDD.scala:396"
      ]
     },
     "execution_count": 7,
     "metadata": {},
     "output_type": "execute_result"
    }
   ],
   "source": [
    "data_files = sc.parallelize([(status_file(f), radiometry_file(f)) for f in files]).cache()\n",
    "data_files"
   ]
  },
  {
   "cell_type": "markdown",
   "metadata": {
    "deletable": true,
    "editable": true
   },
   "source": [
    "Because our files are so large, we don't want to read the complete file in a single run. Instead, we will split each file into chunks, read each chunk and then combine the chunks.\n",
    "\n",
    "This will also enable us to distribute the reading of our files to different Spark Executors, so that each Spark Executor reads a specific part of each file."
   ]
  },
  {
   "cell_type": "code",
   "execution_count": 8,
   "metadata": {
    "collapsed": false,
    "deletable": true,
    "editable": true
   },
   "outputs": [
    {
     "data": {
      "text/plain": [
       "[{'radiometry': '/data/MTDA/TIFFDERIVED/PROBAV_L3_S5_TOA_100M/2015/20151121/PROBAV_S5_TOA_20151121_100M_V101/PROBAV_S5_TOA_X18Y02_20151121_100M_V101_RADIOMETRY.tif',\n",
       "  'statusmap': '/data/MTDA/TIFFDERIVED/PROBAV_L3_S5_TOA_100M/2015/20151121/PROBAV_S5_TOA_20151121_100M_V101/PROBAV_S5_TOA_X18Y02_20151121_100M_V101_SM.tif',\n",
       "  'x': (0, 100),\n",
       "  'y': (0, 100)}]"
      ]
     },
     "execution_count": 8,
     "metadata": {},
     "output_type": "execute_result"
    }
   ],
   "source": [
    "def makeSplits( files, splits=100 ):\n",
    "    statusmap, radiometry = files\n",
    "    dataset = gdal.Open(statusmap)\n",
    "    status = dataset.GetRasterBand(1)\n",
    "    del dataset\n",
    "    XSize = status.XSize\n",
    "    YSize = status.YSize\n",
    "    \n",
    "    chunks = []\n",
    "    chunksize = (int(XSize / float(splits)), int(YSize / float(splits)))\n",
    "    for x in range(0, XSize, chunksize[0]):\n",
    "        for y in range(0, YSize, chunksize[1]):\n",
    "            chunks.append({\n",
    "                    'statusmap': statusmap,\n",
    "                    'radiometry': radiometry,\n",
    "                    'x': (x, min(XSize - x, chunksize[0])),\n",
    "                    'y': (y, min(YSize - y, chunksize[1]))\n",
    "                })\n",
    "    \n",
    "    return chunks\n",
    "\n",
    "chunks = data_files.flatMap(makeSplits).repartition(100)\n",
    "chunks.take(1)"
   ]
  },
  {
   "cell_type": "code",
   "execution_count": 9,
   "metadata": {
    "collapsed": false,
    "deletable": true,
    "editable": true
   },
   "outputs": [
    {
     "data": {
      "text/plain": [
       "10201"
      ]
     },
     "execution_count": 9,
     "metadata": {},
     "output_type": "execute_result"
    }
   ],
   "source": [
    "chunks.count()"
   ]
  },
  {
   "cell_type": "markdown",
   "metadata": {
    "deletable": true,
    "editable": true
   },
   "source": [
    "We can now define the functions to read each chunk.\n",
    "\n",
    "In this process, what we want to accomplish is to end up with a list such that each element is a single pixel from the GeoTIFF files containing both the corresponding bitmask from the statusmap and the Reflectance for each individual band."
   ]
  },
  {
   "cell_type": "code",
   "execution_count": 10,
   "metadata": {
    "collapsed": false,
    "deletable": true,
    "editable": true
   },
   "outputs": [
    {
     "data": {
      "text/plain": [
       "[(243, [763, 802, 873, 306]),\n",
       " (243, [765, 803, 875, 308]),\n",
       " (243, [767, 807, 878, 308]),\n",
       " (243, [773, 807, 880, 307]),\n",
       " (243, [772, 812, 878, 306])]"
      ]
     },
     "execution_count": 10,
     "metadata": {},
     "output_type": "execute_result"
    }
   ],
   "source": [
    "def parseTargets(statusmap, x, y):\n",
    "    dataset = gdal.Open(statusmap)\n",
    "    status = dataset.GetRasterBand(1)\n",
    "    ret = status.ReadAsArray(x[0], y[0], x[1], y[1])\n",
    "    del dataset\n",
    "    return np.array(ret).flatten(order='F').tolist()\n",
    "    \n",
    "def parseFeatures( radiometry, x, y ):\n",
    "    raster = gdal.Open(radiometry)\n",
    "    raster_bands = [ raster.GetRasterBand(i).ReadAsArray(x[0], y[0], x[1], y[1]) for i in xrange(1, raster.RasterCount + 1) ]\n",
    "    # 4 * Y * X\n",
    "    \n",
    "    del raster\n",
    "    raster_bands = np.transpose(raster_bands)\n",
    "    # Y * 4 * X\n",
    "\n",
    "    raster_bands = raster_bands.reshape((len(raster_bands) * len(raster_bands[0]), len(raster_bands[0][0])))\n",
    "    \n",
    "    # Y * X * 4\n",
    "    return raster_bands.tolist()\n",
    "\n",
    "def parseChunk(chunk):\n",
    "    return zip(\n",
    "        parseTargets(chunk['statusmap'], chunk['x'], chunk['y']), \n",
    "        parseFeatures(chunk['radiometry'], chunk['x'], chunk['y'])\n",
    "    )\n",
    "\n",
    "dataset = chunks.flatMap(parseChunk)\n",
    "dataset.take(5)"
   ]
  },
  {
   "cell_type": "markdown",
   "metadata": {
    "deletable": true,
    "editable": true
   },
   "source": [
    "Some pixels contain invalid data. In such cases, one of the Reflectance value will be equal to $-1$.\n",
    "Since those pixels contain incomplete data, we might as well filter them out."
   ]
  },
  {
   "cell_type": "code",
   "execution_count": 11,
   "metadata": {
    "collapsed": false,
    "deletable": true,
    "editable": true
   },
   "outputs": [
    {
     "data": {
      "text/plain": [
       "[(243, [1137, 1246, 1246, 504]),\n",
       " (243, [1125, 1230, 1239, 513]),\n",
       " (243, [1116, 1222, 1235, 512]),\n",
       " (243, [1112, 1212, 1227, 506]),\n",
       " (243, [1108, 1203, 1224, 521])]"
      ]
     },
     "execution_count": 11,
     "metadata": {},
     "output_type": "execute_result"
    }
   ],
   "source": [
    "def is_valid(row):\n",
    "    for v in row[1]:\n",
    "        if v == -1:\n",
    "            return False\n",
    "    return True\n",
    "\n",
    "dataset = dataset.filter(is_valid).repartition(100)\n",
    "dataset.take(5)"
   ]
  },
  {
   "cell_type": "markdown",
   "metadata": {
    "deletable": true,
    "editable": true
   },
   "source": [
    "As mentioned earlier, the mask for Snow/Ice is $100$. Since we are only interested in those, we can define a function to convert the complete bitmask into a single bit equal to 1 if the pixel is Snow/Ice and 0 otherwise."
   ]
  },
  {
   "cell_type": "code",
   "execution_count": 12,
   "metadata": {
    "collapsed": false,
    "deletable": true,
    "editable": true
   },
   "outputs": [
    {
     "data": {
      "text/plain": [
       "[(0, [1178, 1197, 1297, 511]),\n",
       " (0, [1160, 1204, 1242, 484]),\n",
       " (0, [1094, 1144, 1213, 476]),\n",
       " (0, [1069, 1103, 1215, 485]),\n",
       " (0, [1055, 1068, 1213, 498])]"
      ]
     },
     "execution_count": 12,
     "metadata": {},
     "output_type": "execute_result"
    }
   ],
   "source": [
    "def is_snow(row):\n",
    "    return (int(row[0] & 0b100 != 0) , row[1])\n",
    "\n",
    "dataset = dataset.map(is_snow).cache()\n",
    "dataset.take(5)"
   ]
  },
  {
   "cell_type": "markdown",
   "metadata": {
    "deletable": true,
    "editable": true
   },
   "source": [
    "Since this is a dataset we will be using very often, we might as well cache it. The following snippet instructs Spark exactly of this."
   ]
  },
  {
   "cell_type": "code",
   "execution_count": 13,
   "metadata": {
    "collapsed": true,
    "deletable": true,
    "editable": true
   },
   "outputs": [],
   "source": [
    "dataset = dataset.cache()"
   ]
  },
  {
   "cell_type": "markdown",
   "metadata": {
    "deletable": true,
    "editable": true
   },
   "source": [
    "### Visualizing the data\n",
    "\n",
    "Now we are ready to do some visualizations. Before we go further, let's take a balanced sample from our dataset, meaning about the same number of positive (snow/ice) and negative samples. "
   ]
  },
  {
   "cell_type": "code",
   "execution_count": 14,
   "metadata": {
    "collapsed": false,
    "deletable": true,
    "editable": true,
    "scrolled": true
   },
   "outputs": [
    {
     "data": {
      "text/html": [
       "<div>\n",
       "<table border=\"1\" class=\"dataframe\">\n",
       "  <thead>\n",
       "    <tr style=\"text-align: right;\">\n",
       "      <th></th>\n",
       "      <th>RED</th>\n",
       "      <th>NIR</th>\n",
       "      <th>BLUE</th>\n",
       "      <th>SWIR</th>\n",
       "      <th>snow</th>\n",
       "    </tr>\n",
       "  </thead>\n",
       "  <tbody>\n",
       "    <tr>\n",
       "      <th>0</th>\n",
       "      <td>1495.0</td>\n",
       "      <td>1547.0</td>\n",
       "      <td>1360.0</td>\n",
       "      <td>291.0</td>\n",
       "      <td>1.0</td>\n",
       "    </tr>\n",
       "    <tr>\n",
       "      <th>1</th>\n",
       "      <td>912.0</td>\n",
       "      <td>937.0</td>\n",
       "      <td>1092.0</td>\n",
       "      <td>408.0</td>\n",
       "      <td>1.0</td>\n",
       "    </tr>\n",
       "    <tr>\n",
       "      <th>2</th>\n",
       "      <td>2052.0</td>\n",
       "      <td>2156.0</td>\n",
       "      <td>2104.0</td>\n",
       "      <td>315.0</td>\n",
       "      <td>1.0</td>\n",
       "    </tr>\n",
       "    <tr>\n",
       "      <th>3</th>\n",
       "      <td>988.0</td>\n",
       "      <td>1032.0</td>\n",
       "      <td>1127.0</td>\n",
       "      <td>468.0</td>\n",
       "      <td>1.0</td>\n",
       "    </tr>\n",
       "    <tr>\n",
       "      <th>4</th>\n",
       "      <td>1189.0</td>\n",
       "      <td>1253.0</td>\n",
       "      <td>2028.0</td>\n",
       "      <td>302.0</td>\n",
       "      <td>1.0</td>\n",
       "    </tr>\n",
       "    <tr>\n",
       "      <th>5</th>\n",
       "      <td>1196.0</td>\n",
       "      <td>1233.0</td>\n",
       "      <td>1815.0</td>\n",
       "      <td>302.0</td>\n",
       "      <td>1.0</td>\n",
       "    </tr>\n",
       "    <tr>\n",
       "      <th>6</th>\n",
       "      <td>1067.0</td>\n",
       "      <td>1209.0</td>\n",
       "      <td>1021.0</td>\n",
       "      <td>143.0</td>\n",
       "      <td>1.0</td>\n",
       "    </tr>\n",
       "    <tr>\n",
       "      <th>7</th>\n",
       "      <td>926.0</td>\n",
       "      <td>1109.0</td>\n",
       "      <td>931.0</td>\n",
       "      <td>140.0</td>\n",
       "      <td>1.0</td>\n",
       "    </tr>\n",
       "    <tr>\n",
       "      <th>8</th>\n",
       "      <td>1563.0</td>\n",
       "      <td>1631.0</td>\n",
       "      <td>1529.0</td>\n",
       "      <td>414.0</td>\n",
       "      <td>1.0</td>\n",
       "    </tr>\n",
       "    <tr>\n",
       "      <th>9</th>\n",
       "      <td>1692.0</td>\n",
       "      <td>1812.0</td>\n",
       "      <td>2023.0</td>\n",
       "      <td>266.0</td>\n",
       "      <td>1.0</td>\n",
       "    </tr>\n",
       "    <tr>\n",
       "      <th>10</th>\n",
       "      <td>1071.0</td>\n",
       "      <td>1108.0</td>\n",
       "      <td>1208.0</td>\n",
       "      <td>424.0</td>\n",
       "      <td>1.0</td>\n",
       "    </tr>\n",
       "    <tr>\n",
       "      <th>11</th>\n",
       "      <td>713.0</td>\n",
       "      <td>682.0</td>\n",
       "      <td>997.0</td>\n",
       "      <td>110.0</td>\n",
       "      <td>1.0</td>\n",
       "    </tr>\n",
       "    <tr>\n",
       "      <th>12</th>\n",
       "      <td>1008.0</td>\n",
       "      <td>1060.0</td>\n",
       "      <td>1167.0</td>\n",
       "      <td>392.0</td>\n",
       "      <td>1.0</td>\n",
       "    </tr>\n",
       "    <tr>\n",
       "      <th>13</th>\n",
       "      <td>1153.0</td>\n",
       "      <td>1213.0</td>\n",
       "      <td>1440.0</td>\n",
       "      <td>191.0</td>\n",
       "      <td>1.0</td>\n",
       "    </tr>\n",
       "    <tr>\n",
       "      <th>14</th>\n",
       "      <td>1456.0</td>\n",
       "      <td>1520.0</td>\n",
       "      <td>1321.0</td>\n",
       "      <td>347.0</td>\n",
       "      <td>1.0</td>\n",
       "    </tr>\n",
       "    <tr>\n",
       "      <th>15</th>\n",
       "      <td>919.0</td>\n",
       "      <td>950.0</td>\n",
       "      <td>1099.0</td>\n",
       "      <td>361.0</td>\n",
       "      <td>1.0</td>\n",
       "    </tr>\n",
       "    <tr>\n",
       "      <th>16</th>\n",
       "      <td>1440.0</td>\n",
       "      <td>1484.0</td>\n",
       "      <td>1251.0</td>\n",
       "      <td>344.0</td>\n",
       "      <td>1.0</td>\n",
       "    </tr>\n",
       "    <tr>\n",
       "      <th>17</th>\n",
       "      <td>835.0</td>\n",
       "      <td>805.0</td>\n",
       "      <td>1036.0</td>\n",
       "      <td>233.0</td>\n",
       "      <td>1.0</td>\n",
       "    </tr>\n",
       "    <tr>\n",
       "      <th>18</th>\n",
       "      <td>699.0</td>\n",
       "      <td>690.0</td>\n",
       "      <td>923.0</td>\n",
       "      <td>188.0</td>\n",
       "      <td>1.0</td>\n",
       "    </tr>\n",
       "    <tr>\n",
       "      <th>19</th>\n",
       "      <td>1355.0</td>\n",
       "      <td>1426.0</td>\n",
       "      <td>1254.0</td>\n",
       "      <td>434.0</td>\n",
       "      <td>1.0</td>\n",
       "    </tr>\n",
       "    <tr>\n",
       "      <th>20</th>\n",
       "      <td>1334.0</td>\n",
       "      <td>1384.0</td>\n",
       "      <td>1272.0</td>\n",
       "      <td>381.0</td>\n",
       "      <td>1.0</td>\n",
       "    </tr>\n",
       "    <tr>\n",
       "      <th>21</th>\n",
       "      <td>930.0</td>\n",
       "      <td>1025.0</td>\n",
       "      <td>1020.0</td>\n",
       "      <td>279.0</td>\n",
       "      <td>1.0</td>\n",
       "    </tr>\n",
       "    <tr>\n",
       "      <th>22</th>\n",
       "      <td>933.0</td>\n",
       "      <td>988.0</td>\n",
       "      <td>983.0</td>\n",
       "      <td>142.0</td>\n",
       "      <td>1.0</td>\n",
       "    </tr>\n",
       "    <tr>\n",
       "      <th>23</th>\n",
       "      <td>1680.0</td>\n",
       "      <td>1789.0</td>\n",
       "      <td>1470.0</td>\n",
       "      <td>324.0</td>\n",
       "      <td>1.0</td>\n",
       "    </tr>\n",
       "    <tr>\n",
       "      <th>24</th>\n",
       "      <td>1676.0</td>\n",
       "      <td>1791.0</td>\n",
       "      <td>1498.0</td>\n",
       "      <td>322.0</td>\n",
       "      <td>1.0</td>\n",
       "    </tr>\n",
       "    <tr>\n",
       "      <th>25</th>\n",
       "      <td>1727.0</td>\n",
       "      <td>1855.0</td>\n",
       "      <td>1504.0</td>\n",
       "      <td>346.0</td>\n",
       "      <td>1.0</td>\n",
       "    </tr>\n",
       "    <tr>\n",
       "      <th>26</th>\n",
       "      <td>1583.0</td>\n",
       "      <td>1678.0</td>\n",
       "      <td>1505.0</td>\n",
       "      <td>312.0</td>\n",
       "      <td>1.0</td>\n",
       "    </tr>\n",
       "    <tr>\n",
       "      <th>27</th>\n",
       "      <td>1467.0</td>\n",
       "      <td>1538.0</td>\n",
       "      <td>1287.0</td>\n",
       "      <td>336.0</td>\n",
       "      <td>1.0</td>\n",
       "    </tr>\n",
       "    <tr>\n",
       "      <th>28</th>\n",
       "      <td>1187.0</td>\n",
       "      <td>1225.0</td>\n",
       "      <td>1270.0</td>\n",
       "      <td>382.0</td>\n",
       "      <td>1.0</td>\n",
       "    </tr>\n",
       "    <tr>\n",
       "      <th>29</th>\n",
       "      <td>1328.0</td>\n",
       "      <td>1415.0</td>\n",
       "      <td>1306.0</td>\n",
       "      <td>477.0</td>\n",
       "      <td>1.0</td>\n",
       "    </tr>\n",
       "    <tr>\n",
       "      <th>...</th>\n",
       "      <td>...</td>\n",
       "      <td>...</td>\n",
       "      <td>...</td>\n",
       "      <td>...</td>\n",
       "      <td>...</td>\n",
       "    </tr>\n",
       "    <tr>\n",
       "      <th>433</th>\n",
       "      <td>1034.0</td>\n",
       "      <td>1040.0</td>\n",
       "      <td>1208.0</td>\n",
       "      <td>463.0</td>\n",
       "      <td>0.0</td>\n",
       "    </tr>\n",
       "    <tr>\n",
       "      <th>434</th>\n",
       "      <td>493.0</td>\n",
       "      <td>472.0</td>\n",
       "      <td>802.0</td>\n",
       "      <td>251.0</td>\n",
       "      <td>0.0</td>\n",
       "    </tr>\n",
       "    <tr>\n",
       "      <th>435</th>\n",
       "      <td>558.0</td>\n",
       "      <td>810.0</td>\n",
       "      <td>642.0</td>\n",
       "      <td>569.0</td>\n",
       "      <td>0.0</td>\n",
       "    </tr>\n",
       "    <tr>\n",
       "      <th>436</th>\n",
       "      <td>946.0</td>\n",
       "      <td>1132.0</td>\n",
       "      <td>1003.0</td>\n",
       "      <td>574.0</td>\n",
       "      <td>0.0</td>\n",
       "    </tr>\n",
       "    <tr>\n",
       "      <th>437</th>\n",
       "      <td>176.0</td>\n",
       "      <td>198.0</td>\n",
       "      <td>356.0</td>\n",
       "      <td>177.0</td>\n",
       "      <td>0.0</td>\n",
       "    </tr>\n",
       "    <tr>\n",
       "      <th>438</th>\n",
       "      <td>169.0</td>\n",
       "      <td>628.0</td>\n",
       "      <td>317.0</td>\n",
       "      <td>249.0</td>\n",
       "      <td>0.0</td>\n",
       "    </tr>\n",
       "    <tr>\n",
       "      <th>439</th>\n",
       "      <td>773.0</td>\n",
       "      <td>905.0</td>\n",
       "      <td>866.0</td>\n",
       "      <td>323.0</td>\n",
       "      <td>0.0</td>\n",
       "    </tr>\n",
       "    <tr>\n",
       "      <th>440</th>\n",
       "      <td>860.0</td>\n",
       "      <td>896.0</td>\n",
       "      <td>1055.0</td>\n",
       "      <td>519.0</td>\n",
       "      <td>0.0</td>\n",
       "    </tr>\n",
       "    <tr>\n",
       "      <th>441</th>\n",
       "      <td>1483.0</td>\n",
       "      <td>1635.0</td>\n",
       "      <td>1380.0</td>\n",
       "      <td>934.0</td>\n",
       "      <td>0.0</td>\n",
       "    </tr>\n",
       "    <tr>\n",
       "      <th>442</th>\n",
       "      <td>1205.0</td>\n",
       "      <td>1389.0</td>\n",
       "      <td>1234.0</td>\n",
       "      <td>996.0</td>\n",
       "      <td>0.0</td>\n",
       "    </tr>\n",
       "    <tr>\n",
       "      <th>443</th>\n",
       "      <td>739.0</td>\n",
       "      <td>855.0</td>\n",
       "      <td>830.0</td>\n",
       "      <td>343.0</td>\n",
       "      <td>0.0</td>\n",
       "    </tr>\n",
       "    <tr>\n",
       "      <th>444</th>\n",
       "      <td>478.0</td>\n",
       "      <td>582.0</td>\n",
       "      <td>640.0</td>\n",
       "      <td>509.0</td>\n",
       "      <td>0.0</td>\n",
       "    </tr>\n",
       "    <tr>\n",
       "      <th>445</th>\n",
       "      <td>848.0</td>\n",
       "      <td>876.0</td>\n",
       "      <td>1030.0</td>\n",
       "      <td>457.0</td>\n",
       "      <td>0.0</td>\n",
       "    </tr>\n",
       "    <tr>\n",
       "      <th>446</th>\n",
       "      <td>163.0</td>\n",
       "      <td>469.0</td>\n",
       "      <td>293.0</td>\n",
       "      <td>334.0</td>\n",
       "      <td>0.0</td>\n",
       "    </tr>\n",
       "    <tr>\n",
       "      <th>447</th>\n",
       "      <td>1082.0</td>\n",
       "      <td>1129.0</td>\n",
       "      <td>1242.0</td>\n",
       "      <td>475.0</td>\n",
       "      <td>0.0</td>\n",
       "    </tr>\n",
       "    <tr>\n",
       "      <th>448</th>\n",
       "      <td>1298.0</td>\n",
       "      <td>1398.0</td>\n",
       "      <td>1406.0</td>\n",
       "      <td>523.0</td>\n",
       "      <td>0.0</td>\n",
       "    </tr>\n",
       "    <tr>\n",
       "      <th>449</th>\n",
       "      <td>1248.0</td>\n",
       "      <td>1424.0</td>\n",
       "      <td>1276.0</td>\n",
       "      <td>1170.0</td>\n",
       "      <td>0.0</td>\n",
       "    </tr>\n",
       "    <tr>\n",
       "      <th>450</th>\n",
       "      <td>1253.0</td>\n",
       "      <td>1306.0</td>\n",
       "      <td>2101.0</td>\n",
       "      <td>360.0</td>\n",
       "      <td>0.0</td>\n",
       "    </tr>\n",
       "    <tr>\n",
       "      <th>451</th>\n",
       "      <td>633.0</td>\n",
       "      <td>730.0</td>\n",
       "      <td>780.0</td>\n",
       "      <td>623.0</td>\n",
       "      <td>0.0</td>\n",
       "    </tr>\n",
       "    <tr>\n",
       "      <th>452</th>\n",
       "      <td>174.0</td>\n",
       "      <td>376.0</td>\n",
       "      <td>315.0</td>\n",
       "      <td>272.0</td>\n",
       "      <td>0.0</td>\n",
       "    </tr>\n",
       "    <tr>\n",
       "      <th>453</th>\n",
       "      <td>294.0</td>\n",
       "      <td>363.0</td>\n",
       "      <td>465.0</td>\n",
       "      <td>298.0</td>\n",
       "      <td>0.0</td>\n",
       "    </tr>\n",
       "    <tr>\n",
       "      <th>454</th>\n",
       "      <td>994.0</td>\n",
       "      <td>1114.0</td>\n",
       "      <td>1085.0</td>\n",
       "      <td>484.0</td>\n",
       "      <td>0.0</td>\n",
       "    </tr>\n",
       "    <tr>\n",
       "      <th>455</th>\n",
       "      <td>1890.0</td>\n",
       "      <td>2052.0</td>\n",
       "      <td>1968.0</td>\n",
       "      <td>1257.0</td>\n",
       "      <td>0.0</td>\n",
       "    </tr>\n",
       "    <tr>\n",
       "      <th>456</th>\n",
       "      <td>857.0</td>\n",
       "      <td>1027.0</td>\n",
       "      <td>939.0</td>\n",
       "      <td>594.0</td>\n",
       "      <td>0.0</td>\n",
       "    </tr>\n",
       "    <tr>\n",
       "      <th>457</th>\n",
       "      <td>187.0</td>\n",
       "      <td>275.0</td>\n",
       "      <td>357.0</td>\n",
       "      <td>177.0</td>\n",
       "      <td>0.0</td>\n",
       "    </tr>\n",
       "    <tr>\n",
       "      <th>458</th>\n",
       "      <td>239.0</td>\n",
       "      <td>260.0</td>\n",
       "      <td>458.0</td>\n",
       "      <td>163.0</td>\n",
       "      <td>0.0</td>\n",
       "    </tr>\n",
       "    <tr>\n",
       "      <th>459</th>\n",
       "      <td>624.0</td>\n",
       "      <td>737.0</td>\n",
       "      <td>754.0</td>\n",
       "      <td>761.0</td>\n",
       "      <td>0.0</td>\n",
       "    </tr>\n",
       "    <tr>\n",
       "      <th>460</th>\n",
       "      <td>1004.0</td>\n",
       "      <td>1010.0</td>\n",
       "      <td>1191.0</td>\n",
       "      <td>807.0</td>\n",
       "      <td>0.0</td>\n",
       "    </tr>\n",
       "    <tr>\n",
       "      <th>461</th>\n",
       "      <td>929.0</td>\n",
       "      <td>1022.0</td>\n",
       "      <td>1084.0</td>\n",
       "      <td>645.0</td>\n",
       "      <td>0.0</td>\n",
       "    </tr>\n",
       "    <tr>\n",
       "      <th>462</th>\n",
       "      <td>1345.0</td>\n",
       "      <td>1387.0</td>\n",
       "      <td>2047.0</td>\n",
       "      <td>508.0</td>\n",
       "      <td>0.0</td>\n",
       "    </tr>\n",
       "  </tbody>\n",
       "</table>\n",
       "<p>463 rows × 5 columns</p>\n",
       "</div>"
      ],
      "text/plain": [
       "        RED     NIR    BLUE    SWIR  snow\n",
       "0    1495.0  1547.0  1360.0   291.0   1.0\n",
       "1     912.0   937.0  1092.0   408.0   1.0\n",
       "2    2052.0  2156.0  2104.0   315.0   1.0\n",
       "3     988.0  1032.0  1127.0   468.0   1.0\n",
       "4    1189.0  1253.0  2028.0   302.0   1.0\n",
       "5    1196.0  1233.0  1815.0   302.0   1.0\n",
       "6    1067.0  1209.0  1021.0   143.0   1.0\n",
       "7     926.0  1109.0   931.0   140.0   1.0\n",
       "8    1563.0  1631.0  1529.0   414.0   1.0\n",
       "9    1692.0  1812.0  2023.0   266.0   1.0\n",
       "10   1071.0  1108.0  1208.0   424.0   1.0\n",
       "11    713.0   682.0   997.0   110.0   1.0\n",
       "12   1008.0  1060.0  1167.0   392.0   1.0\n",
       "13   1153.0  1213.0  1440.0   191.0   1.0\n",
       "14   1456.0  1520.0  1321.0   347.0   1.0\n",
       "15    919.0   950.0  1099.0   361.0   1.0\n",
       "16   1440.0  1484.0  1251.0   344.0   1.0\n",
       "17    835.0   805.0  1036.0   233.0   1.0\n",
       "18    699.0   690.0   923.0   188.0   1.0\n",
       "19   1355.0  1426.0  1254.0   434.0   1.0\n",
       "20   1334.0  1384.0  1272.0   381.0   1.0\n",
       "21    930.0  1025.0  1020.0   279.0   1.0\n",
       "22    933.0   988.0   983.0   142.0   1.0\n",
       "23   1680.0  1789.0  1470.0   324.0   1.0\n",
       "24   1676.0  1791.0  1498.0   322.0   1.0\n",
       "25   1727.0  1855.0  1504.0   346.0   1.0\n",
       "26   1583.0  1678.0  1505.0   312.0   1.0\n",
       "27   1467.0  1538.0  1287.0   336.0   1.0\n",
       "28   1187.0  1225.0  1270.0   382.0   1.0\n",
       "29   1328.0  1415.0  1306.0   477.0   1.0\n",
       "..      ...     ...     ...     ...   ...\n",
       "433  1034.0  1040.0  1208.0   463.0   0.0\n",
       "434   493.0   472.0   802.0   251.0   0.0\n",
       "435   558.0   810.0   642.0   569.0   0.0\n",
       "436   946.0  1132.0  1003.0   574.0   0.0\n",
       "437   176.0   198.0   356.0   177.0   0.0\n",
       "438   169.0   628.0   317.0   249.0   0.0\n",
       "439   773.0   905.0   866.0   323.0   0.0\n",
       "440   860.0   896.0  1055.0   519.0   0.0\n",
       "441  1483.0  1635.0  1380.0   934.0   0.0\n",
       "442  1205.0  1389.0  1234.0   996.0   0.0\n",
       "443   739.0   855.0   830.0   343.0   0.0\n",
       "444   478.0   582.0   640.0   509.0   0.0\n",
       "445   848.0   876.0  1030.0   457.0   0.0\n",
       "446   163.0   469.0   293.0   334.0   0.0\n",
       "447  1082.0  1129.0  1242.0   475.0   0.0\n",
       "448  1298.0  1398.0  1406.0   523.0   0.0\n",
       "449  1248.0  1424.0  1276.0  1170.0   0.0\n",
       "450  1253.0  1306.0  2101.0   360.0   0.0\n",
       "451   633.0   730.0   780.0   623.0   0.0\n",
       "452   174.0   376.0   315.0   272.0   0.0\n",
       "453   294.0   363.0   465.0   298.0   0.0\n",
       "454   994.0  1114.0  1085.0   484.0   0.0\n",
       "455  1890.0  2052.0  1968.0  1257.0   0.0\n",
       "456   857.0  1027.0   939.0   594.0   0.0\n",
       "457   187.0   275.0   357.0   177.0   0.0\n",
       "458   239.0   260.0   458.0   163.0   0.0\n",
       "459   624.0   737.0   754.0   761.0   0.0\n",
       "460  1004.0  1010.0  1191.0   807.0   0.0\n",
       "461   929.0  1022.0  1084.0   645.0   0.0\n",
       "462  1345.0  1387.0  2047.0   508.0   0.0\n",
       "\n",
       "[463 rows x 5 columns]"
      ]
     },
     "execution_count": 14,
     "metadata": {},
     "output_type": "execute_result"
    }
   ],
   "source": [
    "from pyspark.mllib.regression import LabeledPoint\n",
    "\n",
    "def parseSample(row):\n",
    "    return LabeledPoint( row[0], row[1])\n",
    "\n",
    "def sample(size):\n",
    "    sizes = dataset.countByKey()\n",
    "    sample_fractions = {\n",
    "        0.0: float(size / 2) / sizes[0.0],\n",
    "        1.0: float(size / 2) / sizes[1.0] \n",
    "    }\n",
    "    \n",
    "    samples = dataset.sampleByKey( \n",
    "        withReplacement = False, \n",
    "        fractions = sample_fractions\n",
    "    ).map(parseSample).cache()\n",
    "    \n",
    "    return samples\n",
    "\n",
    "samples = sample(500)\n",
    "positives = samples.filter(lambda r: r.label == 1).map(lambda r: np.append(r.features, r.label)).collect()\n",
    "negatives = samples.filter(lambda r: r.label == 0).map(lambda r: np.append(r.features, r.label)).collect()\n",
    "all_data = positives + negatives\n",
    "df = pd.DataFrame(all_data, columns=bands + [\"snow\"])\n",
    "df"
   ]
  },
  {
   "cell_type": "markdown",
   "metadata": {
    "deletable": true,
    "editable": true
   },
   "source": [
    "We can now visualize our sample.\n",
    "\n",
    "The following box plots shows us that there are indeed notable differences in the distributions for snow and not snow, confirming that building a classifier should be possible."
   ]
  },
  {
   "cell_type": "code",
   "execution_count": 15,
   "metadata": {
    "collapsed": false,
    "deletable": true,
    "editable": true
   },
   "outputs": [
    {
     "name": "stderr",
     "output_type": "stream",
     "text": [
      "/opt/rh/python27/root/usr/lib64/python2.7/site-packages/matplotlib/font_manager.py:1297: UserWarning: findfont: Font family [u'sans-serif'] not found. Falling back to DejaVu Sans\n",
      "  (prop.get_family(), self.defaultFamily[fontext]))\n"
     ]
    },
    {
     "data": {
      "image/png": "[encoded data removed]",
      "text/plain": [
       "<matplotlib.figure.Figure at 0x5f20fd0>"
      ]
     },
     "metadata": {},
     "output_type": "display_data"
    },
    {
     "data": {
      "image/png": "[encoded data removed]",
      "text/plain": [
       "<matplotlib.figure.Figure at 0x6026a10>"
      ]
     },
     "metadata": {},
     "output_type": "display_data"
    },
    {
     "data": {
      "image/png": "[encoded data removed]",
      "text/plain": [
       "<matplotlib.figure.Figure at 0x6260e10>"
      ]
     },
     "metadata": {},
     "output_type": "display_data"
    },
    {
     "data": {
      "image/png": "[encoded data removed]",
      "text/plain": [
       "<matplotlib.figure.Figure at 0x66f3d50>"
      ]
     },
     "metadata": {},
     "output_type": "display_data"
    }
   ],
   "source": [
    "for band in bands:\n",
    "    sns.boxplot(x='snow', y=band, order=[0, 1], data=df)\n",
    "    plt.show()"
   ]
  },
  {
   "cell_type": "markdown",
   "metadata": {
    "deletable": true,
    "editable": true
   },
   "source": [
    "Another way to look at the data is using scatter plots, to see if there is any correlations between the different bands but also to see if there is any interaction between the bands for the snow class.\n",
    "\n",
    "The following pair plots show that:\n",
    "1. There is a high correlation between RED, NIR and BLUE.\n",
    "1. There is clearly a cutoff point when RED > 500 and SWIR < 500\n",
    "\n",
    "This confirms the following:\n",
    "1. The classes are linearly separable but\n",
    "1. Separation requires interaction features"
   ]
  },
  {
   "cell_type": "code",
   "execution_count": 16,
   "metadata": {
    "collapsed": false,
    "deletable": true,
    "editable": true
   },
   "outputs": [
    {
     "data": {
      "text/plain": [
       "<seaborn.axisgrid.PairGrid at 0x5f29d90>"
      ]
     },
     "execution_count": 16,
     "metadata": {},
     "output_type": "execute_result"
    },
    {
     "data": {
      "image/png": "[encoded data removed]",
      "text/plain": [
       "<matplotlib.figure.Figure at 0x5f29e10>"
      ]
     },
     "metadata": {},
     "output_type": "display_data"
    }
   ],
   "source": [
    "sns.pairplot(df, hue='snow', vars=bands, hue_order=[0, 1])"
   ]
  },
  {
   "cell_type": "markdown",
   "metadata": {
    "deletable": true,
    "editable": true
   },
   "source": [
    "### Building the classifier\n",
    "\n",
    "First, we need to do some preprocessing before we can build our classifier.\n",
    "\n",
    "1. SVM works better when the data is rescaled\n",
    "1. We need to introduce interaction variables, e.g. by building a polynomial expansion\n",
    "1. SVM generally requires the dataset to be balanced (or use class weights). Since we have so many available positive samples, we will simply balance our dataset by undersampling our negative class.\n",
    "\n",
    "So let's do just that, as follows:"
   ]
  },
  {
   "cell_type": "code",
   "execution_count": 17,
   "metadata": {
    "collapsed": false,
    "deletable": true,
    "editable": true
   },
   "outputs": [
    {
     "data": {
      "text/plain": [
       "[LabeledPoint(0.0, [0.486301808971,0.313829144248,0.31610835525,0.223923015107,0.128152310473,0.754729356101,0.529582083363,0.422628713261,0.628029546347,0.949221186958,1.02285365876,0.852127788268,1.18668077084,0.643988437269])]"
      ]
     },
     "execution_count": 17,
     "metadata": {},
     "output_type": "execute_result"
    }
   ],
   "source": [
    "from pyspark.ml.feature import PolynomialExpansion\n",
    "from pyspark.ml.feature import StandardScaler\n",
    "from pyspark.mllib.classification import SVMWithSGD, SVMModel\n",
    "from pyspark.ml import Pipeline\n",
    "\n",
    "def transform(data):\n",
    "    polyExpansion = PolynomialExpansion(\n",
    "        inputCol=\"features\",\n",
    "        outputCol=\"polyFeatures\",\n",
    "        degree=2\n",
    "    )\n",
    "\n",
    "    scaler = StandardScaler(\n",
    "        withMean=True,\n",
    "        withStd=True,\n",
    "        inputCol=\"polyFeatures\",\n",
    "        outputCol=\"scaledFeatures\"\n",
    "    )\n",
    "\n",
    "    pipeline = Pipeline(stages=[polyExpansion, scaler])\n",
    "\n",
    "    X = data.toDF()\n",
    "    transformer = pipeline.fit(X)\n",
    "    X = transformer.transform(X).map(lambda x: x.scaledFeatures)\n",
    "    y = data.map(lambda p: p.label)\n",
    "    return (transformer, y.zip(X).map(parseSample))\n",
    "\n",
    "transformer, dataset = transform(sample(10000))\n",
    "dataset = dataset.cache()\n",
    "dataset.take(1)"
   ]
  },
  {
   "cell_type": "markdown",
   "metadata": {
    "deletable": true,
    "editable": true
   },
   "source": [
    "We will train our classifier using 75% of the dataset and test it on the remaining 25%.\n",
    "So let's split it first:"
   ]
  },
  {
   "cell_type": "code",
   "execution_count": 18,
   "metadata": {
    "collapsed": true,
    "deletable": true,
    "editable": true
   },
   "outputs": [],
   "source": [
    "train_data, test_data = dataset.randomSplit([0.75, 0.25])\n",
    "train_data = train_data.cache()\n",
    "test_data = test_data.cache()"
   ]
  },
  {
   "cell_type": "markdown",
   "metadata": {
    "deletable": true,
    "editable": true
   },
   "source": [
    "Finally, we can train and test our model."
   ]
  },
  {
   "cell_type": "code",
   "execution_count": 19,
   "metadata": {
    "collapsed": false,
    "deletable": true,
    "editable": true
   },
   "outputs": [
    {
     "name": "stdout",
     "output_type": "stream",
     "text": [
      "Training with 7443 samples\n",
      "Params:  100 0.0 1.0\n",
      "Train F1 0.92107361148\n",
      "Test F1 0.922585794094\n",
      "\n"
     ]
    }
   ],
   "source": [
    "from sklearn.metrics import precision_recall_fscore_support\n",
    "\n",
    "def train(training_data, iterations, regParam, step):\n",
    "    model = SVMWithSGD.train(training_data, iterations=iterations, regParam=regParam, step=step)\n",
    "    return model\n",
    "\n",
    "def evaluate(model, train_data, test_data):\n",
    "    train_y = train_data.map(lambda p: p.label).collect()\n",
    "    test_y = test_data.map(lambda p: p.label).collect()\n",
    "    train_predictions = train_data.map(lambda p: model.predict(p.features)).collect()\n",
    "    test_predictions = test_data.map(lambda p: model.predict(p.features)).collect()\n",
    "    \n",
    "    _, _, train_f, _ = precision_recall_fscore_support(train_y, train_predictions, average='binary')\n",
    "    _, _, test_f, _ = precision_recall_fscore_support(test_y, test_predictions, average='binary')\n",
    "    \n",
    "    return (train_f, test_f)\n",
    "\n",
    "def train_evaluate(train_data, test_data, iterations, regParam, step):    \n",
    "    print \"Training with\", train_data.count(), \"samples\"\n",
    "    print \"Params: \", iterations, regParam, step\n",
    "    model = train(train_data, iterations, regParam, step)\n",
    "    train_f, test_f = evaluate(model, train_data, test_data)\n",
    "    \n",
    "    print \"Train F1\", train_f\n",
    "    print \"Test F1\", test_f\n",
    "    print \"\"\n",
    "    return (model, (train_data.count(), iterations, regParam, step, train_f, test_f))\n",
    "\n",
    "model, results = train_evaluate(train_data,\n",
    "                         test_data,\n",
    "                         iterations=100, \n",
    "                         step=1.0, \n",
    "                         regParam=0.)"
   ]
  },
  {
   "cell_type": "markdown",
   "metadata": {
    "deletable": true,
    "editable": true
   },
   "source": [
    "### Visualising the output\n",
    "\n",
    "We can draw the GeoTIFF using *matplotlib*. But the files are so big that we also need to reduce its resolution.\n",
    "We can re-use the chunking mechanism used previously and plot the average values for every chunk instead.\n",
    "\n",
    "However, we will need to keep track of the position of the chunk, so we add that to our function."
   ]
  },
  {
   "cell_type": "code",
   "execution_count": 20,
   "metadata": {
    "collapsed": false,
    "deletable": true,
    "editable": true,
    "scrolled": true
   },
   "outputs": [
    {
     "data": {
      "text/plain": [
       "[{'chunk': (0, 0),\n",
       "  'radiometry': '/data/MTDA/TIFFDERIVED/PROBAV_L3_S5_TOA_100M/2015/20151121/PROBAV_S5_TOA_20151121_100M_V101/PROBAV_S5_TOA_X18Y02_20151121_100M_V101_RADIOMETRY.tif',\n",
       "  'statusmap': '/data/MTDA/TIFFDERIVED/PROBAV_L3_S5_TOA_100M/2015/20151121/PROBAV_S5_TOA_20151121_100M_V101/PROBAV_S5_TOA_X18Y02_20151121_100M_V101_SM.tif',\n",
       "  'x_range': (0, 100),\n",
       "  'y_range': (0, 100)}]"
      ]
     },
     "execution_count": 20,
     "metadata": {},
     "output_type": "execute_result"
    }
   ],
   "source": [
    "def makeSplits( files, splits=100 ):\n",
    "    statusmap, radiometry = files\n",
    "    sm = gdal.Open(statusmap)\n",
    "    status = sm.GetRasterBand(1)\n",
    "    del sm\n",
    "    XSize = status.XSize\n",
    "    YSize = status.YSize\n",
    "    \n",
    "    chunks = []\n",
    "    chunksize = (int(XSize / float(splits)), int(YSize / float(splits)))\n",
    "    for x in range(0, splits):\n",
    "        for y in range(0, splits):\n",
    "            chunks.append({\n",
    "                    'statusmap': statusmap,\n",
    "                    'radiometry': radiometry,\n",
    "                    'chunk': (x, y),\n",
    "                    'x_range': (x * chunksize[0], chunksize[0]),\n",
    "                    'y_range': (y * chunksize[1], chunksize[1])\n",
    "                })\n",
    "    \n",
    "    return chunks\n",
    "\n",
    "chunks = data_files.flatMap(makeSplits).repartition(100)\n",
    "chunks.take(1)"
   ]
  },
  {
   "cell_type": "markdown",
   "metadata": {
    "deletable": true,
    "editable": true
   },
   "source": [
    "Now that our chunks have a position, we need to propagate the position up to the pixel.\n",
    "We then take the average for every chunk and then plot the average."
   ]
  },
  {
   "cell_type": "code",
   "execution_count": 21,
   "metadata": {
    "collapsed": false,
    "deletable": true,
    "editable": true
   },
   "outputs": [
    {
     "data": {
      "text/plain": [
       "10000"
      ]
     },
     "execution_count": 21,
     "metadata": {},
     "output_type": "execute_result"
    }
   ],
   "source": [
    "def is_snow_mask(mask):\n",
    "    return (int(mask & 0b100 != 0))\n",
    "\n",
    "def parseChunk(chunk):\n",
    "    statusmap = map(is_snow_mask, parseTargets(chunk['statusmap'], chunk['x_range'], chunk['y_range']))\n",
    "    features = parseFeatures(chunk['radiometry'], chunk['x_range'], chunk['y_range'])\n",
    "    return (chunk['chunk'], map(parseSample, zip(statusmap, features)))\n",
    "\n",
    "all_data = chunks.map(parseChunk)\n",
    "\n",
    "def average_snow(data):\n",
    "    return np.mean(map(lambda x: x.label, data))\n",
    "\n",
    "averaged_by_chunk = all_data.map(lambda x: (x[0], average_snow(x[1]))).cache()\n",
    "averaged_by_chunk.count()"
   ]
  },
  {
   "cell_type": "code",
   "execution_count": 22,
   "metadata": {
    "collapsed": false,
    "deletable": true,
    "editable": true
   },
   "outputs": [],
   "source": [
    "img_flat = averaged_by_chunk.collect()"
   ]
  },
  {
   "cell_type": "markdown",
   "metadata": {
    "deletable": true,
    "editable": true
   },
   "source": [
    "Here is how our original data looked like."
   ]
  },
  {
   "cell_type": "code",
   "execution_count": 23,
   "metadata": {
    "collapsed": false,
    "deletable": true,
    "editable": true
   },
   "outputs": [
    {
     "data": {
      "text/plain": [
       "<matplotlib.colorbar.Colorbar at 0x843e050>"
      ]
     },
     "execution_count": 23,
     "metadata": {},
     "output_type": "execute_result"
    },
    {
     "data": {
      "image/png": "[encoded data removed]",
      "text/plain": [
       "<matplotlib.figure.Figure at 0x7f14b90>"
      ]
     },
     "metadata": {},
     "output_type": "display_data"
    }
   ],
   "source": [
    "img = np.array(img_flat)[:, 1].reshape(100, 100, order='F').astype('float')\n",
    "plt.imshow(img, cmap='winter')\n",
    "plt.colorbar()"
   ]
  },
  {
   "cell_type": "markdown",
   "metadata": {
    "deletable": true,
    "editable": true
   },
   "source": [
    "Now, instead of drawing the original Snow/Ice component of our pixels, we will instead use our classifier to predict that value and then draw that one instead."
   ]
  },
  {
   "cell_type": "code",
   "execution_count": 24,
   "metadata": {
    "collapsed": false,
    "deletable": true,
    "editable": true
   },
   "outputs": [
    {
     "name": "stderr",
     "output_type": "stream",
     "text": [
      "/usr/hdp/current/spark-client/python/pyspark/sql/context.py:209: UserWarning: Using RDD of dict to inferSchema is deprecated. Use pyspark.sql.Row instead\n",
      "  warnings.warn(\"Using RDD of dict to inferSchema is deprecated. \"\n"
     ]
    }
   ],
   "source": [
    "all_df = all_data.flatMap(lambda x: [{'x': x[0][0], 'y': x[0][1], 'features': p.features, 'label': p.label} for p in x[1]]).toDF()"
   ]
  },
  {
   "cell_type": "code",
   "execution_count": 29,
   "metadata": {
    "collapsed": false,
    "deletable": true,
    "editable": true
   },
   "outputs": [],
   "source": [
    "groups = transformer.transform(all_df).map(lambda x: ((x.x, x.y), model.predict(x.scaledFeatures))).groupByKey().cache()"
   ]
  },
  {
   "cell_type": "code",
   "execution_count": 30,
   "metadata": {
    "collapsed": false,
    "deletable": true,
    "editable": true
   },
   "outputs": [],
   "source": [
    "averaged_by_chunk = groups.map(lambda g: (g[0], np.mean(list(g[1])))).collect()"
   ]
  },
  {
   "cell_type": "code",
   "execution_count": 31,
   "metadata": {
    "collapsed": false,
    "deletable": true,
    "editable": true
   },
   "outputs": [],
   "source": [
    "img = np.zeros((100, 100))\n",
    "for x in np.array(averaged_by_chunk):\n",
    "    pos, v = x\n",
    "    img[pos[1]][pos[0]] = v"
   ]
  },
  {
   "cell_type": "markdown",
   "metadata": {
    "deletable": true,
    "editable": true
   },
   "source": [
    "### Final result\n",
    "\n",
    "Here's how our classifier estimated snow. It looks roughly the same as the original one, except it looks to be slightly more permissive for the snow class."
   ]
  },
  {
   "cell_type": "code",
   "execution_count": 32,
   "metadata": {
    "collapsed": false,
    "deletable": true,
    "editable": true
   },
   "outputs": [
    {
     "data": {
      "text/plain": [
       "<matplotlib.colorbar.Colorbar at 0x8761950>"
      ]
     },
     "execution_count": 32,
     "metadata": {},
     "output_type": "execute_result"
    },
    {
     "data": {
      "image/png": "[encoded data removed]",
      "text/plain": [
       "<matplotlib.figure.Figure at 0x7539b50>"
      ]
     },
     "metadata": {},
     "output_type": "display_data"
    }
   ],
   "source": [
    "plt.imshow(img, cmap='winter')\n",
    "plt.colorbar()"
   ]
  }
 ],
 "metadata": {
  "kernelspec": {
   "display_name": "Python 2",
   "language": "python",
   "name": "python2"
  },
  "language_info": {
   "codemirror_mode": {
    "name": "ipython",
    "version": 2
   },
   "file_extension": ".py",
   "mimetype": "text/x-python",
   "name": "python",
   "nbconvert_exporter": "python",
   "pygments_lexer": "ipython2",
   "version": "2.7.5"
  }
 },
 "nbformat": 4,
 "nbformat_minor": 0
}

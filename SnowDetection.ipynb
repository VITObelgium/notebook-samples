{
 "cells": [
  {
   "cell_type": "markdown",
   "metadata": {
    "deletable": true,
    "editable": true
   },
   "source": [
    "# Snow Detection Using Spark\n",
    "\n",
    "## Introduction\n",
    "\n",
    "In this Jupyter notebook, we will build an SVM classifier for Snow/Ice detection using Spark for the Proba-V 100m Top Of Atmosphere (TOA) Radiometry data.\n",
    "\n",
    "## Data\n",
    "\n",
    "### Radiometry Data\n",
    "\n",
    "The Radiometry file is contained in a GeoTIFF file format. The file contains 4 raster bands:\n",
    "1. RED\n",
    "1. NIR\n",
    "1. BLUE\n",
    "1. SWIR\n",
    "\n",
    "Each raster band is a pixel grid $Y*X$ where each value of the grid represents the TOA Reflectance value for that band for that pixel.\n",
    "\n",
    "### Status Map\n",
    "There is also a status map file containing a single band. For each pixel in that band, the value represents the class of that pixel.\n",
    "\n",
    "In our case, the flag we are interested in is coded in binary as $100$, representing that the corresponding pixel in the Radiometry file is Snow or Ice, as documented in the Proba-V User Manual."
   ]
  },
  {
   "cell_type": "markdown",
   "metadata": {
    "deletable": true,
    "editable": true
   },
   "source": [
    "## Reading the files\n",
    "\n",
    "\n",
    "### Imports\n",
    "\n",
    "We will be using the following libraries / frameworks:\n",
    "1. *numpy*: for numerical processing\n",
    "1. *gdal*: for reading GeoTIFF files\n",
    "1. *seaborn*: for plotting\n",
    "1. *pandas*: for handling small DataFrames\n",
    "1. *spark*"
   ]
  },
  {
   "cell_type": "code",
   "execution_count": 1,
   "metadata": {
    "collapsed": false,
    "deletable": true,
    "editable": true
   },
   "outputs": [],
   "source": [
    "import numpy as np\n",
    "import requests\n",
    "import gdal\n",
    "\n",
    "import matplotlib\n",
    "import matplotlib.pyplot as plt\n",
    "import pandas as pd\n",
    "import seaborn as sns\n",
    "%matplotlib inline\n",
    "\n",
    "import pyspark"
   ]
  },
  {
   "cell_type": "markdown",
   "metadata": {
    "deletable": true,
    "editable": true
   },
   "source": [
    "### Setting up the Spark Context\n",
    "\n",
    "In order to be able to access our Spark cluster, we first need to set up our Spark Context.\n",
    "The below snippet shows how to do this and also shows how to modify the default configuration."
   ]
  },
  {
   "cell_type": "code",
   "execution_count": 2,
   "metadata": {
    "collapsed": false,
    "deletable": true,
    "editable": true
   },
   "outputs": [],
   "source": [
    "from pyspark.conf import SparkConf\n",
    "conf = SparkConf()\n",
    "conf.set('spark.yarn.executor.memoryOverhead', 1024)\n",
    "conf.set('spark.executor.memory', '8g')\n",
    "conf.set('spark.executor.cores', '2')\n",
    "conf.set('spark.executor.instances',10)\n",
    "sc = pyspark.SparkContext(conf=conf)\n",
    "sqlContext = pyspark.SQLContext(sc)"
   ]
  },
  {
   "cell_type": "markdown",
   "metadata": {
    "deletable": true,
    "editable": true
   },
   "source": [
    "The files are stored in a shared folder as defined below. \n",
    "The complete list of files can be requested using an API, but in our case we will be focusing on an area of the Alps, where there is plenty of Snow/Ice areas.\n",
    "\n",
    "The Radiometry files end with *_RADIOMETRY.tif* whereas the status map ends with *_SM.tif*."
   ]
  },
  {
   "cell_type": "code",
   "execution_count": 3,
   "metadata": {
    "collapsed": true,
    "deletable": true,
    "editable": true
   },
   "outputs": [],
   "source": [
    "files = [\n",
    "    \"/data/MTDA/TIFFDERIVED/PROBAV_L3_S5_TOA_100M/2015/20151121/PROBAV_S5_TOA_20151121_100M_V101/PROBAV_S5_TOA_X18Y02_20151121_100M_V101.tif\"\n",
    "]\n",
    "\n",
    "bands = [\n",
    "    \"RED\",\n",
    "    \"NIR\",\n",
    "    \"BLUE\",\n",
    "    \"SWIR\"\n",
    "]\n",
    "\n",
    "def radiometry_file(filename):\n",
    "    return filename[:-4] + \"_RADIOMETRY.tif\"\n",
    "\n",
    "def status_file(filename):\n",
    "    return filename[:-4] + \"_SM.tif\""
   ]
  },
  {
   "cell_type": "markdown",
   "metadata": {
    "deletable": true,
    "editable": true
   },
   "source": [
    "### Processing the files"
   ]
  },
  {
   "cell_type": "markdown",
   "metadata": {
    "deletable": true,
    "editable": true
   },
   "source": [
    "In order to read the files in a parallel manner, we need to instruct Spark to parallelize our list of files."
   ]
  },
  {
   "cell_type": "code",
   "execution_count": 4,
   "metadata": {
    "collapsed": false,
    "deletable": true,
    "editable": true
   },
   "outputs": [
    {
     "data": {
      "text/plain": [
       "ParallelCollectionRDD[0] at parallelize at PythonRDD.scala:396"
      ]
     },
     "execution_count": 4,
     "metadata": {},
     "output_type": "execute_result"
    }
   ],
   "source": [
    "data_files = sc.parallelize([(status_file(f), radiometry_file(f)) for f in files]).cache()\n",
    "data_files"
   ]
  },
  {
   "cell_type": "markdown",
   "metadata": {
    "deletable": true,
    "editable": true
   },
   "source": [
    "Because our files are so large, we don't want to read the complete file in a single run. Instead, we will split each file into chunks, read each chunk and then combine the chunks.\n",
    "\n",
    "This will also enable us to distribute the reading of our files to different Spark Executors, so that each Spark Executor reads a specific part of each file."
   ]
  },
  {
   "cell_type": "code",
   "execution_count": 5,
   "metadata": {
    "collapsed": false,
    "deletable": true,
    "editable": true
   },
   "outputs": [
    {
     "data": {
      "text/plain": [
       "[{'radiometry': '/data/MTDA/TIFFDERIVED/PROBAV_L3_S5_TOA_100M/2015/20151121/PROBAV_S5_TOA_20151121_100M_V101/PROBAV_S5_TOA_X18Y02_20151121_100M_V101_RADIOMETRY.tif',\n",
       "  'statusmap': '/data/MTDA/TIFFDERIVED/PROBAV_L3_S5_TOA_100M/2015/20151121/PROBAV_S5_TOA_20151121_100M_V101/PROBAV_S5_TOA_X18Y02_20151121_100M_V101_SM.tif',\n",
       "  'x': (0, 100),\n",
       "  'y': (0, 100)}]"
      ]
     },
     "execution_count": 5,
     "metadata": {},
     "output_type": "execute_result"
    }
   ],
   "source": [
    "def makeSplits( files, splits=100 ):\n",
    "    statusmap, radiometry = files\n",
    "    dataset = gdal.Open(statusmap)\n",
    "    status = dataset.GetRasterBand(1)\n",
    "    del dataset\n",
    "    XSize = status.XSize\n",
    "    YSize = status.YSize\n",
    "    \n",
    "    chunks = []\n",
    "    chunksize = (int(XSize / float(splits)), int(YSize / float(splits)))\n",
    "    for x in range(0, XSize, chunksize[0]):\n",
    "        for y in range(0, YSize, chunksize[1]):\n",
    "            chunks.append({\n",
    "                    'statusmap': statusmap,\n",
    "                    'radiometry': radiometry,\n",
    "                    'x': (x, min(XSize - x, chunksize[0])),\n",
    "                    'y': (y, min(YSize - y, chunksize[1]))\n",
    "                })\n",
    "    \n",
    "    return chunks\n",
    "\n",
    "chunks = data_files.flatMap(makeSplits).repartition(100)\n",
    "chunks.take(1)"
   ]
  },
  {
   "cell_type": "code",
   "execution_count": 6,
   "metadata": {
    "collapsed": false,
    "deletable": true,
    "editable": true
   },
   "outputs": [
    {
     "data": {
      "text/plain": [
       "10201"
      ]
     },
     "execution_count": 6,
     "metadata": {},
     "output_type": "execute_result"
    }
   ],
   "source": [
    "chunks.count()"
   ]
  },
  {
   "cell_type": "markdown",
   "metadata": {
    "deletable": true,
    "editable": true
   },
   "source": [
    "We can now define the functions to read each chunk.\n",
    "\n",
    "In this process, what we want to accomplish is to end up with a list such that each element is a single pixel from the GeoTIFF files containing both the corresponding bitmask from the statusmap and the Reflectance for each individual band."
   ]
  },
  {
   "cell_type": "code",
   "execution_count": 7,
   "metadata": {
    "collapsed": false,
    "deletable": true,
    "editable": true
   },
   "outputs": [
    {
     "data": {
      "text/plain": [
       "[(243, [763, 802, 873, 306]),\n",
       " (243, [765, 803, 875, 308]),\n",
       " (243, [767, 807, 878, 308]),\n",
       " (243, [773, 807, 880, 307]),\n",
       " (243, [772, 812, 878, 306])]"
      ]
     },
     "execution_count": 7,
     "metadata": {},
     "output_type": "execute_result"
    }
   ],
   "source": [
    "def parseTargets(statusmap, x, y):\n",
    "    dataset = gdal.Open(statusmap)\n",
    "    status = dataset.GetRasterBand(1)\n",
    "    ret = status.ReadAsArray(x[0], y[0], x[1], y[1])\n",
    "    del dataset\n",
    "    return np.array(ret).flatten(order='F').tolist()\n",
    "    \n",
    "def parseFeatures( radiometry, x, y ):\n",
    "    raster = gdal.Open(radiometry)\n",
    "    raster_bands = [ raster.GetRasterBand(i).ReadAsArray(x[0], y[0], x[1], y[1]) for i in xrange(1, raster.RasterCount + 1) ]\n",
    "    # 4 * Y * X\n",
    "    \n",
    "    del raster\n",
    "    raster_bands = np.transpose(raster_bands)\n",
    "    # Y * 4 * X\n",
    "\n",
    "    raster_bands = raster_bands.reshape((len(raster_bands) * len(raster_bands[0]), len(raster_bands[0][0])))\n",
    "    \n",
    "    # Y * X * 4\n",
    "    return raster_bands.tolist()\n",
    "\n",
    "def parseChunk(chunk):\n",
    "    return zip(\n",
    "        parseTargets(chunk['statusmap'], chunk['x'], chunk['y']), \n",
    "        parseFeatures(chunk['radiometry'], chunk['x'], chunk['y'])\n",
    "    )\n",
    "\n",
    "dataset = chunks.flatMap(parseChunk)\n",
    "dataset.take(5)"
   ]
  },
  {
   "cell_type": "markdown",
   "metadata": {
    "deletable": true,
    "editable": true
   },
   "source": [
    "Some pixels contain invalid data. In such cases, one of the Reflectance value will be equal to $-1$.\n",
    "Since those pixels contain incomplete data, we might as well filter them out."
   ]
  },
  {
   "cell_type": "code",
   "execution_count": 8,
   "metadata": {
    "collapsed": false,
    "deletable": true,
    "editable": true
   },
   "outputs": [
    {
     "data": {
      "text/plain": [
       "[(123, [1420, 1493, 2113, 645]),\n",
       " (123, [1314, 1376, 1549, 622]),\n",
       " (123, [1257, 1301, 1311, 639]),\n",
       " (251, [1245, 1278, 1322, 694]),\n",
       " (123, [1297, 1324, 1949, 778])]"
      ]
     },
     "execution_count": 8,
     "metadata": {},
     "output_type": "execute_result"
    }
   ],
   "source": [
    "def is_valid(row):\n",
    "    for v in row[1]:\n",
    "        if v == -1:\n",
    "            return False\n",
    "    return True\n",
    "\n",
    "dataset = dataset.filter(is_valid).repartition(100)\n",
    "dataset.take(5)"
   ]
  },
  {
   "cell_type": "markdown",
   "metadata": {
    "deletable": true,
    "editable": true
   },
   "source": [
    "As mentioned earlier, the mask for Snow/Ice is $100$. Since we are only interested in those, we can define a function to convert the complete bitmask into a single bit equal to 1 if the pixel is Snow/Ice and 0 otherwise."
   ]
  },
  {
   "cell_type": "code",
   "execution_count": 9,
   "metadata": {
    "collapsed": false,
    "deletable": true,
    "editable": true
   },
   "outputs": [
    {
     "data": {
      "text/plain": [
       "[(0, [1178, 1197, 1297, 511]),\n",
       " (0, [1160, 1204, 1242, 484]),\n",
       " (0, [1094, 1144, 1213, 476]),\n",
       " (0, [1069, 1103, 1215, 485]),\n",
       " (0, [1055, 1068, 1213, 498])]"
      ]
     },
     "execution_count": 9,
     "metadata": {},
     "output_type": "execute_result"
    }
   ],
   "source": [
    "def is_snow(row):\n",
    "    return (int(row[0] & 0b100 != 0) , row[1])\n",
    "\n",
    "dataset = dataset.map(is_snow).cache()\n",
    "dataset.take(5)"
   ]
  },
  {
   "cell_type": "markdown",
   "metadata": {
    "deletable": true,
    "editable": true
   },
   "source": [
    "Since this is a dataset we will be using very often, we might as well cache it. The following snippet instructs Spark exactly of this."
   ]
  },
  {
   "cell_type": "code",
   "execution_count": 10,
   "metadata": {
    "collapsed": true,
    "deletable": true,
    "editable": true
   },
   "outputs": [],
   "source": [
    "dataset = dataset.cache()"
   ]
  },
  {
   "cell_type": "markdown",
   "metadata": {
    "deletable": true,
    "editable": true
   },
   "source": [
    "### Visualizing the data\n",
    "\n",
    "Now we are ready to do some visualizations. Before we go further, let's take a balanced sample from our dataset, meaning about the same number of positive (snow/ice) and negative samples. "
   ]
  },
  {
   "cell_type": "code",
   "execution_count": 11,
   "metadata": {
    "collapsed": false,
    "deletable": true,
    "editable": true,
    "scrolled": true
   },
   "outputs": [
    {
     "data": {
      "text/html": [
       "<div>\n",
       "<table border=\"1\" class=\"dataframe\">\n",
       "  <thead>\n",
       "    <tr style=\"text-align: right;\">\n",
       "      <th></th>\n",
       "      <th>RED</th>\n",
       "      <th>NIR</th>\n",
       "      <th>BLUE</th>\n",
       "      <th>SWIR</th>\n",
       "      <th>snow</th>\n",
       "    </tr>\n",
       "  </thead>\n",
       "  <tbody>\n",
       "    <tr>\n",
       "      <th>0</th>\n",
       "      <td>738.0</td>\n",
       "      <td>713.0</td>\n",
       "      <td>954.0</td>\n",
       "      <td>166.0</td>\n",
       "      <td>1.0</td>\n",
       "    </tr>\n",
       "    <tr>\n",
       "      <th>1</th>\n",
       "      <td>1812.0</td>\n",
       "      <td>2062.0</td>\n",
       "      <td>1387.0</td>\n",
       "      <td>261.0</td>\n",
       "      <td>1.0</td>\n",
       "    </tr>\n",
       "    <tr>\n",
       "      <th>2</th>\n",
       "      <td>1954.0</td>\n",
       "      <td>1962.0</td>\n",
       "      <td>1296.0</td>\n",
       "      <td>318.0</td>\n",
       "      <td>1.0</td>\n",
       "    </tr>\n",
       "    <tr>\n",
       "      <th>3</th>\n",
       "      <td>1757.0</td>\n",
       "      <td>2109.0</td>\n",
       "      <td>1389.0</td>\n",
       "      <td>353.0</td>\n",
       "      <td>1.0</td>\n",
       "    </tr>\n",
       "    <tr>\n",
       "      <th>4</th>\n",
       "      <td>1196.0</td>\n",
       "      <td>1233.0</td>\n",
       "      <td>1815.0</td>\n",
       "      <td>302.0</td>\n",
       "      <td>1.0</td>\n",
       "    </tr>\n",
       "    <tr>\n",
       "      <th>5</th>\n",
       "      <td>668.0</td>\n",
       "      <td>667.0</td>\n",
       "      <td>986.0</td>\n",
       "      <td>175.0</td>\n",
       "      <td>1.0</td>\n",
       "    </tr>\n",
       "    <tr>\n",
       "      <th>6</th>\n",
       "      <td>1417.0</td>\n",
       "      <td>1383.0</td>\n",
       "      <td>1470.0</td>\n",
       "      <td>304.0</td>\n",
       "      <td>1.0</td>\n",
       "    </tr>\n",
       "    <tr>\n",
       "      <th>7</th>\n",
       "      <td>676.0</td>\n",
       "      <td>657.0</td>\n",
       "      <td>953.0</td>\n",
       "      <td>103.0</td>\n",
       "      <td>1.0</td>\n",
       "    </tr>\n",
       "    <tr>\n",
       "      <th>8</th>\n",
       "      <td>777.0</td>\n",
       "      <td>940.0</td>\n",
       "      <td>943.0</td>\n",
       "      <td>201.0</td>\n",
       "      <td>1.0</td>\n",
       "    </tr>\n",
       "    <tr>\n",
       "      <th>9</th>\n",
       "      <td>987.0</td>\n",
       "      <td>1003.0</td>\n",
       "      <td>1188.0</td>\n",
       "      <td>348.0</td>\n",
       "      <td>1.0</td>\n",
       "    </tr>\n",
       "    <tr>\n",
       "      <th>10</th>\n",
       "      <td>1577.0</td>\n",
       "      <td>1532.0</td>\n",
       "      <td>1237.0</td>\n",
       "      <td>262.0</td>\n",
       "      <td>1.0</td>\n",
       "    </tr>\n",
       "    <tr>\n",
       "      <th>11</th>\n",
       "      <td>1347.0</td>\n",
       "      <td>1301.0</td>\n",
       "      <td>1241.0</td>\n",
       "      <td>320.0</td>\n",
       "      <td>1.0</td>\n",
       "    </tr>\n",
       "    <tr>\n",
       "      <th>12</th>\n",
       "      <td>924.0</td>\n",
       "      <td>936.0</td>\n",
       "      <td>1149.0</td>\n",
       "      <td>183.0</td>\n",
       "      <td>1.0</td>\n",
       "    </tr>\n",
       "    <tr>\n",
       "      <th>13</th>\n",
       "      <td>1249.0</td>\n",
       "      <td>1220.0</td>\n",
       "      <td>1112.0</td>\n",
       "      <td>137.0</td>\n",
       "      <td>1.0</td>\n",
       "    </tr>\n",
       "    <tr>\n",
       "      <th>14</th>\n",
       "      <td>1532.0</td>\n",
       "      <td>1595.0</td>\n",
       "      <td>2044.0</td>\n",
       "      <td>345.0</td>\n",
       "      <td>1.0</td>\n",
       "    </tr>\n",
       "    <tr>\n",
       "      <th>15</th>\n",
       "      <td>1929.0</td>\n",
       "      <td>1975.0</td>\n",
       "      <td>1875.0</td>\n",
       "      <td>470.0</td>\n",
       "      <td>1.0</td>\n",
       "    </tr>\n",
       "    <tr>\n",
       "      <th>16</th>\n",
       "      <td>1435.0</td>\n",
       "      <td>1500.0</td>\n",
       "      <td>1239.0</td>\n",
       "      <td>397.0</td>\n",
       "      <td>1.0</td>\n",
       "    </tr>\n",
       "    <tr>\n",
       "      <th>17</th>\n",
       "      <td>1464.0</td>\n",
       "      <td>1493.0</td>\n",
       "      <td>1173.0</td>\n",
       "      <td>326.0</td>\n",
       "      <td>1.0</td>\n",
       "    </tr>\n",
       "    <tr>\n",
       "      <th>18</th>\n",
       "      <td>652.0</td>\n",
       "      <td>873.0</td>\n",
       "      <td>757.0</td>\n",
       "      <td>150.0</td>\n",
       "      <td>1.0</td>\n",
       "    </tr>\n",
       "    <tr>\n",
       "      <th>19</th>\n",
       "      <td>981.0</td>\n",
       "      <td>966.0</td>\n",
       "      <td>1168.0</td>\n",
       "      <td>241.0</td>\n",
       "      <td>1.0</td>\n",
       "    </tr>\n",
       "    <tr>\n",
       "      <th>20</th>\n",
       "      <td>1166.0</td>\n",
       "      <td>1214.0</td>\n",
       "      <td>2018.0</td>\n",
       "      <td>271.0</td>\n",
       "      <td>1.0</td>\n",
       "    </tr>\n",
       "    <tr>\n",
       "      <th>21</th>\n",
       "      <td>1202.0</td>\n",
       "      <td>1274.0</td>\n",
       "      <td>1260.0</td>\n",
       "      <td>387.0</td>\n",
       "      <td>1.0</td>\n",
       "    </tr>\n",
       "    <tr>\n",
       "      <th>22</th>\n",
       "      <td>2025.0</td>\n",
       "      <td>1955.0</td>\n",
       "      <td>1312.0</td>\n",
       "      <td>361.0</td>\n",
       "      <td>1.0</td>\n",
       "    </tr>\n",
       "    <tr>\n",
       "      <th>23</th>\n",
       "      <td>1665.0</td>\n",
       "      <td>1821.0</td>\n",
       "      <td>1666.0</td>\n",
       "      <td>297.0</td>\n",
       "      <td>1.0</td>\n",
       "    </tr>\n",
       "    <tr>\n",
       "      <th>24</th>\n",
       "      <td>649.0</td>\n",
       "      <td>616.0</td>\n",
       "      <td>927.0</td>\n",
       "      <td>108.0</td>\n",
       "      <td>1.0</td>\n",
       "    </tr>\n",
       "    <tr>\n",
       "      <th>25</th>\n",
       "      <td>726.0</td>\n",
       "      <td>698.0</td>\n",
       "      <td>943.0</td>\n",
       "      <td>158.0</td>\n",
       "      <td>1.0</td>\n",
       "    </tr>\n",
       "    <tr>\n",
       "      <th>26</th>\n",
       "      <td>1208.0</td>\n",
       "      <td>1276.0</td>\n",
       "      <td>1313.0</td>\n",
       "      <td>196.0</td>\n",
       "      <td>1.0</td>\n",
       "    </tr>\n",
       "    <tr>\n",
       "      <th>27</th>\n",
       "      <td>898.0</td>\n",
       "      <td>948.0</td>\n",
       "      <td>1051.0</td>\n",
       "      <td>176.0</td>\n",
       "      <td>1.0</td>\n",
       "    </tr>\n",
       "    <tr>\n",
       "      <th>28</th>\n",
       "      <td>691.0</td>\n",
       "      <td>697.0</td>\n",
       "      <td>917.0</td>\n",
       "      <td>126.0</td>\n",
       "      <td>1.0</td>\n",
       "    </tr>\n",
       "    <tr>\n",
       "      <th>29</th>\n",
       "      <td>1244.0</td>\n",
       "      <td>1267.0</td>\n",
       "      <td>1241.0</td>\n",
       "      <td>286.0</td>\n",
       "      <td>1.0</td>\n",
       "    </tr>\n",
       "    <tr>\n",
       "      <th>...</th>\n",
       "      <td>...</td>\n",
       "      <td>...</td>\n",
       "      <td>...</td>\n",
       "      <td>...</td>\n",
       "      <td>...</td>\n",
       "    </tr>\n",
       "    <tr>\n",
       "      <th>462</th>\n",
       "      <td>1591.0</td>\n",
       "      <td>1754.0</td>\n",
       "      <td>1283.0</td>\n",
       "      <td>516.0</td>\n",
       "      <td>0.0</td>\n",
       "    </tr>\n",
       "    <tr>\n",
       "      <th>463</th>\n",
       "      <td>1729.0</td>\n",
       "      <td>1925.0</td>\n",
       "      <td>1804.0</td>\n",
       "      <td>1490.0</td>\n",
       "      <td>0.0</td>\n",
       "    </tr>\n",
       "    <tr>\n",
       "      <th>464</th>\n",
       "      <td>151.0</td>\n",
       "      <td>592.0</td>\n",
       "      <td>291.0</td>\n",
       "      <td>299.0</td>\n",
       "      <td>0.0</td>\n",
       "    </tr>\n",
       "    <tr>\n",
       "      <th>465</th>\n",
       "      <td>1267.0</td>\n",
       "      <td>1344.0</td>\n",
       "      <td>1362.0</td>\n",
       "      <td>712.0</td>\n",
       "      <td>0.0</td>\n",
       "    </tr>\n",
       "    <tr>\n",
       "      <th>466</th>\n",
       "      <td>497.0</td>\n",
       "      <td>609.0</td>\n",
       "      <td>660.0</td>\n",
       "      <td>463.0</td>\n",
       "      <td>0.0</td>\n",
       "    </tr>\n",
       "    <tr>\n",
       "      <th>467</th>\n",
       "      <td>82.0</td>\n",
       "      <td>85.0</td>\n",
       "      <td>227.0</td>\n",
       "      <td>40.0</td>\n",
       "      <td>0.0</td>\n",
       "    </tr>\n",
       "    <tr>\n",
       "      <th>468</th>\n",
       "      <td>956.0</td>\n",
       "      <td>1065.0</td>\n",
       "      <td>1144.0</td>\n",
       "      <td>742.0</td>\n",
       "      <td>0.0</td>\n",
       "    </tr>\n",
       "    <tr>\n",
       "      <th>469</th>\n",
       "      <td>702.0</td>\n",
       "      <td>1016.0</td>\n",
       "      <td>755.0</td>\n",
       "      <td>792.0</td>\n",
       "      <td>0.0</td>\n",
       "    </tr>\n",
       "    <tr>\n",
       "      <th>470</th>\n",
       "      <td>1235.0</td>\n",
       "      <td>1302.0</td>\n",
       "      <td>1375.0</td>\n",
       "      <td>719.0</td>\n",
       "      <td>0.0</td>\n",
       "    </tr>\n",
       "    <tr>\n",
       "      <th>471</th>\n",
       "      <td>463.0</td>\n",
       "      <td>618.0</td>\n",
       "      <td>600.0</td>\n",
       "      <td>240.0</td>\n",
       "      <td>0.0</td>\n",
       "    </tr>\n",
       "    <tr>\n",
       "      <th>472</th>\n",
       "      <td>397.0</td>\n",
       "      <td>579.0</td>\n",
       "      <td>495.0</td>\n",
       "      <td>401.0</td>\n",
       "      <td>0.0</td>\n",
       "    </tr>\n",
       "    <tr>\n",
       "      <th>473</th>\n",
       "      <td>163.0</td>\n",
       "      <td>311.0</td>\n",
       "      <td>282.0</td>\n",
       "      <td>327.0</td>\n",
       "      <td>0.0</td>\n",
       "    </tr>\n",
       "    <tr>\n",
       "      <th>474</th>\n",
       "      <td>1257.0</td>\n",
       "      <td>1344.0</td>\n",
       "      <td>1391.0</td>\n",
       "      <td>947.0</td>\n",
       "      <td>0.0</td>\n",
       "    </tr>\n",
       "    <tr>\n",
       "      <th>475</th>\n",
       "      <td>810.0</td>\n",
       "      <td>883.0</td>\n",
       "      <td>936.0</td>\n",
       "      <td>411.0</td>\n",
       "      <td>0.0</td>\n",
       "    </tr>\n",
       "    <tr>\n",
       "      <th>476</th>\n",
       "      <td>1297.0</td>\n",
       "      <td>1343.0</td>\n",
       "      <td>1333.0</td>\n",
       "      <td>495.0</td>\n",
       "      <td>0.0</td>\n",
       "    </tr>\n",
       "    <tr>\n",
       "      <th>477</th>\n",
       "      <td>655.0</td>\n",
       "      <td>676.0</td>\n",
       "      <td>774.0</td>\n",
       "      <td>410.0</td>\n",
       "      <td>0.0</td>\n",
       "    </tr>\n",
       "    <tr>\n",
       "      <th>478</th>\n",
       "      <td>250.0</td>\n",
       "      <td>371.0</td>\n",
       "      <td>386.0</td>\n",
       "      <td>271.0</td>\n",
       "      <td>0.0</td>\n",
       "    </tr>\n",
       "    <tr>\n",
       "      <th>479</th>\n",
       "      <td>1143.0</td>\n",
       "      <td>1213.0</td>\n",
       "      <td>1280.0</td>\n",
       "      <td>457.0</td>\n",
       "      <td>0.0</td>\n",
       "    </tr>\n",
       "    <tr>\n",
       "      <th>480</th>\n",
       "      <td>968.0</td>\n",
       "      <td>1063.0</td>\n",
       "      <td>1080.0</td>\n",
       "      <td>586.0</td>\n",
       "      <td>0.0</td>\n",
       "    </tr>\n",
       "    <tr>\n",
       "      <th>481</th>\n",
       "      <td>454.0</td>\n",
       "      <td>567.0</td>\n",
       "      <td>623.0</td>\n",
       "      <td>416.0</td>\n",
       "      <td>0.0</td>\n",
       "    </tr>\n",
       "    <tr>\n",
       "      <th>482</th>\n",
       "      <td>1376.0</td>\n",
       "      <td>1450.0</td>\n",
       "      <td>2026.0</td>\n",
       "      <td>742.0</td>\n",
       "      <td>0.0</td>\n",
       "    </tr>\n",
       "    <tr>\n",
       "      <th>483</th>\n",
       "      <td>437.0</td>\n",
       "      <td>407.0</td>\n",
       "      <td>548.0</td>\n",
       "      <td>206.0</td>\n",
       "      <td>0.0</td>\n",
       "    </tr>\n",
       "    <tr>\n",
       "      <th>484</th>\n",
       "      <td>919.0</td>\n",
       "      <td>967.0</td>\n",
       "      <td>1088.0</td>\n",
       "      <td>514.0</td>\n",
       "      <td>0.0</td>\n",
       "    </tr>\n",
       "    <tr>\n",
       "      <th>485</th>\n",
       "      <td>247.0</td>\n",
       "      <td>325.0</td>\n",
       "      <td>319.0</td>\n",
       "      <td>334.0</td>\n",
       "      <td>0.0</td>\n",
       "    </tr>\n",
       "    <tr>\n",
       "      <th>486</th>\n",
       "      <td>1174.0</td>\n",
       "      <td>1207.0</td>\n",
       "      <td>1324.0</td>\n",
       "      <td>586.0</td>\n",
       "      <td>0.0</td>\n",
       "    </tr>\n",
       "    <tr>\n",
       "      <th>487</th>\n",
       "      <td>1175.0</td>\n",
       "      <td>1193.0</td>\n",
       "      <td>1323.0</td>\n",
       "      <td>470.0</td>\n",
       "      <td>0.0</td>\n",
       "    </tr>\n",
       "    <tr>\n",
       "      <th>488</th>\n",
       "      <td>1238.0</td>\n",
       "      <td>1378.0</td>\n",
       "      <td>1256.0</td>\n",
       "      <td>631.0</td>\n",
       "      <td>0.0</td>\n",
       "    </tr>\n",
       "    <tr>\n",
       "      <th>489</th>\n",
       "      <td>1466.0</td>\n",
       "      <td>1544.0</td>\n",
       "      <td>1412.0</td>\n",
       "      <td>777.0</td>\n",
       "      <td>0.0</td>\n",
       "    </tr>\n",
       "    <tr>\n",
       "      <th>490</th>\n",
       "      <td>563.0</td>\n",
       "      <td>721.0</td>\n",
       "      <td>679.0</td>\n",
       "      <td>296.0</td>\n",
       "      <td>0.0</td>\n",
       "    </tr>\n",
       "    <tr>\n",
       "      <th>491</th>\n",
       "      <td>849.0</td>\n",
       "      <td>932.0</td>\n",
       "      <td>976.0</td>\n",
       "      <td>502.0</td>\n",
       "      <td>0.0</td>\n",
       "    </tr>\n",
       "  </tbody>\n",
       "</table>\n",
       "<p>492 rows × 5 columns</p>\n",
       "</div>"
      ],
      "text/plain": [
       "        RED     NIR    BLUE    SWIR  snow\n",
       "0     738.0   713.0   954.0   166.0   1.0\n",
       "1    1812.0  2062.0  1387.0   261.0   1.0\n",
       "2    1954.0  1962.0  1296.0   318.0   1.0\n",
       "3    1757.0  2109.0  1389.0   353.0   1.0\n",
       "4    1196.0  1233.0  1815.0   302.0   1.0\n",
       "5     668.0   667.0   986.0   175.0   1.0\n",
       "6    1417.0  1383.0  1470.0   304.0   1.0\n",
       "7     676.0   657.0   953.0   103.0   1.0\n",
       "8     777.0   940.0   943.0   201.0   1.0\n",
       "9     987.0  1003.0  1188.0   348.0   1.0\n",
       "10   1577.0  1532.0  1237.0   262.0   1.0\n",
       "11   1347.0  1301.0  1241.0   320.0   1.0\n",
       "12    924.0   936.0  1149.0   183.0   1.0\n",
       "13   1249.0  1220.0  1112.0   137.0   1.0\n",
       "14   1532.0  1595.0  2044.0   345.0   1.0\n",
       "15   1929.0  1975.0  1875.0   470.0   1.0\n",
       "16   1435.0  1500.0  1239.0   397.0   1.0\n",
       "17   1464.0  1493.0  1173.0   326.0   1.0\n",
       "18    652.0   873.0   757.0   150.0   1.0\n",
       "19    981.0   966.0  1168.0   241.0   1.0\n",
       "20   1166.0  1214.0  2018.0   271.0   1.0\n",
       "21   1202.0  1274.0  1260.0   387.0   1.0\n",
       "22   2025.0  1955.0  1312.0   361.0   1.0\n",
       "23   1665.0  1821.0  1666.0   297.0   1.0\n",
       "24    649.0   616.0   927.0   108.0   1.0\n",
       "25    726.0   698.0   943.0   158.0   1.0\n",
       "26   1208.0  1276.0  1313.0   196.0   1.0\n",
       "27    898.0   948.0  1051.0   176.0   1.0\n",
       "28    691.0   697.0   917.0   126.0   1.0\n",
       "29   1244.0  1267.0  1241.0   286.0   1.0\n",
       "..      ...     ...     ...     ...   ...\n",
       "462  1591.0  1754.0  1283.0   516.0   0.0\n",
       "463  1729.0  1925.0  1804.0  1490.0   0.0\n",
       "464   151.0   592.0   291.0   299.0   0.0\n",
       "465  1267.0  1344.0  1362.0   712.0   0.0\n",
       "466   497.0   609.0   660.0   463.0   0.0\n",
       "467    82.0    85.0   227.0    40.0   0.0\n",
       "468   956.0  1065.0  1144.0   742.0   0.0\n",
       "469   702.0  1016.0   755.0   792.0   0.0\n",
       "470  1235.0  1302.0  1375.0   719.0   0.0\n",
       "471   463.0   618.0   600.0   240.0   0.0\n",
       "472   397.0   579.0   495.0   401.0   0.0\n",
       "473   163.0   311.0   282.0   327.0   0.0\n",
       "474  1257.0  1344.0  1391.0   947.0   0.0\n",
       "475   810.0   883.0   936.0   411.0   0.0\n",
       "476  1297.0  1343.0  1333.0   495.0   0.0\n",
       "477   655.0   676.0   774.0   410.0   0.0\n",
       "478   250.0   371.0   386.0   271.0   0.0\n",
       "479  1143.0  1213.0  1280.0   457.0   0.0\n",
       "480   968.0  1063.0  1080.0   586.0   0.0\n",
       "481   454.0   567.0   623.0   416.0   0.0\n",
       "482  1376.0  1450.0  2026.0   742.0   0.0\n",
       "483   437.0   407.0   548.0   206.0   0.0\n",
       "484   919.0   967.0  1088.0   514.0   0.0\n",
       "485   247.0   325.0   319.0   334.0   0.0\n",
       "486  1174.0  1207.0  1324.0   586.0   0.0\n",
       "487  1175.0  1193.0  1323.0   470.0   0.0\n",
       "488  1238.0  1378.0  1256.0   631.0   0.0\n",
       "489  1466.0  1544.0  1412.0   777.0   0.0\n",
       "490   563.0   721.0   679.0   296.0   0.0\n",
       "491   849.0   932.0   976.0   502.0   0.0\n",
       "\n",
       "[492 rows x 5 columns]"
      ]
     },
     "execution_count": 11,
     "metadata": {},
     "output_type": "execute_result"
    }
   ],
   "source": [
    "from pyspark.mllib.regression import LabeledPoint\n",
    "\n",
    "def parseSample(row):\n",
    "    return LabeledPoint( row[0], row[1])\n",
    "\n",
    "def sample(size):\n",
    "    sizes = dataset.countByKey()\n",
    "    sample_fractions = {\n",
    "        0.0: float(size / 2) / sizes[0.0],\n",
    "        1.0: float(size / 2) / sizes[1.0] \n",
    "    }\n",
    "    \n",
    "    samples = dataset.sampleByKey( \n",
    "        withReplacement = False, \n",
    "        fractions = sample_fractions\n",
    "    ).map(parseSample).cache()\n",
    "    \n",
    "    return samples\n",
    "\n",
    "samples = sample(500)\n",
    "positives = samples.filter(lambda r: r.label == 1).map(lambda r: np.append(r.features, r.label)).collect()\n",
    "negatives = samples.filter(lambda r: r.label == 0).map(lambda r: np.append(r.features, r.label)).collect()\n",
    "all_data = positives + negatives\n",
    "df = pd.DataFrame(all_data, columns=bands + [\"snow\"])\n",
    "df"
   ]
  },
  {
   "cell_type": "markdown",
   "metadata": {
    "deletable": true,
    "editable": true
   },
   "source": [
    "We can now visualize our sample.\n",
    "\n",
    "The following box plots shows us that there are indeed notable differences in the distributions for snow and not snow, confirming that building a classifier should be possible."
   ]
  },
  {
   "cell_type": "code",
   "execution_count": 12,
   "metadata": {
    "collapsed": false,
    "deletable": true,
    "editable": true
   },
   "outputs": [
    {
     "name": "stderr",
     "output_type": "stream",
     "text": [
      "/opt/rh/python27/root/usr/lib64/python2.7/site-packages/matplotlib/font_manager.py:1297: UserWarning: findfont: Font family [u'sans-serif'] not found. Falling back to DejaVu Sans\n",
      "  (prop.get_family(), self.defaultFamily[fontext]))\n"
     ]
    },
    {
     "data": {
      "image/png": "[encoded data removed]",
      "text/plain": [
       "<matplotlib.figure.Figure at 0x636a890>"
      ]
     },
     "metadata": {},
     "output_type": "display_data"
    },
    {
     "data": {
      "image/png": "[encoded data removed]",
      "text/plain": [
       "<matplotlib.figure.Figure at 0x6538410>"
      ]
     },
     "metadata": {},
     "output_type": "display_data"
    },
    {
     "data": {
      "image/png": "[encoded data removed]",
      "text/plain": [
       "<matplotlib.figure.Figure at 0x6839fd0>"
      ]
     },
     "metadata": {},
     "output_type": "display_data"
    },
    {
     "data": {
      "image/png": "[encoded data removed]",
      "text/plain": [
       "<matplotlib.figure.Figure at 0x6a88f10>"
      ]
     },
     "metadata": {},
     "output_type": "display_data"
    }
   ],
   "source": [
    "for band in bands:\n",
    "    sns.boxplot(x='snow', y=band, order=[0, 1], data=df)\n",
    "    plt.show()"
   ]
  },
  {
   "cell_type": "markdown",
   "metadata": {
    "deletable": true,
    "editable": true
   },
   "source": [
    "Another way to look at the data is using scatter plots, to see if there is any correlations between the different bands but also to see if there is any interaction between the bands for the snow class.\n",
    "\n",
    "The following pair plots show that:\n",
    "1. There is a high correlation between RED, NIR and BLUE.\n",
    "1. There is clearly a cutoff point when RED > 500 and SWIR < 500\n",
    "\n",
    "This confirms the following:\n",
    "1. The classes are linearly separable but\n",
    "1. Separation requires interaction features"
   ]
  },
  {
   "cell_type": "code",
   "execution_count": 13,
   "metadata": {
    "collapsed": false,
    "deletable": true,
    "editable": true
   },
   "outputs": [
    {
     "data": {
      "text/plain": [
       "<seaborn.axisgrid.PairGrid at 0x6379090>"
      ]
     },
     "execution_count": 13,
     "metadata": {},
     "output_type": "execute_result"
    },
    {
     "data": {
      "image/png": "[encoded data removed]",
      "text/plain": [
       "<matplotlib.figure.Figure at 0x6379550>"
      ]
     },
     "metadata": {},
     "output_type": "display_data"
    }
   ],
   "source": [
    "sns.pairplot(df, hue='snow', vars=bands, hue_order=[0, 1])"
   ]
  },
  {
   "cell_type": "markdown",
   "metadata": {
    "deletable": true,
    "editable": true
   },
   "source": [
    "### Building the classifier\n",
    "\n",
    "First, we need to do some preprocessing before we can build our classifier.\n",
    "\n",
    "1. SVM works better when the data is rescaled\n",
    "1. We need to introduce interaction variables, e.g. by building a polynomial expansion\n",
    "1. SVM generally requires the dataset to be balanced (or use class weights). Since we have so many available positive samples, we will simply balance our dataset by undersampling our negative class.\n",
    "\n",
    "So let's do just that, as follows:"
   ]
  },
  {
   "cell_type": "code",
   "execution_count": 14,
   "metadata": {
    "collapsed": false,
    "deletable": true,
    "editable": true
   },
   "outputs": [
    {
     "data": {
      "text/plain": [
       "[LabeledPoint(0.0, [0.0839797425461,-0.120977571692,0.0518000569338,-0.126372826923,-0.139212193821,0.188362545177,-0.036065033032,-0.0419035185357,0.0152015713184,0.0357256305209,0.0135277392015,-0.0183843637466,0.0632267441657,-0.17243522452])]"
      ]
     },
     "execution_count": 14,
     "metadata": {},
     "output_type": "execute_result"
    }
   ],
   "source": [
    "from pyspark.ml.feature import PolynomialExpansion\n",
    "from pyspark.ml.feature import StandardScaler\n",
    "from pyspark.mllib.classification import SVMWithSGD, SVMModel\n",
    "from pyspark.ml import Pipeline\n",
    "\n",
    "def transform(data):\n",
    "    polyExpansion = PolynomialExpansion(\n",
    "        inputCol=\"features\",\n",
    "        outputCol=\"polyFeatures\",\n",
    "        degree=2\n",
    "    )\n",
    "\n",
    "    scaler = StandardScaler(\n",
    "        withMean=True,\n",
    "        withStd=True,\n",
    "        inputCol=\"polyFeatures\",\n",
    "        outputCol=\"scaledFeatures\"\n",
    "    )\n",
    "\n",
    "    pipeline = Pipeline(stages=[polyExpansion, scaler])\n",
    "\n",
    "    X = data.toDF()\n",
    "    transformer = pipeline.fit(X)\n",
    "    X = transformer.transform(X).map(lambda x: x.scaledFeatures)\n",
    "    y = data.map(lambda p: p.label)\n",
    "    return (transformer, y.zip(X).map(parseSample))\n",
    "\n",
    "transformer, dataset = transform(sample(10000))\n",
    "dataset = dataset.cache()\n",
    "dataset.take(1)"
   ]
  },
  {
   "cell_type": "markdown",
   "metadata": {
    "deletable": true,
    "editable": true
   },
   "source": [
    "We will train our classifier using 75% of the dataset and test it on the remaining 25%.\n",
    "So let's split it first:"
   ]
  },
  {
   "cell_type": "code",
   "execution_count": 15,
   "metadata": {
    "collapsed": true,
    "deletable": true,
    "editable": true
   },
   "outputs": [],
   "source": [
    "train_data, test_data = dataset.randomSplit([0.75, 0.25])\n",
    "train_data = train_data.cache()\n",
    "test_data = test_data.cache()"
   ]
  },
  {
   "cell_type": "markdown",
   "metadata": {
    "deletable": true,
    "editable": true
   },
   "source": [
    "Finally, we can train and test our model."
   ]
  },
  {
   "cell_type": "code",
   "execution_count": 16,
   "metadata": {
    "collapsed": false,
    "deletable": true,
    "editable": true
   },
   "outputs": [
    {
     "name": "stdout",
     "output_type": "stream",
     "text": [
      "Training with 7609 samples\n",
      "Params:  100 0.0 1.0\n",
      "Train F1 0.923278688525\n",
      "Test F1 0.911188004614\n",
      "\n"
     ]
    }
   ],
   "source": [
    "from sklearn.metrics import precision_recall_fscore_support\n",
    "\n",
    "def train(training_data, iterations, regParam, step):\n",
    "    model = SVMWithSGD.train(training_data, iterations=iterations, regParam=regParam, step=step)\n",
    "    return model\n",
    "\n",
    "def evaluate(model, train_data, test_data):\n",
    "    train_y = train_data.map(lambda p: p.label).collect()\n",
    "    test_y = test_data.map(lambda p: p.label).collect()\n",
    "    train_predictions = train_data.map(lambda p: model.predict(p.features)).collect()\n",
    "    test_predictions = test_data.map(lambda p: model.predict(p.features)).collect()\n",
    "    \n",
    "    _, _, train_f, _ = precision_recall_fscore_support(train_y, train_predictions, average='binary')\n",
    "    _, _, test_f, _ = precision_recall_fscore_support(test_y, test_predictions, average='binary')\n",
    "    \n",
    "    return (train_f, test_f)\n",
    "\n",
    "def train_evaluate(train_data, test_data, iterations, regParam, step):    \n",
    "    print \"Training with\", train_data.count(), \"samples\"\n",
    "    print \"Params: \", iterations, regParam, step\n",
    "    model = train(train_data, iterations, regParam, step)\n",
    "    train_f, test_f = evaluate(model, train_data, test_data)\n",
    "    \n",
    "    print \"Train F1\", train_f\n",
    "    print \"Test F1\", test_f\n",
    "    print \"\"\n",
    "    return (model, (train_data.count(), iterations, regParam, step, train_f, test_f))\n",
    "\n",
    "model, results = train_evaluate(train_data,\n",
    "                         test_data,\n",
    "                         iterations=100, \n",
    "                         step=1.0, \n",
    "                         regParam=0.)"
   ]
  },
  {
   "cell_type": "markdown",
   "metadata": {
    "deletable": true,
    "editable": true
   },
   "source": [
    "### Visualising the output\n",
    "\n",
    "We can draw the GeoTIFF using *matplotlib*. But the files are so big that we also need to reduce its resolution.\n",
    "We can re-use the chunking mechanism used previously and plot the average values for every chunk instead.\n",
    "\n",
    "However, we will need to keep track of the position of the chunk, so we add that to our function."
   ]
  },
  {
   "cell_type": "code",
   "execution_count": 17,
   "metadata": {
    "collapsed": false,
    "deletable": true,
    "editable": true,
    "scrolled": true
   },
   "outputs": [
    {
     "data": {
      "text/plain": [
       "[{'chunk': (0, 0),\n",
       "  'radiometry': '/data/MTDA/TIFFDERIVED/PROBAV_L3_S5_TOA_100M/2015/20151121/PROBAV_S5_TOA_20151121_100M_V101/PROBAV_S5_TOA_X18Y02_20151121_100M_V101_RADIOMETRY.tif',\n",
       "  'statusmap': '/data/MTDA/TIFFDERIVED/PROBAV_L3_S5_TOA_100M/2015/20151121/PROBAV_S5_TOA_20151121_100M_V101/PROBAV_S5_TOA_X18Y02_20151121_100M_V101_SM.tif',\n",
       "  'x_range': (0, 100),\n",
       "  'y_range': (0, 100)}]"
      ]
     },
     "execution_count": 17,
     "metadata": {},
     "output_type": "execute_result"
    }
   ],
   "source": [
    "def makeSplits( files, splits=100 ):\n",
    "    statusmap, radiometry = files\n",
    "    sm = gdal.Open(statusmap)\n",
    "    status = sm.GetRasterBand(1)\n",
    "    del sm\n",
    "    XSize = status.XSize\n",
    "    YSize = status.YSize\n",
    "    \n",
    "    chunks = []\n",
    "    chunksize = (int(XSize / float(splits)), int(YSize / float(splits)))\n",
    "    for x in range(0, splits):\n",
    "        for y in range(0, splits):\n",
    "            chunks.append({\n",
    "                    'statusmap': statusmap,\n",
    "                    'radiometry': radiometry,\n",
    "                    'chunk': (x, y),\n",
    "                    'x_range': (x * chunksize[0], chunksize[0]),\n",
    "                    'y_range': (y * chunksize[1], chunksize[1])\n",
    "                })\n",
    "    \n",
    "    return chunks\n",
    "\n",
    "chunks = data_files.flatMap(makeSplits).repartition(100)\n",
    "chunks.take(1)"
   ]
  },
  {
   "cell_type": "markdown",
   "metadata": {
    "deletable": true,
    "editable": true
   },
   "source": [
    "Now that our chunks have a position, we need to propagate the position up to the pixel.\n",
    "We then take the average for every chunk and then plot the average."
   ]
  },
  {
   "cell_type": "code",
   "execution_count": 18,
   "metadata": {
    "collapsed": false,
    "deletable": true,
    "editable": true
   },
   "outputs": [
    {
     "data": {
      "text/plain": [
       "10000"
      ]
     },
     "execution_count": 18,
     "metadata": {},
     "output_type": "execute_result"
    }
   ],
   "source": [
    "def is_snow_mask(mask):\n",
    "    return (int(mask & 0b100 != 0))\n",
    "\n",
    "def parseChunk(chunk):\n",
    "    statusmap = map(is_snow_mask, parseTargets(chunk['statusmap'], chunk['x_range'], chunk['y_range']))\n",
    "    features = parseFeatures(chunk['radiometry'], chunk['x_range'], chunk['y_range'])\n",
    "    return (chunk['chunk'], map(parseSample, zip(statusmap, features)))\n",
    "\n",
    "all_data = chunks.map(parseChunk)\n",
    "\n",
    "def average_snow(data):\n",
    "    return np.mean(map(lambda x: x.label, data))\n",
    "\n",
    "averaged_by_chunk = all_data.map(lambda x: (x[0], average_snow(x[1]))).cache()\n",
    "averaged_by_chunk.count()"
   ]
  },
  {
   "cell_type": "code",
   "execution_count": 19,
   "metadata": {
    "collapsed": false,
    "deletable": true,
    "editable": true
   },
   "outputs": [],
   "source": [
    "img_flat = averaged_by_chunk.collect()"
   ]
  },
  {
   "cell_type": "markdown",
   "metadata": {
    "deletable": true,
    "editable": true
   },
   "source": [
    "Here is how our original data looked like."
   ]
  },
  {
   "cell_type": "code",
   "execution_count": 20,
   "metadata": {
    "collapsed": false,
    "deletable": true,
    "editable": true
   },
   "outputs": [
    {
     "data": {
      "text/plain": [
       "<matplotlib.colorbar.Colorbar at 0x8843a50>"
      ]
     },
     "execution_count": 20,
     "metadata": {},
     "output_type": "execute_result"
    },
    {
     "data": {
      "image/png": "[encoded data removed]",
      "text/plain": [
       "<matplotlib.figure.Figure at 0x82d4750>"
      ]
     },
     "metadata": {},
     "output_type": "display_data"
    }
   ],
   "source": [
    "img = np.array(img_flat)[:, 1].reshape(100, 100, order='F').astype('float')\n",
    "plt.imshow(img, cmap='winter')\n",
    "plt.colorbar()"
   ]
  },
  {
   "cell_type": "markdown",
   "metadata": {
    "deletable": true,
    "editable": true
   },
   "source": [
    "Now, instead of drawing the original Snow/Ice component of our pixels, we will instead use our classifier to predict that value and then draw that one instead."
   ]
  },
  {
   "cell_type": "code",
   "execution_count": 21,
   "metadata": {
    "collapsed": false,
    "deletable": true,
    "editable": true
   },
   "outputs": [
    {
     "name": "stderr",
     "output_type": "stream",
     "text": [
      "/usr/hdp/current/spark-client/python/pyspark/sql/context.py:209: UserWarning: Using RDD of dict to inferSchema is deprecated. Use pyspark.sql.Row instead\n",
      "  warnings.warn(\"Using RDD of dict to inferSchema is deprecated. \"\n"
     ]
    }
   ],
   "source": [
    "all_df = all_data.flatMap(lambda x: [{'x': x[0][0], 'y': x[0][1], 'features': p.features, 'label': p.label} for p in x[1]]).toDF()"
   ]
  },
  {
   "cell_type": "code",
   "execution_count": 22,
   "metadata": {
    "collapsed": false,
    "deletable": true,
    "editable": true
   },
   "outputs": [],
   "source": [
    "groups = transformer.transform(all_df).map(lambda x: ((x.x, x.y), model.predict(x.scaledFeatures))).groupByKey().cache()"
   ]
  },
  {
   "cell_type": "code",
   "execution_count": 23,
   "metadata": {
    "collapsed": false,
    "deletable": true,
    "editable": true
   },
   "outputs": [],
   "source": [
    "averaged_by_chunk = groups.map(lambda g: (g[0], np.mean(list(g[1])))).collect()"
   ]
  },
  {
   "cell_type": "code",
   "execution_count": 24,
   "metadata": {
    "collapsed": false,
    "deletable": true,
    "editable": true
   },
   "outputs": [],
   "source": [
    "img = np.zeros((100, 100))\n",
    "for x in np.array(averaged_by_chunk):\n",
    "    pos, v = x\n",
    "    img[pos[1]][pos[0]] = v"
   ]
  },
  {
   "cell_type": "markdown",
   "metadata": {
    "deletable": true,
    "editable": true
   },
   "source": [
    "### Final result\n",
    "\n",
    "Here's how our classifier estimated snow. It looks roughly the same as the original one, except it looks to be slightly more permissive for the snow class."
   ]
  },
  {
   "cell_type": "code",
   "execution_count": 25,
   "metadata": {
    "collapsed": false,
    "deletable": true,
    "editable": true
   },
   "outputs": [
    {
     "data": {
      "text/plain": [
       "<matplotlib.colorbar.Colorbar at 0x8cfb310>"
      ]
     },
     "execution_count": 25,
     "metadata": {},
     "output_type": "execute_result"
    },
    {
     "data": {
      "image/png": "[encoded data removed]",
      "text/plain": [
       "<matplotlib.figure.Figure at 0x8749410>"
      ]
     },
     "metadata": {},
     "output_type": "display_data"
    }
   ],
   "source": [
    "plt.imshow(img, cmap='winter')\n",
    "plt.colorbar()"
   ]
  }
 ],
 "metadata": {
  "kernelspec": {
   "display_name": "Python 2",
   "language": "python",
   "name": "python2"
  },
  "language_info": {
   "codemirror_mode": {
    "name": "ipython",
    "version": 2
   },
   "file_extension": ".py",
   "mimetype": "text/x-python",
   "name": "python",
   "nbconvert_exporter": "python",
   "pygments_lexer": "ipython2",
   "version": "2.7.5"
  }
 },
 "nbformat": 4,
 "nbformat_minor": 0
}

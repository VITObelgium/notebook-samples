{
 "cells": [
  {
   "cell_type": "markdown",
   "metadata": {},
   "source": [
    "# Quickstart on MEP using Spark"
   ]
  },
  {
   "cell_type": "markdown",
   "metadata": {},
   "source": [
    "This notebook shows the MEP quickstart sample, which also exists as a non-notebook version at:\n",
    "https://git.vito.be/projects/BIGGEO/repos/python-spark-quickstart/browse\n",
    "\n",
    "It shows how to use Spark (http://spark.apache.org/) for distributed processing on the PROBA-V Mission Exploitation Platform. (https://proba-v-mep.esa.int/) The sample intentionally implements a very simple computation: for each PROBA-V tile in a given bounding box and time range, a histogram is computed. The results are then summed and printed. Computation of the histograms runs in parallel.\n",
    "## First step: get file paths\n",
    "A catalog API is available to easily retrieve paths to PROBA-V files:\n",
    "https://readthedocs.org/projects/mep-catalogclient/"
   ]
  },
  {
   "cell_type": "code",
   "execution_count": 4,
   "metadata": {},
   "outputs": [],
   "source": [
    "# from catalogclient import catalog\n",
    "from terracatalogueclient import Catalogue\n",
    "# intialize the catalogueclient\n",
    "catalogue = Catalogue()"
   ]
  },
  {
   "cell_type": "code",
   "execution_count": 5,
   "metadata": {
    "collapsed": true,
    "jupyter": {
     "outputs_hidden": true
    },
    "tags": []
   },
   "outputs": [
    {
     "name": "stdout",
     "output_type": "stream",
     "text": [
      "urn:eop:VITO:CGS_S1_GRD_L1:Sentinel-1 Level-1 Ground Range Detected (GRD) products\n",
      "urn:eop:VITO:CGS_S1_GRD_SIGMA0_L1:Sentinel-1 Level-1 Ground Range Detected (GRD) SIGMA0 products\n",
      "urn:eop:VITO:CGS_S1_SLC_L1:Sentinel-1 Level-1 Single Look Complex (SLC) products.\n",
      "urn:eop:VITO:CGS_S2_L1C:Sentinel-2 Level-1C MSI product contains Top-of-atmosphere reflectances in cartographic geometry\n",
      "urn:eop:VITO:COP_DEM_EU_25M:Copernicus European Digital Elevation Model (EU-DEM), version 1.1 in 25m resolution\n",
      "urn:eop:VITO:COP_DEM_GLO_30M_COG:Copernicus Global 30 meter Digital Elevation Model dataset in COG format  \n",
      "urn:eop:VITO:COP_DEM_GLO_90M_COG:Copernicus Global 90 meter Digital Elevation Model dataset in COG format\n",
      "urn:eop:VITO:ESA_WORLDCEREAL_ACTIVECROPLAND_V1:ESA WorldCereal products for active cropland per agro-ecological zone - V1\n",
      "urn:eop:VITO:ESA_WORLDCEREAL_IRRIGATION_V1:ESA WorldCereal products for active irrigation per agro-ecological zone - V1\n",
      "urn:eop:VITO:ESA_WORLDCEREAL_MAIZE_V1:ESA WorldCereal products for maize per agro-ecological zone - V1\n",
      "urn:eop:VITO:ESA_WORLDCEREAL_SPRINGCEREALS_V1:ESA WorldCereal products for springcereals per agro-ecological zone - V1\n",
      "urn:eop:VITO:ESA_WORLDCEREAL_TEMPORARYCROPS_V1:ESA WorldCereal products for temporary crops per agro-ecological zone - V1\n",
      "urn:eop:VITO:ESA_WORLDCEREAL_WINTERCEREALS_V1:ESA WorldCereal products for wintercereals per agro-ecological zone - V1\n",
      "urn:eop:VITO:ESA_WorldCover_10m_2020_AWS_V1:ESA WorldCover products 10 meter COG format on AWS\n",
      "urn:eop:VITO:ESA_WorldCover_10m_2020_V1:ESA WorldCover 2020 products 10 meter COG format  \n",
      "urn:eop:VITO:ESA_WorldCover_10m_2021_AWS_V2:ESA WorldCover 2021 products 10 meter COG format on AWS\n",
      "urn:eop:VITO:ESA_WorldCover_10m_2021_V2:ESA WorldCover 2021 products 10 meter COG format\n",
      "urn:eop:VITO:ESA_WorldCover_NDVI_10m_2020_V1:ESA WorldCover Sentinel-2 yearly NDVI percentiles color composite 2020, 10 meter COG format\n",
      "urn:eop:VITO:ESA_WorldCover_NDVI_10m_2021_V2:ESA WorldCover Sentinel-2 yearly NDVI percentiles color composite 2021, 10 meter COG format\n",
      "urn:eop:VITO:ESA_WorldCover_S1VVVHratio_10m_2020_V1:ESA WorldCover Sentinel-1 color image 2020, 10 meter COG format\n",
      "urn:eop:VITO:ESA_WorldCover_S1VVVHratio_10m_2021_V2:ESA WorldCover Sentinel-1 color image 2021, 10 meter COG format\n",
      "urn:eop:VITO:ESA_WorldCover_S2RGBNIR_10m_2020_V1:ESA WorldCover Sentinel-2 color image 2020, 10 meter COG format\n",
      "urn:eop:VITO:ESA_WorldCover_S2RGBNIR_10m_2021_V2:ESA WorldCover Sentinel-2 color image 2021, 10 meter COG format\n",
      "urn:eop:VITO:ESA_WorldCover_SWIR_10m_2020_V1:ESA WorldCover Sentinel-2 yearly SWIR median composite 2020, 10 meter COG format\n",
      "urn:eop:VITO:ESA_WorldCover_SWIR_10m_2021_V2:ESA WorldCover Sentinel-2 yearly SWIR median composite 2021, 10 meter COG format\n",
      "urn:eop:VITO:MAPEO_WATER_CHL_V1:MapEO Water Chlorophyll-a (CHL) Products - V1\n",
      "urn:eop:VITO:MAPEO_WATER_RHOW_V1:MapEO Water Water-Leaving Reflectance (RHOW) Products - V1\n",
      "urn:eop:VITO:MAPEO_WATER_SPM_V1:MapEO Water Suspended Particulate Matter (SPM) Products - V1\n",
      "urn:eop:VITO:MAPEO_WATER_TUR_V1:MapEO Water Turbidity (TUR) Products - V1\n",
      "urn:eop:VITO:PROBAV_L1C_HDF_V2:PROBA-V L1C: radiometrically corrected raw data, given per strip/camera, HDF format - Collection 2\n",
      "urn:eop:VITO:PROBAV_L2A_100M_COG_V2:PROBA-V L2A: 100M projected segment data, COG format - Collection 2\n",
      "urn:eop:VITO:PROBAV_L2A_100M_HDF_V2:PROBA-V L2A: 100M projected segment data, HDF format - Collection 2\n",
      "urn:eop:VITO:PROBAV_L2A_1KM_COG_V2:PROBA-V L2A: 1KM projected segment data, COG format - Collection 2\n",
      "urn:eop:VITO:PROBAV_L2A_1KM_HDF_V2:PROBA-V L2A: 1KM projected segment data, HDF format - Collection 2\n",
      "urn:eop:VITO:PROBAV_L2A_333M_COG_V2:PROBA-V L2A: 300M projected segment data, COG format - Collection 2\n",
      "urn:eop:VITO:PROBAV_L2A_333M_HDF_V2:PROBA-V L2A: 300M projected segment data, HDF format- Collection 2\n",
      "urn:eop:VITO:PROBAV_S10_TOC_1KM_COG_V2:PROBA-V S10 TOC 1 km COG: 10-day synthesis of S1s as Maximum Value Compositing (MVC), COG format - Collection 2\n",
      "urn:eop:VITO:PROBAV_S10_TOC_1KM_HDF_V2:PROBA-V S10 TOC 1 km HDF: 10-day synthesis of S1s as Maximum Value Compositing (MVC), HDF format - Collection 2\n",
      "urn:eop:VITO:PROBAV_S10_TOC_333M_COG_V2:PROBA-V S10 TOC 300 m COG: Decadal synthesis of S1's as Maximum Value Compositing (MVC), COG format - Collection 2\n",
      "urn:eop:VITO:PROBAV_S10_TOC_333M_HDF_V2:PROBA-V S10 TOC 300 m HDF: Decadal synthesis of S1's as Maximum Value Compositing (MVC), HDF format - Collection 2\n",
      "urn:eop:VITO:PROBAV_S10_TOC_NDVI_1KM_COG_V2:PROBA-V S10 TOC NDVI 1 km COG: 10-day NDVI synthesis of S1s as Maximum Value Compositing (MVC), COG format, COG format - Collection 2\n",
      "urn:eop:VITO:PROBAV_S10_TOC_NDVI_1KM_HDF_V2:PROBA-V S10 TOC NDVI 1 km HDF: 10-day NDVI synthesis of S1s as Maximum Value Compositing (MVC), HDF format- Collection 2\n",
      "urn:eop:VITO:PROBAV_S10_TOC_NDVI_333M_COG_V2:PROBA-V S10 TOC NDVI 300 m COG: 10-day synthesis of S1s TOC as Maximum Value Compositing (MVC), COG format - Collection 2\n",
      "urn:eop:VITO:PROBAV_S10_TOC_NDVI_333M_HDF_V2:PROBA-V S10 TOC NDVI 300 m HDF: 10-day synthesis of S1s TOC as Maximum Value Compositing (MVC), HDF format - Collection 2\n",
      "urn:eop:VITO:PROBAV_S1_TOA_100M_COG_V2:PROBA-V S1 TOA 100m COG: 100 m resolution best-quality daily synthesis, COG format. Maximum Value Compositing (MVC) is applied - Collection 2\n",
      "urn:eop:VITO:PROBAV_S1_TOA_100M_HDF_V2:PROBA-V S1 TOA 100 m HDF: 100 m resolution best-quality daily synthesis, HDF format. Maximum Value Compositing (MVC) is applied - Collection 2\n",
      "urn:eop:VITO:PROBAV_S1_TOA_1KM_COG_V2:PROBA-V S1 TOA 1 km COG: 1 km resolution best-quality daily synthesis, COG format. Maximum Value Compositing (MVC) is applied - Collection 2\n",
      "urn:eop:VITO:PROBAV_S1_TOA_1KM_HDF_V2:PROBA-V S1 TOA 1 km HDF: 1 km resolution best-quality daily synthesis, HDF format. Maximum Value Compositing (MVC) is applied - Collection 2\n",
      "urn:eop:VITO:PROBAV_S1_TOA_333M_COG_V2:PROBA-V S1 TOA 300 m COG: 300 m resolution best-quality daily synthesis, COG format. Maximum Value Compositing (MVC) is applied - Collection 2\n",
      "urn:eop:VITO:PROBAV_S1_TOA_333M_HDF_V2:PROBA-V S1 TOA 300 m HDF: 300 m resolution best-quality daily synthesis, HDF format. Maximum Value Compositing (MVC) is applied - Collection 2\n",
      "urn:eop:VITO:PROBAV_S1_TOC_100M_COG_V2:PROBA-V S1 TOC 100 m COG: Data corrected for atmospheric effects with the SMAC (Simplified Method for Atmosheric Corrections) algorithm, COG format - Collection 2\n",
      "urn:eop:VITO:PROBAV_S1_TOC_100M_HDF_V2:PROBA-V S1 TOC 100 m HDF: Data corrected for atmospheric effects with the SMAC (Simplified Method for Atmosheric Corrections) algorithm, HDF format - Collection 2\n",
      "urn:eop:VITO:PROBAV_S1_TOC_1KM_COG_V2:PROBA-V S1 TOC 1 km COG: Data corrected for atmospheric effects with the SMAC (Simplified Method for Atmosheric Corrections) algorithm, COG format - Collection 2\n",
      "urn:eop:VITO:PROBAV_S1_TOC_1KM_HDF_V2:PROBA-V S1 TOC 1 km HDF: Data corrected for atmospheric effects with the SMAC (Simplified Method for Atmosheric Corrections) algorithm, HDF format - Collection 2\n",
      "urn:eop:VITO:PROBAV_S1_TOC_333M_COG_V2:PROBA-V S1 TOC 300 m COG: Data corrected for atmospheric effects with the SMAC (Simplified Method for Atmosheric Corrections) algorithm, COG format - Collection 2\n",
      "urn:eop:VITO:PROBAV_S1_TOC_333M_HDF_V2:PROBA-V S1 TOC 300 m HDF: Data corrected for atmospheric effects with the SMAC (Simplified Method for Atmosheric Corrections) algorithm, HDF format - Collection 2\n",
      "urn:eop:VITO:PROBAV_S1_TOC_NDVI_100M_COG_V2:PROBA-V S1 TOC NDVI 100 m COG: Data corrected for atmospheric effects with the SMAC (Simplified Method for Atmosheric Corrections) algorithm, COG format - Collection 2\n",
      "urn:eop:VITO:PROBAV_S1_TOC_NDVI_100M_HDF_V2:PROBA-V S1 NDVI TOC 100 m HDF: Data corrected for atmospheric effects with the SMAC (Simplified Method for Atmosheric Corrections) algorithm, HDF format - Collection 2\n",
      "urn:eop:VITO:PROBAV_S5_TOA_100M_COG_V2:PROBA-V S5 TOA 100 m COG: 100 m resolution best-quality daily synthesis, COG format. Maximum Value Compositing (MVC) is applied - Collection 2\n",
      "urn:eop:VITO:PROBAV_S5_TOA_100M_HDF_V2:PROBA-V S5 TOA 100 m HDF: 100 m resolution best-quality 5-daily synthesis, HDF format. Maximum Value Compositing (MVC) is applied - Collection 2\n",
      "urn:eop:VITO:PROBAV_S5_TOC_100M_COG_V2:PROBA-V S5 TOC 100 m COG: Data corrected for atmospheric effects with the SMAC (Simplified Method for Atmosheric Corrections) algorithm, COG format - Collection 2\n",
      "urn:eop:VITO:PROBAV_S5_TOC_100M_HDF_V2:PROBA-V S5 TOC 100 m HDF: Data corrected for atmospheric effects with the SMAC (Simplified Method for Atmosheric Corrections) algorithm, HDF format - Collection 2\n",
      "urn:eop:VITO:PROBAV_S5_TOC_NDVI_100M_COG_V2:PROBA-V S5 TOC NDVI 100 m COG: Data corrected for atmospheric effects with the SMAC (Simplified Method for Atmosheric Corrections) algorithm, COG format - Collection 2\n",
      "urn:eop:VITO:PROBAV_S5_TOC_NDVI_100M_HDF_V2:PROBA-V S5 TOC NDVI 100 m HDF: Data corrected for atmospheric effects with the SMAC (Simplified Method for Atmosheric Corrections) algorithm, HDF format - Collection 2\n",
      "urn:eop:VITO:TERRASCOPE_S1_SLC_COHERENCE_V1:Sentinel-1 Level-1 Single Look Complex (SLC) Coherence products.\n",
      "urn:eop:VITO:TERRASCOPE_S2_CCC_V2:Sentinel-2 Chlorophyll Canopy Content Index (CCC) (tiles) - V2\n",
      "urn:eop:VITO:TERRASCOPE_S2_CHL_V1:Sentinel-2 Chlorophyll-a (CHL) (tiles) - V1\n",
      "urn:eop:VITO:TERRASCOPE_S2_CWC_V2:Sentinel-2 Chlorophyll Water Content Index (CWC) (tiles) - V2\n",
      "urn:eop:VITO:TERRASCOPE_S2_FAPAR_V2:Sentinel-2 Fraction Absorbed Photosynthetically Radiation (FAPAR) (tiles) - V2\n",
      "urn:eop:VITO:TERRASCOPE_S2_FCOVER_V2:Sentinel-2 Fraction of Vegetation Cover (FCOVER) (tiles) - V2\n",
      "urn:eop:VITO:TERRASCOPE_S2_LAI_V2:Sentinel-2 Leaf Area index (LAI) (tiles) - V2\n",
      "urn:eop:VITO:TERRASCOPE_S2_NDVI_V2:Sentinel-2 Normalized Difference Vegetation Index (NDVI) (tiles) - V2\n",
      "urn:eop:VITO:TERRASCOPE_S2_RHOW_V1:Sentinel-2 Water-Leaving Reflectance (RHOW) Products (tiles) - V1\n",
      "urn:eop:VITO:TERRASCOPE_S2_SPM_V1:Sentinel-2 Suspended Particulate Matter (SPM) (tiles) - V1\n",
      "urn:eop:VITO:TERRASCOPE_S2_TOC_V2:Sentinel-2 Top of Canopy (TOC) Products (tiles) - V2\n",
      "urn:eop:VITO:TERRASCOPE_S2_TUR_V1:Sentinel-2 Turbidity (TUR) (tiles) - V1\n",
      "urn:eop:VITO:TERRASCOPE_S3_SY_2_V10_V1:Sentinel-3 Level 2 Synergy 1 km VEGETATION-Like 10-daily synthesis TOC reflectance and NDVI  - V1\n",
      "urn:eop:VITO:TERRASCOPE_S3_SY_2_VG1_V1:Sentinel-3 Level 2 Synergy 1 km VEGETATION-Like daily synthesis TOC reflectance and NDVI  - V1\n",
      "urn:eop:VITO:TERRASCOPE_S5P_L3_CH4_TD_V1:Sentinel-5P Level-3 CH4 Daily Product - V1\n",
      "urn:eop:VITO:TERRASCOPE_S5P_L3_CH4_TD_V2:Sentinel-5P Level-3 CH4 Daily Product - V2\n",
      "urn:eop:VITO:TERRASCOPE_S5P_L3_CH4_TM_V1:Sentinel-5P Level-3 CH4 Monthly Product - V1\n",
      "urn:eop:VITO:TERRASCOPE_S5P_L3_CH4_TM_V2:Sentinel-5P Level-3 CH4 Monthly Product - V2\n",
      "urn:eop:VITO:TERRASCOPE_S5P_L3_CH4_TY_V1:Sentinel-5P Level-3 CH4 Yearly Product - V1\n",
      "urn:eop:VITO:TERRASCOPE_S5P_L3_CH4_TY_V2:Sentinel-5P Level-3 CH4 Yearly Product - V2\n",
      "urn:eop:VITO:TERRASCOPE_S5P_L3_CO_TD_V1:Sentinel-5P Level-3 CO Daily Product - V1\n",
      "urn:eop:VITO:TERRASCOPE_S5P_L3_CO_TD_V2:Sentinel-5P Level-3 CO Daily Product - V2\n",
      "urn:eop:VITO:TERRASCOPE_S5P_L3_CO_TM_V1:Sentinel-5P Level-3 CO Monthly Product - V1\n",
      "urn:eop:VITO:TERRASCOPE_S5P_L3_CO_TM_V2:Sentinel-5P Level-3 CO Monthly Product - V2\n",
      "urn:eop:VITO:TERRASCOPE_S5P_L3_CO_TY_V1:Sentinel-5P Level-3 CO Yearly Product - V1\n",
      "urn:eop:VITO:TERRASCOPE_S5P_L3_CO_TY_V2:Sentinel-5P Level-3 CO Yearly Product - V2\n",
      "urn:eop:VITO:TERRASCOPE_S5P_L3_HCHO_TD_V1:Sentinel-5P Level-3 HCHO Daily Product - V1\n",
      "urn:eop:VITO:TERRASCOPE_S5P_L3_HCHO_TD_V2:Sentinel-5P Level-3 HCHO Daily Product - V2\n",
      "urn:eop:VITO:TERRASCOPE_S5P_L3_HCHO_TM_V1:Sentinel-5P Level-3 HCHO Monthly Product\n",
      "urn:eop:VITO:TERRASCOPE_S5P_L3_HCHO_TM_V2:Sentinel-5P Level-3 HCHO Monthly Product - V2\n",
      "urn:eop:VITO:TERRASCOPE_S5P_L3_HCHO_TY_V1:Sentinel-5P Level-3 HCHO Yearly Product\n",
      "urn:eop:VITO:TERRASCOPE_S5P_L3_HCHO_TY_V2:Sentinel-5P Level-3 HCHO Yearly Product - V2\n",
      "urn:eop:VITO:TERRASCOPE_S5P_L3_NO2_TD_V1:Sentinel-5P Level-3 NO2 Daily Product\n",
      "urn:eop:VITO:TERRASCOPE_S5P_L3_NO2_TD_V2:Sentinel-5P Level-3 NO2 Daily Product - V2\n",
      "urn:eop:VITO:TERRASCOPE_S5P_L3_NO2_TM_V1:Sentinel-5P Level-3 NO2 Monthly Product\n",
      "urn:eop:VITO:TERRASCOPE_S5P_L3_NO2_TM_V2:Sentinel-5P Level-3 NO2 Monthly Product V2\n",
      "urn:eop:VITO:TERRASCOPE_S5P_L3_NO2_TY_V1:Sentinel-5P Level-3 NO2 Yearly Product\n",
      "urn:eop:VITO:TERRASCOPE_S5P_L3_NO2_TY_V2:Sentinel-5P Level-3 NO2 Yearly Product - V2\n",
      "urn:ogc:def:EOP:VITO:VGT_P:Physical products of SPOT VEGETATION (VGT-P)\n",
      "urn:ogc:def:EOP:VITO:VGT_S1:Global 1 Day Synthesis of SPOT VEGETATION Images (VGT-S1)\n",
      "urn:ogc:def:EOP:VITO:VGT_S10:Global 10 Days Synthesis of SPOT VEGETATION Images (VGT-S10)\n"
     ]
    }
   ],
   "source": [
    "# check the catalogs\n",
    "collections = catalogue.get_collections()\n",
    "for collection in collections:\n",
    "    print(f\"{collection.id}:{collection.properties['title']}\")"
   ]
  },
  {
   "cell_type": "code",
   "execution_count": 6,
   "metadata": {
    "collapsed": true,
    "jupyter": {
     "outputs_hidden": true
    },
    "tags": []
   },
   "outputs": [
    {
     "name": "stdout",
     "output_type": "stream",
     "text": [
      "urn:eop:VITO:PROBAV_L1C_HDF_V2, format HDF5, resolution [1000] m\n",
      "urn:eop:VITO:PROBAV_L2A_100M_COG_V2, format geotiff, resolution [100] m\n",
      "urn:eop:VITO:PROBAV_L2A_100M_HDF_V2, format HDF5, resolution [100] m\n",
      "urn:eop:VITO:PROBAV_L2A_1KM_COG_V2, format geotiff, resolution [1000] m\n",
      "urn:eop:VITO:PROBAV_L2A_1KM_HDF_V2, format HDF5, resolution [1000] m\n",
      "urn:eop:VITO:PROBAV_L2A_333M_COG_V2, format geotiff, resolution [333] m\n",
      "urn:eop:VITO:PROBAV_L2A_333M_HDF_V2, format HDF5, resolution [333] m\n",
      "urn:eop:VITO:PROBAV_S10_TOC_1KM_COG_V2, format geotiff, resolution [1000] m\n",
      "urn:eop:VITO:PROBAV_S10_TOC_1KM_HDF_V2, format HDF5, resolution [1000] m\n",
      "urn:eop:VITO:PROBAV_S10_TOC_333M_COG_V2, format geotiff, resolution [333] m\n",
      "urn:eop:VITO:PROBAV_S10_TOC_333M_HDF_V2, format HDF5, resolution [333] m\n",
      "urn:eop:VITO:PROBAV_S10_TOC_NDVI_1KM_COG_V2, format geotiff, resolution [1000] m\n",
      "urn:eop:VITO:PROBAV_S10_TOC_NDVI_1KM_HDF_V2, format HDF5, resolution [1000] m\n",
      "urn:eop:VITO:PROBAV_S10_TOC_NDVI_333M_COG_V2, format geotiff, resolution [333] m\n",
      "urn:eop:VITO:PROBAV_S10_TOC_NDVI_333M_HDF_V2, format HDF5, resolution [333] m\n",
      "urn:eop:VITO:PROBAV_S1_TOA_100M_COG_V2, format geotiff, resolution [100] m\n",
      "urn:eop:VITO:PROBAV_S1_TOA_100M_HDF_V2, format HDF5, resolution [100] m\n",
      "urn:eop:VITO:PROBAV_S1_TOA_1KM_COG_V2, format geotiff, resolution [1000] m\n",
      "urn:eop:VITO:PROBAV_S1_TOA_1KM_HDF_V2, format HDF5, resolution [1000] m\n",
      "urn:eop:VITO:PROBAV_S1_TOA_333M_COG_V2, format geotiff, resolution [333] m\n",
      "urn:eop:VITO:PROBAV_S1_TOA_333M_HDF_V2, format HDF5, resolution [333] m\n",
      "urn:eop:VITO:PROBAV_S1_TOC_100M_COG_V2, format geotiff, resolution [100] m\n",
      "urn:eop:VITO:PROBAV_S1_TOC_100M_HDF_V2, format HDF5, resolution [100] m\n",
      "urn:eop:VITO:PROBAV_S1_TOC_1KM_COG_V2, format geotiff, resolution [1000] m\n",
      "urn:eop:VITO:PROBAV_S1_TOC_1KM_HDF_V2, format HDF5, resolution [1000] m\n",
      "urn:eop:VITO:PROBAV_S1_TOC_333M_COG_V2, format geotiff, resolution [333] m\n",
      "urn:eop:VITO:PROBAV_S1_TOC_333M_HDF_V2, format HDF5, resolution [333] m\n",
      "urn:eop:VITO:PROBAV_S1_TOC_NDVI_100M_COG_V2, format geotiff, resolution [100] m\n",
      "urn:eop:VITO:PROBAV_S1_TOC_NDVI_100M_HDF_V2, format HDF5, resolution [100] m\n",
      "urn:eop:VITO:PROBAV_S5_TOA_100M_COG_V2, format geotiff, resolution [100] m\n",
      "urn:eop:VITO:PROBAV_S5_TOA_100M_HDF_V2, format HDF5, resolution [100] m\n",
      "urn:eop:VITO:PROBAV_S5_TOC_100M_COG_V2, format geotiff, resolution [100] m\n",
      "urn:eop:VITO:PROBAV_S5_TOC_100M_HDF_V2, format HDF5, resolution [100] m\n",
      "urn:eop:VITO:PROBAV_S5_TOC_NDVI_100M_COG_V2, format geotiff, resolution [100] m\n",
      "urn:eop:VITO:PROBAV_S5_TOC_NDVI_100M_HDF_V2, format HDF5, resolution [100] m\n"
     ]
    }
   ],
   "source": [
    "#let's filter on collections derived from ProbaV data and show resulution\n",
    "collections = catalogue.get_collections(platform=\"PROBA-V\")\n",
    "for collection in collections:\n",
    "    print(\"{}, format {}, resolution {} m\".format(collection.id,\n",
    "                                                  collection.properties[\"productInformation\"][\"format\"],\n",
    "                                                  collection.properties[\"productInformation\"][\"resolution\"]))"
   ]
  },
  {
   "cell_type": "code",
   "execution_count": 7,
   "metadata": {},
   "outputs": [
    {
     "name": "stdout",
     "output_type": "stream",
     "text": [
      "Found 4 files.\n",
      "urn:eop:VITO:PROBAV_S10_TOC_NDVI_333M_COG_V2:PROBAV_S10_TOC_NDVI_X18Y02_20160101_333M_V201\n",
      "/data/MTDA/PROBAV_C2/COG/PROBAV_L3_S10_TOC_NDVI_333M/2016/20160101/PROBAV_S10_TOC_NDVI_20160101_333M_V201/PROBAV_S10_TOC_NDVI_X18Y02_20160101_333M_NDVI_V201.TIFF: TIFF image data, little-endian\n"
     ]
    }
   ],
   "source": [
    "date = \"2016-01-01\"\n",
    "products = list(catalogue.get_products('urn:eop:VITO:PROBAV_S10_TOC_NDVI_333M_COG_V2', \n",
    "                            \n",
    "                            start=date, \n",
    "                            end=date, \n",
    "                            bbox=[0,36,10,53],accessedFrom=\"MEP\"))\n",
    "#extract NDVI geotiff files from product metadata\n",
    "        \n",
    "print('Found '+str(len(products)) + ' files.')\n",
    "print(products[0])\n",
    "\n",
    "# Extract local paths\n",
    "files = [str(pf.href)[7:] for p in products for pf in p.data]\n",
    "\n",
    "#check if file exists\n",
    "!file {files[0]}"
   ]
  },
  {
   "cell_type": "markdown",
   "metadata": {},
   "source": [
    "## Second step: define function to apply\n",
    "Define the histogram function, this can also be done inline, which allows for a faster feedback loop when writing the code, but here we want to clearly separate the processing 'algorithm' from the parallelization code."
   ]
  },
  {
   "cell_type": "code",
   "execution_count": 8,
   "metadata": {},
   "outputs": [],
   "source": [
    "# Calculates the histogram for a given (single band) image file.\n",
    "def histogram(image_file):\n",
    "    \n",
    "    import numpy as np\n",
    "    import gdal\n",
    "    \n",
    "    \n",
    "    # Open image file\n",
    "    img = gdal.Open(image_file)\n",
    "    \n",
    "    if img is None:\n",
    "        print( '-ERROR- Unable to open image file \"%s\"' % image_file )\n",
    "    \n",
    "    # Open raster band (first band)\n",
    "    raster = img.GetRasterBand(1)    \n",
    "    xSize = img.RasterXSize\n",
    "    ySize = img.RasterYSize\n",
    "    \n",
    "    # Read raster data\n",
    "    data = raster.ReadAsArray(0, 0, xSize, ySize)\n",
    "        \n",
    "    # Calculate histogram\n",
    "    hist, _ = np.histogram(data, bins=256)\n",
    "    return hist\n"
   ]
  },
  {
   "cell_type": "markdown",
   "metadata": {},
   "source": [
    "## Third step: setup Spark\n",
    "To work on the processing cluster, we need to specify the resources we want:\n",
    "\n",
    "* spark.executor.cores: Number of cores per executor. Usually our tasks are single threaded, so 1 is a good default.\n",
    "* spark.executor.memory: memory to assign per executor. For the Java/Spark processing, not the Python part.\n",
    "* spark.yarn.executor.memoryOverhead: memory available for Python in each executor.\n",
    "\n",
    "We set up the SparkConf with these parameters, and create a SparkContext sc, which will be our access point to the cluster."
   ]
  },
  {
   "cell_type": "code",
   "execution_count": 9,
   "metadata": {},
   "outputs": [
    {
     "name": "stdout",
     "output_type": "stream",
     "text": [
      "CPU times: user 212 ms, sys: 23.7 ms, total: 236 ms\n",
      "Wall time: 19 s\n"
     ]
    }
   ],
   "source": [
    "%%time\n",
    "# ================================================================\n",
    "# === Calculate the histogram for a given number of files. The ===\n",
    "# === processing is performed by spreading them over a cluster ===\n",
    "# === of Spark nodes.                                          ===\n",
    "# ================================================================\n",
    "\n",
    "from datetime import datetime\n",
    "from operator import add\n",
    "import pyspark\n",
    "import os\n",
    "# Setup the Spark cluster\n",
    "conf = pyspark.SparkConf()\n",
    "conf.set('spark.yarn.executor.memoryOverhead', 512)\n",
    "conf.set('spark.executor.memory', '512m')\n",
    "\n",
    "sc = pyspark.SparkContext(conf=conf)"
   ]
  },
  {
   "cell_type": "markdown",
   "metadata": {},
   "source": [
    "## Fourth step: compute histograms\n",
    "We use a couple of Spark functions to run our job on the cluster. Comments are provided in the code."
   ]
  },
  {
   "cell_type": "code",
   "execution_count": 10,
   "metadata": {},
   "outputs": [
    {
     "data": {
      "text/plain": [
       "'/data/MTDA/PROBAV_C2/COG/PROBAV_L3_S10_TOC_NDVI_333M/2016/20160101/PROBAV_S10_TOC_NDVI_20160101_333M_V201/PROBAV_S10_TOC_NDVI_X18Y02_20160101_333M_NDVI_V201.TIFF'"
      ]
     },
     "execution_count": 10,
     "metadata": {},
     "output_type": "execute_result"
    }
   ],
   "source": [
    "# confirm that files are in local directory\n",
    "files[0]"
   ]
  },
  {
   "cell_type": "code",
   "execution_count": 11,
   "metadata": {
    "scrolled": true
   },
   "outputs": [
    {
     "name": "stdout",
     "output_type": "stream",
     "text": [
      "Sum of 8 histograms: [7419777, 369118, 321208, 379553, 337595, 356208, 363108, 338192, 329695, 342966, 307351, 319770, 290165, 257097, 276476, 275767, 262727, 265111, 222536, 173434, 472451, 210552, 273435, 323724, 332874, 352081, 357942, 366146, 375739, 389370, 357305, 328416, 307390, 285066, 259598, 229796, 208277, 194679, 184153, 178935, 172341, 166085, 162579, 161132, 158542, 157937, 156283, 154815, 155798, 155937, 157140, 157140, 157806, 157556, 159392, 158681, 159116, 160080, 158958, 159288, 158257, 158310, 157975, 156517, 155359, 154995, 152536, 151728, 151007, 149905, 148497, 147302, 147831, 146674, 145408, 145755, 144115, 144107, 143626, 143654, 143761, 143196, 141088, 145660, 143238, 143730, 144961, 144633, 145133, 146238, 146051, 147379, 148088, 148503, 150250, 151445, 151562, 153079, 154247, 155148, 156120, 157762, 159487, 159704, 161257, 163062, 163519, 165979, 165578, 167798, 168500, 169718, 171454, 173147, 173672, 174496, 174667, 176756, 176174, 178404, 179020, 179879, 181393, 180425, 181293, 182167, 182717, 183074, 184628, 185006, 185485, 185696, 188183, 185611, 187445, 187437, 187437, 187261, 187551, 187838, 186402, 187416, 185684, 186393, 185621, 184560, 183695, 182842, 181246, 180762, 179432, 177658, 176988, 175384, 174273, 173965, 171798, 168346, 171353, 168190, 166180, 164805, 163578, 161793, 160593, 158985, 157620, 155916, 151793, 150453, 149619, 146896, 143824, 143037, 139461, 137765, 134143, 133150, 129532, 127155, 123848, 121648, 118876, 115332, 112034, 109007, 106039, 101691, 99109, 96066, 92407, 89031, 85558, 81777, 78396, 75018, 70970, 67379, 64965, 60160, 57013, 206391, 49900, 46638, 43706, 39843, 150620, 58195, 33316, 28228, 25753, 23857, 27166, 19370, 17316, 15754, 13864, 123080, 10862, 10735, 43372, 66702, 7076, 26325, 17378, 6039, 19463, 3512, 2192, 1360, 1017, 816, 6382055, 435, 6934434, 1539712, 11512, 87, 69871, 32, 805688, 109, 4465, 9, 7, 3, 4, 5, 15539782, 6375273, 312601, 0, 0, 0, 5085961, 2250142]\n",
      "CPU times: user 30.2 ms, sys: 12.6 ms, total: 42.8 ms\n",
      "Wall time: 19.5 s\n"
     ]
    }
   ],
   "source": [
    "%%time\n",
    "# Distribute the local file list over the cluster.\n",
    "filesRDD = sc.parallelize(files,len(files))\n",
    "\n",
    "# Apply the 'histogram' function to each filename using 'map', keep the result in memory using 'cache'.\n",
    "hists = filesRDD.map(histogram).cache()\n",
    "\n",
    "count = hists.count()\n",
    "\n",
    "# Combine distributed histograms into a single result\n",
    "total = list(hists.reduce(lambda h, i: map(add, h, i)))\n",
    "hists.unpersist()\n",
    "\n",
    "print( \"Sum of %i histograms: %s\" % (count, total))"
   ]
  },
  {
   "cell_type": "code",
   "execution_count": 12,
   "metadata": {},
   "outputs": [],
   "source": [
    "#stop spark session if we no longer need it\n",
    "sc.stop()"
   ]
  },
  {
   "cell_type": "markdown",
   "metadata": {},
   "source": [
    "## Fifth step: plot our result\n",
    "Plot the array of values as a simple line chart using matplotlib. This is the most basic Python library. More advanced options such as bokeh, mpld3 and seaborn are also available."
   ]
  },
  {
   "cell_type": "code",
   "execution_count": 13,
   "metadata": {},
   "outputs": [
    {
     "data": {
      "image/png": "[encoded data removed]",
      "text/plain": [
       "<Figure size 432x288 with 1 Axes>"
      ]
     },
     "metadata": {
      "needs_background": "light"
     },
     "output_type": "display_data"
    }
   ],
   "source": [
    "%matplotlib inline\n",
    "import matplotlib.pyplot as plt\n",
    "plt.plot(total)\n",
    "plt.show()"
   ]
  },
  {
   "cell_type": "code",
   "execution_count": null,
   "metadata": {},
   "outputs": [],
   "source": []
  },
  {
   "cell_type": "code",
   "execution_count": null,
   "metadata": {},
   "outputs": [],
   "source": []
  }
 ],
 "metadata": {
  "kernelspec": {
   "display_name": "Python 3",
   "language": "python",
   "name": "python3"
  },
  "language_info": {
   "codemirror_mode": {
    "name": "ipython",
    "version": 3
   },
   "file_extension": ".py",
   "mimetype": "text/x-python",
   "name": "python",
   "nbconvert_exporter": "python",
   "pygments_lexer": "ipython3",
   "version": "3.6.8"
  }
 },
 "nbformat": 4,
 "nbformat_minor": 4
}

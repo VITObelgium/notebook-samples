{
 "cells": [
  {
   "cell_type": "markdown",
   "metadata": {},
   "source": [
    "# Snow Detection Using Spark\n",
    "\n",
    "## Introduction\n",
    "\n",
    "In this Jupyter notebook, we will build an SVM classifier for Snow/Ice detection using Spark for the Proba-V 100m Top Of Atmosphere (TOA) Radiometry data.\n",
    "\n",
    "## Data\n",
    "\n",
    "### Radiometry Data\n",
    "\n",
    "The Radiometry file is contained in a GeoTIFF file format. The file contains 4 raster bands:\n",
    "1. RED\n",
    "1. NIR\n",
    "1. BLUE\n",
    "1. SWIR\n",
    "\n",
    "Each raster band is a pixel grid $Y*X$ where each value of the grid represents the TOA Reflectance value for that band for that pixel.\n",
    "\n",
    "### Status Map\n",
    "There is also a status map file containing a single band. For each pixel in that band, the value represents the class of that pixel.\n",
    "\n",
    "In our case, the flag we are interested in is coded in binary as $100$, representing that the corresponding pixel in the Radiometry file is Snow or Ice, as documented in the Proba-V User Manual."
   ]
  },
  {
   "cell_type": "markdown",
   "metadata": {},
   "source": [
    "## Reading the files\n",
    "\n",
    "\n",
    "### Imports\n",
    "\n",
    "We will be using the following libraries / frameworks:\n",
    "1. *numpy*: for numerical processing\n",
    "1. *gdal*: for reading GeoTIFF files\n",
    "1. *seaborn*: for plotting\n",
    "1. *pandas*: for handling small DataFrames\n",
    "1. *spark*"
   ]
  },
  {
   "cell_type": "code",
   "execution_count": 1,
   "metadata": {},
   "outputs": [],
   "source": [
    "import numpy as np\n",
    "import requests\n",
    "import gdal\n",
    "\n",
    "import matplotlib\n",
    "import matplotlib.pyplot as plt\n",
    "import pandas as pd\n",
    "import seaborn as sns\n",
    "%matplotlib inline\n",
    "\n",
    "import pyspark"
   ]
  },
  {
   "cell_type": "markdown",
   "metadata": {},
   "source": [
    "### Setting up the Spark Context\n",
    "\n",
    "In order to be able to access our Spark cluster, we first need to set up our Spark Context.\n",
    "The below snippet shows how to do this and also shows how to modify the default configuration."
   ]
  },
  {
   "cell_type": "code",
   "execution_count": 2,
   "metadata": {},
   "outputs": [],
   "source": [
    "from pyspark.conf import SparkConf\n",
    "conf = SparkConf()\n",
    "conf.set('spark.yarn.executor.memoryOverhead', 1024)\n",
    "conf.set('spark.executor.memory', '8g')\n",
    "conf.set('spark.executor.cores', '2')\n",
    "conf.set('spark.executor.instances',10)\n",
    "sc = pyspark.SparkContext(conf=conf)\n",
    "sqlContext = pyspark.SQLContext(sc)"
   ]
  },
  {
   "cell_type": "markdown",
   "metadata": {},
   "source": [
    "The files are stored in a shared folder as defined below. \n",
    "The complete list of files can be requested using an API, but in our case we will be focusing on an area of the Alps, where there is plenty of Snow/Ice areas.\n",
    "\n",
    "The Radiometry files end with *_RADIOMETRY.tif* whereas the status map ends with *_SM.tif*."
   ]
  },
  {
   "cell_type": "code",
   "execution_count": 3,
   "metadata": {},
   "outputs": [],
   "source": [
    "files = [\n",
    "    \"/data/MTDA/TIFFDERIVED/PROBAV_L3_S5_TOA_100M/2015/20151121/PROBAV_S5_TOA_20151121_100M_V101/PROBAV_S5_TOA_X18Y02_20151121_100M_V101.tif\"\n",
    "]\n",
    "\n",
    "bands = [\n",
    "    \"RED\",\n",
    "    \"NIR\",\n",
    "    \"BLUE\",\n",
    "    \"SWIR\"\n",
    "]\n",
    "\n",
    "def radiometry_file(filename):\n",
    "    return filename[:-4] + \"_RADIOMETRY.tif\"\n",
    "\n",
    "def status_file(filename):\n",
    "    return filename[:-4] + \"_SM.tif\""
   ]
  },
  {
   "cell_type": "markdown",
   "metadata": {},
   "source": [
    "### Processing the files"
   ]
  },
  {
   "cell_type": "markdown",
   "metadata": {},
   "source": [
    "In order to read the files in a parallel manner, we need to instruct Spark to parallelize our list of files."
   ]
  },
  {
   "cell_type": "code",
   "execution_count": 4,
   "metadata": {},
   "outputs": [
    {
     "data": {
      "text/plain": [
       "ParallelCollectionRDD[0] at parallelize at PythonRDD.scala:175"
      ]
     },
     "execution_count": 4,
     "metadata": {},
     "output_type": "execute_result"
    }
   ],
   "source": [
    "data_files = sc.parallelize([(status_file(f), radiometry_file(f)) for f in files]).cache()\n",
    "data_files"
   ]
  },
  {
   "cell_type": "markdown",
   "metadata": {},
   "source": [
    "Because our files are so large, we don't want to read the complete file in a single run. Instead, we will split each file into chunks, read each chunk and then combine the chunks.\n",
    "\n",
    "This will also enable us to distribute the reading of our files to different Spark Executors, so that each Spark Executor reads a specific part of each file."
   ]
  },
  {
   "cell_type": "code",
   "execution_count": 5,
   "metadata": {},
   "outputs": [
    {
     "data": {
      "text/plain": [
       "[{'radiometry': '/data/MTDA/TIFFDERIVED/PROBAV_L3_S5_TOA_100M/2015/20151121/PROBAV_S5_TOA_20151121_100M_V101/PROBAV_S5_TOA_X18Y02_20151121_100M_V101_RADIOMETRY.tif',\n",
       "  'statusmap': '/data/MTDA/TIFFDERIVED/PROBAV_L3_S5_TOA_100M/2015/20151121/PROBAV_S5_TOA_20151121_100M_V101/PROBAV_S5_TOA_X18Y02_20151121_100M_V101_SM.tif',\n",
       "  'x': (800, 100),\n",
       "  'y': (6200, 100)}]"
      ]
     },
     "execution_count": 5,
     "metadata": {},
     "output_type": "execute_result"
    }
   ],
   "source": [
    "def makeSplits( files, splits=100 ):\n",
    "    statusmap, radiometry = files\n",
    "    dataset = gdal.Open(statusmap)\n",
    "    status = dataset.GetRasterBand(1)\n",
    "    del dataset\n",
    "    XSize = status.XSize\n",
    "    YSize = status.YSize\n",
    "    \n",
    "    chunks = []\n",
    "    chunksize = (int(XSize / float(splits)), int(YSize / float(splits)))\n",
    "    for x in range(0, XSize, chunksize[0]):\n",
    "        for y in range(0, YSize, chunksize[1]):\n",
    "            chunks.append({\n",
    "                    'statusmap': statusmap,\n",
    "                    'radiometry': radiometry,\n",
    "                    'x': (x, min(XSize - x, chunksize[0])),\n",
    "                    'y': (y, min(YSize - y, chunksize[1]))\n",
    "                })\n",
    "    \n",
    "    return chunks\n",
    "\n",
    "chunks = data_files.flatMap(makeSplits).repartition(100)\n",
    "chunks.take(1)"
   ]
  },
  {
   "cell_type": "code",
   "execution_count": 6,
   "metadata": {},
   "outputs": [
    {
     "data": {
      "text/plain": [
       "10201"
      ]
     },
     "execution_count": 6,
     "metadata": {},
     "output_type": "execute_result"
    }
   ],
   "source": [
    "chunks.count()"
   ]
  },
  {
   "cell_type": "markdown",
   "metadata": {},
   "source": [
    "We can now define the functions to read each chunk.\n",
    "\n",
    "In this process, what we want to accomplish is to end up with a list such that each element is a single pixel from the GeoTIFF files containing both the corresponding bitmask from the statusmap and the Reflectance for each individual band."
   ]
  },
  {
   "cell_type": "code",
   "execution_count": 7,
   "metadata": {},
   "outputs": [
    {
     "data": {
      "text/plain": [
       "[(251, [1099, 1154, 1225, 567]),\n",
       " (251, [1057, 1117, 1178, 576]),\n",
       " (251, [1056, 1106, 1195, 609]),\n",
       " (251, [1116, 1162, 1244, 632]),\n",
       " (251, [1154, 1207, 1276, 642])]"
      ]
     },
     "execution_count": 7,
     "metadata": {},
     "output_type": "execute_result"
    }
   ],
   "source": [
    "def parseTargets(statusmap, x, y):\n",
    "    dataset = gdal.Open(statusmap)\n",
    "    status = dataset.GetRasterBand(1)\n",
    "    ret = status.ReadAsArray(x[0], y[0], x[1], y[1])\n",
    "    del dataset\n",
    "    return np.array(ret).flatten(order='F').tolist()\n",
    "    \n",
    "def parseFeatures( radiometry, x, y ):\n",
    "    raster = gdal.Open(radiometry)\n",
    "    raster_bands = [ raster.GetRasterBand(i).ReadAsArray(x[0], y[0], x[1], y[1]) for i in xrange(1, raster.RasterCount + 1) ]\n",
    "    # 4 * Y * X\n",
    "    \n",
    "    del raster\n",
    "    raster_bands = np.transpose(raster_bands)\n",
    "    # Y * 4 * X\n",
    "\n",
    "    raster_bands = raster_bands.reshape((len(raster_bands) * len(raster_bands[0]), len(raster_bands[0][0])))\n",
    "    \n",
    "    # Y * X * 4\n",
    "    return raster_bands.tolist()\n",
    "\n",
    "def parseChunk(chunk):\n",
    "    return zip(\n",
    "        parseTargets(chunk['statusmap'], chunk['x'], chunk['y']), \n",
    "        parseFeatures(chunk['radiometry'], chunk['x'], chunk['y'])\n",
    "    )\n",
    "\n",
    "dataset = chunks.flatMap(parseChunk)\n",
    "dataset.take(5)"
   ]
  },
  {
   "cell_type": "markdown",
   "metadata": {},
   "source": [
    "Some pixels contain invalid data. In such cases, one of the Reflectance value will be equal to $-1$.\n",
    "Since those pixels contain incomplete data, we might as well filter them out."
   ]
  },
  {
   "cell_type": "code",
   "execution_count": 8,
   "metadata": {},
   "outputs": [
    {
     "data": {
      "text/plain": [
       "[(243, [1656, 1813, 1449, 1129]),\n",
       " (243, [1700, 1873, 1450, 1174]),\n",
       " (243, [1751, 1937, 1450, 1206]),\n",
       " (243, [1830, 2011, 1451, 1227]),\n",
       " (243, [1900, 2090, 1451, 1235])]"
      ]
     },
     "execution_count": 8,
     "metadata": {},
     "output_type": "execute_result"
    }
   ],
   "source": [
    "def is_valid(row):\n",
    "    for v in row[1]:\n",
    "        if v == -1:\n",
    "            return False\n",
    "    return True\n",
    "\n",
    "dataset = dataset.filter(is_valid).repartition(100)\n",
    "dataset.take(5)"
   ]
  },
  {
   "cell_type": "markdown",
   "metadata": {},
   "source": [
    "As mentioned earlier, the mask for Snow/Ice is $100$. Since we are only interested in those, we can define a function to convert the complete bitmask into a single bit equal to 1 if the pixel is Snow/Ice and 0 otherwise."
   ]
  },
  {
   "cell_type": "code",
   "execution_count": 9,
   "metadata": {},
   "outputs": [
    {
     "data": {
      "text/plain": [
       "[(0, [1356, 1459, 1449, 536]),\n",
       " (0, [1324, 1430, 1404, 521]),\n",
       " (0, [1290, 1381, 1354, 511]),\n",
       " (0, [1239, 1340, 1306, 499]),\n",
       " (0, [1194, 1281, 1264, 487])]"
      ]
     },
     "execution_count": 9,
     "metadata": {},
     "output_type": "execute_result"
    }
   ],
   "source": [
    "def is_snow(row):\n",
    "    return (int(row[0] & 0b100 != 0) , row[1])\n",
    "\n",
    "dataset = dataset.map(is_snow).cache()\n",
    "dataset.take(5)"
   ]
  },
  {
   "cell_type": "markdown",
   "metadata": {},
   "source": [
    "Since this is a dataset we will be using very often, we might as well cache it. The following snippet instructs Spark exactly of this."
   ]
  },
  {
   "cell_type": "code",
   "execution_count": 10,
   "metadata": {},
   "outputs": [],
   "source": [
    "dataset = dataset.cache()"
   ]
  },
  {
   "cell_type": "code",
   "execution_count": 11,
   "metadata": {},
   "outputs": [
    {
     "data": {
      "text/plain": [
       "defaultdict(int, {0: 101558714, 1: 47685})"
      ]
     },
     "execution_count": 11,
     "metadata": {},
     "output_type": "execute_result"
    }
   ],
   "source": [
    "dataset.countByKey()"
   ]
  },
  {
   "cell_type": "markdown",
   "metadata": {},
   "source": [
    "### Visualizing the data\n",
    "\n",
    "Now we are ready to do some visualizations. Before we go further, let's take a balanced sample from our dataset, meaning about the same number of positive (snow/ice) and negative samples. "
   ]
  },
  {
   "cell_type": "code",
   "execution_count": 12,
   "metadata": {
    "scrolled": true
   },
   "outputs": [
    {
     "name": "stdout",
     "output_type": "stream",
     "text": [
      "{0.0: 2.461630225053854e-06, 1.0: 0.005242738806752648}\n"
     ]
    },
    {
     "data": {
      "text/html": [
       "<div>\n",
       "<style scoped>\n",
       "    .dataframe tbody tr th:only-of-type {\n",
       "        vertical-align: middle;\n",
       "    }\n",
       "\n",
       "    .dataframe tbody tr th {\n",
       "        vertical-align: top;\n",
       "    }\n",
       "\n",
       "    .dataframe thead th {\n",
       "        text-align: right;\n",
       "    }\n",
       "</style>\n",
       "<table border=\"1\" class=\"dataframe\">\n",
       "  <thead>\n",
       "    <tr style=\"text-align: right;\">\n",
       "      <th></th>\n",
       "      <th>BLUE</th>\n",
       "      <th>NIR</th>\n",
       "      <th>RED</th>\n",
       "      <th>SWIR</th>\n",
       "      <th>snow</th>\n",
       "    </tr>\n",
       "  </thead>\n",
       "  <tbody>\n",
       "    <tr>\n",
       "      <th>0</th>\n",
       "      <td>1053.0</td>\n",
       "      <td>734.0</td>\n",
       "      <td>765.0</td>\n",
       "      <td>89.0</td>\n",
       "      <td>1</td>\n",
       "    </tr>\n",
       "    <tr>\n",
       "      <th>1</th>\n",
       "      <td>851.0</td>\n",
       "      <td>577.0</td>\n",
       "      <td>577.0</td>\n",
       "      <td>265.0</td>\n",
       "      <td>0</td>\n",
       "    </tr>\n",
       "    <tr>\n",
       "      <th>2</th>\n",
       "      <td>1751.0</td>\n",
       "      <td>1836.0</td>\n",
       "      <td>1740.0</td>\n",
       "      <td>418.0</td>\n",
       "      <td>1</td>\n",
       "    </tr>\n",
       "    <tr>\n",
       "      <th>3</th>\n",
       "      <td>640.0</td>\n",
       "      <td>606.0</td>\n",
       "      <td>489.0</td>\n",
       "      <td>478.0</td>\n",
       "      <td>0</td>\n",
       "    </tr>\n",
       "    <tr>\n",
       "      <th>4</th>\n",
       "      <td>717.0</td>\n",
       "      <td>594.0</td>\n",
       "      <td>555.0</td>\n",
       "      <td>204.0</td>\n",
       "      <td>0</td>\n",
       "    </tr>\n",
       "    <tr>\n",
       "      <th>5</th>\n",
       "      <td>1016.0</td>\n",
       "      <td>832.0</td>\n",
       "      <td>834.0</td>\n",
       "      <td>232.0</td>\n",
       "      <td>1</td>\n",
       "    </tr>\n",
       "    <tr>\n",
       "      <th>6</th>\n",
       "      <td>462.0</td>\n",
       "      <td>648.0</td>\n",
       "      <td>258.0</td>\n",
       "      <td>425.0</td>\n",
       "      <td>0</td>\n",
       "    </tr>\n",
       "    <tr>\n",
       "      <th>7</th>\n",
       "      <td>957.0</td>\n",
       "      <td>972.0</td>\n",
       "      <td>960.0</td>\n",
       "      <td>279.0</td>\n",
       "      <td>1</td>\n",
       "    </tr>\n",
       "    <tr>\n",
       "      <th>8</th>\n",
       "      <td>342.0</td>\n",
       "      <td>323.0</td>\n",
       "      <td>246.0</td>\n",
       "      <td>198.0</td>\n",
       "      <td>0</td>\n",
       "    </tr>\n",
       "    <tr>\n",
       "      <th>9</th>\n",
       "      <td>1324.0</td>\n",
       "      <td>1868.0</td>\n",
       "      <td>1638.0</td>\n",
       "      <td>824.0</td>\n",
       "      <td>0</td>\n",
       "    </tr>\n",
       "    <tr>\n",
       "      <th>10</th>\n",
       "      <td>822.0</td>\n",
       "      <td>700.0</td>\n",
       "      <td>651.0</td>\n",
       "      <td>62.0</td>\n",
       "      <td>1</td>\n",
       "    </tr>\n",
       "    <tr>\n",
       "      <th>11</th>\n",
       "      <td>499.0</td>\n",
       "      <td>491.0</td>\n",
       "      <td>379.0</td>\n",
       "      <td>387.0</td>\n",
       "      <td>0</td>\n",
       "    </tr>\n",
       "    <tr>\n",
       "      <th>12</th>\n",
       "      <td>1412.0</td>\n",
       "      <td>1484.0</td>\n",
       "      <td>1350.0</td>\n",
       "      <td>245.0</td>\n",
       "      <td>1</td>\n",
       "    </tr>\n",
       "    <tr>\n",
       "      <th>13</th>\n",
       "      <td>1359.0</td>\n",
       "      <td>1613.0</td>\n",
       "      <td>1507.0</td>\n",
       "      <td>260.0</td>\n",
       "      <td>1</td>\n",
       "    </tr>\n",
       "    <tr>\n",
       "      <th>14</th>\n",
       "      <td>1268.0</td>\n",
       "      <td>1569.0</td>\n",
       "      <td>1525.0</td>\n",
       "      <td>412.0</td>\n",
       "      <td>1</td>\n",
       "    </tr>\n",
       "    <tr>\n",
       "      <th>15</th>\n",
       "      <td>1436.0</td>\n",
       "      <td>1610.0</td>\n",
       "      <td>1436.0</td>\n",
       "      <td>783.0</td>\n",
       "      <td>0</td>\n",
       "    </tr>\n",
       "    <tr>\n",
       "      <th>16</th>\n",
       "      <td>1093.0</td>\n",
       "      <td>1012.0</td>\n",
       "      <td>937.0</td>\n",
       "      <td>88.0</td>\n",
       "      <td>1</td>\n",
       "    </tr>\n",
       "    <tr>\n",
       "      <th>17</th>\n",
       "      <td>1157.0</td>\n",
       "      <td>1534.0</td>\n",
       "      <td>1490.0</td>\n",
       "      <td>304.0</td>\n",
       "      <td>1</td>\n",
       "    </tr>\n",
       "    <tr>\n",
       "      <th>18</th>\n",
       "      <td>1038.0</td>\n",
       "      <td>1087.0</td>\n",
       "      <td>961.0</td>\n",
       "      <td>560.0</td>\n",
       "      <td>0</td>\n",
       "    </tr>\n",
       "    <tr>\n",
       "      <th>19</th>\n",
       "      <td>963.0</td>\n",
       "      <td>757.0</td>\n",
       "      <td>744.0</td>\n",
       "      <td>157.0</td>\n",
       "      <td>1</td>\n",
       "    </tr>\n",
       "    <tr>\n",
       "      <th>20</th>\n",
       "      <td>1054.0</td>\n",
       "      <td>1167.0</td>\n",
       "      <td>988.0</td>\n",
       "      <td>476.0</td>\n",
       "      <td>0</td>\n",
       "    </tr>\n",
       "    <tr>\n",
       "      <th>21</th>\n",
       "      <td>821.0</td>\n",
       "      <td>825.0</td>\n",
       "      <td>739.0</td>\n",
       "      <td>148.0</td>\n",
       "      <td>1</td>\n",
       "    </tr>\n",
       "    <tr>\n",
       "      <th>22</th>\n",
       "      <td>1097.0</td>\n",
       "      <td>1045.0</td>\n",
       "      <td>1012.0</td>\n",
       "      <td>378.0</td>\n",
       "      <td>1</td>\n",
       "    </tr>\n",
       "    <tr>\n",
       "      <th>23</th>\n",
       "      <td>1364.0</td>\n",
       "      <td>1679.0</td>\n",
       "      <td>1555.0</td>\n",
       "      <td>305.0</td>\n",
       "      <td>1</td>\n",
       "    </tr>\n",
       "    <tr>\n",
       "      <th>24</th>\n",
       "      <td>1106.0</td>\n",
       "      <td>938.0</td>\n",
       "      <td>911.0</td>\n",
       "      <td>524.0</td>\n",
       "      <td>0</td>\n",
       "    </tr>\n",
       "    <tr>\n",
       "      <th>25</th>\n",
       "      <td>1130.0</td>\n",
       "      <td>1033.0</td>\n",
       "      <td>980.0</td>\n",
       "      <td>332.0</td>\n",
       "      <td>0</td>\n",
       "    </tr>\n",
       "    <tr>\n",
       "      <th>26</th>\n",
       "      <td>1249.0</td>\n",
       "      <td>1222.0</td>\n",
       "      <td>1149.0</td>\n",
       "      <td>184.0</td>\n",
       "      <td>1</td>\n",
       "    </tr>\n",
       "    <tr>\n",
       "      <th>27</th>\n",
       "      <td>1303.0</td>\n",
       "      <td>1211.0</td>\n",
       "      <td>1168.0</td>\n",
       "      <td>326.0</td>\n",
       "      <td>0</td>\n",
       "    </tr>\n",
       "    <tr>\n",
       "      <th>28</th>\n",
       "      <td>1444.0</td>\n",
       "      <td>1554.0</td>\n",
       "      <td>1428.0</td>\n",
       "      <td>390.0</td>\n",
       "      <td>0</td>\n",
       "    </tr>\n",
       "    <tr>\n",
       "      <th>29</th>\n",
       "      <td>835.0</td>\n",
       "      <td>873.0</td>\n",
       "      <td>701.0</td>\n",
       "      <td>763.0</td>\n",
       "      <td>0</td>\n",
       "    </tr>\n",
       "    <tr>\n",
       "      <th>...</th>\n",
       "      <td>...</td>\n",
       "      <td>...</td>\n",
       "      <td>...</td>\n",
       "      <td>...</td>\n",
       "      <td>...</td>\n",
       "    </tr>\n",
       "    <tr>\n",
       "      <th>457</th>\n",
       "      <td>1063.0</td>\n",
       "      <td>1348.0</td>\n",
       "      <td>1090.0</td>\n",
       "      <td>937.0</td>\n",
       "      <td>0</td>\n",
       "    </tr>\n",
       "    <tr>\n",
       "      <th>458</th>\n",
       "      <td>405.0</td>\n",
       "      <td>649.0</td>\n",
       "      <td>232.0</td>\n",
       "      <td>557.0</td>\n",
       "      <td>0</td>\n",
       "    </tr>\n",
       "    <tr>\n",
       "      <th>459</th>\n",
       "      <td>2048.0</td>\n",
       "      <td>2130.0</td>\n",
       "      <td>2101.0</td>\n",
       "      <td>322.0</td>\n",
       "      <td>1</td>\n",
       "    </tr>\n",
       "    <tr>\n",
       "      <th>460</th>\n",
       "      <td>1379.0</td>\n",
       "      <td>1557.0</td>\n",
       "      <td>1450.0</td>\n",
       "      <td>161.0</td>\n",
       "      <td>1</td>\n",
       "    </tr>\n",
       "    <tr>\n",
       "      <th>461</th>\n",
       "      <td>258.0</td>\n",
       "      <td>80.0</td>\n",
       "      <td>93.0</td>\n",
       "      <td>50.0</td>\n",
       "      <td>0</td>\n",
       "    </tr>\n",
       "    <tr>\n",
       "      <th>462</th>\n",
       "      <td>987.0</td>\n",
       "      <td>720.0</td>\n",
       "      <td>749.0</td>\n",
       "      <td>171.0</td>\n",
       "      <td>1</td>\n",
       "    </tr>\n",
       "    <tr>\n",
       "      <th>463</th>\n",
       "      <td>1232.0</td>\n",
       "      <td>1245.0</td>\n",
       "      <td>1140.0</td>\n",
       "      <td>411.0</td>\n",
       "      <td>0</td>\n",
       "    </tr>\n",
       "    <tr>\n",
       "      <th>464</th>\n",
       "      <td>1091.0</td>\n",
       "      <td>1040.0</td>\n",
       "      <td>979.0</td>\n",
       "      <td>452.0</td>\n",
       "      <td>0</td>\n",
       "    </tr>\n",
       "    <tr>\n",
       "      <th>465</th>\n",
       "      <td>972.0</td>\n",
       "      <td>722.0</td>\n",
       "      <td>720.0</td>\n",
       "      <td>75.0</td>\n",
       "      <td>1</td>\n",
       "    </tr>\n",
       "    <tr>\n",
       "      <th>466</th>\n",
       "      <td>1122.0</td>\n",
       "      <td>1046.0</td>\n",
       "      <td>970.0</td>\n",
       "      <td>427.0</td>\n",
       "      <td>0</td>\n",
       "    </tr>\n",
       "    <tr>\n",
       "      <th>467</th>\n",
       "      <td>401.0</td>\n",
       "      <td>398.0</td>\n",
       "      <td>201.0</td>\n",
       "      <td>328.0</td>\n",
       "      <td>0</td>\n",
       "    </tr>\n",
       "    <tr>\n",
       "      <th>468</th>\n",
       "      <td>388.0</td>\n",
       "      <td>541.0</td>\n",
       "      <td>185.0</td>\n",
       "      <td>337.0</td>\n",
       "      <td>0</td>\n",
       "    </tr>\n",
       "    <tr>\n",
       "      <th>469</th>\n",
       "      <td>1089.0</td>\n",
       "      <td>1027.0</td>\n",
       "      <td>949.0</td>\n",
       "      <td>557.0</td>\n",
       "      <td>0</td>\n",
       "    </tr>\n",
       "    <tr>\n",
       "      <th>470</th>\n",
       "      <td>1063.0</td>\n",
       "      <td>912.0</td>\n",
       "      <td>900.0</td>\n",
       "      <td>145.0</td>\n",
       "      <td>1</td>\n",
       "    </tr>\n",
       "    <tr>\n",
       "      <th>471</th>\n",
       "      <td>1427.0</td>\n",
       "      <td>1709.0</td>\n",
       "      <td>1592.0</td>\n",
       "      <td>271.0</td>\n",
       "      <td>1</td>\n",
       "    </tr>\n",
       "    <tr>\n",
       "      <th>472</th>\n",
       "      <td>1323.0</td>\n",
       "      <td>1516.0</td>\n",
       "      <td>1305.0</td>\n",
       "      <td>1053.0</td>\n",
       "      <td>0</td>\n",
       "    </tr>\n",
       "    <tr>\n",
       "      <th>473</th>\n",
       "      <td>2074.0</td>\n",
       "      <td>1473.0</td>\n",
       "      <td>1411.0</td>\n",
       "      <td>351.0</td>\n",
       "      <td>1</td>\n",
       "    </tr>\n",
       "    <tr>\n",
       "      <th>474</th>\n",
       "      <td>748.0</td>\n",
       "      <td>732.0</td>\n",
       "      <td>579.0</td>\n",
       "      <td>365.0</td>\n",
       "      <td>0</td>\n",
       "    </tr>\n",
       "    <tr>\n",
       "      <th>475</th>\n",
       "      <td>1352.0</td>\n",
       "      <td>1257.0</td>\n",
       "      <td>1198.0</td>\n",
       "      <td>211.0</td>\n",
       "      <td>1</td>\n",
       "    </tr>\n",
       "    <tr>\n",
       "      <th>476</th>\n",
       "      <td>759.0</td>\n",
       "      <td>663.0</td>\n",
       "      <td>631.0</td>\n",
       "      <td>349.0</td>\n",
       "      <td>0</td>\n",
       "    </tr>\n",
       "    <tr>\n",
       "      <th>477</th>\n",
       "      <td>1090.0</td>\n",
       "      <td>1044.0</td>\n",
       "      <td>960.0</td>\n",
       "      <td>626.0</td>\n",
       "      <td>0</td>\n",
       "    </tr>\n",
       "    <tr>\n",
       "      <th>478</th>\n",
       "      <td>733.0</td>\n",
       "      <td>984.0</td>\n",
       "      <td>726.0</td>\n",
       "      <td>612.0</td>\n",
       "      <td>0</td>\n",
       "    </tr>\n",
       "    <tr>\n",
       "      <th>479</th>\n",
       "      <td>740.0</td>\n",
       "      <td>854.0</td>\n",
       "      <td>734.0</td>\n",
       "      <td>326.0</td>\n",
       "      <td>1</td>\n",
       "    </tr>\n",
       "    <tr>\n",
       "      <th>480</th>\n",
       "      <td>1489.0</td>\n",
       "      <td>1691.0</td>\n",
       "      <td>1466.0</td>\n",
       "      <td>760.0</td>\n",
       "      <td>0</td>\n",
       "    </tr>\n",
       "    <tr>\n",
       "      <th>481</th>\n",
       "      <td>823.0</td>\n",
       "      <td>622.0</td>\n",
       "      <td>544.0</td>\n",
       "      <td>628.0</td>\n",
       "      <td>0</td>\n",
       "    </tr>\n",
       "    <tr>\n",
       "      <th>482</th>\n",
       "      <td>1499.0</td>\n",
       "      <td>1818.0</td>\n",
       "      <td>1698.0</td>\n",
       "      <td>335.0</td>\n",
       "      <td>1</td>\n",
       "    </tr>\n",
       "    <tr>\n",
       "      <th>483</th>\n",
       "      <td>413.0</td>\n",
       "      <td>338.0</td>\n",
       "      <td>252.0</td>\n",
       "      <td>209.0</td>\n",
       "      <td>0</td>\n",
       "    </tr>\n",
       "    <tr>\n",
       "      <th>484</th>\n",
       "      <td>1192.0</td>\n",
       "      <td>1277.0</td>\n",
       "      <td>1215.0</td>\n",
       "      <td>155.0</td>\n",
       "      <td>1</td>\n",
       "    </tr>\n",
       "    <tr>\n",
       "      <th>485</th>\n",
       "      <td>861.0</td>\n",
       "      <td>638.0</td>\n",
       "      <td>650.0</td>\n",
       "      <td>211.0</td>\n",
       "      <td>1</td>\n",
       "    </tr>\n",
       "    <tr>\n",
       "      <th>486</th>\n",
       "      <td>987.0</td>\n",
       "      <td>959.0</td>\n",
       "      <td>909.0</td>\n",
       "      <td>373.0</td>\n",
       "      <td>0</td>\n",
       "    </tr>\n",
       "  </tbody>\n",
       "</table>\n",
       "<p>487 rows × 5 columns</p>\n",
       "</div>"
      ],
      "text/plain": [
       "       BLUE     NIR     RED    SWIR  snow\n",
       "0    1053.0   734.0   765.0    89.0     1\n",
       "1     851.0   577.0   577.0   265.0     0\n",
       "2    1751.0  1836.0  1740.0   418.0     1\n",
       "3     640.0   606.0   489.0   478.0     0\n",
       "4     717.0   594.0   555.0   204.0     0\n",
       "5    1016.0   832.0   834.0   232.0     1\n",
       "6     462.0   648.0   258.0   425.0     0\n",
       "7     957.0   972.0   960.0   279.0     1\n",
       "8     342.0   323.0   246.0   198.0     0\n",
       "9    1324.0  1868.0  1638.0   824.0     0\n",
       "10    822.0   700.0   651.0    62.0     1\n",
       "11    499.0   491.0   379.0   387.0     0\n",
       "12   1412.0  1484.0  1350.0   245.0     1\n",
       "13   1359.0  1613.0  1507.0   260.0     1\n",
       "14   1268.0  1569.0  1525.0   412.0     1\n",
       "15   1436.0  1610.0  1436.0   783.0     0\n",
       "16   1093.0  1012.0   937.0    88.0     1\n",
       "17   1157.0  1534.0  1490.0   304.0     1\n",
       "18   1038.0  1087.0   961.0   560.0     0\n",
       "19    963.0   757.0   744.0   157.0     1\n",
       "20   1054.0  1167.0   988.0   476.0     0\n",
       "21    821.0   825.0   739.0   148.0     1\n",
       "22   1097.0  1045.0  1012.0   378.0     1\n",
       "23   1364.0  1679.0  1555.0   305.0     1\n",
       "24   1106.0   938.0   911.0   524.0     0\n",
       "25   1130.0  1033.0   980.0   332.0     0\n",
       "26   1249.0  1222.0  1149.0   184.0     1\n",
       "27   1303.0  1211.0  1168.0   326.0     0\n",
       "28   1444.0  1554.0  1428.0   390.0     0\n",
       "29    835.0   873.0   701.0   763.0     0\n",
       "..      ...     ...     ...     ...   ...\n",
       "457  1063.0  1348.0  1090.0   937.0     0\n",
       "458   405.0   649.0   232.0   557.0     0\n",
       "459  2048.0  2130.0  2101.0   322.0     1\n",
       "460  1379.0  1557.0  1450.0   161.0     1\n",
       "461   258.0    80.0    93.0    50.0     0\n",
       "462   987.0   720.0   749.0   171.0     1\n",
       "463  1232.0  1245.0  1140.0   411.0     0\n",
       "464  1091.0  1040.0   979.0   452.0     0\n",
       "465   972.0   722.0   720.0    75.0     1\n",
       "466  1122.0  1046.0   970.0   427.0     0\n",
       "467   401.0   398.0   201.0   328.0     0\n",
       "468   388.0   541.0   185.0   337.0     0\n",
       "469  1089.0  1027.0   949.0   557.0     0\n",
       "470  1063.0   912.0   900.0   145.0     1\n",
       "471  1427.0  1709.0  1592.0   271.0     1\n",
       "472  1323.0  1516.0  1305.0  1053.0     0\n",
       "473  2074.0  1473.0  1411.0   351.0     1\n",
       "474   748.0   732.0   579.0   365.0     0\n",
       "475  1352.0  1257.0  1198.0   211.0     1\n",
       "476   759.0   663.0   631.0   349.0     0\n",
       "477  1090.0  1044.0   960.0   626.0     0\n",
       "478   733.0   984.0   726.0   612.0     0\n",
       "479   740.0   854.0   734.0   326.0     1\n",
       "480  1489.0  1691.0  1466.0   760.0     0\n",
       "481   823.0   622.0   544.0   628.0     0\n",
       "482  1499.0  1818.0  1698.0   335.0     1\n",
       "483   413.0   338.0   252.0   209.0     0\n",
       "484  1192.0  1277.0  1215.0   155.0     1\n",
       "485   861.0   638.0   650.0   211.0     1\n",
       "486   987.0   959.0   909.0   373.0     0\n",
       "\n",
       "[487 rows x 5 columns]"
      ]
     },
     "execution_count": 12,
     "metadata": {},
     "output_type": "execute_result"
    }
   ],
   "source": [
    "from pyspark.sql import Row\n",
    "from pyspark.ml.linalg import Vectors\n",
    "\n",
    "\n",
    "def parseSample(row):\n",
    "    return Row(label=row[0], features=Vectors.dense(row[1]))\n",
    "\n",
    "def sample(size):\n",
    "    sizes = dataset.countByKey()\n",
    "    sample_fractions = {\n",
    "        0.0: float(size / 2) / sizes[0.0],\n",
    "        1.0: float(size / 2) / sizes[1.0] \n",
    "    }\n",
    "    print(sample_fractions)\n",
    "    \n",
    "    samples = dataset.sampleByKey( \n",
    "        withReplacement = False, \n",
    "        fractions = sample_fractions\n",
    "    ).map(parseSample).cache()\n",
    "    \n",
    "    return samples\n",
    "\n",
    "samples = sample(500)\n",
    "#flatten our samples\n",
    "samples_df = samples.map(lambda r: Row(snow = r.label, RED=float(r.features[0]),NIR=float(r.features[1]),BLUE=float(r.features[2]),SWIR=float(r.features[3]))).toDF()\n",
    "df = samples_df.toPandas()\n",
    "df"
   ]
  },
  {
   "cell_type": "markdown",
   "metadata": {},
   "source": [
    "We can now visualize our sample.\n",
    "\n",
    "The following box plots shows us that there are indeed notable differences in the distributions for snow and not snow, confirming that building a classifier should be possible."
   ]
  },
  {
   "cell_type": "code",
   "execution_count": 13,
   "metadata": {},
   "outputs": [
    {
     "data": {
      "image/png": "[encoded data removed]",
      "text/plain": [
       "<Figure size 432x288 with 1 Axes>"
      ]
     },
     "metadata": {
      "needs_background": "light"
     },
     "output_type": "display_data"
    },
    {
     "data": {
      "image/png": "[encoded data removed]",
      "text/plain": [
       "<Figure size 432x288 with 1 Axes>"
      ]
     },
     "metadata": {
      "needs_background": "light"
     },
     "output_type": "display_data"
    },
    {
     "data": {
      "image/png": "[encoded data removed]",
      "text/plain": [
       "<Figure size 432x288 with 1 Axes>"
      ]
     },
     "metadata": {
      "needs_background": "light"
     },
     "output_type": "display_data"
    },
    {
     "data": {
      "image/png": "[encoded data removed]",
      "text/plain": [
       "<Figure size 432x288 with 1 Axes>"
      ]
     },
     "metadata": {
      "needs_background": "light"
     },
     "output_type": "display_data"
    }
   ],
   "source": [
    "for band in bands:\n",
    "    sns.boxplot(x='snow', y=band, order=[0, 1], data=df)\n",
    "    plt.show()"
   ]
  },
  {
   "cell_type": "markdown",
   "metadata": {},
   "source": [
    "Another way to look at the data is using scatter plots, to see if there is any correlations between the different bands but also to see if there is any interaction between the bands for the snow class.\n",
    "\n",
    "The following pair plots show that:\n",
    "1. There is a high correlation between RED, NIR and BLUE.\n",
    "1. There is clearly a cutoff point when RED > 500 and SWIR < 500\n",
    "\n",
    "This confirms the following:\n",
    "1. The classes are linearly separable but\n",
    "1. Separation requires interaction features"
   ]
  },
  {
   "cell_type": "code",
   "execution_count": 14,
   "metadata": {},
   "outputs": [
    {
     "data": {
      "text/plain": [
       "<seaborn.axisgrid.PairGrid at 0x7fb529f8f410>"
      ]
     },
     "execution_count": 14,
     "metadata": {},
     "output_type": "execute_result"
    },
    {
     "data": {
      "image/png": "[encoded data removed]",
      "text/plain": [
       "<Figure size 762.375x720 with 20 Axes>"
      ]
     },
     "metadata": {
      "needs_background": "light"
     },
     "output_type": "display_data"
    }
   ],
   "source": [
    "sns.pairplot(df, hue='snow', vars=bands, hue_order=[0, 1])"
   ]
  },
  {
   "cell_type": "markdown",
   "metadata": {},
   "source": [
    "### Building the classifier\n",
    "\n",
    "First, we need to do some preprocessing before we can build our classifier.\n",
    "\n",
    "1. SVM works better when the data is rescaled\n",
    "1. We need to introduce interaction variables, e.g. by building a polynomial expansion\n",
    "1. SVM generally requires the dataset to be balanced (or use class weights). Since we have so many available positive samples, we will simply balance our dataset by undersampling our negative class.\n",
    "\n",
    "So let's do just that, as follows:"
   ]
  },
  {
   "cell_type": "code",
   "execution_count": 15,
   "metadata": {},
   "outputs": [
    {
     "name": "stdout",
     "output_type": "stream",
     "text": [
      "{0.0: 4.923260450107708e-05, 1.0: 0.10485477613505295}\n"
     ]
    },
    {
     "data": {
      "text/plain": [
       "[Row(label=0, features=DenseVector([-0.5164, -0.6487, -0.3164, -0.5642, -0.4701, -0.7729, -0.7521, -0.6646, -0.7856, 0.5405, -0.0306, 0.1045, -0.1247, 0.238]))]"
      ]
     },
     "execution_count": 15,
     "metadata": {},
     "output_type": "execute_result"
    }
   ],
   "source": [
    "from pyspark.ml.feature import PolynomialExpansion\n",
    "from pyspark.ml.feature import StandardScaler\n",
    "from pyspark.ml import Pipeline\n",
    "from pyspark.sql.functions import *\n",
    "\n",
    "def transform(data):\n",
    "    polyExpansion = PolynomialExpansion(\n",
    "        inputCol=\"features\",\n",
    "        outputCol=\"polyFeatures\",\n",
    "        degree=2\n",
    "    )\n",
    "\n",
    "    scaler = StandardScaler(\n",
    "        withMean=True,\n",
    "        withStd=True,\n",
    "        inputCol=\"polyFeatures\",\n",
    "        outputCol=\"scaledFeatures\"\n",
    "    )\n",
    "\n",
    "    pipeline = Pipeline(stages=[polyExpansion, scaler])\n",
    "\n",
    "    X = data.toDF()\n",
    "    transformer = pipeline.fit(X)\n",
    "    X = transformer.transform(X)\n",
    "    return (transformer, X.select('label',col('scaledFeatures').alias('features')))\n",
    "\n",
    "transformer, dataset_df = transform(sample(10000))\n",
    "dataset_df = dataset_df.cache()\n",
    "dataset_df.take(1)"
   ]
  },
  {
   "cell_type": "code",
   "execution_count": 16,
   "metadata": {},
   "outputs": [
    {
     "name": "stdout",
     "output_type": "stream",
     "text": [
      "+-----+--------------------+\n",
      "|label|            features|\n",
      "+-----+--------------------+\n",
      "|    0|[-0.5164386994949...|\n",
      "|    1|[-0.2580713275324...|\n",
      "|    1|[1.30585152576273...|\n",
      "|    1|[1.11379082448086...|\n",
      "|    1|[0.29295997019287...|\n",
      "|    0|[-0.3701067366135...|\n",
      "|    1|[-0.5530216902153...|\n",
      "|    1|[1.09092645528064...|\n",
      "|    1|[-0.7405095176571...|\n",
      "|    1|[1.86145569732814...|\n",
      "|    1|[-0.7016400900168...|\n",
      "|    1|[-0.6650570992964...|\n",
      "|    1|[0.51931722527508...|\n",
      "|    0|[-1.7282502671067...|\n",
      "|    1|[1.04291127996017...|\n",
      "|    1|[1.27841428272247...|\n",
      "|    1|[-0.6833485946566...|\n",
      "|    1|[-0.5598810009754...|\n",
      "|    1|[0.72052367423704...|\n",
      "|    1|[-0.3243779982131...|\n",
      "+-----+--------------------+\n",
      "only showing top 20 rows\n",
      "\n"
     ]
    }
   ],
   "source": [
    "dataset_df.show()"
   ]
  },
  {
   "cell_type": "markdown",
   "metadata": {},
   "source": [
    "We will train our classifier using 75% of the dataset and test it on the remaining 25%.\n",
    "So let's split it first:"
   ]
  },
  {
   "cell_type": "code",
   "execution_count": 17,
   "metadata": {},
   "outputs": [],
   "source": [
    "train_data, test_data = dataset_df.randomSplit([0.75, 0.25])\n",
    "train_data = train_data.cache()\n",
    "test_data = test_data.cache()"
   ]
  },
  {
   "cell_type": "markdown",
   "metadata": {},
   "source": [
    "Finally, we can train and test our model."
   ]
  },
  {
   "cell_type": "code",
   "execution_count": 18,
   "metadata": {},
   "outputs": [
    {
     "name": "stdout",
     "output_type": "stream",
     "text": [
      "Training with 7580 samples\n",
      "Params:  40 0.0 1.0\n",
      "Train F1 0.923511224627\n",
      "Test F1 0.936677631579\n",
      "\n"
     ]
    }
   ],
   "source": [
    "from sklearn.metrics import precision_recall_fscore_support\n",
    "from pyspark.ml.classification import LinearSVC\n",
    "\n",
    "def train(training_data, iterations, regParam, step):\n",
    "    svm = LinearSVC(maxIter=iterations, regParam=regParam)\n",
    "    model = svm.fit(training_data)\n",
    "    return model\n",
    "\n",
    "def evaluate(model, train_data, test_data):    \n",
    "    train_predictions = model.transform(train_data).select('label','prediction').toPandas()\n",
    "    test_predictions = model.transform(test_data).select('label','prediction').toPandas()\n",
    "    \n",
    "    _, _, train_f, _ = precision_recall_fscore_support(train_predictions['label'], train_predictions['prediction'], average='binary')\n",
    "    _, _, test_f, _ = precision_recall_fscore_support(test_predictions['label'], test_predictions['prediction'], average='binary')\n",
    "    \n",
    "    return (train_f, test_f)\n",
    "\n",
    "def train_evaluate(train_data, test_data, iterations, regParam, step):    \n",
    "    print \"Training with\", train_data.count(), \"samples\"\n",
    "    print \"Params: \", iterations, regParam, step\n",
    "    model = train(train_data, iterations, regParam, step)\n",
    "    train_f, test_f = evaluate(model, train_data, test_data)\n",
    "    \n",
    "    print \"Train F1\", train_f\n",
    "    print \"Test F1\", test_f\n",
    "    print \"\"\n",
    "    return (model, (train_data.count(), iterations, regParam, step, train_f, test_f))\n",
    "\n",
    "model, results = train_evaluate(train_data,\n",
    "                         test_data,\n",
    "                         iterations=40, \n",
    "                         step=1.0, \n",
    "                         regParam=0.)"
   ]
  },
  {
   "cell_type": "markdown",
   "metadata": {},
   "source": [
    "### Visualising the output\n",
    "\n",
    "We can draw the GeoTIFF using *matplotlib*. But the files are so big that we also need to reduce its resolution.\n",
    "We can re-use the chunking mechanism used previously and plot the average values for every chunk instead.\n",
    "\n",
    "However, we will need to keep track of the position of the chunk, so we add that to our function."
   ]
  },
  {
   "cell_type": "code",
   "execution_count": 19,
   "metadata": {
    "scrolled": true
   },
   "outputs": [
    {
     "data": {
      "text/plain": [
       "[{'chunk': (8, 70),\n",
       "  'radiometry': '/data/MTDA/TIFFDERIVED/PROBAV_L3_S5_TOA_100M/2015/20151121/PROBAV_S5_TOA_20151121_100M_V101/PROBAV_S5_TOA_X18Y02_20151121_100M_V101_RADIOMETRY.tif',\n",
       "  'statusmap': '/data/MTDA/TIFFDERIVED/PROBAV_L3_S5_TOA_100M/2015/20151121/PROBAV_S5_TOA_20151121_100M_V101/PROBAV_S5_TOA_X18Y02_20151121_100M_V101_SM.tif',\n",
       "  'x_range': (800, 100),\n",
       "  'y_range': (7000, 100)}]"
      ]
     },
     "execution_count": 19,
     "metadata": {},
     "output_type": "execute_result"
    }
   ],
   "source": [
    "def makeSplits( files, splits=100 ):\n",
    "    statusmap, radiometry = files\n",
    "    sm = gdal.Open(statusmap)\n",
    "    status = sm.GetRasterBand(1)\n",
    "    del sm\n",
    "    XSize = status.XSize\n",
    "    YSize = status.YSize\n",
    "    \n",
    "    chunks = []\n",
    "    chunksize = (int(XSize / float(splits)), int(YSize / float(splits)))\n",
    "    for x in range(0, splits):\n",
    "        for y in range(0, splits):\n",
    "            chunks.append({\n",
    "                    'statusmap': statusmap,\n",
    "                    'radiometry': radiometry,\n",
    "                    'chunk': (x, y),\n",
    "                    'x_range': (x * chunksize[0], chunksize[0]),\n",
    "                    'y_range': (y * chunksize[1], chunksize[1])\n",
    "                })\n",
    "    \n",
    "    return chunks\n",
    "\n",
    "chunks = data_files.flatMap(makeSplits).repartition(100)\n",
    "chunks.take(1)"
   ]
  },
  {
   "cell_type": "markdown",
   "metadata": {},
   "source": [
    "Now that our chunks have a position, we need to propagate the position up to the pixel.\n",
    "We then take the average for every chunk and then plot the average."
   ]
  },
  {
   "cell_type": "code",
   "execution_count": 20,
   "metadata": {},
   "outputs": [
    {
     "data": {
      "text/plain": [
       "10000"
      ]
     },
     "execution_count": 20,
     "metadata": {},
     "output_type": "execute_result"
    }
   ],
   "source": [
    "def is_snow_mask(mask):\n",
    "    return (int(mask & 0b100 != 0))\n",
    "\n",
    "def parseChunk(chunk):\n",
    "    statusmap = map(is_snow_mask, parseTargets(chunk['statusmap'], chunk['x_range'], chunk['y_range']))\n",
    "    features = parseFeatures(chunk['radiometry'], chunk['x_range'], chunk['y_range'])\n",
    "    return (chunk['chunk'], map(parseSample, zip(statusmap, features)))\n",
    "\n",
    "all_data = chunks.map(parseChunk)\n",
    "\n",
    "def average_snow(data):\n",
    "    return np.mean(map(lambda x: x.label, data))\n",
    "\n",
    "averaged_by_chunk = all_data.map(lambda x: (x[0], average_snow(x[1]))).cache()\n",
    "averaged_by_chunk.count()"
   ]
  },
  {
   "cell_type": "code",
   "execution_count": 21,
   "metadata": {},
   "outputs": [],
   "source": [
    "img_flat = averaged_by_chunk.collect()"
   ]
  },
  {
   "cell_type": "markdown",
   "metadata": {},
   "source": [
    "Here is how our original data looked like."
   ]
  },
  {
   "cell_type": "code",
   "execution_count": 22,
   "metadata": {},
   "outputs": [
    {
     "data": {
      "text/plain": [
       "<matplotlib.colorbar.Colorbar at 0x7fb584494410>"
      ]
     },
     "execution_count": 22,
     "metadata": {},
     "output_type": "execute_result"
    },
    {
     "data": {
      "image/png": "[encoded data removed]",
      "text/plain": [
       "<Figure size 432x288 with 2 Axes>"
      ]
     },
     "metadata": {
      "needs_background": "light"
     },
     "output_type": "display_data"
    }
   ],
   "source": [
    "img = np.array(img_flat)[:, 1].reshape(100, 100, order='F').astype('float')\n",
    "plt.imshow(img, cmap='winter')\n",
    "plt.colorbar()"
   ]
  },
  {
   "cell_type": "markdown",
   "metadata": {},
   "source": [
    "Now, instead of drawing the original Snow/Ice component of our pixels, we will instead use our classifier to predict that value and then draw that one instead."
   ]
  },
  {
   "cell_type": "code",
   "execution_count": 23,
   "metadata": {},
   "outputs": [
    {
     "name": "stderr",
     "output_type": "stream",
     "text": [
      "/usr/hdp/2.6.5.0-292/spark2/python/pyspark/sql/session.py:366: UserWarning: Using RDD of dict to inferSchema is deprecated. Use pyspark.sql.Row instead\n",
      "  warnings.warn(\"Using RDD of dict to inferSchema is deprecated. \"\n"
     ]
    }
   ],
   "source": [
    "all_df = all_data.flatMap(lambda x: [{'x': x[0][0], 'y': x[0][1], 'features': p.features, 'label': p.label} for p in x[1]]).toDF()"
   ]
  },
  {
   "cell_type": "code",
   "execution_count": 24,
   "metadata": {},
   "outputs": [
    {
     "name": "stdout",
     "output_type": "stream",
     "text": [
      "+---+---+----------+\n",
      "|  x|  y|prediction|\n",
      "+---+---+----------+\n",
      "|  8| 70|       0.0|\n",
      "|  8| 70|       0.0|\n",
      "|  8| 70|       0.0|\n",
      "|  8| 70|       0.0|\n",
      "|  8| 70|       0.0|\n",
      "|  8| 70|       0.0|\n",
      "|  8| 70|       0.0|\n",
      "|  8| 70|       0.0|\n",
      "|  8| 70|       0.0|\n",
      "|  8| 70|       0.0|\n",
      "|  8| 70|       0.0|\n",
      "|  8| 70|       0.0|\n",
      "|  8| 70|       0.0|\n",
      "|  8| 70|       0.0|\n",
      "|  8| 70|       0.0|\n",
      "|  8| 70|       0.0|\n",
      "|  8| 70|       0.0|\n",
      "|  8| 70|       0.0|\n",
      "|  8| 70|       0.0|\n",
      "|  8| 70|       0.0|\n",
      "+---+---+----------+\n",
      "only showing top 20 rows\n",
      "\n"
     ]
    }
   ],
   "source": [
    "predictions = model.transform(transformer.transform(all_df).select('label',col('scaledFeatures').alias('features'),'x','y'))\n",
    "\n",
    "predicted_snow_mask = predictions.select(\"x\",\"y\",\"prediction\").cache()\n",
    "predicted_snow_mask.show()"
   ]
  },
  {
   "cell_type": "code",
   "execution_count": 25,
   "metadata": {},
   "outputs": [
    {
     "name": "stdout",
     "output_type": "stream",
     "text": [
      "+---+---+---------------+\n",
      "|  x|  y|avg(prediction)|\n",
      "+---+---+---------------+\n",
      "| 51| 18|         0.0414|\n",
      "| 86|  9|         0.0024|\n",
      "|  3|  0|         0.0032|\n",
      "| 17| 93|            0.0|\n",
      "|  1| 94|          0.181|\n",
      "| 11| 97|            0.0|\n",
      "| 94| 68|            0.0|\n",
      "| 62| 15|         0.0033|\n",
      "| 82| 10|         0.0052|\n",
      "| 92| 10|            0.0|\n",
      "| 27|  0|            0.0|\n",
      "| 61| 63|            0.0|\n",
      "| 16| 59|         0.1365|\n",
      "| 21| 50|         1.0E-4|\n",
      "| 81| 56|         0.4316|\n",
      "| 52| 72|            0.0|\n",
      "| 50| 64|            0.0|\n",
      "| 30| 70|            0.0|\n",
      "| 60| 73|         0.5916|\n",
      "| 83| 25|            0.0|\n",
      "+---+---+---------------+\n",
      "only showing top 20 rows\n",
      "\n"
     ]
    }
   ],
   "source": [
    "averaged_by_chunk_df = predicted_snow_mask.groupBy(\"x\", \"y\").agg(avg(\"prediction\"))\n",
    "averaged_by_chunk_df.show()"
   ]
  },
  {
   "cell_type": "code",
   "execution_count": 26,
   "metadata": {},
   "outputs": [],
   "source": [
    "averaged_by_chunk = averaged_by_chunk_df.toPandas()"
   ]
  },
  {
   "cell_type": "code",
   "execution_count": 27,
   "metadata": {},
   "outputs": [],
   "source": [
    "img = np.zeros((100, 100))\n",
    "for row in np.array(averaged_by_chunk):\n",
    "    x,y, v = row\n",
    "    img[int(x)][int(y)] = v"
   ]
  },
  {
   "cell_type": "markdown",
   "metadata": {},
   "source": [
    "### Final result\n",
    "\n",
    "Here's how our classifier estimated snow. It looks roughly the same as the original one, except it looks to be slightly more permissive for the snow class."
   ]
  },
  {
   "cell_type": "code",
   "execution_count": 28,
   "metadata": {},
   "outputs": [
    {
     "data": {
      "text/plain": [
       "<matplotlib.colorbar.Colorbar at 0x7fb57b318b50>"
      ]
     },
     "execution_count": 28,
     "metadata": {},
     "output_type": "execute_result"
    },
    {
     "data": {
      "image/png": "[encoded data removed]",
      "text/plain": [
       "<Figure size 432x288 with 2 Axes>"
      ]
     },
     "metadata": {
      "needs_background": "light"
     },
     "output_type": "display_data"
    }
   ],
   "source": [
    "plt.imshow(img, cmap='winter')\n",
    "plt.colorbar()"
   ]
  }
 ],
 "metadata": {
  "kernelspec": {
   "display_name": "Python 2",
   "language": "python",
   "name": "python2"
  },
  "language_info": {
   "codemirror_mode": {
    "name": "ipython",
    "version": 2
   },
   "file_extension": ".py",
   "mimetype": "text/x-python",
   "name": "python",
   "nbconvert_exporter": "python",
   "pygments_lexer": "ipython2",
   "version": "2.7.13"
  }
 },
 "nbformat": 4,
 "nbformat_minor": 1
}

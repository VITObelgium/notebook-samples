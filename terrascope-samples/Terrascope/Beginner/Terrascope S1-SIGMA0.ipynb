{
 "cells": [
  {
   "cell_type": "code",
   "execution_count": null,
   "metadata": {},
   "outputs": [],
   "source": [
    "from matplotlib import pyplot as plt\n",
    "import os\n",
    "import glob\n",
    "import rasterio\n",
    "import numpy as np"
   ]
  },
  {
   "cell_type": "markdown",
   "metadata": {},
   "source": [
    "## Sentinel 1 sigma0\n",
    "The Sentinel 1 satellite carries a Synthetic Aperture Radar (SAR) instrument on-board. This instrument sends radar pulses at a frequency of X Hz towards the Earth and records the backscattered intensity and polarization of the received signal. The intensity of the received signal indicates the surface roughness, ...[check some introduction S1 literature]."
   ]
  },
  {
   "cell_type": "markdown",
   "metadata": {},
   "source": [
    "In a typical S1-SIGMA0 folder, we find 4 files: the backscatter intensity images (VV/VH), the incidence angle image, and a metadata XML file\n"
   ]
  },
  {
   "cell_type": "code",
   "execution_count": null,
   "metadata": {},
   "outputs": [],
   "source": [
    "os.listdir('/data/MTDA/CGS_S1/CGS_S1_GRD_SIGMA0_L1/2017/05/21/S1A_IW_GRDH_SIGMA0_DV_20170521T173234_ASCENDING_161_DBA1_V110/')"
   ]
  },
  {
   "cell_type": "markdown",
   "metadata": {},
   "source": [
    "Read in the VV and VH backscatter intensity images for a predefined window, because reading in the entire image might result in memory issues.\n"
   ]
  },
  {
   "cell_type": "code",
   "execution_count": null,
   "metadata": {},
   "outputs": [],
   "source": [
    "indir = '/data/MTDA/CGS_S1/CGS_S1_GRD_SIGMA0_L1/2017/05/21/S1A_IW_GRDH_SIGMA0_DV_20170521T173234_ASCENDING_161_DBA1_V110/'\n",
    "\n",
    "window = ((10000, 12500), (10000, 12500))\n",
    "\n",
    "with rasterio.open(os.path.join(indir, 'S1A_IW_GRDH_SIGMA0_DV_20170521T173234_ASCENDING_161_DBA1_V110_VV.tif')) as src:\n",
    "    VVdata = src.read(1, window=window)\n",
    "with rasterio.open(os.path.join(indir, 'S1A_IW_GRDH_SIGMA0_DV_20170521T173234_ASCENDING_161_DBA1_V110_VH.tif')) as src:\n",
    "    VHdata = src.read(1, window=window)  "
   ]
  },
  {
   "cell_type": "markdown",
   "metadata": {},
   "source": [
    "The backscatter images are provided in original intensities, while we usually visualize radar data in decibels, due to the large range of values. Therefore, we convert the original values to decibels."
   ]
  },
  {
   "cell_type": "code",
   "execution_count": null,
   "metadata": {},
   "outputs": [],
   "source": [
    "VVdataDB = 10*np.log10(VVdata)\n",
    "VHdataDB = 10*np.log10(VHdata)"
   ]
  },
  {
   "cell_type": "markdown",
   "metadata": {},
   "source": [
    "#### VV, VH, and VV/VH\n",
    "While a typical optical image provides us with nice RGB bands, these Sentinel 1 SAR data only have two bands: VV and VH, the co-polarized and cross-polarized channels. The different behaviour of VV vs VH, however, is also a very useful polarimetric value. Therefore, we define a third variable as the ratio between the two."
   ]
  },
  {
   "cell_type": "code",
   "execution_count": null,
   "metadata": {},
   "outputs": [],
   "source": [
    "VVVHratio = VVdataDB/VHdataDB"
   ]
  },
  {
   "cell_type": "markdown",
   "metadata": {},
   "source": [
    "#### Visualization preparation\n",
    "Together with the ratio, we now have three bands, so we can construct an RGB image. Let's rescale the data to our desired ranges for proper visualization:\n",
    "\n",
    "VV: between -25 and +3 dB\n",
    "VH: between -30 and -2 dB\n",
    "ratio: between 0.4 and 1"
   ]
  },
  {
   "cell_type": "code",
   "execution_count": null,
   "metadata": {},
   "outputs": [],
   "source": [
    "# Define a simple rescale function\n",
    "def minmaxscaler(data, minscaled=-1, maxscaled=1, cutoff_min=None, cutoff_max=None, clamp=True):\n",
    "    datarescaled = data\n",
    "    \n",
    "    if clamp:\n",
    "        if cutoff_min==None or cutoff_max==None:\n",
    "            raise ValueError(\"You need to fill in the cutoff_min and cutoff_max values if you want to clamp the values\")\n",
    "        datarescaled[datarescaled < cutoff_min] = cutoff_min\n",
    "        datarescaled[datarescaled > cutoff_max] = cutoff_max\n",
    "\n",
    "    # Scale between minscaled and maxscaled\n",
    "    datarescaled = (\n",
    "        (maxscaled - minscaled) *\n",
    "        (data - data.min()) /\n",
    "        (data.max() - data.min())\n",
    "        + minscaled\n",
    "    )\n",
    "    \n",
    "    return datarescaled\n",
    "\n",
    "# Do the rescaling\n",
    "VVdataDBnorm = minmaxscaler(VVdataDB, 0, 1, -25, 3)\n",
    "VHdataDBnorm = minmaxscaler(VHdataDB, 0, 1, -30, -2)\n",
    "VVVHrationorm = minmaxscaler(VVVHratio, 0, 1, 0.4, 1)"
   ]
  },
  {
   "cell_type": "markdown",
   "metadata": {},
   "source": [
    "#### Visualization \n",
    "Visualization of the three bands (VV, VH polarization, and the ratio of the two) using RGB stacking gives the result below. Cities, villages and forests, with their larger anisotropic nature, appear as yellow-brown areas. Water bodies have a very bright blue color, because both the anisotropic and isotropic scattering is very low. This is because water bodies exhibit specular scattering away from the sensor, so neither VV nor VH polarized waves will reach the sensor. Cultivated land is either blue, grey or red, their variations caused by differences in their scattering and depolarization properties. For example, grey areas depict crops with a more anisotropic nature, while very red areas have a very high VV return depicting e.g. bare soil or very vertical crops."
   ]
  },
  {
   "cell_type": "code",
   "execution_count": null,
   "metadata": {},
   "outputs": [],
   "source": [
    "rgb = np.concatenate((np.expand_dims(VVdataDBnorm, axis=2),\n",
    "                      np.expand_dims(VHdataDBnorm, axis=2),\n",
    "                      np.expand_dims(VVVHrationorm, axis=2)), axis=2)\n",
    "\n",
    "plt.figure(figsize=(15,15))\n",
    "plt.imshow(rgb)\n"
   ]
  },
  {
   "cell_type": "code",
   "execution_count": null,
   "metadata": {},
   "outputs": [],
   "source": []
  }
 ],
 "metadata": {
  "kernelspec": {
   "display_name": "Python 3",
   "language": "python",
   "name": "python3"
  },
  "language_info": {
   "codemirror_mode": {
    "name": "ipython",
    "version": 3
   },
   "file_extension": ".py",
   "mimetype": "text/x-python",
   "name": "python",
   "nbconvert_exporter": "python",
   "pygments_lexer": "ipython3",
   "version": "3.8.8"
  }
 },
 "nbformat": 4,
 "nbformat_minor": 2
}
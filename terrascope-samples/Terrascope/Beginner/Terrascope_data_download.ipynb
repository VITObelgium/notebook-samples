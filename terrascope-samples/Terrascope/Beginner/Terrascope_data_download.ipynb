{
 "cells": [
  {
   "cell_type": "markdown",
   "metadata": {},
   "source": [
    "# Terrascope data download authentication\n",
    "This notebook gives examples showing how you can authenticate requests to download the products in the TerraCatalogue.\n",
    "\n",
    "Multiple authentication methods are available and will be implemented below.\n",
    "- Basic authentication\n",
    "- Bearer tokens"
   ]
  },
  {
   "cell_type": "markdown",
   "metadata": {},
   "source": [
    "### Set up your environment"
   ]
  },
  {
   "cell_type": "markdown",
   "metadata": {},
   "source": [
    "#### Import packages"
   ]
  },
  {
   "cell_type": "code",
   "execution_count": 2,
   "metadata": {},
   "outputs": [],
   "source": [
    "import requests\n",
    "import base64\n",
    "from pathlib import Path\n",
    "import getpass\n",
    "import tempfile\n",
    "import ipywidgets as widgets"
   ]
  },
  {
   "cell_type": "markdown",
   "metadata": {},
   "source": [
    "#### Generate password input form"
   ]
  },
  {
   "cell_type": "code",
   "execution_count": 4,
   "metadata": {},
   "outputs": [
    {
     "data": {
      "application/vnd.jupyter.widget-view+json": {
       "model_id": "3df94fcc7cc24900be89a74b2423f174",
       "version_major": 2,
       "version_minor": 0
      },
      "text/plain": [
       "HBox(children=(VBox(children=(Password(description='Password:', placeholder='Enter password'),)), VBox(childre…"
      ]
     },
     "execution_count": 4,
     "metadata": {},
     "output_type": "execute_result"
    }
   ],
   "source": [
    "valid_output = widgets.Valid(value=False)\n",
    "\n",
    "def on_submit_func(button):\n",
    "    button.disabled=True\n",
    "    valid_output.value=True\n",
    "\n",
    "pwd_input = widgets.Password(value='password',\n",
    "                             placeholder='Enter password',\n",
    "                             description='Password:',\n",
    "                             disabled=False)\n",
    "\n",
    "\n",
    "pwd_input.observe(on_submit_func,'value')\n",
    "\n",
    "left_box = widgets.VBox([pwd_input])\n",
    "right_box = widgets.VBox([valid_output])\n",
    "widgets.HBox([left_box, right_box])"
   ]
  },
  {
   "cell_type": "markdown",
   "metadata": {},
   "source": [
    "#### Set variables"
   ]
  },
  {
   "cell_type": "code",
   "execution_count": 5,
   "metadata": {},
   "outputs": [],
   "source": [
    "\n",
    "temporary_output_dir = tempfile.TemporaryDirectory()  # Create a temporary directory to store sample download files\n",
    "\n",
    "product_download_url = \"https://services.terrascope.be/download/Sentinel5P/L3_SO2CBR_TY_V2/S5P_PAL__L3_SO2CBR_TY_20190101_V200/S5P_SO2CBR_TY_2019_SO2_V200.tif\"\n",
    "terrascope_username = getpass.getuser()\n",
    "terrascope_password = pwd_input.value\n",
    "target_dirctory = Path(temporary_output_dir.name)"
   ]
  },
  {
   "cell_type": "markdown",
   "metadata": {},
   "source": [
    "### Basic Authentication"
   ]
  },
  {
   "cell_type": "markdown",
   "metadata": {},
   "source": [
    "#### Encode your terrascope credentials"
   ]
  },
  {
   "cell_type": "code",
   "execution_count": 6,
   "metadata": {},
   "outputs": [],
   "source": [
    "encoded_credentials = base64.b64encode(f\"{terrascope_username}:{terrascope_password}\".encode())  # note the : between username and password"
   ]
  },
  {
   "cell_type": "markdown",
   "metadata": {},
   "source": [
    "#### Make an authenticated HTTP call to the download service"
   ]
  },
  {
   "cell_type": "code",
   "execution_count": 7,
   "metadata": {},
   "outputs": [],
   "source": [
    "\n",
    "download_response = requests.get(url=product_download_url, headers={\"Authorization\": f\"Basic {encoded_credentials}\"})"
   ]
  },
  {
   "cell_type": "markdown",
   "metadata": {},
   "source": [
    "#### Write the response content to a local file"
   ]
  },
  {
   "cell_type": "code",
   "execution_count": 8,
   "metadata": {},
   "outputs": [],
   "source": [
    "with open(target_dirctory / 'filename.tif', \"wb\") as f:\n",
    "    f.write(download_response.content)"
   ]
  },
  {
   "cell_type": "markdown",
   "metadata": {},
   "source": [
    "### Bearer token authentication"
   ]
  },
  {
   "cell_type": "markdown",
   "metadata": {},
   "source": [
    "#### Request credentials for the Terrascope download service based on your Terrascope account"
   ]
  },
  {
   "cell_type": "code",
   "execution_count": 10,
   "metadata": {},
   "outputs": [
    {
     "name": "stdout",
     "output_type": "stream",
     "text": [
      "The access_token will be valid for 300 seconds\n"
     ]
    }
   ],
   "source": [
    "authentication_response = requests.post(\n",
    "    \"https://sso.terrascope.be/auth/realms/terrascope/protocol/openid-connect/token\",\n",
    "    data={\n",
    "        \"grant_type\": \"password\",\n",
    "        \"client_id\": \"public\",\n",
    "        \"username\": terrascope_username,\n",
    "        \"password\": terrascope_password,\n",
    "    }\n",
    ").json()\n",
    "\n",
    "#  Extract the necessary information from the credential request\n",
    "access_token = authentication_response.get(\"access_token\")\n",
    "refresh_token = authentication_response.get(\"refresh token\")\n",
    "\n",
    "print(f\"The access_token will be valid for {authentication_response.get('expires_in')} seconds\")"
   ]
  },
  {
   "cell_type": "markdown",
   "metadata": {},
   "source": [
    "#### Make download requests using the access_token\n",
    "This will succeed as long as the `access_token` is valid.\n",
    "\n",
    "When the access_token is no longer valid, you will get errors like `requests.exceptions.HTTPError: 401 Client Error: Unauthorized for url`"
   ]
  },
  {
   "cell_type": "code",
   "execution_count": 11,
   "metadata": {},
   "outputs": [],
   "source": [
    "download_response = requests.get(product_download_url, headers={\"Authorization\": f\"Bearer {access_token}\"})"
   ]
  },
  {
   "cell_type": "markdown",
   "metadata": {},
   "source": [
    "#### Write the response content to a local file"
   ]
  },
  {
   "cell_type": "code",
   "execution_count": 12,
   "metadata": {},
   "outputs": [],
   "source": [
    "with open(target_dirctory / 'filename.tif', \"wb\") as f:\n",
    "    f.write(download_response.content)"
   ]
  },
  {
   "cell_type": "markdown",
   "metadata": {},
   "source": [
    "#### When the access token is no longer valid, you will need to use the refresh_token to obtain a new access_token"
   ]
  },
  {
   "cell_type": "code",
   "execution_count": 13,
   "metadata": {},
   "outputs": [],
   "source": [
    "refresh_response = requests.post(\n",
    "    \"https://sso.terrascope.be/auth/realms/terrascope/protocol/openid-connect/token\",\n",
    "    data={\n",
    "        \"grant_type\": \"refresh_token\",\n",
    "        \"client_id\": \"public\",\n",
    "        \"refresh_token\": refresh_token\n",
    "    }\n",
    ")\n",
    "\n",
    "#  Extract the necessary information from the credential refresh request\n",
    "access_token = refresh_response.json().get(\"access_token\")\n",
    "refresh_token = refresh_response.json().get(\"refresh token\")"
   ]
  },
  {
   "cell_type": "markdown",
   "metadata": {},
   "source": [
    "Now you can again use the `access_token` to download data.\n",
    "Repeat this cycle until you have downloaded all necessary products."
   ]
  },
  {
   "cell_type": "markdown",
   "metadata": {},
   "source": [
    "### Bearer token authentication with automatic token refresh"
   ]
  },
  {
   "cell_type": "markdown",
   "metadata": {},
   "source": [
    "#### Request credentials for the Terrascope download service based on your Terrascope account"
   ]
  },
  {
   "cell_type": "code",
   "execution_count": 14,
   "metadata": {},
   "outputs": [],
   "source": [
    "authentication_response = requests.post(\n",
    "    \"https://sso.terrascope.be/auth/realms/terrascope/protocol/openid-connect/token\",\n",
    "    data={\n",
    "        \"grant_type\": \"password\",\n",
    "        \"client_id\": \"public\",\n",
    "        \"username\": terrascope_username,\n",
    "        \"password\": terrascope_password,\n",
    "    }\n",
    ").json()"
   ]
  },
  {
   "cell_type": "markdown",
   "metadata": {},
   "source": [
    "#### Loop through a necessary download links and handle token refresh when the `access_token` expires"
   ]
  },
  {
   "cell_type": "code",
   "execution_count": null,
   "metadata": {},
   "outputs": [],
   "source": [
    "for product_url in [product_download_url]:\n",
    "    for attempt in range(2):  # retry one time to be able to refresh the access token if needed\n",
    "        try:\n",
    "            download_response = requests.get(\n",
    "              url=product_url,\n",
    "              headers={'Authorization': f\"Bearer {authentication_response.get('access_token')}\"}\n",
    "            )\n",
    "            download_response.raise_for_status()  # raise an exception for non-ok HTTP status codes to get in the refresh logic\n",
    "            with open(target_dirctory / product_url.split(\"/\")[-1], \"wb\") as f:  # dynamically select the filename from the product_url\n",
    "                f.write(download_response.content)\n",
    "            break  # do not try again when the download succeeds\n",
    "        except requests.exceptions.HTTPError as e:\n",
    "            if e.response.status_code == 401:  # This status code indicates an issue with authentication\n",
    "                authentication_response = requests.post(\n",
    "                    \"https://sso.terrascope.be/auth/realms/terrascope/protocol/openid-connect/token\",\n",
    "                    data={\n",
    "                        \"grant_type\": \"refresh_token\",\n",
    "                        \"client_id\": \"public\",\n",
    "                        \"refresh_token\": authentication_response.get(\"refresh_token\")\n",
    "                    }\n",
    "                ).json()\n",
    "                print(\"refreshed access_token\")\n",
    "            else:\n",
    "                raise(e)  # Handling other cases is out of the scope of this example"
   ]
  },
  {
   "cell_type": "markdown",
   "metadata": {},
   "source": [
    "### Remove the temporary directory"
   ]
  },
  {
   "cell_type": "code",
   "execution_count": 20,
   "metadata": {},
   "outputs": [],
   "source": [
    "temporary_output_dir.cleanup()"
   ]
  }
 ],
 "metadata": {
  "kernelspec": {
   "display_name": ".venv",
   "language": "python",
   "name": "python3"
  },
  "language_info": {
   "codemirror_mode": {
    "name": "ipython",
    "version": 3
   },
   "file_extension": ".py",
   "mimetype": "text/x-python",
   "name": "python",
   "nbconvert_exporter": "python",
   "pygments_lexer": "ipython3",
   "version": "3.12.8"
  }
 },
 "nbformat": 4,
 "nbformat_minor": 2
}

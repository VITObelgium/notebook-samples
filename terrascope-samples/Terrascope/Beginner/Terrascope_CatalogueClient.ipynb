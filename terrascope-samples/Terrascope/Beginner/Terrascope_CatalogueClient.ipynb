{
 "cells": [
  {
   "cell_type": "markdown",
   "id": "ff385c43",
   "metadata": {},
   "source": [
    "# Terrascope catalogue client\n",
    "This notebook shows the usage of the Python client for the Terrascope catalogue. API documentation is available [here](https://vitobelgium.github.io/terracatalogueclient/)."
   ]
  },
  {
   "cell_type": "code",
   "execution_count": 1,
   "id": "bfab19a5",
   "metadata": {},
   "outputs": [],
   "source": [
    "import datetime as dt\n",
    "import getpass\n",
    "from terracatalogueclient import Catalogue\n",
    "# initialize the catalogueclient\n",
    "catalogue = Catalogue()"
   ]
  },
  {
   "cell_type": "code",
   "execution_count": 2,
   "id": "148aaa77",
   "metadata": {},
   "outputs": [
    {
     "name": "stdout",
     "output_type": "stream",
     "text": [
      "urn:eop:VITO:CGS_S1_GRD_L1: Sentinel-1 Level-1 Ground Range Detected (GRD) products\n",
      "urn:eop:VITO:CGS_S1_GRD_SIGMA0_L1: Sentinel-1 Level-1 Ground Range Detected (GRD) SIGMA0 products\n",
      "urn:eop:VITO:CGS_S1_SLC_L1: Sentinel-1 Level-1 Single Look Complex (SLC) products.\n",
      "urn:eop:VITO:CGS_S2_L1C: Sentinel-2 Level-1C MSI product contains Top-of-atmosphere reflectances in cartographic geometry\n",
      "urn:eop:VITO:COP_DEM_EU_25M: Copernicus European Digital Elevation Model (EU-DEM), version 1.1 in 25m resolution\n",
      "urn:eop:VITO:COP_DEM_GLO_30M_COG: Copernicus Global 30 meter Digital Elevation Model dataset in COG format  \n",
      "urn:eop:VITO:COP_DEM_GLO_90M_COG: Copernicus Global 90 meter Digital Elevation Model dataset in COG format\n",
      "urn:eop:VITO:ESA_WORLDCEREAL_ACTIVECROPLAND_V1: ESA WorldCereal products for active cropland per agro-ecological zone - V1\n",
      "urn:eop:VITO:ESA_WORLDCEREAL_IRRIGATION_V1: ESA WorldCereal products for active irrigation per agro-ecological zone - V1\n",
      "urn:eop:VITO:ESA_WORLDCEREAL_MAIZE_V1: ESA WorldCereal products for maize per agro-ecological zone - V1\n",
      "urn:eop:VITO:ESA_WORLDCEREAL_SPRINGCEREALS_V1: ESA WorldCereal products for springcereals per agro-ecological zone - V1\n",
      "urn:eop:VITO:ESA_WORLDCEREAL_TEMPORARYCROPS_V1: ESA WorldCereal products for temporary crops per agro-ecological zone - V1\n",
      "urn:eop:VITO:ESA_WORLDCEREAL_WINTERCEREALS_V1: ESA WorldCereal products for wintercereals per agro-ecological zone - V1\n",
      "urn:eop:VITO:ESA_WorldCover_10m_2020_AWS_V1: ESA WorldCover products 10 meter COG format on AWS\n",
      "urn:eop:VITO:ESA_WorldCover_10m_2020_V1: ESA WorldCover 2020 products 10 meter COG format  \n",
      "urn:eop:VITO:ESA_WorldCover_10m_2021_AWS_V2: ESA WorldCover 2021 products 10 meter COG format on AWS\n",
      "urn:eop:VITO:ESA_WorldCover_10m_2021_V2: ESA WorldCover 2021 products 10 meter COG format\n",
      "urn:eop:VITO:ESA_WorldCover_NDVI_10m_2020_V1: ESA WorldCover Sentinel-2 yearly NDVI percentiles color composite 2020, 10 meter COG format\n",
      "urn:eop:VITO:ESA_WorldCover_NDVI_10m_2021_V2: ESA WorldCover Sentinel-2 yearly NDVI percentiles color composite 2021, 10 meter COG format\n",
      "urn:eop:VITO:ESA_WorldCover_S1VVVHratio_10m_2020_V1: ESA WorldCover Sentinel-1 color image 2020, 10 meter COG format\n",
      "urn:eop:VITO:ESA_WorldCover_S1VVVHratio_10m_2021_V2: ESA WorldCover Sentinel-1 color image 2021, 10 meter COG format\n",
      "urn:eop:VITO:ESA_WorldCover_S2RGBNIR_10m_2020_V1: ESA WorldCover Sentinel-2 color image 2020, 10 meter COG format\n",
      "urn:eop:VITO:ESA_WorldCover_S2RGBNIR_10m_2021_V2: ESA WorldCover Sentinel-2 color image 2021, 10 meter COG format\n",
      "urn:eop:VITO:ESA_WorldCover_SWIR_10m_2020_V1: ESA WorldCover Sentinel-2 yearly SWIR median composite 2020, 10 meter COG format\n",
      "urn:eop:VITO:ESA_WorldCover_SWIR_10m_2021_V2: ESA WorldCover Sentinel-2 yearly SWIR median composite 2021, 10 meter COG format\n",
      "urn:eop:VITO:MAPEO_WATER_CHL_V1: MapEO Water Chlorophyll-a (CHL) Products - V1\n",
      "urn:eop:VITO:MAPEO_WATER_RHOW_V1: MapEO Water Water-Leaving Reflectance (RHOW) Products - V1\n",
      "urn:eop:VITO:MAPEO_WATER_SPM_V1: MapEO Water Suspended Particulate Matter (SPM) Products - V1\n",
      "urn:eop:VITO:MAPEO_WATER_TUR_V1: MapEO Water Turbidity (TUR) Products - V1\n",
      "urn:eop:VITO:PROBAV_L1C_HDF_V2: PROBA-V L1C: radiometrically corrected raw data, given per strip/camera, HDF format - Collection 2\n",
      "urn:eop:VITO:PROBAV_L2A_100M_ANTAR_COG_V1: PROBA-V L2A: 100M projected segment data over Antarctica, COG format - Collection 1\n",
      "urn:eop:VITO:PROBAV_L2A_100M_ANTAR_HDF_V1: PROBA-V L2A: 100M projected segment data over Antarctica, HDF format - Collection 1\n",
      "urn:eop:VITO:PROBAV_L2A_100M_COG_V2: PROBA-V L2A: 100M projected segment data, COG format - Collection 2\n",
      "urn:eop:VITO:PROBAV_L2A_100M_HDF_V2: PROBA-V L2A: 100M projected segment data, HDF format - Collection 2\n",
      "urn:eop:VITO:PROBAV_L2A_1KM_ANTAR_COG_V1: PROBA-V L2A: 1KM projected segment data over Antarctica, COG format - Collection 1\n",
      "urn:eop:VITO:PROBAV_L2A_1KM_ANTAR_HDF_V1: PROBA-V L2A: 1KM projected segment data over Antarctica, HDF format - Collection 1\n",
      "urn:eop:VITO:PROBAV_L2A_1KM_COG_V2: PROBA-V L2A: 1KM projected segment data, COG format - Collection 2\n",
      "urn:eop:VITO:PROBAV_L2A_1KM_HDF_V2: PROBA-V L2A: 1KM projected segment data, HDF format - Collection 2\n",
      "urn:eop:VITO:PROBAV_L2A_333M_ANTAR_COG_V1: PROBA-V L2A: 300M projected segment data over Antarctica, COG format - Collection 1\n",
      "urn:eop:VITO:PROBAV_L2A_333M_ANTAR_HDF_V1: PROBA-V L2A: 300M projected segment data over antarctica, HDF format- Collection 1\n",
      "urn:eop:VITO:PROBAV_L2A_333M_COG_V2: PROBA-V L2A: 300M projected segment data, COG format - Collection 2\n",
      "urn:eop:VITO:PROBAV_L2A_333M_HDF_V2: PROBA-V L2A: 300M projected segment data, HDF format- Collection 2\n",
      "urn:eop:VITO:PROBAV_S10_TOC_1KM_COG_V2: PROBA-V S10 TOC 1 km COG: 10-day synthesis of S1s as Maximum Value Compositing (MVC), COG format - Collection 2\n",
      "urn:eop:VITO:PROBAV_S10_TOC_1KM_HDF_V2: PROBA-V S10 TOC 1 km HDF: 10-day synthesis of S1s as Maximum Value Compositing (MVC), HDF format - Collection 2\n",
      "urn:eop:VITO:PROBAV_S10_TOC_333M_COG_V2: PROBA-V S10 TOC 300 m COG: Decadal synthesis of S1's as Maximum Value Compositing (MVC), COG format - Collection 2\n",
      "urn:eop:VITO:PROBAV_S10_TOC_333M_HDF_V2: PROBA-V S10 TOC 300 m HDF: Decadal synthesis of S1's as Maximum Value Compositing (MVC), HDF format - Collection 2\n",
      "urn:eop:VITO:PROBAV_S10_TOC_NDVI_1KM_COG_V2: PROBA-V S10 TOC NDVI 1 km COG: 10-day NDVI synthesis of S1s as Maximum Value Compositing (MVC), COG format, COG format - Collection 2\n",
      "urn:eop:VITO:PROBAV_S10_TOC_NDVI_1KM_HDF_V2: PROBA-V S10 TOC NDVI 1 km HDF: 10-day NDVI synthesis of S1s as Maximum Value Compositing (MVC), HDF format- Collection 2\n",
      "urn:eop:VITO:PROBAV_S10_TOC_NDVI_333M_COG_V2: PROBA-V S10 TOC NDVI 300 m COG: 10-day synthesis of S1s TOC as Maximum Value Compositing (MVC), COG format - Collection 2\n",
      "urn:eop:VITO:PROBAV_S10_TOC_NDVI_333M_HDF_V2: PROBA-V S10 TOC NDVI 300 m HDF: 10-day synthesis of S1s TOC as Maximum Value Compositing (MVC), HDF format - Collection 2\n",
      "urn:eop:VITO:PROBAV_S1_TOA_100M_COG_V2: PROBA-V S1 TOA 100m COG: 100 m resolution best-quality daily synthesis, COG format. Maximum Value Compositing (MVC) is applied - Collection 2\n",
      "urn:eop:VITO:PROBAV_S1_TOA_100M_HDF_V2: PROBA-V S1 TOA 100 m HDF: 100 m resolution best-quality daily synthesis, HDF format. Maximum Value Compositing (MVC) is applied - Collection 2\n",
      "urn:eop:VITO:PROBAV_S1_TOA_1KM_COG_V2: PROBA-V S1 TOA 1 km COG: 1 km resolution best-quality daily synthesis, COG format. Maximum Value Compositing (MVC) is applied - Collection 2\n",
      "urn:eop:VITO:PROBAV_S1_TOA_1KM_HDF_V2: PROBA-V S1 TOA 1 km HDF: 1 km resolution best-quality daily synthesis, HDF format. Maximum Value Compositing (MVC) is applied - Collection 2\n",
      "urn:eop:VITO:PROBAV_S1_TOA_333M_COG_V2: PROBA-V S1 TOA 300 m COG: 300 m resolution best-quality daily synthesis, COG format. Maximum Value Compositing (MVC) is applied - Collection 2\n",
      "urn:eop:VITO:PROBAV_S1_TOA_333M_HDF_V2: PROBA-V S1 TOA 300 m HDF: 300 m resolution best-quality daily synthesis, HDF format. Maximum Value Compositing (MVC) is applied - Collection 2\n",
      "urn:eop:VITO:PROBAV_S1_TOC_100M_COG_V2: PROBA-V S1 TOC 100 m COG: Data corrected for atmospheric effects with the SMAC (Simplified Method for Atmosheric Corrections) algorithm, COG format - Collection 2\n",
      "urn:eop:VITO:PROBAV_S1_TOC_100M_HDF_V2: PROBA-V S1 TOC 100 m HDF: Data corrected for atmospheric effects with the SMAC (Simplified Method for Atmosheric Corrections) algorithm, HDF format - Collection 2\n",
      "urn:eop:VITO:PROBAV_S1_TOC_1KM_COG_V2: PROBA-V S1 TOC 1 km COG: Data corrected for atmospheric effects with the SMAC (Simplified Method for Atmosheric Corrections) algorithm, COG format - Collection 2\n",
      "urn:eop:VITO:PROBAV_S1_TOC_1KM_HDF_V2: PROBA-V S1 TOC 1 km HDF: Data corrected for atmospheric effects with the SMAC (Simplified Method for Atmosheric Corrections) algorithm, HDF format - Collection 2\n",
      "urn:eop:VITO:PROBAV_S1_TOC_333M_COG_V2: PROBA-V S1 TOC 300 m COG: Data corrected for atmospheric effects with the SMAC (Simplified Method for Atmosheric Corrections) algorithm, COG format - Collection 2\n",
      "urn:eop:VITO:PROBAV_S1_TOC_333M_HDF_V2: PROBA-V S1 TOC 300 m HDF: Data corrected for atmospheric effects with the SMAC (Simplified Method for Atmosheric Corrections) algorithm, HDF format - Collection 2\n",
      "urn:eop:VITO:PROBAV_S1_TOC_NDVI_100M_COG_V2: PROBA-V S1 TOC NDVI 100 m COG: Data corrected for atmospheric effects with the SMAC (Simplified Method for Atmosheric Corrections) algorithm, COG format - Collection 2\n",
      "urn:eop:VITO:PROBAV_S1_TOC_NDVI_100M_HDF_V2: PROBA-V S1 NDVI TOC 100 m HDF: Data corrected for atmospheric effects with the SMAC (Simplified Method for Atmosheric Corrections) algorithm, HDF format - Collection 2\n",
      "urn:eop:VITO:PROBAV_S5_TOA_100M_COG_V2: PROBA-V S5 TOA 100 m COG: 100 m resolution best-quality daily synthesis, COG format. Maximum Value Compositing (MVC) is applied - Collection 2\n",
      "urn:eop:VITO:PROBAV_S5_TOA_100M_HDF_V2: PROBA-V S5 TOA 100 m HDF: 100 m resolution best-quality 5-daily synthesis, HDF format. Maximum Value Compositing (MVC) is applied - Collection 2\n",
      "urn:eop:VITO:PROBAV_S5_TOC_100M_COG_V2: PROBA-V S5 TOC 100 m COG: Data corrected for atmospheric effects with the SMAC (Simplified Method for Atmosheric Corrections) algorithm, COG format - Collection 2\n",
      "urn:eop:VITO:PROBAV_S5_TOC_100M_HDF_V2: PROBA-V S5 TOC 100 m HDF: Data corrected for atmospheric effects with the SMAC (Simplified Method for Atmosheric Corrections) algorithm, HDF format - Collection 2\n",
      "urn:eop:VITO:PROBAV_S5_TOC_NDVI_100M_COG_V2: PROBA-V S5 TOC NDVI 100 m COG: Data corrected for atmospheric effects with the SMAC (Simplified Method for Atmosheric Corrections) algorithm, COG format - Collection 2\n",
      "urn:eop:VITO:PROBAV_S5_TOC_NDVI_100M_HDF_V2: PROBA-V S5 TOC NDVI 100 m HDF: Data corrected for atmospheric effects with the SMAC (Simplified Method for Atmosheric Corrections) algorithm, HDF format - Collection 2\n",
      "urn:eop:VITO:TERRASCOPE_S1_SLC_COHERENCE_V1: Sentinel-1 Level-1 Single Look Complex (SLC) Coherence products.\n",
      "urn:eop:VITO:TERRASCOPE_S2_CCC_V2: Sentinel-2 Chlorophyll Canopy Content Index (CCC) (tiles) - V2\n",
      "urn:eop:VITO:TERRASCOPE_S2_CHL_V1: Sentinel-2 Chlorophyll-a (CHL) (tiles) - V1\n",
      "urn:eop:VITO:TERRASCOPE_S2_CWC_V2: Sentinel-2 Chlorophyll Water Content Index (CWC) (tiles) - V2\n",
      "urn:eop:VITO:TERRASCOPE_S2_FAPAR_V2: Sentinel-2 Fraction Absorbed Photosynthetically Radiation (FAPAR) (tiles) - V2\n",
      "urn:eop:VITO:TERRASCOPE_S2_FCOVER_V2: Sentinel-2 Fraction of Vegetation Cover (FCOVER) (tiles) - V2\n",
      "urn:eop:VITO:TERRASCOPE_S2_LAI_V2: Sentinel-2 Leaf Area index (LAI) (tiles) - V2\n",
      "urn:eop:VITO:TERRASCOPE_S2_NDVI_V2: Sentinel-2 Normalized Difference Vegetation Index (NDVI) (tiles) - V2\n",
      "urn:eop:VITO:TERRASCOPE_S2_RHOW_V1: Sentinel-2 Water-Leaving Reflectance (RHOW) Products (tiles) - V1\n",
      "urn:eop:VITO:TERRASCOPE_S2_SPM_V1: Sentinel-2 Suspended Particulate Matter (SPM) (tiles) - V1\n",
      "urn:eop:VITO:TERRASCOPE_S2_TOC_V2: Sentinel-2 Top of Canopy (TOC) Products (tiles) - V2\n",
      "urn:eop:VITO:TERRASCOPE_S2_TUR_V1: Sentinel-2 Turbidity (TUR) (tiles) - V1\n",
      "urn:eop:VITO:TERRASCOPE_S3_SY_2_V10_V1: Sentinel-3 Level 2 Synergy 1 km VEGETATION-Like 10-daily synthesis TOC reflectance and NDVI  - V1\n",
      "urn:eop:VITO:TERRASCOPE_S3_SY_2_VG1_V1: Sentinel-3 Level 2 Synergy 1 km VEGETATION-Like daily synthesis TOC reflectance and NDVI  - V1\n",
      "urn:eop:VITO:TERRASCOPE_S5P_L3_CH4_TD_V1: Sentinel-5P Level-3 CH4 Daily Product - V1\n",
      "urn:eop:VITO:TERRASCOPE_S5P_L3_CH4_TD_V2: Sentinel-5P Level-3 CH4 Daily Product - V2\n",
      "urn:eop:VITO:TERRASCOPE_S5P_L3_CH4_TM_V1: Sentinel-5P Level-3 CH4 Monthly Product - V1\n",
      "urn:eop:VITO:TERRASCOPE_S5P_L3_CH4_TM_V2: Sentinel-5P Level-3 CH4 Monthly Product - V2\n",
      "urn:eop:VITO:TERRASCOPE_S5P_L3_CH4_TY_V1: Sentinel-5P Level-3 CH4 Yearly Product - V1\n",
      "urn:eop:VITO:TERRASCOPE_S5P_L3_CH4_TY_V2: Sentinel-5P Level-3 CH4 Yearly Product - V2\n",
      "urn:eop:VITO:TERRASCOPE_S5P_L3_CO_TD_V1: Sentinel-5P Level-3 CO Daily Product - V1\n",
      "urn:eop:VITO:TERRASCOPE_S5P_L3_CO_TD_V2: Sentinel-5P Level-3 CO Daily Product - V2\n",
      "urn:eop:VITO:TERRASCOPE_S5P_L3_CO_TM_V1: Sentinel-5P Level-3 CO Monthly Product - V1\n",
      "urn:eop:VITO:TERRASCOPE_S5P_L3_CO_TM_V2: Sentinel-5P Level-3 CO Monthly Product - V2\n",
      "urn:eop:VITO:TERRASCOPE_S5P_L3_CO_TY_V1: Sentinel-5P Level-3 CO Yearly Product - V1\n",
      "urn:eop:VITO:TERRASCOPE_S5P_L3_CO_TY_V2: Sentinel-5P Level-3 CO Yearly Product - V2\n",
      "urn:eop:VITO:TERRASCOPE_S5P_L3_HCHO_TD_V1: Sentinel-5P Level-3 HCHO Daily Product - V1\n",
      "urn:eop:VITO:TERRASCOPE_S5P_L3_HCHO_TD_V2: Sentinel-5P Level-3 HCHO Daily Product - V2\n",
      "urn:eop:VITO:TERRASCOPE_S5P_L3_HCHO_TM_V1: Sentinel-5P Level-3 HCHO Monthly Product\n",
      "urn:eop:VITO:TERRASCOPE_S5P_L3_HCHO_TM_V2: Sentinel-5P Level-3 HCHO Monthly Product - V2\n",
      "urn:eop:VITO:TERRASCOPE_S5P_L3_HCHO_TY_V1: Sentinel-5P Level-3 HCHO Yearly Product\n",
      "urn:eop:VITO:TERRASCOPE_S5P_L3_HCHO_TY_V2: Sentinel-5P Level-3 HCHO Yearly Product - V2\n",
      "urn:eop:VITO:TERRASCOPE_S5P_L3_NO2_TD_V1: Sentinel-5P Level-3 NO2 Daily Product\n",
      "urn:eop:VITO:TERRASCOPE_S5P_L3_NO2_TD_V2: Sentinel-5P Level-3 NO2 Daily Product - V2\n",
      "urn:eop:VITO:TERRASCOPE_S5P_L3_NO2_TM_V1: Sentinel-5P Level-3 NO2 Monthly Product\n",
      "urn:eop:VITO:TERRASCOPE_S5P_L3_NO2_TM_V2: Sentinel-5P Level-3 NO2 Monthly Product V2\n",
      "urn:eop:VITO:TERRASCOPE_S5P_L3_NO2_TY_V1: Sentinel-5P Level-3 NO2 Yearly Product\n",
      "urn:eop:VITO:TERRASCOPE_S5P_L3_NO2_TY_V2: Sentinel-5P Level-3 NO2 Yearly Product - V2\n",
      "urn:ogc:def:EOP:VITO:VGT_P: Physical products of SPOT VEGETATION (VGT-P)\n",
      "urn:ogc:def:EOP:VITO:VGT_S1: Global 1 Day Synthesis of SPOT VEGETATION Images (VGT-S1)\n",
      "urn:ogc:def:EOP:VITO:VGT_S10: Global 10 Days Synthesis of SPOT VEGETATION Images (VGT-S10)\n"
     ]
    }
   ],
   "source": [
    "# get all collections\n",
    "collections = catalogue.get_collections()\n",
    "for collection in collections:\n",
    "    print(\"{}: {}\".format(collection.id, collection.properties['title']))"
   ]
  },
  {
   "cell_type": "code",
   "execution_count": 3,
   "id": "a37d69a4",
   "metadata": {},
   "outputs": [],
   "source": [
    "# let's also print the data access URLs\n",
    "for collection in collections:\n",
    "    print(\"{}: {}\".format(collection.id, collection.properties['title']))\n",
    "\n",
    "# no results? Mind that you can only iterate once over the collection as it's a Python generator!\n",
    "# if you want to be able to iterate over the results more than once, you can convert it to a list\n",
    "# mind that this will load all results in memory, which could be huge depending on the number of results returned!\n",
    "\n",
    "persistent_collections = list(catalogue.get_collections())"
   ]
  },
  {
   "cell_type": "code",
   "execution_count": 4,
   "id": "66eae1f9",
   "metadata": {},
   "outputs": [
    {
     "name": "stdout",
     "output_type": "stream",
     "text": [
      "urn:eop:VITO:CGS_S2_L1C, format jp2, resolution [10, 20, 60] m\n",
      "urn:eop:VITO:ESA_WORLDCEREAL_ACTIVECROPLAND_V1, format geotiff, resolution [10] m\n",
      "urn:eop:VITO:ESA_WORLDCEREAL_IRRIGATION_V1, format geotiff, resolution [10] m\n",
      "urn:eop:VITO:ESA_WORLDCEREAL_MAIZE_V1, format geotiff, resolution [10] m\n",
      "urn:eop:VITO:ESA_WORLDCEREAL_SPRINGCEREALS_V1, format geotiff, resolution [10] m\n",
      "urn:eop:VITO:ESA_WORLDCEREAL_TEMPORARYCROPS_V1, format geotiff, resolution [10] m\n",
      "urn:eop:VITO:ESA_WORLDCEREAL_WINTERCEREALS_V1, format geotiff, resolution [10] m\n",
      "urn:eop:VITO:ESA_WorldCover_10m_2020_AWS_V1, format geotiff, resolution [10, 60] m\n",
      "urn:eop:VITO:ESA_WorldCover_10m_2020_V1, format geotiff, resolution [10, 60] m\n",
      "urn:eop:VITO:ESA_WorldCover_10m_2021_AWS_V2, format geotiff, resolution [10, 60] m\n",
      "urn:eop:VITO:ESA_WorldCover_10m_2021_V2, format geotiff, resolution [10, 60] m\n",
      "urn:eop:VITO:ESA_WorldCover_NDVI_10m_2020_V1, format geotiff, resolution [10] m\n",
      "urn:eop:VITO:ESA_WorldCover_NDVI_10m_2021_V2, format geotiff, resolution [10] m\n",
      "urn:eop:VITO:ESA_WorldCover_S2RGBNIR_10m_2020_V1, format geotiff, resolution [10] m\n",
      "urn:eop:VITO:ESA_WorldCover_S2RGBNIR_10m_2021_V2, format geotiff, resolution [10] m\n",
      "urn:eop:VITO:ESA_WorldCover_SWIR_10m_2020_V1, format geotiff, resolution [10] m\n",
      "urn:eop:VITO:ESA_WorldCover_SWIR_10m_2021_V2, format geotiff, resolution [10] m\n",
      "urn:eop:VITO:TERRASCOPE_S2_CCC_V2, format geotiff, resolution [20] m\n",
      "urn:eop:VITO:TERRASCOPE_S2_CHL_V1, format geotiff, resolution [20] m\n",
      "urn:eop:VITO:TERRASCOPE_S2_CWC_V2, format geotiff, resolution [20] m\n",
      "urn:eop:VITO:TERRASCOPE_S2_FAPAR_V2, format geotiff, resolution [10, 20] m\n",
      "urn:eop:VITO:TERRASCOPE_S2_FCOVER_V2, format geotiff, resolution [10, 20] m\n",
      "urn:eop:VITO:TERRASCOPE_S2_LAI_V2, format geotiff, resolution [10, 20] m\n",
      "urn:eop:VITO:TERRASCOPE_S2_NDVI_V2, format geotiff, resolution [10] m\n",
      "urn:eop:VITO:TERRASCOPE_S2_RHOW_V1, format geotiff, resolution [10, 20, 60] m\n",
      "urn:eop:VITO:TERRASCOPE_S2_SPM_V1, format geotiff, resolution [10] m\n",
      "urn:eop:VITO:TERRASCOPE_S2_TOC_V2, format geotiff, resolution [10, 20, 60] m\n",
      "urn:eop:VITO:TERRASCOPE_S2_TUR_V1, format geotiff, resolution [10] m\n"
     ]
    }
   ],
   "source": [
    "# let's filter on collections derived from Sentinel-2 data and show resolution\n",
    "collections = catalogue.get_collections(platform=\"Sentinel-2\")\n",
    "for collection in collections:\n",
    "    print(\"{}, format {}, resolution {} m\".format(collection.id,\n",
    "                                                  collection.properties[\"productInformation\"][\"format\"],\n",
    "                                                  collection.properties[\"productInformation\"][\"resolution\"]))"
   ]
  },
  {
   "cell_type": "code",
   "execution_count": 5,
   "id": "be28064e",
   "metadata": {},
   "outputs": [
    {
     "name": "stdout",
     "output_type": "stream",
     "text": [
      "urn:eop:VITO:CGS_S1_GRD_L1: 6399\n",
      "urn:eop:VITO:CGS_S1_GRD_SIGMA0_L1: 5608\n",
      "urn:eop:VITO:CGS_S1_SLC_L1: 1235\n",
      "urn:eop:VITO:CGS_S2_L1C: 15979\n",
      "urn:eop:VITO:COP_DEM_EU_25M: 0\n",
      "urn:eop:VITO:COP_DEM_GLO_30M_COG: 17\n",
      "urn:eop:VITO:COP_DEM_GLO_90M_COG: 17\n",
      "urn:eop:VITO:ESA_WORLDCEREAL_ACTIVECROPLAND_V1: 0\n",
      "urn:eop:VITO:ESA_WORLDCEREAL_IRRIGATION_V1: 0\n",
      "urn:eop:VITO:ESA_WORLDCEREAL_MAIZE_V1: 0\n",
      "urn:eop:VITO:ESA_WORLDCEREAL_SPRINGCEREALS_V1: 0\n",
      "urn:eop:VITO:ESA_WORLDCEREAL_TEMPORARYCROPS_V1: 0\n",
      "urn:eop:VITO:ESA_WORLDCEREAL_WINTERCEREALS_V1: 0\n",
      "urn:eop:VITO:ESA_WorldCover_10m_2020_AWS_V1: 2651\n",
      "urn:eop:VITO:ESA_WorldCover_10m_2020_V1: 2651\n",
      "urn:eop:VITO:ESA_WorldCover_10m_2021_AWS_V2: 0\n",
      "urn:eop:VITO:ESA_WorldCover_10m_2021_V2: 0\n",
      "urn:eop:VITO:ESA_WorldCover_NDVI_10m_2020_V1: 18970\n",
      "urn:eop:VITO:ESA_WorldCover_NDVI_10m_2021_V2: 0\n",
      "urn:eop:VITO:ESA_WorldCover_S1VVVHratio_10m_2020_V1: 17367\n",
      "urn:eop:VITO:ESA_WorldCover_S1VVVHratio_10m_2021_V2: 0\n",
      "urn:eop:VITO:ESA_WorldCover_S2RGBNIR_10m_2020_V1: 18971\n",
      "urn:eop:VITO:ESA_WorldCover_S2RGBNIR_10m_2021_V2: 0\n",
      "urn:eop:VITO:ESA_WorldCover_SWIR_10m_2020_V1: 18970\n",
      "urn:eop:VITO:ESA_WorldCover_SWIR_10m_2021_V2: 0\n",
      "urn:eop:VITO:MAPEO_WATER_CHL_V1: 0\n",
      "urn:eop:VITO:MAPEO_WATER_RHOW_V1: 0\n",
      "urn:eop:VITO:MAPEO_WATER_SPM_V1: 0\n",
      "urn:eop:VITO:MAPEO_WATER_TUR_V1: 0\n",
      "urn:eop:VITO:PROBAV_L1C_HDF_V2: 30691\n",
      "urn:eop:VITO:PROBAV_L2A_100M_ANTAR_COG_V1: 727\n",
      "urn:eop:VITO:PROBAV_L2A_100M_ANTAR_HDF_V1: 727\n",
      "urn:eop:VITO:PROBAV_L2A_100M_COG_V2: 10694\n",
      "urn:eop:VITO:PROBAV_L2A_100M_HDF_V2: 10694\n",
      "urn:eop:VITO:PROBAV_L2A_1KM_ANTAR_COG_V1: 733\n",
      "urn:eop:VITO:PROBAV_L2A_1KM_ANTAR_HDF_V1: 733\n",
      "urn:eop:VITO:PROBAV_L2A_1KM_COG_V2: 30691\n",
      "urn:eop:VITO:PROBAV_L2A_1KM_HDF_V2: 30691\n",
      "urn:eop:VITO:PROBAV_L2A_333M_ANTAR_COG_V1: 733\n",
      "urn:eop:VITO:PROBAV_L2A_333M_ANTAR_HDF_V1: 733\n",
      "urn:eop:VITO:PROBAV_L2A_333M_COG_V2: 30691\n",
      "urn:eop:VITO:PROBAV_L2A_333M_HDF_V2: 30691\n",
      "urn:eop:VITO:PROBAV_S10_TOC_1KM_COG_V2: 13172\n",
      "urn:eop:VITO:PROBAV_S10_TOC_1KM_HDF_V2: 13172\n",
      "urn:eop:VITO:PROBAV_S10_TOC_333M_COG_V2: 13175\n",
      "urn:eop:VITO:PROBAV_S10_TOC_333M_HDF_V2: 13175\n",
      "urn:eop:VITO:PROBAV_S10_TOC_NDVI_1KM_COG_V2: 13172\n",
      "urn:eop:VITO:PROBAV_S10_TOC_NDVI_1KM_HDF_V2: 13172\n",
      "urn:eop:VITO:PROBAV_S10_TOC_NDVI_333M_COG_V2: 13175\n",
      "urn:eop:VITO:PROBAV_S10_TOC_NDVI_333M_HDF_V2: 13175\n",
      "urn:eop:VITO:PROBAV_S1_TOA_100M_COG_V2: 79924\n",
      "urn:eop:VITO:PROBAV_S1_TOA_100M_HDF_V2: 79924\n",
      "urn:eop:VITO:PROBAV_S1_TOA_1KM_COG_V2: 121315\n",
      "urn:eop:VITO:PROBAV_S1_TOA_1KM_HDF_V2: 121315\n",
      "urn:eop:VITO:PROBAV_S1_TOA_333M_COG_V2: 121334\n",
      "urn:eop:VITO:PROBAV_S1_TOA_333M_HDF_V2: 121334\n",
      "urn:eop:VITO:PROBAV_S1_TOC_100M_COG_V2: 79924\n",
      "urn:eop:VITO:PROBAV_S1_TOC_100M_HDF_V2: 79924\n",
      "urn:eop:VITO:PROBAV_S1_TOC_1KM_COG_V2: 121314\n",
      "urn:eop:VITO:PROBAV_S1_TOC_1KM_HDF_V2: 121314\n",
      "urn:eop:VITO:PROBAV_S1_TOC_333M_COG_V2: 121334\n",
      "urn:eop:VITO:PROBAV_S1_TOC_333M_HDF_V2: 121334\n",
      "urn:eop:VITO:PROBAV_S1_TOC_NDVI_100M_COG_V2: 79924\n",
      "urn:eop:VITO:PROBAV_S1_TOC_NDVI_100M_HDF_V2: 79924\n",
      "urn:eop:VITO:PROBAV_S5_TOA_100M_COG_V2: 23656\n",
      "urn:eop:VITO:PROBAV_S5_TOA_100M_HDF_V2: 23656\n",
      "urn:eop:VITO:PROBAV_S5_TOC_100M_COG_V2: 23656\n",
      "urn:eop:VITO:PROBAV_S5_TOC_100M_HDF_V2: 23656\n",
      "urn:eop:VITO:PROBAV_S5_TOC_NDVI_100M_COG_V2: 23656\n",
      "urn:eop:VITO:PROBAV_S5_TOC_NDVI_100M_HDF_V2: 23656\n",
      "urn:eop:VITO:TERRASCOPE_S1_SLC_COHERENCE_V1: 1840\n",
      "urn:eop:VITO:TERRASCOPE_S2_CCC_V2: 17708\n",
      "urn:eop:VITO:TERRASCOPE_S2_CHL_V1: 3994\n",
      "urn:eop:VITO:TERRASCOPE_S2_CWC_V2: 17708\n",
      "urn:eop:VITO:TERRASCOPE_S2_FAPAR_V2: 94692\n",
      "urn:eop:VITO:TERRASCOPE_S2_FCOVER_V2: 94692\n",
      "urn:eop:VITO:TERRASCOPE_S2_LAI_V2: 35416\n",
      "urn:eop:VITO:TERRASCOPE_S2_NDVI_V2: 47346\n",
      "urn:eop:VITO:TERRASCOPE_S2_RHOW_V1: 3994\n",
      "urn:eop:VITO:TERRASCOPE_S2_SPM_V1: 3994\n",
      "urn:eop:VITO:TERRASCOPE_S2_TOC_V2: 17708\n",
      "urn:eop:VITO:TERRASCOPE_S2_TUR_V1: 3994\n",
      "urn:eop:VITO:TERRASCOPE_S3_SY_2_V10_V1: 0\n",
      "urn:eop:VITO:TERRASCOPE_S3_SY_2_VG1_V1: 0\n",
      "urn:eop:VITO:TERRASCOPE_S5P_L3_CH4_TD_V1: 365\n",
      "urn:eop:VITO:TERRASCOPE_S5P_L3_CH4_TD_V2: 365\n",
      "urn:eop:VITO:TERRASCOPE_S5P_L3_CH4_TM_V1: 13\n",
      "urn:eop:VITO:TERRASCOPE_S5P_L3_CH4_TM_V2: 13\n",
      "urn:eop:VITO:TERRASCOPE_S5P_L3_CH4_TY_V1: 2\n",
      "urn:eop:VITO:TERRASCOPE_S5P_L3_CH4_TY_V2: 2\n",
      "urn:eop:VITO:TERRASCOPE_S5P_L3_CO_TD_V1: 366\n",
      "urn:eop:VITO:TERRASCOPE_S5P_L3_CO_TD_V2: 365\n",
      "urn:eop:VITO:TERRASCOPE_S5P_L3_CO_TM_V1: 13\n",
      "urn:eop:VITO:TERRASCOPE_S5P_L3_CO_TM_V2: 13\n",
      "urn:eop:VITO:TERRASCOPE_S5P_L3_CO_TY_V1: 2\n",
      "urn:eop:VITO:TERRASCOPE_S5P_L3_CO_TY_V2: 2\n",
      "urn:eop:VITO:TERRASCOPE_S5P_L3_HCHO_TD_V1: 365\n",
      "urn:eop:VITO:TERRASCOPE_S5P_L3_HCHO_TD_V2: 365\n",
      "urn:eop:VITO:TERRASCOPE_S5P_L3_HCHO_TM_V1: 12\n",
      "urn:eop:VITO:TERRASCOPE_S5P_L3_HCHO_TM_V2: 12\n",
      "urn:eop:VITO:TERRASCOPE_S5P_L3_HCHO_TY_V1: 3\n",
      "urn:eop:VITO:TERRASCOPE_S5P_L3_HCHO_TY_V2: 2\n",
      "urn:eop:VITO:TERRASCOPE_S5P_L3_NO2_TD_V1: 365\n",
      "urn:eop:VITO:TERRASCOPE_S5P_L3_NO2_TD_V2: 365\n",
      "urn:eop:VITO:TERRASCOPE_S5P_L3_NO2_TM_V1: 13\n",
      "urn:eop:VITO:TERRASCOPE_S5P_L3_NO2_TM_V2: 13\n",
      "urn:eop:VITO:TERRASCOPE_S5P_L3_NO2_TY_V1: 2\n",
      "urn:eop:VITO:TERRASCOPE_S5P_L3_NO2_TY_V2: 2\n",
      "urn:ogc:def:EOP:VITO:VGT_P: 0\n",
      "urn:ogc:def:EOP:VITO:VGT_S1: 0\n",
      "urn:ogc:def:EOP:VITO:VGT_S10: 0\n"
     ]
    }
   ],
   "source": [
    "# next, we want to know the number of products per collection for 2019\n",
    "collections = catalogue.get_collections()\n",
    "for collection in collections:\n",
    "    print(\"{}: {}\".format(collection.id,\n",
    "                          catalogue.get_product_count(collection.id, \n",
    "                                                      start=dt.date(2019, 1, 1), \n",
    "                                                      end=dt.date(2020, 1, 1))))"
   ]
  },
  {
   "cell_type": "code",
   "execution_count": 6,
   "id": "f16c486d",
   "metadata": {},
   "outputs": [
    {
     "name": "stdout",
     "output_type": "stream",
     "text": [
      "S2A_20200507T104031_31UGS_NDVI_10M_V200\n",
      "S2A_20200507T104031_31UGS_NDVI_10M_V210\n",
      "S2A_20200510T105031_31UGS_NDVI_10M_V200\n",
      "S2A_20200514T103031_31UGS_NDVI_10M_V200\n",
      "S2A_20200514T103031_31UGS_NDVI_10M_V210\n",
      "S2A_20200517T104031_31UGS_NDVI_10M_V200\n",
      "S2A_20200517T104031_31UGS_NDVI_10M_V210\n",
      "S2A_20200520T105031_31UGS_NDVI_10M_V200\n",
      "S2A_20200520T105031_31UGS_NDVI_10M_V210\n",
      "S2A_20200524T103031_31UGS_NDVI_10M_V200\n",
      "S2A_20200524T103031_31UGS_NDVI_10M_V210\n",
      "S2A_20200527T104031_31UGS_NDVI_10M_V200\n",
      "S2A_20200527T104031_31UGS_NDVI_10M_V210\n",
      "S2A_20200530T105031_31UGS_NDVI_10M_V200\n",
      "S2A_20200530T105031_31UGS_NDVI_10M_V210\n",
      "S2B_20200502T103619_31UGS_NDVI_10M_V200\n",
      "S2B_20200502T103619_31UGS_NDVI_10M_V210\n",
      "S2B_20200505T104619_31UGS_NDVI_10M_V200\n",
      "S2B_20200505T104619_31UGS_NDVI_10M_V210\n",
      "S2B_20200509T102559_31UGS_NDVI_10M_V200\n",
      "S2B_20200509T102559_31UGS_NDVI_10M_V210\n",
      "S2B_20200512T103619_31UGS_NDVI_10M_V200\n",
      "S2B_20200512T103619_31UGS_NDVI_10M_V210\n",
      "S2B_20200515T104619_31UGS_NDVI_10M_V200\n",
      "S2B_20200515T104619_31UGS_NDVI_10M_V210\n",
      "S2B_20200519T102559_31UGS_NDVI_10M_V200\n",
      "S2B_20200519T102559_31UGS_NDVI_10M_V210\n",
      "S2B_20200525T104619_31UGS_NDVI_10M_V200\n",
      "S2B_20200529T102559_31UGS_NDVI_10M_V200\n",
      "S2B_20200529T102559_31UGS_NDVI_10M_V210\n"
     ]
    }
   ],
   "source": [
    "# let's try to access Sentinel 2 NDVI products for May 2019 with tile id 31UGS\n",
    "products = catalogue.get_products(\"urn:eop:VITO:TERRASCOPE_S2_NDVI_V2\", start=dt.date(2020, 5, 1), end=dt.date(2020, 6, 1), tileId=\"31UGS\")\n",
    "for product in products:\n",
    "    print(product.title)"
   ]
  },
  {
   "cell_type": "code",
   "execution_count": 7,
   "id": "e45adb10",
   "metadata": {},
   "outputs": [
    {
     "name": "stdout",
     "output_type": "stream",
     "text": [
      "S2A_20200507T104031_31UGS_NDVI_10M_V200: https://services.terrascope.be/download/Sentinel2/NDVI_V2/2020/05/07/S2A_20200507T104031_31UGS_NDVI_V200/S2A_20200507T104031_31UGS_NDVI_10M_V200.tif\n",
      "S2A_20200507T104031_31UGS_NDVI_10M_V210: https://services.terrascope.be/download/Sentinel2/NDVI_V2/2020/05/07/S2A_20200507T104031_31UGS_NDVI_V210/S2A_20200507T104031_31UGS_NDVI_10M_V210.tif\n",
      "S2A_20200510T105031_31UGS_NDVI_10M_V200: https://services.terrascope.be/download/Sentinel2/NDVI_V2/2020/05/10/S2A_20200510T105031_31UGS_NDVI_V200/S2A_20200510T105031_31UGS_NDVI_10M_V200.tif\n",
      "S2A_20200514T103031_31UGS_NDVI_10M_V200: https://services.terrascope.be/download/Sentinel2/NDVI_V2/2020/05/14/S2A_20200514T103031_31UGS_NDVI_V200/S2A_20200514T103031_31UGS_NDVI_10M_V200.tif\n",
      "S2A_20200514T103031_31UGS_NDVI_10M_V210: https://services.terrascope.be/download/Sentinel2/NDVI_V2/2020/05/14/S2A_20200514T103031_31UGS_NDVI_V210/S2A_20200514T103031_31UGS_NDVI_10M_V210.tif\n",
      "S2A_20200517T104031_31UGS_NDVI_10M_V200: https://services.terrascope.be/download/Sentinel2/NDVI_V2/2020/05/17/S2A_20200517T104031_31UGS_NDVI_V200/S2A_20200517T104031_31UGS_NDVI_10M_V200.tif\n",
      "S2A_20200517T104031_31UGS_NDVI_10M_V210: https://services.terrascope.be/download/Sentinel2/NDVI_V2/2020/05/17/S2A_20200517T104031_31UGS_NDVI_V210/S2A_20200517T104031_31UGS_NDVI_10M_V210.tif\n",
      "S2A_20200520T105031_31UGS_NDVI_10M_V200: https://services.terrascope.be/download/Sentinel2/NDVI_V2/2020/05/20/S2A_20200520T105031_31UGS_NDVI_V200/S2A_20200520T105031_31UGS_NDVI_10M_V200.tif\n",
      "S2A_20200520T105031_31UGS_NDVI_10M_V210: https://services.terrascope.be/download/Sentinel2/NDVI_V2/2020/05/20/S2A_20200520T105031_31UGS_NDVI_V210/S2A_20200520T105031_31UGS_NDVI_10M_V210.tif\n",
      "S2A_20200524T103031_31UGS_NDVI_10M_V200: https://services.terrascope.be/download/Sentinel2/NDVI_V2/2020/05/24/S2A_20200524T103031_31UGS_NDVI_V200/S2A_20200524T103031_31UGS_NDVI_10M_V200.tif\n",
      "S2A_20200524T103031_31UGS_NDVI_10M_V210: https://services.terrascope.be/download/Sentinel2/NDVI_V2/2020/05/24/S2A_20200524T103031_31UGS_NDVI_V210/S2A_20200524T103031_31UGS_NDVI_10M_V210.tif\n",
      "S2A_20200527T104031_31UGS_NDVI_10M_V200: https://services.terrascope.be/download/Sentinel2/NDVI_V2/2020/05/27/S2A_20200527T104031_31UGS_NDVI_V200/S2A_20200527T104031_31UGS_NDVI_10M_V200.tif\n",
      "S2A_20200527T104031_31UGS_NDVI_10M_V210: https://services.terrascope.be/download/Sentinel2/NDVI_V2/2020/05/27/S2A_20200527T104031_31UGS_NDVI_V210/S2A_20200527T104031_31UGS_NDVI_10M_V210.tif\n",
      "S2A_20200530T105031_31UGS_NDVI_10M_V200: https://services.terrascope.be/download/Sentinel2/NDVI_V2/2020/05/30/S2A_20200530T105031_31UGS_NDVI_V200/S2A_20200530T105031_31UGS_NDVI_10M_V200.tif\n",
      "S2A_20200530T105031_31UGS_NDVI_10M_V210: https://services.terrascope.be/download/Sentinel2/NDVI_V2/2020/05/30/S2A_20200530T105031_31UGS_NDVI_V210/S2A_20200530T105031_31UGS_NDVI_10M_V210.tif\n",
      "S2B_20200502T103619_31UGS_NDVI_10M_V200: https://services.terrascope.be/download/Sentinel2/NDVI_V2/2020/05/02/S2B_20200502T103619_31UGS_NDVI_V200/S2B_20200502T103619_31UGS_NDVI_10M_V200.tif\n",
      "S2B_20200502T103619_31UGS_NDVI_10M_V210: https://services.terrascope.be/download/Sentinel2/NDVI_V2/2020/05/02/S2B_20200502T103619_31UGS_NDVI_V210/S2B_20200502T103619_31UGS_NDVI_10M_V210.tif\n",
      "S2B_20200505T104619_31UGS_NDVI_10M_V200: https://services.terrascope.be/download/Sentinel2/NDVI_V2/2020/05/05/S2B_20200505T104619_31UGS_NDVI_V200/S2B_20200505T104619_31UGS_NDVI_10M_V200.tif\n",
      "S2B_20200505T104619_31UGS_NDVI_10M_V210: https://services.terrascope.be/download/Sentinel2/NDVI_V2/2020/05/05/S2B_20200505T104619_31UGS_NDVI_V210/S2B_20200505T104619_31UGS_NDVI_10M_V210.tif\n",
      "S2B_20200509T102559_31UGS_NDVI_10M_V200: https://services.terrascope.be/download/Sentinel2/NDVI_V2/2020/05/09/S2B_20200509T102559_31UGS_NDVI_V200/S2B_20200509T102559_31UGS_NDVI_10M_V200.tif\n",
      "S2B_20200509T102559_31UGS_NDVI_10M_V210: https://services.terrascope.be/download/Sentinel2/NDVI_V2/2020/05/09/S2B_20200509T102559_31UGS_NDVI_V210/S2B_20200509T102559_31UGS_NDVI_10M_V210.tif\n",
      "S2B_20200512T103619_31UGS_NDVI_10M_V200: https://services.terrascope.be/download/Sentinel2/NDVI_V2/2020/05/12/S2B_20200512T103619_31UGS_NDVI_V200/S2B_20200512T103619_31UGS_NDVI_10M_V200.tif\n",
      "S2B_20200512T103619_31UGS_NDVI_10M_V210: https://services.terrascope.be/download/Sentinel2/NDVI_V2/2020/05/12/S2B_20200512T103619_31UGS_NDVI_V210/S2B_20200512T103619_31UGS_NDVI_10M_V210.tif\n",
      "S2B_20200515T104619_31UGS_NDVI_10M_V200: https://services.terrascope.be/download/Sentinel2/NDVI_V2/2020/05/15/S2B_20200515T104619_31UGS_NDVI_V200/S2B_20200515T104619_31UGS_NDVI_10M_V200.tif\n",
      "S2B_20200515T104619_31UGS_NDVI_10M_V210: https://services.terrascope.be/download/Sentinel2/NDVI_V2/2020/05/15/S2B_20200515T104619_31UGS_NDVI_V210/S2B_20200515T104619_31UGS_NDVI_10M_V210.tif\n",
      "S2B_20200519T102559_31UGS_NDVI_10M_V200: https://services.terrascope.be/download/Sentinel2/NDVI_V2/2020/05/19/S2B_20200519T102559_31UGS_NDVI_V200/S2B_20200519T102559_31UGS_NDVI_10M_V200.tif\n",
      "S2B_20200519T102559_31UGS_NDVI_10M_V210: https://services.terrascope.be/download/Sentinel2/NDVI_V2/2020/05/19/S2B_20200519T102559_31UGS_NDVI_V210/S2B_20200519T102559_31UGS_NDVI_10M_V210.tif\n",
      "S2B_20200525T104619_31UGS_NDVI_10M_V200: https://services.terrascope.be/download/Sentinel2/NDVI_V2/2020/05/25/S2B_20200525T104619_31UGS_NDVI_V200/S2B_20200525T104619_31UGS_NDVI_10M_V200.tif\n",
      "S2B_20200529T102559_31UGS_NDVI_10M_V200: https://services.terrascope.be/download/Sentinel2/NDVI_V2/2020/05/29/S2B_20200529T102559_31UGS_NDVI_V200/S2B_20200529T102559_31UGS_NDVI_10M_V200.tif\n",
      "S2B_20200529T102559_31UGS_NDVI_10M_V210: https://services.terrascope.be/download/Sentinel2/NDVI_V2/2020/05/29/S2B_20200529T102559_31UGS_NDVI_V210/S2B_20200529T102559_31UGS_NDVI_10M_V210.tif\n"
     ]
    }
   ],
   "source": [
    "products = catalogue.get_products(\"urn:eop:VITO:TERRASCOPE_S2_NDVI_V2\", start=dt.date(2020, 5, 1), end=dt.date(2020, 6, 1), tileId=\"31UGS\")\n",
    "for product in products:\n",
    "    print(\"{}: {}\".format(product.title, product.data[0].href))\n"
   ]
  },
  {
   "cell_type": "code",
   "execution_count": 8,
   "id": "8f34232e",
   "metadata": {},
   "outputs": [
    {
     "name": "stdout",
     "output_type": "stream",
     "text": [
      "S2A_20200507T104031_31UGS_NDVI_10M_V200: file:///data/MTDA/TERRASCOPE_Sentinel2/NDVI_V2/2020/05/07/S2A_20200507T104031_31UGS_NDVI_V200/S2A_20200507T104031_31UGS_NDVI_10M_V200.tif\n",
      "S2A_20200507T104031_31UGS_NDVI_10M_V210: file:///data/MTDA/TERRASCOPE_Sentinel2/NDVI_V2/2020/05/07/S2A_20200507T104031_31UGS_NDVI_V210/S2A_20200507T104031_31UGS_NDVI_10M_V210.tif\n",
      "S2A_20200510T105031_31UGS_NDVI_10M_V200: file:///data/MTDA/TERRASCOPE_Sentinel2/NDVI_V2/2020/05/10/S2A_20200510T105031_31UGS_NDVI_V200/S2A_20200510T105031_31UGS_NDVI_10M_V200.tif\n",
      "S2A_20200514T103031_31UGS_NDVI_10M_V200: file:///data/MTDA/TERRASCOPE_Sentinel2/NDVI_V2/2020/05/14/S2A_20200514T103031_31UGS_NDVI_V200/S2A_20200514T103031_31UGS_NDVI_10M_V200.tif\n",
      "S2A_20200514T103031_31UGS_NDVI_10M_V210: file:///data/MTDA/TERRASCOPE_Sentinel2/NDVI_V2/2020/05/14/S2A_20200514T103031_31UGS_NDVI_V210/S2A_20200514T103031_31UGS_NDVI_10M_V210.tif\n",
      "S2A_20200517T104031_31UGS_NDVI_10M_V200: file:///data/MTDA/TERRASCOPE_Sentinel2/NDVI_V2/2020/05/17/S2A_20200517T104031_31UGS_NDVI_V200/S2A_20200517T104031_31UGS_NDVI_10M_V200.tif\n",
      "S2A_20200517T104031_31UGS_NDVI_10M_V210: file:///data/MTDA/TERRASCOPE_Sentinel2/NDVI_V2/2020/05/17/S2A_20200517T104031_31UGS_NDVI_V210/S2A_20200517T104031_31UGS_NDVI_10M_V210.tif\n",
      "S2A_20200520T105031_31UGS_NDVI_10M_V200: file:///data/MTDA/TERRASCOPE_Sentinel2/NDVI_V2/2020/05/20/S2A_20200520T105031_31UGS_NDVI_V200/S2A_20200520T105031_31UGS_NDVI_10M_V200.tif\n",
      "S2A_20200520T105031_31UGS_NDVI_10M_V210: file:///data/MTDA/TERRASCOPE_Sentinel2/NDVI_V2/2020/05/20/S2A_20200520T105031_31UGS_NDVI_V210/S2A_20200520T105031_31UGS_NDVI_10M_V210.tif\n",
      "S2A_20200524T103031_31UGS_NDVI_10M_V200: file:///data/MTDA/TERRASCOPE_Sentinel2/NDVI_V2/2020/05/24/S2A_20200524T103031_31UGS_NDVI_V200/S2A_20200524T103031_31UGS_NDVI_10M_V200.tif\n",
      "S2A_20200524T103031_31UGS_NDVI_10M_V210: file:///data/MTDA/TERRASCOPE_Sentinel2/NDVI_V2/2020/05/24/S2A_20200524T103031_31UGS_NDVI_V210/S2A_20200524T103031_31UGS_NDVI_10M_V210.tif\n",
      "S2A_20200527T104031_31UGS_NDVI_10M_V200: file:///data/MTDA/TERRASCOPE_Sentinel2/NDVI_V2/2020/05/27/S2A_20200527T104031_31UGS_NDVI_V200/S2A_20200527T104031_31UGS_NDVI_10M_V200.tif\n",
      "S2A_20200527T104031_31UGS_NDVI_10M_V210: file:///data/MTDA/TERRASCOPE_Sentinel2/NDVI_V2/2020/05/27/S2A_20200527T104031_31UGS_NDVI_V210/S2A_20200527T104031_31UGS_NDVI_10M_V210.tif\n",
      "S2A_20200530T105031_31UGS_NDVI_10M_V200: file:///data/MTDA/TERRASCOPE_Sentinel2/NDVI_V2/2020/05/30/S2A_20200530T105031_31UGS_NDVI_V200/S2A_20200530T105031_31UGS_NDVI_10M_V200.tif\n",
      "S2A_20200530T105031_31UGS_NDVI_10M_V210: file:///data/MTDA/TERRASCOPE_Sentinel2/NDVI_V2/2020/05/30/S2A_20200530T105031_31UGS_NDVI_V210/S2A_20200530T105031_31UGS_NDVI_10M_V210.tif\n",
      "S2B_20200502T103619_31UGS_NDVI_10M_V200: file:///data/MTDA/TERRASCOPE_Sentinel2/NDVI_V2/2020/05/02/S2B_20200502T103619_31UGS_NDVI_V200/S2B_20200502T103619_31UGS_NDVI_10M_V200.tif\n",
      "S2B_20200502T103619_31UGS_NDVI_10M_V210: file:///data/MTDA/TERRASCOPE_Sentinel2/NDVI_V2/2020/05/02/S2B_20200502T103619_31UGS_NDVI_V210/S2B_20200502T103619_31UGS_NDVI_10M_V210.tif\n",
      "S2B_20200505T104619_31UGS_NDVI_10M_V200: file:///data/MTDA/TERRASCOPE_Sentinel2/NDVI_V2/2020/05/05/S2B_20200505T104619_31UGS_NDVI_V200/S2B_20200505T104619_31UGS_NDVI_10M_V200.tif\n",
      "S2B_20200505T104619_31UGS_NDVI_10M_V210: file:///data/MTDA/TERRASCOPE_Sentinel2/NDVI_V2/2020/05/05/S2B_20200505T104619_31UGS_NDVI_V210/S2B_20200505T104619_31UGS_NDVI_10M_V210.tif\n",
      "S2B_20200509T102559_31UGS_NDVI_10M_V200: file:///data/MTDA/TERRASCOPE_Sentinel2/NDVI_V2/2020/05/09/S2B_20200509T102559_31UGS_NDVI_V200/S2B_20200509T102559_31UGS_NDVI_10M_V200.tif\n",
      "S2B_20200509T102559_31UGS_NDVI_10M_V210: file:///data/MTDA/TERRASCOPE_Sentinel2/NDVI_V2/2020/05/09/S2B_20200509T102559_31UGS_NDVI_V210/S2B_20200509T102559_31UGS_NDVI_10M_V210.tif\n",
      "S2B_20200512T103619_31UGS_NDVI_10M_V200: file:///data/MTDA/TERRASCOPE_Sentinel2/NDVI_V2/2020/05/12/S2B_20200512T103619_31UGS_NDVI_V200/S2B_20200512T103619_31UGS_NDVI_10M_V200.tif\n",
      "S2B_20200512T103619_31UGS_NDVI_10M_V210: file:///data/MTDA/TERRASCOPE_Sentinel2/NDVI_V2/2020/05/12/S2B_20200512T103619_31UGS_NDVI_V210/S2B_20200512T103619_31UGS_NDVI_10M_V210.tif\n",
      "S2B_20200515T104619_31UGS_NDVI_10M_V200: file:///data/MTDA/TERRASCOPE_Sentinel2/NDVI_V2/2020/05/15/S2B_20200515T104619_31UGS_NDVI_V200/S2B_20200515T104619_31UGS_NDVI_10M_V200.tif\n",
      "S2B_20200515T104619_31UGS_NDVI_10M_V210: file:///data/MTDA/TERRASCOPE_Sentinel2/NDVI_V2/2020/05/15/S2B_20200515T104619_31UGS_NDVI_V210/S2B_20200515T104619_31UGS_NDVI_10M_V210.tif\n",
      "S2B_20200519T102559_31UGS_NDVI_10M_V200: file:///data/MTDA/TERRASCOPE_Sentinel2/NDVI_V2/2020/05/19/S2B_20200519T102559_31UGS_NDVI_V200/S2B_20200519T102559_31UGS_NDVI_10M_V200.tif\n",
      "S2B_20200519T102559_31UGS_NDVI_10M_V210: file:///data/MTDA/TERRASCOPE_Sentinel2/NDVI_V2/2020/05/19/S2B_20200519T102559_31UGS_NDVI_V210/S2B_20200519T102559_31UGS_NDVI_10M_V210.tif\n",
      "S2B_20200525T104619_31UGS_NDVI_10M_V200: file:///data/MTDA/TERRASCOPE_Sentinel2/NDVI_V2/2020/05/25/S2B_20200525T104619_31UGS_NDVI_V200/S2B_20200525T104619_31UGS_NDVI_10M_V200.tif\n",
      "S2B_20200529T102559_31UGS_NDVI_10M_V200: file:///data/MTDA/TERRASCOPE_Sentinel2/NDVI_V2/2020/05/29/S2B_20200529T102559_31UGS_NDVI_V200/S2B_20200529T102559_31UGS_NDVI_10M_V200.tif\n",
      "S2B_20200529T102559_31UGS_NDVI_10M_V210: file:///data/MTDA/TERRASCOPE_Sentinel2/NDVI_V2/2020/05/29/S2B_20200529T102559_31UGS_NDVI_V210/S2B_20200529T102559_31UGS_NDVI_10M_V210.tif\n"
     ]
    }
   ],
   "source": [
    "# if you're on the Terrascope platform, you probably prefer the direct attachted storage locations iso the https download URLs\n",
    "products = catalogue.get_products(\"urn:eop:VITO:TERRASCOPE_S2_NDVI_V2\",\n",
    "                                  start=dt.date(2020, 5, 1), end=dt.date(2020, 6, 1),\n",
    "                                  tileId=\"31UGS\",\n",
    "                                  accessedFrom=\"MEP\")\n",
    "for product in products:\n",
    "    print(\"{}: {}\".format(product.title, product.data[0].href))"
   ]
  },
  {
   "cell_type": "code",
   "execution_count": 9,
   "id": "0f8650fa",
   "metadata": {},
   "outputs": [
    {
     "name": "stdout",
     "output_type": "stream",
     "text": [
      "S2A_20200507T104031_31UGS_NDVI_10M_V200: 0.904653 % clouds\n",
      "S2A_20200507T104031_31UGS_NDVI_10M_V210: 0.001 % clouds\n",
      "S2A_20200527T104031_31UGS_NDVI_10M_V200: 5.485129 % clouds\n",
      "S2A_20200527T104031_31UGS_NDVI_10M_V210: 5.932 % clouds\n",
      "S2A_20200530T105031_31UGS_NDVI_10M_V200: 8.690194 % clouds\n",
      "S2A_20200530T105031_31UGS_NDVI_10M_V210: 2.175 % clouds\n",
      "S2B_20200505T104619_31UGS_NDVI_10M_V200: 7.686716 % clouds\n",
      "S2B_20200505T104619_31UGS_NDVI_10M_V210: 0.021 % clouds\n",
      "S2B_20200515T104619_31UGS_NDVI_10M_V200: 0.818888 % clouds\n",
      "S2B_20200515T104619_31UGS_NDVI_10M_V210: 0.016 % clouds\n",
      "S2B_20200519T102559_31UGS_NDVI_10M_V210: 8.055 % clouds\n",
      "S2B_20200529T102559_31UGS_NDVI_10M_V200: 8.282671 % clouds\n",
      "S2B_20200529T102559_31UGS_NDVI_10M_V210: 4.674 % clouds\n"
     ]
    }
   ],
   "source": [
    "# suppose you only want products with cloud cover <= 10%\n",
    "products = catalogue.get_products(\"urn:eop:VITO:TERRASCOPE_S2_NDVI_V2\",\n",
    "                                  start=dt.date(2020, 5, 1), end=dt.date(2020, 6, 1),\n",
    "                                  tileId=\"31UGS\",\n",
    "                                  cloudCover=10)\n",
    "for product in products:\n",
    "    print(\"{}: {} % clouds\".format(product.title, product.properties[\"productInformation\"][\"cloudCover\"]))"
   ]
  },
  {
   "cell_type": "code",
   "execution_count": 10,
   "id": "29c69ef2",
   "metadata": {},
   "outputs": [
    {
     "name": "stdout",
     "output_type": "stream",
     "text": [
      "S2A_20200514T103031_31UGS_NDVI_10M_V210: 11.104 % clouds\n",
      "S2A_20200517T104031_31UGS_NDVI_10M_V210: 18.028 % clouds\n",
      "S2A_20200520T105031_31UGS_NDVI_10M_V210: 13.794 % clouds\n",
      "S2B_20200519T102559_31UGS_NDVI_10M_V200: 18.129379 % clouds\n"
     ]
    }
   ],
   "source": [
    "# you can also specify a range for the cloud cover\n",
    "products = catalogue.get_products(\"urn:eop:VITO:TERRASCOPE_S2_NDVI_V2\",\n",
    "                                  start=dt.date(2020, 5, 1), end=dt.date(2020, 6, 1),\n",
    "                                  tileId=\"31UGS\",\n",
    "                                  cloudCover=\"[10,20[\")\n",
    "for product in products:\n",
    "    print(\"{}: {} % clouds\".format(product.title, product.properties[\"productInformation\"][\"cloudCover\"]))"
   ]
  },
  {
   "cell_type": "code",
   "execution_count": 11,
   "id": "1ad3ca73",
   "metadata": {},
   "outputs": [
    {
     "name": "stdout",
     "output_type": "stream",
     "text": [
      "S2A_20200520T105031_31UFS_NDVI_10M_V200: 17.530886 % clouds\n",
      "S2A_20200530T105031_31UFT_NDVI_10M_V200: 10.292502 % clouds\n",
      "S2A_20200530T105031_31UFT_NDVI_10M_V210: 14.525 % clouds\n",
      "S2B_20200505T104619_31UFT_NDVI_10M_V200: 17.906182 % clouds\n",
      "S2B_20200505T104619_31UFT_NDVI_10M_V210: 16.616 % clouds\n"
     ]
    }
   ],
   "source": [
    "# instead of a tile id, you can also use a bbox to query the catalogue\n",
    "products = catalogue.get_products(\"urn:eop:VITO:TERRASCOPE_S2_NDVI_V2\",\n",
    "                                  start=dt.date(2020, 5, 1), end=dt.date(2020, 6, 1),\n",
    "                                  bbox=\"4.96,51.28,5.06,51.36\",\n",
    "                                  cloudCover=\"[10,20[\")\n",
    "for product in products:\n",
    "    print(\"{}: {} % clouds\".format(product.title, product.properties[\"productInformation\"][\"cloudCover\"]))"
   ]
  },
  {
   "cell_type": "code",
   "execution_count": 12,
   "id": "724c9c5e",
   "metadata": {},
   "outputs": [
    {
     "name": "stdout",
     "output_type": "stream",
     "text": [
      "S2A_20200520T105031_31UFS_NDVI_10M_V200: 17.530886 % clouds\n",
      "S2A_20200530T105031_31UFT_NDVI_10M_V200: 10.292502 % clouds\n",
      "S2A_20200530T105031_31UFT_NDVI_10M_V210: 14.525 % clouds\n",
      "S2B_20200505T104619_31UFT_NDVI_10M_V200: 17.906182 % clouds\n",
      "S2B_20200505T104619_31UFT_NDVI_10M_V210: 16.616 % clouds\n"
     ]
    }
   ],
   "source": [
    "# specifying a bbox can be done in different formats\n",
    "products = catalogue.get_products(\"urn:eop:VITO:TERRASCOPE_S2_NDVI_V2\",\n",
    "                                  start=dt.date(2020, 5, 1), end=dt.date(2020, 6, 1),\n",
    "                                  bbox=[4.96,51.28,5.06,51.36],\n",
    "                                  cloudCover=\"[10,20[\")\n",
    "for product in products:\n",
    "    print(\"{}: {} % clouds\".format(product.title, product.properties[\"productInformation\"][\"cloudCover\"]))"
   ]
  },
  {
   "cell_type": "code",
   "execution_count": 13,
   "id": "d5bf4788",
   "metadata": {},
   "outputs": [
    {
     "name": "stdout",
     "output_type": "stream",
     "text": [
      "S2A_20200520T105031_31UFS_NDVI_10M_V200: 17.530886 % clouds\n"
     ]
    }
   ],
   "source": [
    "# same is true for the geometry parameter, you can use a class derived from BaseGeometry\n",
    "from shapely.geometry import Polygon\n",
    "polygon = Polygon([(4.968738555908202,51.32052823738613),\n",
    "                   (4.975605010986327,51.31966997328442),\n",
    "                   (4.980411529541015,51.3179533969039),\n",
    "                   (4.979209899902343,51.31548570581677),\n",
    "                   (4.978694915771484,51.313876270549315),\n",
    "                   (4.979209899902343,51.31215947736587),\n",
    "                   (4.970283508300781,51.31548570581677),\n",
    "                   (4.968738555908202,51.32052823738613)])\n",
    "products = catalogue.get_products(\"urn:eop:VITO:TERRASCOPE_S2_NDVI_V2\",\n",
    "                                  start=dt.date(2020, 5, 1), end=dt.date(2020, 6, 1),\n",
    "                                  geometry=polygon,\n",
    "                                  cloudCover=\"[10,20[\")\n",
    "for product in products:\n",
    "    print(\"{}: {} % clouds\".format(product.title, product.properties[\"productInformation\"][\"cloudCover\"]))"
   ]
  },
  {
   "cell_type": "code",
   "execution_count": 14,
   "id": "01f6a538",
   "metadata": {},
   "outputs": [
    {
     "name": "stdout",
     "output_type": "stream",
     "text": [
      "S2A_20200520T105031_31UFS_NDVI_10M_V200: 17.530886 % clouds\n"
     ]
    }
   ],
   "source": [
    "# or you can specify it as WKT string:\n",
    "from shapely.geometry import Polygon\n",
    "polygon = \"POLYGON ((4.968738555908202 51.32052823738613, 4.975605010986327 51.31966997328442, 4.980411529541015 51.3179533969039, 4.979209899902343 51.31548570581677, 4.978694915771484 51.31387627054931, 4.979209899902343 51.31215947736587, 4.970283508300781 51.31548570581677, 4.968738555908202 51.32052823738613))\"\n",
    "products = catalogue.get_products(\"urn:eop:VITO:TERRASCOPE_S2_NDVI_V2\",\n",
    "                                  start=dt.date(2020, 5, 1), end=dt.date(2020, 6, 1),\n",
    "                                  geometry=polygon,\n",
    "                                  cloudCover=\"[10,20[\")\n",
    "for product in products:\n",
    "    print(\"{}: {} % clouds\".format(product.title, product.properties[\"productInformation\"][\"cloudCover\"]))"
   ]
  },
  {
   "cell_type": "code",
   "execution_count": 15,
   "id": "7e5e79d8",
   "metadata": {},
   "outputs": [
    {
     "name": "stdout",
     "output_type": "stream",
     "text": [
      "S2A_20200507T104031_31UFR_NDVI_10M_V200: 11.571129 % clouds\n",
      "S2A_20200507T104031_31UFR_NDVI_10M_V210: 0.04 % clouds\n",
      "S2A_20200507T104031_31UFS_NDVI_10M_V200: 1.857676 % clouds\n",
      "S2A_20200507T104031_31UFS_NDVI_10M_V210: 0.043 % clouds\n",
      "S2A_20200510T105031_31UFR_NDVI_10M_V200: 94.701839 % clouds\n",
      "S2A_20200510T105031_31UFR_NDVI_10M_V210: 79.579 % clouds\n",
      "S2A_20200510T105031_31UFS_NDVI_10M_V210: 98.41 % clouds\n",
      "S2A_20200517T104031_31UFR_NDVI_10M_V200: 4.234795 % clouds\n",
      "S2A_20200517T104031_31UFR_NDVI_10M_V210: 2.69 % clouds\n",
      "S2A_20200517T104031_31UFS_NDVI_10M_V200: 31.65485 % clouds\n",
      "S2A_20200517T104031_31UFS_NDVI_10M_V210: 34.999 % clouds\n",
      "S2A_20200520T105031_31UFR_NDVI_10M_V200: 0.529267 % clouds\n",
      "S2A_20200520T105031_31UFR_NDVI_10M_V210: 0.155 % clouds\n",
      "S2A_20200520T105031_31UFS_NDVI_10M_V200: 17.530886 % clouds\n",
      "S2A_20200520T105031_31UFS_NDVI_10M_V210: 21.84 % clouds\n",
      "S2A_20200527T104031_31UFR_NDVI_10M_V200: 9.642383 % clouds\n",
      "S2A_20200527T104031_31UFR_NDVI_10M_V210: 0.984 % clouds\n",
      "S2A_20200527T104031_31UFS_NDVI_10M_V200: 26.015732 % clouds\n",
      "S2A_20200527T104031_31UFS_NDVI_10M_V210: 25.394 % clouds\n",
      "S2A_20200530T105031_31UFR_NDVI_10M_V200: 0.8734870000000001 % clouds\n",
      "S2A_20200530T105031_31UFR_NDVI_10M_V210: 1.126 % clouds\n",
      "S2A_20200530T105031_31UFS_NDVI_10M_V200: 2.8717700000000006 % clouds\n",
      "S2A_20200530T105031_31UFS_NDVI_10M_V210: 3.89 % clouds\n",
      "S2B_20200502T103619_31UFR_NDVI_10M_V200: 78.554764 % clouds\n",
      "S2B_20200502T103619_31UFR_NDVI_10M_V210: 81.427 % clouds\n",
      "S2B_20200502T103619_31UFS_NDVI_10M_V200: 70.184621 % clouds\n",
      "S2B_20200502T103619_31UFS_NDVI_10M_V210: 72.792 % clouds\n",
      "S2B_20200505T104619_31UFR_NDVI_10M_V200: 63.58044 % clouds\n",
      "S2B_20200505T104619_31UFR_NDVI_10M_V210: 37.705 % clouds\n",
      "S2B_20200505T104619_31UFS_NDVI_10M_V200: 7.670947 % clouds\n",
      "S2B_20200505T104619_31UFS_NDVI_10M_V210: 0.28 % clouds\n",
      "S2B_20200512T103619_31UFR_NDVI_10M_V200: 13.303962 % clouds\n",
      "S2B_20200512T103619_31UFR_NDVI_10M_V210: 17.309 % clouds\n",
      "S2B_20200512T103619_31UFS_NDVI_10M_V200: 72.140672 % clouds\n",
      "S2B_20200512T103619_31UFS_NDVI_10M_V210: 77.467 % clouds\n",
      "S2B_20200515T104619_31UFR_NDVI_10M_V200: 0.11621499999999998 % clouds\n",
      "S2B_20200515T104619_31UFR_NDVI_10M_V210: 0.002 % clouds\n",
      "S2B_20200515T104619_31UFS_NDVI_10M_V200: 0.361984 % clouds\n",
      "S2B_20200515T104619_31UFS_NDVI_10M_V210: 0.026 % clouds\n",
      "S2B_20200522T103629_31UFR_NDVI_10M_V210: 94.925 % clouds\n",
      "S2B_20200522T103629_31UFS_NDVI_10M_V210: 99.809 % clouds\n",
      "S2B_20200525T104619_31UFR_NDVI_10M_V200: 58.128706 % clouds\n",
      "S2B_20200525T104619_31UFR_NDVI_10M_V210: 53.828 % clouds\n",
      "S2B_20200525T104619_31UFS_NDVI_10M_V200: 62.26258899999999 % clouds\n",
      "S2B_20200525T104619_31UFS_NDVI_10M_V210: 68.915 % clouds\n"
     ]
    }
   ],
   "source": [
    "# from the API docs, you can see supported arguments; we also support kwargs for less frequently used parameters (lat, lon and radius)\n",
    "products = catalogue.get_products(collection='urn:eop:VITO:TERRASCOPE_S2_NDVI_V2', \n",
    "                                  start=dt.date(2020, 5, 1), end=dt.date(2020, 6, 1),\n",
    "                                  lat=50.5, lon=5, radius=100)\n",
    "for product in products:\n",
    "    print(\"{}: {} % clouds\".format(product.title, product.properties[\"productInformation\"][\"cloudCover\"]))"
   ]
  },
  {
   "cell_type": "code",
   "execution_count": 16,
   "id": "9ce35ff1",
   "metadata": {},
   "outputs": [
    {
     "data": {
      "application/vnd.jupyter.widget-view+json": {
       "model_id": "6081ad4cd794413fbd4a14fa02d180ec",
       "version_major": 2,
       "version_minor": 0
      },
      "text/plain": [
       "HBox(children=(VBox(children=(Password(description='Password:', placeholder='Enter password'),)), VBox(childre…"
      ]
     },
     "execution_count": 16,
     "metadata": {},
     "output_type": "execute_result"
    }
   ],
   "source": [
    "import ipywidgets as widgets\n",
    "\n",
    "valid_output = widgets.Valid(value=False)\n",
    "\n",
    "def on_submit_func(button):\n",
    "    button.disabled=True\n",
    "    valid_output.value=True\n",
    "\n",
    "pwd_input = widgets.Password(value='password',\n",
    "                             placeholder='Enter password',\n",
    "                             description='Password:',\n",
    "                             disabled=False)\n",
    "\n",
    "\n",
    "pwd_input.observe(on_submit_func,'value')\n",
    "\n",
    "left_box = widgets.VBox([pwd_input])\n",
    "right_box = widgets.VBox([valid_output])\n",
    "widgets.HBox([left_box, right_box])"
   ]
  },
  {
   "cell_type": "code",
   "execution_count": 17,
   "id": "15c3cc3c",
   "metadata": {},
   "outputs": [],
   "source": [
    "# let's download one of the files to show you how files can be downloaded when not working on the Terrascope platform\n",
    "products = catalogue.get_products(\"urn:eop:VITO:TERRASCOPE_S2_NDVI_V2\",\n",
    "                                  start=dt.date(2020, 5, 1), end=dt.date(2020, 6, 1),\n",
    "                                  title=\"S2A_20200520T105031_31UGS_NDVI_10M_V200\")\n",
    "catalogue.authenticate_non_interactive(username=getpass.getuser(), password=pwd_input.value)\n",
    "for product in products:\n",
    "    catalogue.download_file(product.data[0], '/tmp')"
   ]
  },
  {
   "cell_type": "code",
   "execution_count": 18,
   "id": "0748a3f7",
   "metadata": {},
   "outputs": [
    {
     "data": {
      "image/png": "[encoded data removed]",
      "text/plain": [
       "<Figure size 640x480 with 1 Axes>"
      ]
     },
     "metadata": {},
     "output_type": "display_data"
    },
    {
     "data": {
      "text/plain": [
       "<Axes: >"
      ]
     },
     "execution_count": 18,
     "metadata": {},
     "output_type": "execute_result"
    }
   ],
   "source": [
    "# verify that the file was downloaded\n",
    "\n",
    "import rasterio\n",
    "from rasterio.plot import show\n",
    "fp = r'/tmp/S2A_20200520T105031_31UGS_NDVI_10M_V200.tif'\n",
    "img = rasterio.open(fp)\n",
    "show(img)\n"
   ]
  }
 ],
 "metadata": {
  "kernelspec": {
   "display_name": "Python 3.11",
   "language": "python",
   "name": "python3"
  },
  "language_info": {
   "codemirror_mode": {
    "name": "ipython",
    "version": 3
   },
   "file_extension": ".py",
   "mimetype": "text/x-python",
   "name": "python",
   "nbconvert_exporter": "python",
   "pygments_lexer": "ipython3",
   "version": "3.11.3"
  }
 },
 "nbformat": 4,
 "nbformat_minor": 5
}

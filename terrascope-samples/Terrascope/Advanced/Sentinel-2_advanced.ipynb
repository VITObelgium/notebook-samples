{
 "cells": [
  {
   "metadata": {},
   "cell_type": "markdown",
   "source": [
    "## Advanced Sentinel-2 image processing, statistics, and plots\n",
    "\n",
    "This advanced Notebook builds on the beginner Notebook and shows some extended data processing and statistical tools on Sentinel-2 TOC reflectance data. After the data have been read, it is shown how to make transects through the data. Further, the following functionalities will be highlighted:\n",
    "\n",
    "- Status Map filtering\n",
    "- compute advanced statistics\n",
    "- retrieve statistics from shape file\n",
    "- build stack for RGB + time series\n",
    "- extract time series\n",
    "\n",
    "Let's start again with importing the required packages."
   ]
  },
  {
   "metadata": {},
   "cell_type": "code",
   "outputs": [],
   "execution_count": null,
   "source": [
    "import rasterio                                         #for conventiently reading GeoTiff files\n",
    "from rasterio.windows import Window                     #enables reading only a subset of the loaded file\n",
    "import matplotlib.pyplot as mplot                       #standard matplotlib module\n",
    "from mpl_toolkits.axes_grid1 import make_axes_locatable #this module is needed to resize the colorbar to the plot size\n",
    "import glob                                             #module for searching dirs/files\n",
    "import datetime as dt                                   #for datetime calculations and plot labels\n",
    "import numpy as np  \n",
    "import os\n",
    "from pandas.plotting import register_matplotlib_converters\n",
    "register_matplotlib_converters()"
   ]
  },
  {
   "metadata": {},
   "cell_type": "markdown",
   "source": "We load Sentinel-2 20 m TOC reflectance for the 0.704 $\\mu$m (RED) band."
  },
  {
   "metadata": {},
   "cell_type": "code",
   "outputs": [],
   "execution_count": null,
   "source": [
    "#filename of the Sentinel-2 image we will work on, B05=RED\n",
    "f_red = '/data/MTDA/TERRASCOPE_Sentinel2/TOC_V2/2017/05/26/S2A_20170526T105031_31UES_TOC_V200/S2A_20170526T105031_31UES_TOC-B05_20M_V200.tif'\n",
    "\n",
    "#read the files with rasterio and print some attributes\n",
    "with rasterio.open(f_red, 'r') as data:\n",
    "    d_red = data.read(1).astype(float)   \n",
    "print(np.nanmin(d_red), np.nanmax(d_red))"
   ]
  },
  {
   "metadata": {},
   "cell_type": "markdown",
   "source": "After reading the data, we will first mask out all NoData values, as well as negative TOC reflectances, which are physically impossible. After this screening is done, we can compute the TOC NDVI.  "
  },
  {
   "metadata": {},
   "cell_type": "code",
   "outputs": [],
   "execution_count": null,
   "source": [
    "#TBD: read the nodata and scaling factor from the files' metadata\n",
    "d_red[(d_red == 32767) | (d_red < 0)] = np.nan\n",
    "\n",
    "#apply the scaling factor\n",
    "d_red = d_red * 0.0001\n",
    "print(np.nanmin(d_red), np.nanmax(d_red))"
   ]
  },
  {
   "metadata": {},
   "cell_type": "markdown",
   "source": [
    "## Status Map filtering\n",
    "The Sentinel 2 Scene Classification contains among others information on cloud and cloud shadow occurrence and whether a pixel is land or water. Below, the Scene Classification file is read. \n",
    "Subsequently, the RED and NIR TOC reflectances will be filtered on land surface only.\n",
    "More information on the Scene classification and its values can be found in the Sentinel-2 TOC reflectance product [ATBD](https://docs.terrascope.be/DataProducts/Sentinel-2/references/S2_L2A_ATBD_V200.pdf). \n"
   ]
  },
  {
   "metadata": {},
   "cell_type": "code",
   "outputs": [],
   "execution_count": null,
   "source": [
    "f_status = '/data/MTDA/TERRASCOPE_Sentinel2/TOC_V2/2017/05/26/S2A_20170526T105031_31UES_TOC_V200/S2A_20170526T105031_31UES_SCENECLASSIFICATION_20M_V200.tif'\n",
    "\n",
    "with rasterio.open(f_status, 'r') as data:\n",
    "    d_status = data.read(1).astype(int)\n",
    "\n",
    "mplot.figure(figsize=(10, 10))\n",
    "mplot.subplot(221)\n",
    "mplot.imshow(d_status, vmin=0, vmax=6)\n",
    "mplot.title('Status Map')\n",
    "\n",
    "cb = mplot.colorbar(aspect=20)  \n",
    "cb.ax.set_ylabel('Status Map [-]')\n",
    "cb.ax.tick_params(labelsize=10)\n",
    "\n",
    "#we are only interested in land surface pixels, so set all sea pixels to NaN\n",
    "sea = np.where(d_status == 6)\n",
    "d_red[sea] = np.nan\n",
    "\n",
    "mplot.subplot(222)\n",
    "mplot.imshow(d_red, cmap= 'jet', vmin=0., vmax=0.5)\n",
    "mplot.title('TOC reflectance 0.704 $µ$m [-]')\n",
    "\n",
    "cb = mplot.colorbar(aspect=20)  \n",
    "cb.ax.set_ylabel('TOC reflectance [-]')\n",
    "cb.ax.tick_params(labelsize=10)\n"
   ]
  },
  {
   "metadata": {},
   "cell_type": "markdown",
   "source": "## Advanced Statistics\n"
  },
  {
   "metadata": {},
   "cell_type": "markdown",
   "source": [
    "Below, we give some examples on advanced statistics that can be calculated for the image that was opened above. \n",
    "First, we will make a box-whisker plot to show the 5th, 25th, 50th, 75th, and 95th percentile of the RED TOC reflectance over the land surface. "
   ]
  },
  {
   "metadata": {},
   "cell_type": "code",
   "outputs": [],
   "execution_count": null,
   "source": [
    "# Take a subset of valid data from d_red and create a single vector\n",
    "\n",
    "d_red_sub = d_red.flatten()[~np.isnan(d_red.flatten())]\n",
    "\n",
    "# Create a box plot with outliers\n",
    "fig,axs=mplot.subplots(nrows=1,ncols=2,sharey=True)\n",
    "\n",
    "axs[0].boxplot(d_red_sub, widths=0.3, vert=True)\n",
    "axs[0].set_xlabel('B-05 TOC reflectance [-]')\n",
    "axs[0].set_ylabel('Percentiles')\n",
    "axs[0].set_title('Box plot with outliers (> P$_{95}$)')\n",
    "axs[0].tick_params(\n",
    "    axis='x',          \n",
    "    which='both',     \n",
    "    bottom=False,     \n",
    "    top=False,         \n",
    "    labelbottom=False)\n",
    "\n",
    "# Create a box plot without outliers\n",
    "axs[1].boxplot(d_red_sub, showfliers=False, widths=0.3, vert=True)\n",
    "axs[1].set_xlabel('B-05 TOC reflectance [-]')\n",
    "axs[1].set_title('Box plot without outliers')\n",
    "axs[1].tick_params(\n",
    "    axis='x',          \n",
    "    which='both',     \n",
    "    bottom=False,     \n",
    "    top=False,         \n",
    "    labelbottom=False)\n",
    "\n",
    "mplot.tight_layout()\n",
    "mplot.show()\n"
   ]
  },
  {
   "metadata": {},
   "cell_type": "markdown",
   "source": [
    "## Image stacking\n",
    "Images can be stacked in order to 1) construct an RGB image or 2) to construct time series. For limited time series, this can be done by defining and filling a simple 3D numpy array. For more extensive 3D datasets (i.e., hundreds of files or more), the ```xarray``` package is much more efficient in data accessing and indexing. For the 31UES tile, we collect all days with observations for May 2017.\n",
    "\n",
    "We will start with a 10 m RGB composite for a single date, 26/5/2017, and make a false-colour composite for the Zeebrugge port area."
   ]
  },
  {
   "metadata": {},
   "cell_type": "code",
   "outputs": [],
   "execution_count": null,
   "source": [
    "f_red = '/data/MTDA/TERRASCOPE_Sentinel2/TOC_V2/2017/05/26/S2A_20170526T105031_31UES_TOC_V200/S2A_20170526T105031_31UES_TOC-B04_10M_V200.tif'\n",
    "f_blu = '/data/MTDA/TERRASCOPE_Sentinel2/TOC_V2/2017/05/26/S2A_20170526T105031_31UES_TOC_V200/S2A_20170526T105031_31UES_TOC-B02_10M_V200.tif'\n",
    "f_grn = '/data/MTDA/TERRASCOPE_Sentinel2/TOC_V2/2017/05/26/S2A_20170526T105031_31UES_TOC_V200/S2A_20170526T105031_31UES_TOC-B03_10M_V200.tif'\n",
    "f_nir = '/data/MTDA/TERRASCOPE_Sentinel2/TOC_V2/2017/05/26/S2A_20170526T105031_31UES_TOC_V200/S2A_20170526T105031_31UES_TOC-B08_10M_V200.tif'\n",
    "\n",
    "#open the files that represent the separate Red, Green, and Blue for the final composite\n",
    "with rasterio.open(f_red, 'r') as data:\n",
    "    d_red = data.read(1, window=Window(800, 800, 1200, 1200))\n",
    "with rasterio.open(f_blu, 'r') as data:\n",
    "    d_blu = data.read(1, window=Window(800, 800, 1200, 1200))\n",
    "with rasterio.open(f_grn, 'r') as data:\n",
    "    d_grn = data.read(1, window=Window(800, 800, 1200, 1200))\n",
    "with rasterio.open(f_nir, 'r') as data:\n",
    "    d_nir = data.read(1, window=Window(800, 800, 1200, 1200))\n",
    "\n",
    "# Function to normalize the grid values\n",
    "def normalize(array):\n",
    "    \"\"\"Normalizes numpy arrays into scale 0.0 - 1.0\"\"\"\n",
    "    array_min, array_max = array.min(), array.max()\n",
    "    return ((array - array_min) / (array_max - array_min))\n",
    "\n",
    "# Normalize the bands\n",
    "redn   = normalize(d_red)\n",
    "greenn = normalize(d_grn)\n",
    "bluen  = normalize(d_blu)"
   ]
  },
  {
   "metadata": {},
   "cell_type": "code",
   "outputs": [],
   "execution_count": null,
   "source": [
    "# Create RGB natural color composite\n",
    "\n",
    "rgb = np.dstack((redn, greenn, bluen))\n",
    "mplot.imshow(rgb)\n",
    "mplot.title('Zeebrugge port area')"
   ]
  },
  {
   "metadata": {},
   "cell_type": "markdown",
   "source": "For the same region, we will calculate the NDVI"
  },
  {
   "metadata": {},
   "cell_type": "code",
   "outputs": [],
   "execution_count": null,
   "source": [
    "d_red = redn * 0.0001\n",
    "d_nir = d_nir * 0.0001\n",
    "nir = normalize(d_blu) * 0.0001\n",
    "d_ndvi = (d_nir - d_red) / (d_nir + d_red)"
   ]
  },
  {
   "metadata": {},
   "cell_type": "code",
   "outputs": [],
   "execution_count": null,
   "source": "mplot.imshow(d_ndvi)"
  }
 ],
 "metadata": {
  "kernelspec": {
   "display_name": "Python 3.11",
   "language": "python",
   "name": "python3"
  },
  "language_info": {
   "codemirror_mode": {
    "name": "ipython",
    "version": 3
   },
   "file_extension": ".py",
   "mimetype": "text/x-python",
   "name": "python",
   "nbconvert_exporter": "python",
   "pygments_lexer": "ipython3",
   "version": "3.11.4"
  }
 },
 "nbformat": 4,
 "nbformat_minor": 4
}

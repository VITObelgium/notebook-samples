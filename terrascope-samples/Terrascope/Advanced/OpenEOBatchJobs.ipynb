{
 "cells": [
  {
   "cell_type": "markdown",
   "id": "hybrid-poverty",
   "metadata": {
    "jupyter": {
     "source_hidden": true
    }
   },
   "source": [
    "# OpenEO batch jobs\n",
    "If you want to cover a larger time window or geographical area, the synchronous ```DataCube.download()``` request can take longer, because more data is being processed on the backend.<br> \n",
    "This increases the risk for timeouts or other network issues."
   ]
  },
  {
   "cell_type": "code",
   "execution_count": 1,
   "id": "cognitive-boring",
   "metadata": {},
   "outputs": [],
   "source": [
    "import json\n",
    "\n",
    "import matplotlib.pyplot as plt\n",
    "import numpy as np\n",
    "import pandas as pd\n",
    "import rasterio\n",
    "import scipy.signal\n",
    "import shapely.geometry\n",
    "import sys\n",
    "import openeo\n",
    "from openeo.rest.job import RESTJob\n",
    "from openeo.rest.conversions import timeseries_json_to_pandas\n",
    "\n",
    "%matplotlib inline"
   ]
  },
  {
   "cell_type": "markdown",
   "id": "functioning-longer",
   "metadata": {},
   "source": [
    "Therefore it is recommended to use batch jobs instead of synchronous execution for \"large\" requests (in terms of temporal or geographical coverage).<br>\n",
    "Let's illustrate this with a time window of several years."
   ]
  },
  {
   "cell_type": "code",
   "execution_count": 3,
   "id": "agricultural-zimbabwe",
   "metadata": {},
   "outputs": [
    {
     "name": "stdout",
     "output_type": "stream",
     "text": [
      "Authenticated using refresh token.\n"
     ]
    }
   ],
   "source": [
    "con  = openeo.connect(\"https://openeo.vito.be\").authenticate_oidc(provider_id=\"egi\")\n",
    "dates = (\"2018-01-01\", \"2021-03-20\")\n",
    "\n",
    "#load the fields for which we want to extract the time series\n",
    "with open(\"fields.geojson\") as f:\n",
    "    features = json.load(f)[\"features\"]\n",
    "    fields = shapely.geometry.GeometryCollection([shapely.geometry.shape(ftr[\"geometry\"]) for ftr in features])\n",
    "\n",
    "cube = con.load_collection(\"TERRASCOPE_S2_TOC_V2\", bands=[\"B04\", \"B08\", \"SCL\"])\n",
    "cube = cube.filter_temporal(dates)\n",
    "\n",
    "#define the masking kernel\n",
    "g = scipy.signal.windows.gaussian(11, std=1.6)\n",
    "kernel = np.outer(g, g)\n",
    "kernel = kernel / kernel.sum()\n",
    "\n",
    "#get the scene classification\n",
    "classification = cube.band(\"SCL\")\n",
    "mask = ~ ((classification == 4) | (classification == 5)) #only select the vegetation and bare soil classes\n",
    "mask = mask.apply_kernel(kernel)\n",
    "mask = mask > 0.1\n",
    "\n",
    "#Red, NIR, and NDVI calculation\n",
    "red = cube.band(\"B04\")\n",
    "nir = cube.band(\"B08\")\n",
    "ndvi = (nir - red) / (nir + red)\n",
    "\n",
    "#obtain the masked NDVI time series\n",
    "masked_ndvi = ndvi.mask(mask)\n",
    "masked_timeseries = masked_ndvi.aggregate_spatial(geometries=fields, reducer=\"mean\")\n",
    "\n",
    "# We want to download the result in JSON format, which we have to specify here\n",
    "masked_timeseries = masked_timeseries.save_result(format=\"JSON\")"
   ]
  },
  {
   "cell_type": "markdown",
   "id": "dietary-assumption",
   "metadata": {},
   "source": [
    "## Submitting a batch job\n",
    "We can now submit this as a batch job."
   ]
  },
  {
   "cell_type": "code",
   "execution_count": 4,
   "id": "coordinate-handbook",
   "metadata": {
    "collapsed": true,
    "jupyter": {
     "outputs_hidden": true
    }
   },
   "outputs": [
    {
     "data": {
      "text/plain": [
       "'created'"
      ]
     },
     "execution_count": 4,
     "metadata": {},
     "output_type": "execute_result"
    }
   ],
   "source": [
    "job = masked_timeseries.send_job()\n",
    "job.status()"
   ]
  },
  {
   "cell_type": "markdown",
   "id": "alpine-alignment",
   "metadata": {},
   "source": [
    "The job is only created at the backend, so it is not started automatically. We have to start it explicitly."
   ]
  },
  {
   "cell_type": "code",
   "execution_count": 5,
   "id": "lesbian-request",
   "metadata": {},
   "outputs": [
    {
     "data": {
      "text/plain": [
       "'queued'"
      ]
     },
     "execution_count": 5,
     "metadata": {},
     "output_type": "execute_result"
    }
   ],
   "source": [
    "job.start_job()\n",
    "job.status()"
   ]
  },
  {
   "cell_type": "markdown",
   "id": "warming-reflection",
   "metadata": {},
   "source": [
    "We now have to wait for the job status to become \"finished\". <br>\n",
    "The openEO Python Client Library provides a way to actively wait for that. But first we will stop the job we started."
   ]
  },
  {
   "cell_type": "code",
   "execution_count": 6,
   "id": "international-doubt",
   "metadata": {
    "jupyter": {
     "source_hidden": true
    }
   },
   "outputs": [
    {
     "data": {
      "text/plain": [
       "'canceled'"
      ]
     },
     "execution_count": 6,
     "metadata": {},
     "output_type": "execute_result"
    }
   ],
   "source": [
    "job.stop_job()\n",
    "job.status()"
   ]
  },
  {
   "cell_type": "markdown",
   "id": "criminal-partner",
   "metadata": {},
   "source": [
    "The ```DataCube.execute_batch``` helper method allows you to execute your algorithm as a batch job, taking care of submitting and starting it, polling its status regularly, and actively waiting till it is finished or failed."
   ]
  },
  {
   "cell_type": "code",
   "execution_count": 7,
   "id": "living-majority",
   "metadata": {},
   "outputs": [
    {
     "name": "stdout",
     "output_type": "stream",
     "text": [
      "0:00:00 Job '000b489c-a794-4433-a449-eafeaed40846': send 'start'\n",
      "0:00:38 Job '000b489c-a794-4433-a449-eafeaed40846': queued (progress N/A)\n",
      "0:00:43 Job '000b489c-a794-4433-a449-eafeaed40846': queued (progress N/A)\n",
      "0:00:50 Job '000b489c-a794-4433-a449-eafeaed40846': queued (progress N/A)\n",
      "0:00:59 Job '000b489c-a794-4433-a449-eafeaed40846': queued (progress N/A)\n",
      "0:01:09 Job '000b489c-a794-4433-a449-eafeaed40846': queued (progress N/A)\n",
      "0:01:22 Job '000b489c-a794-4433-a449-eafeaed40846': queued (progress N/A)\n",
      "0:01:38 Job '000b489c-a794-4433-a449-eafeaed40846': queued (progress N/A)\n",
      "0:01:58 Job '000b489c-a794-4433-a449-eafeaed40846': queued (progress N/A)\n",
      "0:02:23 Job '000b489c-a794-4433-a449-eafeaed40846': running (progress N/A)\n",
      "0:02:53 Job '000b489c-a794-4433-a449-eafeaed40846': running (progress N/A)\n",
      "0:03:32 Job '000b489c-a794-4433-a449-eafeaed40846': running (progress N/A)\n",
      "0:04:19 Job '000b489c-a794-4433-a449-eafeaed40846': finished (progress N/A)\n"
     ]
    }
   ],
   "source": [
    "job = masked_timeseries.execute_batch()"
   ]
  },
  {
   "cell_type": "markdown",
   "id": "classical-protest",
   "metadata": {},
   "source": [
    "After finalization we can download the result.<br>\n",
    "Note that a batch job can have multiple output files (assets), which is another advantage compared to synchronous download (which can only have a single result asset)."
   ]
  },
  {
   "cell_type": "code",
   "execution_count": 8,
   "id": "opened-decline",
   "metadata": {},
   "outputs": [],
   "source": [
    "results = job.get_results()"
   ]
  },
  {
   "cell_type": "markdown",
   "id": "improved-essay",
   "metadata": {},
   "source": [
    "This results object (```JobResults```), contains some metadata about the job result, for example on the bounding box."
   ]
  },
  {
   "cell_type": "code",
   "execution_count": 9,
   "id": "textile-packet",
   "metadata": {},
   "outputs": [
    {
     "data": {
      "text/plain": [
       "[5.053553857094518, 51.21689628072789, 5.085732850338428, 51.23646091560258]"
      ]
     },
     "execution_count": 9,
     "metadata": {},
     "output_type": "execute_result"
    }
   ],
   "source": [
    "results.get_metadata()[\"bbox\"]"
   ]
  },
  {
   "cell_type": "markdown",
   "id": "close-juice",
   "metadata": {},
   "source": [
    "The list of assets that can be downloaded is also defined."
   ]
  },
  {
   "cell_type": "code",
   "execution_count": 11,
   "id": "charitable-burton",
   "metadata": {},
   "outputs": [
    {
     "name": "stdout",
     "output_type": "stream",
     "text": [
      "[<ResultAsset 'out' (type application/json) at 'https://openeo.vito.be/openeo/1.0/jobs/000b489c-a794-4433-a449-eafeaed40846/results/out'>]\n",
      "<JobResults for job '000b489c-a794-4433-a449-eafeaed40846'>\n"
     ]
    }
   ],
   "source": [
    "print(results.get_assets())"
   ]
  },
  {
   "cell_type": "markdown",
   "id": "incorrect-employer",
   "metadata": {},
   "source": [
    "There is just one asset, so we can easily download it and plot the multi-year time series, after defining the ```plot_timeseries``` function."
   ]
  },
  {
   "cell_type": "code",
   "execution_count": 15,
   "id": "sixth-disaster",
   "metadata": {},
   "outputs": [],
   "source": [
    "DEFAULT_FIGSIZE = (5, 4)\n",
    "\n",
    "def plot_timeseries(filename):\n",
    "    \"\"\"Helper to plot the timeseries directly from JSON file\"\"\"\n",
    "    with open(filename) as f:\n",
    "        ts = timeseries_json_to_pandas(json.load(f)).dropna()\n",
    "    \n",
    "    ts.index = pd.to_datetime(ts.index)\n",
    "    \n",
    "    fig, ax = plt.subplots(figsize=DEFAULT_FIGSIZE)\n",
    "    ts.plot(marker='o', ax=ax)\n",
    "    ax.set_title(\"Average NDVI\"); \n",
    "    ax.set_ylabel(\"NDVI\");\n",
    "    ax.set_ylim(-0.05, 1)\n",
    "    ax.legend(title=\"parcel id\", loc=\"lower left\", ncol=2)"
   ]
  },
  {
   "cell_type": "code",
   "execution_count": 16,
   "id": "central-sauce",
   "metadata": {},
   "outputs": [
    {
     "data": {
      "image/png": "[encoded data removed]",
      "text/plain": [
       "<Figure size 360x288 with 1 Axes>"
      ]
     },
     "metadata": {
      "needs_background": "light"
     },
     "output_type": "display_data"
    }
   ],
   "source": [
    "results.download_file(\"timeseries-large.json\")\n",
    "plot_timeseries(\"timeseries-large.json\")"
   ]
  },
  {
   "cell_type": "markdown",
   "id": "manufactured-rotation",
   "metadata": {},
   "source": [
    "In this multi-year view on NDVI timeseries we can observe the seasonal cycles and ploughing/harvesting operations."
   ]
  }
 ],
 "metadata": {
  "kernelspec": {
   "display_name": "python36",
   "language": "python",
   "name": "python36"
  },
  "language_info": {
   "codemirror_mode": {
    "name": "ipython",
    "version": 3
   },
   "file_extension": ".py",
   "mimetype": "text/x-python",
   "name": "python",
   "nbconvert_exporter": "python",
   "pygments_lexer": "ipython3",
   "version": "3.6.8"
  }
 },
 "nbformat": 4,
 "nbformat_minor": 5
}

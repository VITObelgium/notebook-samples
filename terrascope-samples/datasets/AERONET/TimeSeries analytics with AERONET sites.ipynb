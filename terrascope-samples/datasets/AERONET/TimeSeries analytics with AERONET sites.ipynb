{
 "cells": [
  {
   "cell_type": "markdown",
   "metadata": {},
   "source": [
    "# Time Series Analytics for AERONET sites\n",
    "\n",
    "The goal of this notebook is to provide an example of how AERONET sites (https://aeronet.gsfc.nasa.gov/) can be combined with the existing Time Series Service (https://proba-v-mep.esa.int/proba-v-mep-toolset/time-series-viewer).\n",
    "\n",
    "Within this example we will use the location of the AERONET sites for calculating time series. To start, the location of all AERONET sites will be retrieved and displayed on the map. In the next step, the user has the possibility to select a AERONET site and calculate the time series for this specific location based on one of the available datasets and compare it with the data of the site."
   ]
  },
  {
   "cell_type": "markdown",
   "metadata": {},
   "source": [
    "### Script imports"
   ]
  },
  {
   "cell_type": "code",
   "execution_count": 29,
   "metadata": {},
   "outputs": [],
   "source": [
    "#Imports of general requests library\n",
    "import requests\n",
    "\n",
    "#Imports for leaflet\n",
    "from ipyleaflet import Map, Marker, MarkerCluster, LayerGroup, GeoJSON\n",
    "\n",
    "#Import of widgets used in the notebook\n",
    "import ipywidgets as widgets\n"
   ]
  },
  {
   "cell_type": "markdown",
   "metadata": {},
   "source": [
    "### Collecting AERONET sites\n",
    "\n",
    "AERONET exposes the location of the stations through an online TXT file (https://aeronet.gsfc.nasa.gov/aeronet_locations.txt). By parsing this file we can extract the geographical information for each station. The resulting list of AERONET sites will be displayed on a map for further discovery."
   ]
  },
  {
   "cell_type": "code",
   "execution_count": 30,
   "metadata": {},
   "outputs": [],
   "source": [
    "def fetchAERONETSites():\n",
    "    sites = list()\n",
    "    page = requests.get('https://aeronet.gsfc.nasa.gov/aeronet_locations.txt', stream=True)\n",
    "    pageLines = list(page.iter_lines())\n",
    "    for location in pageLines[2:]:\n",
    "        (name, lon, lat, elev) = location.decode('utf-8').split(',')\n",
    "        site = { \n",
    "            'name': str(name),\n",
    "            'lon': float(lon),\n",
    "            'lat': float(lat),\n",
    "            'elevation': float(elev),\n",
    "        }\n",
    "        sites.append(site)\n",
    "        # print(site)\n",
    "    return sites\n",
    "\n",
    "sites = fetchAERONETSites()"
   ]
  },
  {
   "cell_type": "markdown",
   "metadata": {},
   "source": [
    "### Overview of AERONET sites\n",
    "\n",
    "After fetching the location of each AERONET site, we show them on the map. For this we are using the *ipyleaflet* library (https://ipyleaflet.readthedocs.io/en/latest/index.html) to create a map and a clustered view of all sites. A tooltip is added to each marker, showing the name of the site."
   ]
  },
  {
   "cell_type": "code",
   "execution_count": 31,
   "metadata": {},
   "outputs": [
    {
     "data": {
      "application/vnd.jupyter.widget-view+json": {
       "model_id": "0b0a1a29d1334fd8ad0619ec576bc997",
       "version_major": 2,
       "version_minor": 0
      },
      "text/plain": [
       "Map(basemap={'url': 'https://{s}.tile.openstreetmap.org/{z}/{x}/{y}.png', 'max_zoom': 19, 'attribution': 'Map …"
      ]
     },
     "metadata": {},
     "output_type": "display_data"
    }
   ],
   "source": [
    "markers = list()\n",
    "for site in sites:\n",
    "    marker = Marker(location=(site['lat'], site['lon']), title=site['name'], draggable=False)\n",
    "    markers.append(marker)\n",
    "marker_cluster = MarkerCluster(markers=markers)\n",
    "\n",
    "overview = Map(center=(45, 0), zoom=2, scroll_wheel_zoom=True)\n",
    "overview.add_layer(marker_cluster)\n",
    "\n",
    "display(overview)"
   ]
  },
  {
   "cell_type": "markdown",
   "metadata": {},
   "source": [
    "### Collect time series data sets\n",
    "\n",
    "In this step we will explore the layers that are available within the existing time series service."
   ]
  },
  {
   "cell_type": "code",
   "execution_count": 32,
   "metadata": {},
   "outputs": [
    {
     "name": "stdout",
     "output_type": "stream",
     "text": [
      "Available datasets: 83\n"
     ]
    },
    {
     "data": {
      "text/plain": [
       "['BELGIAN_COSTAL_ZONE_S2_NS_2017_RGB',\n",
       " 'BELGIAN_COSTAL_ZONE_S2_NS_2017_SPM',\n",
       " 'BIOPAR_BA300_V1_GLOBAL',\n",
       " 'BIOPAR_FAPAR300_V1_GLOBAL',\n",
       " 'BIOPAR_FAPAR_V1_GLOBAL',\n",
       " 'BIOPAR_FAPAR_V2_GLOBAL',\n",
       " 'BIOPAR_FCOVER300_V1_GLOBAL',\n",
       " 'BIOPAR_FCOVER_V1_GLOBAL',\n",
       " 'BIOPAR_FCOVER_V2_GLOBAL',\n",
       " 'BIOPAR_LAI300_V1_GLOBAL',\n",
       " 'BIOPAR_LAI_V1_GLOBAL',\n",
       " 'BIOPAR_LAI_V2_GLOBAL',\n",
       " 'BIOPAR_NDVI300_V1_GLOBAL',\n",
       " 'BIOPAR_NDVI_V2_GLOBAL',\n",
       " 'BIOPAR_WB300_V1_GLOBAL',\n",
       " 'CGLS_LC100_COV_LCCS',\n",
       " 'CHIRPS_RAINFALL',\n",
       " 'DCS4COP_FLANDERS_CHL',\n",
       " 'DCS4COP_FLANDERS_CHL_V100',\n",
       " 'DCS4COP_FLANDERS_CLOUDCOVER',\n",
       " 'DCS4COP_FLANDERS_CLOUDCOVER_L8',\n",
       " 'DCS4COP_FLANDERS_CLOUDCOVER_L8_V100',\n",
       " 'DCS4COP_FLANDERS_SPM',\n",
       " 'DCS4COP_FLANDERS_SPM_L8',\n",
       " 'DCS4COP_FLANDERS_SPM_L8_V100',\n",
       " 'DCS4COP_FLANDERS_SPM_V100',\n",
       " 'DCS4COP_FLANDERS_TUR',\n",
       " 'DCS4COP_FLANDERS_TUR_L8',\n",
       " 'DCS4COP_FLANDERS_TUR_L8_V100',\n",
       " 'DCS4COP_FLANDERS_TUR_V100',\n",
       " 'DMC_FAPAR',\n",
       " 'FSTEP_METEO_AVG_TEMPERATURE',\n",
       " 'FSTEP_METEO_MAX_TEMPERATURE',\n",
       " 'FSTEP_METEO_MIN_TEMPERATURE',\n",
       " 'FSTEP_METEO_RAINFALL',\n",
       " 'FSTEP_SENTINEL2_FAPAR',\n",
       " 'FSTEP_SENTINEL2_FAPAR_MASK',\n",
       " 'FSTEP_SENTINEL2_FCOVER',\n",
       " 'FSTEP_SENTINEL2_FCOVER_MASK',\n",
       " 'FSTEP_SENTINEL2_LAI',\n",
       " 'FSTEP_SENTINEL2_LAI_MASK',\n",
       " 'FSTEP_SENTINEL2_NDVI',\n",
       " 'FSTEP_SENTINEL2_NDVI_MASK',\n",
       " 'FSTEP_WEEKLY_METEO_AVG_TEMPERATURE',\n",
       " 'FSTEP_WEEKLY_METEO_RAINFALL',\n",
       " 'KIS_BALATON_MACROPHYTE_AWBIOM',\n",
       " 'KIS_BALATON_MACROPHYTE_FCOVER',\n",
       " 'LC8_MARKERMEER',\n",
       " 'MANTUA_LAKES_CHLA_WFD',\n",
       " 'MANTUA_LAKES_S2A_AWBIOM',\n",
       " 'MANTUA_LAKES_S2A_FCOVER',\n",
       " 'PO_RIVER_S2A_DOGLIOITTI',\n",
       " 'PO_RIVER_TURBIDITY_L8',\n",
       " 'PROBAV_L3_S10_TOC_NDVI_333M',\n",
       " 'S1_GRD_GAMMA0_ASCENDING_ANGLE',\n",
       " 'S1_GRD_GAMMA0_ASCENDING_VH',\n",
       " 'S1_GRD_GAMMA0_ASCENDING_VV',\n",
       " 'S1_GRD_GAMMA0_DESCENDING_ANGLE',\n",
       " 'S1_GRD_GAMMA0_DESCENDING_VH',\n",
       " 'S1_GRD_GAMMA0_DESCENDING_VV',\n",
       " 'S1_GRD_SIGMA0_ASCENDING_ANGLE',\n",
       " 'S1_GRD_SIGMA0_ASCENDING_VH',\n",
       " 'S1_GRD_SIGMA0_ASCENDING_VV',\n",
       " 'S1_GRD_SIGMA0_DESCENDING_ANGLE',\n",
       " 'S1_GRD_SIGMA0_DESCENDING_VH',\n",
       " 'S1_GRD_SIGMA0_DESCENDING_VV',\n",
       " 'S2_CLOUDCOVER_V200_FILE',\n",
       " 'S2_FAPAR',\n",
       " 'S2_FAPAR_CLOUDCOVER',\n",
       " 'S2_FAPAR_CLOUDCOVER_SC',\n",
       " 'S2_FAPAR_FILE',\n",
       " 'S2_FAPAR_V102_WEBMERCATOR2',\n",
       " 'S2_FCOVER',\n",
       " 'S2_LAI',\n",
       " 'S2_MARKERMEER',\n",
       " 'S2_NDVI',\n",
       " 'S2_SCENECLASSIFICATION',\n",
       " 'S2_SCENECLASSIFICATION_FILE',\n",
       " 'S2_SCENECLASSIFICATION_V200_FILE',\n",
       " 'SENTINEL2_FAPAR',\n",
       " 'SENTINEL2_FCOVER',\n",
       " 'SENTINEL2_LAI',\n",
       " 'SENTINEL2_NDVI']"
      ]
     },
     "execution_count": 32,
     "metadata": {},
     "output_type": "execute_result"
    }
   ],
   "source": [
    "def fetchDatasets():\n",
    "    data = requests.get('https://proba-v-mep.esa.int/api/timeseries/v1.0/ts').json()\n",
    "    return [dataset['name'] for dataset in data['layers']]\n",
    "    \n",
    "    \n",
    "datasets = fetchDatasets()\n",
    "datasets.sort()\n",
    "print('Available datasets: %d' % len(datasets))\n",
    "datasets"
   ]
  },
  {
   "cell_type": "markdown",
   "metadata": {},
   "source": [
    "### Calculating time series\n",
    "\n",
    "In this step you can select the AERONET site of interest, together with a dataset available in the time series service. It is also possible to define an offset which represents the distance in metres that will be taken as an area around the site.\n",
    "\n",
    "#### AREONET Time Series\n",
    "The AERONET data is downloaded from the AERONET general website (https://aeronet.gsfc.nasa.gov/). The temporal range of the data is limited, starting from 2017.\n",
    "\n",
    "#### Dataset Time Series\n",
    "The MEP time series service (https://proba-v-mep.esa.int/proba-v-mep-toolset/time-series-viewer) is used to calculate the time series for an AEROSET site based on a selected dataset. "
   ]
  },
  {
   "cell_type": "markdown",
   "metadata": {},
   "source": [
    "#### Helper functions\n",
    "\n",
    "Below are the definitions of the helper functions that are used in parsing the form input and calculating the time series. For the time series calculation we use the MEP dataclient library. It is available at https://bitbucket.org/vitotap/mep-dataclient."
   ]
  },
  {
   "cell_type": "markdown",
   "metadata": {},
   "source": [
    "##### TimeSeries functions"
   ]
  },
  {
   "cell_type": "code",
   "execution_count": 33,
   "metadata": {},
   "outputs": [],
   "source": [
    "aeronet_data = None\n",
    "site_data = None\n",
    "\n",
    "def calculateTimeSeries():\n",
    "    \n",
    "    '''\n",
    "         Form callback - Calculate the timeseries when the form is submitted.\n",
    "    '''\n",
    "    global site_data, aeronet_data\n",
    "\n",
    "    site_selection_value = [site for site in sites if site['name'] == site_selection.value]\n",
    "    site_data = getSiteSeries(site_selection_value, dataset_selection.value, offset_selection.value)\n",
    "    \n",
    "    \n",
    "    if len(site_data) > 0: \n",
    "        date_min = site_data.index.values[0]\n",
    "        date_max = site_data.index.values[-1]\n",
    "        aeronet_data = getAERONETSeries(site_selection_value, date_min, date_max)\n",
    "        showAREONETparams(aeronet_data)"
   ]
  },
  {
   "cell_type": "code",
   "execution_count": 34,
   "metadata": {},
   "outputs": [],
   "source": [
    "import dataclient\n",
    "\n",
    "def getSiteSeries(sites, dataset, offset):\n",
    "    '''\n",
    "         Retrieval of timeseries based on the selected site, offset and dataset\n",
    "    '''\n",
    "    for site in sites:\n",
    "        try:\n",
    "            print('Fetching %s site information for %s with an offset of %s m' % (site['name'], dataset, offset))\n",
    "            data = dataclient.get_timeseries(createGeometry(site, offset), dataset).dropna()\n",
    "            print('Retrieved information successfully')\n",
    "            if len(data) > 0:\n",
    "                data.name=site['name']\n",
    "                return data\n",
    "            else: \n",
    "                print('There is no data available for %s' % site['name'])\n",
    "                return []\n",
    "        except:\n",
    "            print('')\n",
    "            return []"
   ]
  },
  {
   "cell_type": "markdown",
   "metadata": {},
   "source": [
    "##### AERONET data functions"
   ]
  },
  {
   "cell_type": "code",
   "execution_count": 35,
   "metadata": {},
   "outputs": [],
   "source": [
    "from calendar import monthrange\n",
    "import zipfile\n",
    "import os\n",
    "\n",
    "def downloadAERONETdata(site, year_start, month_start, year_end, month_end):\n",
    "    '''\n",
    "         Download the data from the AERONET site (https://aeronet.gsfc.nasa.gov/)\n",
    "    '''\n",
    "    \n",
    "    # Calculate the last day of the ending month\n",
    "    last = monthrange(year_end, month_end)[1]\n",
    "\n",
    "    # Create request for calculating data \n",
    "    form_data = dict()\n",
    "    form_data['site'] = site['name']\n",
    "    form_data['day'] = 1\n",
    "    form_data['month'] = month_start\n",
    "    form_data['year'] = year_start - 1900\n",
    "    form_data['day2'] = last\n",
    "    form_data['month2'] = month_end\n",
    "    form_data['year2'] = year_end - 1900\n",
    "    form_data['AOD15'] = 1\n",
    "    form_data['AVG'] = 20\n",
    "    \n",
    "    r = requests.post('https://aeronet.gsfc.nasa.gov/cgi-bin/print_warning_v3', data=form_data)\n",
    "\n",
    "    if r.status_code == 200:\n",
    "        # Create the download URL for the AREONET site based on the specified date range\n",
    "        date_range = '%02d%02d01_%02d%02d%02d'% (year_start, month_start, year_end, month_end, last)\n",
    "        aeronet_zip_name = date_range + '_' + str(site['name']) + '.zip'\n",
    "        aeronet_file_name = date_range + '_' + str(site['name']) + '.lev15'\n",
    "        aeronet_zip_url = 'https://aeronet.gsfc.nasa.gov/zip_files/V3/' + str(aeronet_zip_name)\n",
    "        print('Downloading %s' % aeronet_zip_url)\n",
    "        r = requests.get(aeronet_zip_url)\n",
    "        \n",
    "        if 'application/zip' in r.headers['Content-Type']:\n",
    "            with open(aeronet_zip_name, 'wb') as areonet_zip:\n",
    "                areonet_zip.write(r.content)\n",
    "                areonet_zip.close()\n",
    "\n",
    "            with zipfile.ZipFile(aeronet_zip_name, 'r') as zip_ref:\n",
    "                zip_ref.extractall('.')\n",
    "\n",
    "            # Cleanup ZIP file\n",
    "            os.remove(aeronet_zip_name)\n",
    "            return aeronet_file_name\n",
    "        else:\n",
    "            print('No AERONET data available for site %s during period of %d/%d - %d/%d' % (site['name'], year_start, month_start, year_end, month_end))\n",
    "\n",
    "\n",
    "    else:\n",
    "        print('Could not retrieve AERONET data')\n",
    "        return None"
   ]
  },
  {
   "cell_type": "code",
   "execution_count": 36,
   "metadata": {},
   "outputs": [],
   "source": [
    "import pandas as pd\n",
    "import os\n",
    "\n",
    "def getAERONETSeries(sites, date_start, date_end): \n",
    "    '''\n",
    "         Retrieve the AERONET data as timeseries\n",
    "    '''\n",
    "    (year_start, month_start, day_start) = str(date_start).split('T')[0].split('-')\n",
    "    (year_end, month_end, day_end ) = str(date_end).split('T')[0].split('-')\n",
    "    \n",
    "    if int(year_end) >= 2017:\n",
    "        if int(year_start) < 2017:\n",
    "            year_start = 2017\n",
    "            month_start = 1            \n",
    "        for site in sites:\n",
    "            datafile = downloadAERONETdata(site, int(year_start), int(month_start), int(year_end), int(month_end))\n",
    "            if datafile:\n",
    "                print('Reading datafile %s for site %s' % (datafile, site['name']) )\n",
    "                dateparse = lambda x: pd.datetime.strptime(x, \"%d:%m:%Y\")\n",
    "                aeronet = pd.read_csv(datafile, skiprows=6,\n",
    "                                      na_values=['N/A', -999, '-999.000000'],\n",
    "                                      parse_dates={'times':[0]},\n",
    "                                      date_parser=dateparse)\n",
    "                os.remove(datafile)\n",
    "                return aeronet   \n",
    "            else:            \n",
    "                return None\n",
    "    else:\n",
    "        print('AREONET sites are only available after 2017')\n",
    "        return None\n",
    "\n",
    "        "
   ]
  },
  {
   "cell_type": "code",
   "execution_count": 37,
   "metadata": {},
   "outputs": [],
   "source": [
    "def showAREONETparams(data):\n",
    "    '''\n",
    "         Crate a widget containing all AERONET data parameters that can be plotted. When a selection is \n",
    "         made, update the plot.\n",
    "    '''\n",
    "    selection = widgets.interactive(plotParam, parameter=data.columns[3:]);\n",
    "    selection.children[0].layout = widgets.Layout(flex='2 1', margin='10px 0px 10px 10px')\n",
    "    selection.children[0].description = '<b>AREONET parameter to plot:</b>'\n",
    "    selection.children[0].style ={'description_width': 'initial'}\n",
    "    display(selection)    "
   ]
  },
  {
   "cell_type": "markdown",
   "metadata": {},
   "source": [
    "##### Map functions"
   ]
  },
  {
   "cell_type": "code",
   "execution_count": 38,
   "metadata": {},
   "outputs": [],
   "source": [
    "from geojson import Feature,Point, Polygon, utils\n",
    "from pyproj import Proj, transform\n",
    "\n",
    "def createGeometry(site, offset):    \n",
    "    '''\n",
    "         Create a GEOSJON object that represents the location of site based on the chosen offset.\n",
    "    '''\n",
    "    if offset > 0:\n",
    "        (lat,lon) = transform(Proj(init='epsg:4326'), Proj(init='epsg:3857'), site['lon'], site['lat'])\n",
    "        (minX, maxX, minY, maxY) = (\n",
    "            lat - offset, \n",
    "            lat + offset, \n",
    "            lon - offset, \n",
    "            lon + offset)   \n",
    "        geom = Polygon([[(minX, minY),( minX, maxY), (maxX, maxY), (maxX, minY), (minX, minY)]])\n",
    "        geom = utils.map_tuples(lambda c: transform(Proj(init='epsg:3857'), Proj(init='epsg:4326'), c[0], c[1]), geom)\n",
    "    else:\n",
    "        geom = Point((site['lon'],site['lat']))\n",
    "        \n",
    "    \n",
    "    return Feature(geometry=geom);'''\n",
    "         Download the data from the AERONET site (https://aeronet.gsfc.nasa.gov/)\n",
    "    '''"
   ]
  },
  {
   "cell_type": "code",
   "execution_count": 39,
   "metadata": {},
   "outputs": [],
   "source": [
    "def addMarker(site_selection, offset_selection):\n",
    "    '''\n",
    "         Form callback - Update the map based on selection within the form\n",
    "    '''\n",
    "    site_selection_value = [site for site in sites if site['name'] == site_selection]\n",
    "    addSiteMarker(site_selection_value)\n",
    "    addOffset(site_selection_value, offset_selection)"
   ]
  },
  {
   "cell_type": "code",
   "execution_count": 40,
   "metadata": {},
   "outputs": [],
   "source": [
    "def addOffset(sites, offset):\n",
    "    '''\n",
    "         Draw the offset on the map based on the selected site and offset\n",
    "    '''\n",
    "    site_map.layers = [layer for layer in site_map.layers if type(layer) is not GeoJSON]\n",
    "    for site in sites:\n",
    "        geojson = GeoJSON(data=createGeometry(site, offset))\n",
    "        site_map.add_layer(geojson)"
   ]
  },
  {
   "cell_type": "code",
   "execution_count": 41,
   "metadata": {},
   "outputs": [],
   "source": [
    "def addSiteMarker(sites): \n",
    "    '''\n",
    "        Add a marker to the map based on the selected site\n",
    "    '''\n",
    "    site_map.layers = [layer for layer in site_map.layers if type(layer) is not Marker]\n",
    "    for site in sites:\n",
    "        marker = Marker(location=(site['lat'], site['lon']), title=site['name'], draggable=False)  \n",
    "        site_map.add_layer(marker)\n",
    "        site_map.center = (site['lat'], site['lon'])\n",
    "        site_map.zoom = 11"
   ]
  },
  {
   "cell_type": "markdown",
   "metadata": {},
   "source": [
    "##### Plot functions"
   ]
  },
  {
   "cell_type": "code",
   "execution_count": 42,
   "metadata": {},
   "outputs": [],
   "source": [
    "def plotParam(parameter):\n",
    "    '''\n",
    "         Update the plot based on the selected AERONET parameter\n",
    "    '''\n",
    "    plotData(site_data, dataset_selection.value, aeronet_data, parameter)"
   ]
  },
  {
   "cell_type": "code",
   "execution_count": 43,
   "metadata": {},
   "outputs": [],
   "source": [
    "from matplotlib import pyplot as plt\n",
    "def plotData(site_data, dataset, aeronet_data, aeronet_param): \n",
    "    '''\n",
    "         Create a plot based on the timeseries and AERONET site data\n",
    "    '''\n",
    "    if len(site_data) > 0:\n",
    "        plot_axis = site_data.plot(legend=True, label=dataset, figsize=(17,4))  \n",
    "    if not aeronet_data is None:\n",
    "        aeronet_data = aeronet_data[['times', aeronet_param]]\n",
    "        aeronet_data.plot(kind='line',x='times',y=aeronet_param, label=aeronet_param, ax=plot_axis)\n",
    "    plt.show()"
   ]
  },
  {
   "cell_type": "markdown",
   "metadata": {},
   "source": [
    "#### Site map creation\n",
    "As a first step we create the map that will show us the exact location of the chosen site."
   ]
  },
  {
   "cell_type": "code",
   "execution_count": 44,
   "metadata": {},
   "outputs": [],
   "source": [
    "site_map = Map(center=(45, 0), zoom=2, scroll_wheel_zoom=True)"
   ]
  },
  {
   "cell_type": "markdown",
   "metadata": {},
   "source": [
    "#### Form creation\n",
    "In the next step we create the form that enables the user to select a site, an offset and a dataset. If a user changes the value of the site or the offset, the map will be updated automically. When submitting the form, the time series will be calculated based on the user's selection."
   ]
  },
  {
   "cell_type": "code",
   "execution_count": 46,
   "metadata": {
    "scrolled": true
   },
   "outputs": [
    {
     "data": {
      "application/vnd.jupyter.widget-view+json": {
       "model_id": "ea7875e38ff743f08b5279b00ded1d59",
       "version_major": 2,
       "version_minor": 0
      },
      "text/plain": [
       "Box(children=(Dropdown(description='<b>Select AERONET site:</b>', layout=Layout(flex='3 1', margin='10px 10px …"
      ]
     },
     "metadata": {},
     "output_type": "display_data"
    },
    {
     "data": {
      "application/vnd.jupyter.widget-view+json": {
       "model_id": "5f5e7ab86dae44f58415e6f4592f8d93",
       "version_major": 2,
       "version_minor": 0
      },
      "text/plain": [
       "interactive(children=(Button(description='Run Interact', style=ButtonStyle()), Output()), _dom_classes=('widge…"
      ]
     },
     "metadata": {},
     "output_type": "display_data"
    }
   ],
   "source": [
    "site_names = [str(site['name']) for site in sites]    \n",
    "site_names.sort()\n",
    "\n",
    "\n",
    "style = {'description_width': 'initial'}\n",
    "\n",
    "site_selection = widgets.Dropdown(\n",
    "    options=site_names,\n",
    "    layout = widgets.Layout(flex='3 1', margin='10px 10px 10px 0px'),\n",
    "    description = '<b>Select AERONET site:</b>',\n",
    "    style = style\n",
    ")\n",
    "\n",
    "dataset_selection = widgets.Dropdown(\n",
    "    options=datasets,\n",
    "    layout = widgets.Layout(flex='4 1', margin='10px 10px 10px 10px'),\n",
    "    description = '<b>Select dataset:</b>',\n",
    "    style = style\n",
    ")\n",
    "\n",
    "offset_selection = widgets.Dropdown(\n",
    "    options=[0,3,5,10, 100, 200, 500, 1000],\n",
    "    layout = widgets.Layout(flex='2 1', margin='10px 0px 10px 10px'),\n",
    "    description = '<b>Select site offset (m):</b>',\n",
    "    style = style\n",
    ")\n",
    "\n",
    "\n",
    "box = widgets.Box([site_selection, offset_selection, dataset_selection], layout=widgets.Layout(display='flex', align_items='stretch', overflow='hidden', margin='20px 0px 0px 0px'))\n",
    "out = widgets.interactive_output(addMarker, {'site_selection': site_selection, 'offset_selection': offset_selection})\n",
    "\n",
    "display(box)\n",
    "calculate_button = widgets.interact_manual(calculateTimeSeries)\n",
    "calculate_button.widget.children[0].description = 'Calculate'\n",
    "calculate_button.widget.children[0].layout=widgets.Layout(margin='0px 0px 20px 0px')"
   ]
  },
  {
   "cell_type": "code",
   "execution_count": 47,
   "metadata": {},
   "outputs": [
    {
     "data": {
      "application/vnd.jupyter.widget-view+json": {
       "model_id": "62c6be77d94e42299e4f66211b39723f",
       "version_major": 2,
       "version_minor": 0
      },
      "text/plain": [
       "Map(basemap={'url': 'https://{s}.tile.openstreetmap.org/{z}/{x}/{y}.png', 'max_zoom': 19, 'attribution': 'Map …"
      ]
     },
     "metadata": {},
     "output_type": "display_data"
    }
   ],
   "source": [
    "display(site_map)"
   ]
  },
  {
   "cell_type": "code",
   "execution_count": null,
   "metadata": {},
   "outputs": [],
   "source": []
  }
 ],
 "metadata": {
  "kernelspec": {
   "display_name": "Python 3",
   "language": "python",
   "name": "python3"
  },
  "language_info": {
   "codemirror_mode": {
    "name": "ipython",
    "version": 3
   },
   "file_extension": ".py",
   "mimetype": "text/x-python",
   "name": "python",
   "nbconvert_exporter": "python",
   "pygments_lexer": "ipython3",
   "version": "3.6.8"
  }
 },
 "nbformat": 4,
 "nbformat_minor": 4
}
